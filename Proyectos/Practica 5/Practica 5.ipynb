{
 "cells": [
  {
   "cell_type": "markdown",
   "metadata": {},
   "source": [
    "# Práctica 5\n",
    "Resolver los ejercicios de las notas:\n",
    "\n",
    "+ Propedeutico/R/clases/3_estadistica/1_elementos_de_estadistica_descriptiva.ipynb\n",
    "+ Propedeutico/R/clases/3_estadistica/2_distribuciones_comunes.ipynb"
   ]
  },
  {
   "cell_type": "code",
   "execution_count": 76,
   "metadata": {},
   "outputs": [
    {
     "name": "stderr",
     "output_type": "stream",
     "text": [
      "Warning message:\n",
      "\"package 'ggplot2' is in use and will not be installed\""
     ]
    }
   ],
   "source": [
    "install.packages('ggplot2')"
   ]
  },
  {
   "cell_type": "code",
   "execution_count": 77,
   "metadata": {},
   "outputs": [
    {
     "name": "stderr",
     "output_type": "stream",
     "text": [
      "also installing the dependency 'dplyr'\n",
      "\n",
      "Warning message:\n",
      "\"packages 'dplyr', 'tidyverse' are in use and will not be installed\""
     ]
    }
   ],
   "source": [
    "install.packages('tidyverse')"
   ]
  },
  {
   "cell_type": "code",
   "execution_count": 78,
   "metadata": {},
   "outputs": [
    {
     "name": "stderr",
     "output_type": "stream",
     "text": [
      "Warning message:\n",
      "\"package 'dplyr' is in use and will not be installed\""
     ]
    }
   ],
   "source": [
    "install.packages('dplyr')"
   ]
  },
  {
   "cell_type": "code",
   "execution_count": 79,
   "metadata": {},
   "outputs": [],
   "source": [
    "library(ggplot2)"
   ]
  },
  {
   "cell_type": "code",
   "execution_count": 80,
   "metadata": {},
   "outputs": [],
   "source": [
    "#library(tidyverse)"
   ]
  },
  {
   "cell_type": "code",
   "execution_count": 81,
   "metadata": {},
   "outputs": [],
   "source": [
    "#library(dplyr)"
   ]
  },
  {
   "cell_type": "code",
   "execution_count": 82,
   "metadata": {},
   "outputs": [],
   "source": [
    "library(tidyr)"
   ]
  },
  {
   "cell_type": "code",
   "execution_count": 83,
   "metadata": {},
   "outputs": [],
   "source": [
    "options(repr.plot.width=3.5, repr.plot.height=3.5) #esta línea sólo se ejecuta para jupyterlab con R"
   ]
  },
  {
   "cell_type": "code",
   "execution_count": 84,
   "metadata": {},
   "outputs": [],
   "source": [
    "options(digits=3)"
   ]
  },
  {
   "cell_type": "code",
   "execution_count": 85,
   "metadata": {},
   "outputs": [
    {
     "data": {
      "text/html": [
       "<table>\n",
       "<thead><tr><th></th><th scope=col>body</th><th scope=col>brain</th></tr></thead>\n",
       "<tbody>\n",
       "\t<tr><th scope=row>Arctic fox</th><td>  3.38</td><td> 44.5 </td></tr>\n",
       "\t<tr><th scope=row>Owl monkey</th><td>  0.48</td><td> 15.5 </td></tr>\n",
       "\t<tr><th scope=row>Mountain beaver</th><td>  1.35</td><td>  8.1 </td></tr>\n",
       "\t<tr><th scope=row>Cow</th><td>465.00</td><td>423.0 </td></tr>\n",
       "\t<tr><th scope=row>Grey wolf</th><td> 36.33</td><td>119.5 </td></tr>\n",
       "\t<tr><th scope=row>Goat</th><td> 27.66</td><td>115.0 </td></tr>\n",
       "</tbody>\n",
       "</table>\n"
      ],
      "text/latex": [
       "\\begin{tabular}{r|ll}\n",
       "  & body & brain\\\\\n",
       "\\hline\n",
       "\tArctic fox &   3.38 &  44.5 \\\\\n",
       "\tOwl monkey &   0.48 &  15.5 \\\\\n",
       "\tMountain beaver &   1.35 &   8.1 \\\\\n",
       "\tCow & 465.00 & 423.0 \\\\\n",
       "\tGrey wolf &  36.33 & 119.5 \\\\\n",
       "\tGoat &  27.66 & 115.0 \\\\\n",
       "\\end{tabular}\n"
      ],
      "text/markdown": [
       "\n",
       "| <!--/--> | body | brain |\n",
       "|---|---|---|\n",
       "| Arctic fox |   3.38 |  44.5  |\n",
       "| Owl monkey |   0.48 |  15.5  |\n",
       "| Mountain beaver |   1.35 |   8.1  |\n",
       "| Cow | 465.00 | 423.0  |\n",
       "| Grey wolf |  36.33 | 119.5  |\n",
       "| Goat |  27.66 | 115.0  |\n",
       "\n"
      ],
      "text/plain": [
       "                body   brain\n",
       "Arctic fox        3.38  44.5\n",
       "Owl monkey        0.48  15.5\n",
       "Mountain beaver   1.35   8.1\n",
       "Cow             465.00 423.0\n",
       "Grey wolf        36.33 119.5\n",
       "Goat             27.66 115.0"
      ]
     },
     "metadata": {},
     "output_type": "display_data"
    }
   ],
   "source": [
    "library(MASS)\n",
    "head(mammals)"
   ]
  },
  {
   "cell_type": "markdown",
   "metadata": {},
   "source": [
    "## Parte 1: 1_elementos_de_estadistica_descriptiva"
   ]
  },
  {
   "cell_type": "markdown",
   "metadata": {},
   "source": [
    "### Ejercicios"
   ]
  },
  {
   "cell_type": "markdown",
   "metadata": {},
   "source": [
    "**Preguntas:**\n",
    "\n",
    "* ¿Cuál es el mamífero con el tamaño de cuerpo más grande? ¿cuál es el mínimo? ---> usa `which.max, which.min`.\n",
    "\n",
    "* Ordena el dataset con la función `order` para la variable *body* en orden creciente y utiliza `tail` para encontrar los mamíferos con tamaño de cuerpo más grande.\n",
    "\n"
   ]
  },
  {
   "cell_type": "code",
   "execution_count": 86,
   "metadata": {},
   "outputs": [
    {
     "data": {
      "text/html": [
       "33"
      ],
      "text/latex": [
       "33"
      ],
      "text/markdown": [
       "33"
      ],
      "text/plain": [
       "[1] 33"
      ]
     },
     "metadata": {},
     "output_type": "display_data"
    }
   ],
   "source": [
    "which.max(mammals$body)"
   ]
  },
  {
   "cell_type": "code",
   "execution_count": 87,
   "metadata": {
    "scrolled": true
   },
   "outputs": [
    {
     "data": {
      "text/html": [
       "<table>\n",
       "<thead><tr><th></th><th scope=col>body</th><th scope=col>brain</th></tr></thead>\n",
       "<tbody>\n",
       "\t<tr><th scope=row>African elephant</th><td>6654</td><td>5712</td></tr>\n",
       "</tbody>\n",
       "</table>\n"
      ],
      "text/latex": [
       "\\begin{tabular}{r|ll}\n",
       "  & body & brain\\\\\n",
       "\\hline\n",
       "\tAfrican elephant & 6654 & 5712\\\\\n",
       "\\end{tabular}\n"
      ],
      "text/markdown": [
       "\n",
       "| <!--/--> | body | brain |\n",
       "|---|---|---|\n",
       "| African elephant | 6654 | 5712 |\n",
       "\n"
      ],
      "text/plain": [
       "                 body brain\n",
       "African elephant 6654 5712 "
      ]
     },
     "metadata": {},
     "output_type": "display_data"
    }
   ],
   "source": [
    "df2<-mammals[33,]\n",
    "df2"
   ]
  },
  {
   "cell_type": "code",
   "execution_count": 88,
   "metadata": {},
   "outputs": [
    {
     "data": {
      "text/html": [
       "14"
      ],
      "text/latex": [
       "14"
      ],
      "text/markdown": [
       "14"
      ],
      "text/plain": [
       "[1] 14"
      ]
     },
     "metadata": {},
     "output_type": "display_data"
    }
   ],
   "source": [
    "which.min(mammals$body)"
   ]
  },
  {
   "cell_type": "code",
   "execution_count": 89,
   "metadata": {
    "scrolled": true
   },
   "outputs": [
    {
     "data": {
      "text/html": [
       "<table>\n",
       "<thead><tr><th></th><th scope=col>body</th><th scope=col>brain</th></tr></thead>\n",
       "<tbody>\n",
       "\t<tr><th scope=row>Lesser short-tailed shrew</th><td>0.005</td><td>0.14 </td></tr>\n",
       "</tbody>\n",
       "</table>\n"
      ],
      "text/latex": [
       "\\begin{tabular}{r|ll}\n",
       "  & body & brain\\\\\n",
       "\\hline\n",
       "\tLesser short-tailed shrew & 0.005 & 0.14 \\\\\n",
       "\\end{tabular}\n"
      ],
      "text/markdown": [
       "\n",
       "| <!--/--> | body | brain |\n",
       "|---|---|---|\n",
       "| Lesser short-tailed shrew | 0.005 | 0.14  |\n",
       "\n"
      ],
      "text/plain": [
       "                          body  brain\n",
       "Lesser short-tailed shrew 0.005 0.14 "
      ]
     },
     "metadata": {},
     "output_type": "display_data"
    }
   ],
   "source": [
    "df2<-mammals[which.min(mammals$body),]\n",
    "df2"
   ]
  },
  {
   "cell_type": "markdown",
   "metadata": {},
   "source": [
    "* Ordena el dataset con la función `order` para la variable *body* en orden creciente y utiliza `tail` para encontrar los mamíferos con tamaño de cuerpo más grande."
   ]
  },
  {
   "cell_type": "code",
   "execution_count": 90,
   "metadata": {},
   "outputs": [],
   "source": [
    "df4<-order(mammals$body)"
   ]
  },
  {
   "cell_type": "code",
   "execution_count": 91,
   "metadata": {},
   "outputs": [
    {
     "data": {
      "text/html": [
       "<ol class=list-inline>\n",
       "\t<li>42</li>\n",
       "\t<li>4</li>\n",
       "\t<li>22</li>\n",
       "\t<li>28</li>\n",
       "\t<li>19</li>\n",
       "\t<li>33</li>\n",
       "</ol>\n"
      ],
      "text/latex": [
       "\\begin{enumerate*}\n",
       "\\item 42\n",
       "\\item 4\n",
       "\\item 22\n",
       "\\item 28\n",
       "\\item 19\n",
       "\\item 33\n",
       "\\end{enumerate*}\n"
      ],
      "text/markdown": [
       "1. 42\n",
       "2. 4\n",
       "3. 22\n",
       "4. 28\n",
       "5. 19\n",
       "6. 33\n",
       "\n",
       "\n"
      ],
      "text/plain": [
       "[1] 42  4 22 28 19 33"
      ]
     },
     "metadata": {},
     "output_type": "display_data"
    }
   ],
   "source": [
    "df5<-tail(order(mammals$body),)\n",
    "df5"
   ]
  },
  {
   "cell_type": "markdown",
   "metadata": {},
   "source": [
    "# Ejercicios"
   ]
  },
  {
   "cell_type": "markdown",
   "metadata": {},
   "source": [
    "1) Considérese el experimento de lanzar $20$ veces una moneda y obtener la secuencia: $H,T,H,H,T,H,H,T,H,H,T,T,H,T,T,T,H,H,H,T$.\n",
    "\n",
    "a) Tabular los resultados del experimento anterior encontrando las proporciones de $H$ y $T$ en los $20$ lanzamientos."
   ]
  },
  {
   "cell_type": "code",
   "execution_count": 92,
   "metadata": {},
   "outputs": [],
   "source": [
    "experimento1<-c(\"H\",\"T\",\"H\",\"H\",\"T\",\"H\",\"H\",\"T\",\"H\",\"H\",\"T\",\"T\",\"H\",\"T\",\"T\",\"T\",\"H\",\"H\",\"H\",\"T\")"
   ]
  },
  {
   "cell_type": "code",
   "execution_count": 93,
   "metadata": {},
   "outputs": [
    {
     "data": {
      "text/plain": [
       "experimento1\n",
       " H  T \n",
       "11  9 "
      ]
     },
     "metadata": {},
     "output_type": "display_data"
    }
   ],
   "source": [
    "table(experimento1)"
   ]
  },
  {
   "cell_type": "code",
   "execution_count": 94,
   "metadata": {},
   "outputs": [
    {
     "data": {
      "text/plain": [
       "experimento1\n",
       "   H    T \n",
       "0.55 0.45 "
      ]
     },
     "metadata": {},
     "output_type": "display_data"
    }
   ],
   "source": [
    "prop.table(table(experimento1))"
   ]
  },
  {
   "cell_type": "markdown",
   "metadata": {},
   "source": [
    "b) Graficar las proporciones con `barplot` y `plot`."
   ]
  },
  {
   "cell_type": "code",
   "execution_count": 95,
   "metadata": {},
   "outputs": [
    {
     "data": {
      "image/png": "[encoded data removed]",
      "text/plain": [
       "plot without title"
      ]
     },
     "metadata": {},
     "output_type": "display_data"
    }
   ],
   "source": [
    "plot(prop.table(table(experimento1)))"
   ]
  },
  {
   "cell_type": "code",
   "execution_count": 96,
   "metadata": {},
   "outputs": [
    {
     "data": {
      "image/png": "[encoded data removed]",
      "text/plain": [
       "plot without title"
      ]
     },
     "metadata": {},
     "output_type": "display_data"
    }
   ],
   "source": [
    "barplot(prop.table(table(experimento1)))"
   ]
  },
  {
   "cell_type": "markdown",
   "metadata": {},
   "source": [
    "#### Segunda parte de ejercicios:"
   ]
  },
  {
   "cell_type": "markdown",
   "metadata": {},
   "source": [
    "2) Para el dataset analizado anteriormente y que se creó: `log_mammals` realizar:\n",
    "\n",
    "a)Para datos cuantitativos es común realizar diagramas de tallos y hojas. Investigar la interpretación de estos diagramas y usar la función `stem` del paquete `base` de *R* para realizar tales diagramas a las variables `log_body` y `log_brain` e interpretarlas."
   ]
  },
  {
   "cell_type": "code",
   "execution_count": 97,
   "metadata": {},
   "outputs": [
    {
     "data": {
      "text/html": [
       "<table>\n",
       "<thead><tr><th></th><th scope=col>mamlog_body</th><th scope=col>mamlog_brain</th></tr></thead>\n",
       "<tbody>\n",
       "\t<tr><th scope=row>Arctic fox</th><td> 1.219</td><td>3.80  </td></tr>\n",
       "\t<tr><th scope=row>Owl monkey</th><td>-0.734</td><td>2.74  </td></tr>\n",
       "\t<tr><th scope=row>Mountain beaver</th><td> 0.300</td><td>2.09  </td></tr>\n",
       "\t<tr><th scope=row>Cow</th><td> 6.142</td><td>6.05  </td></tr>\n",
       "\t<tr><th scope=row>Grey wolf</th><td> 3.593</td><td>4.78  </td></tr>\n",
       "\t<tr><th scope=row>Goat</th><td> 3.320</td><td>4.74  </td></tr>\n",
       "</tbody>\n",
       "</table>\n"
      ],
      "text/latex": [
       "\\begin{tabular}{r|ll}\n",
       "  & mamlog\\_body & mamlog\\_brain\\\\\n",
       "\\hline\n",
       "\tArctic fox &  1.219 & 3.80  \\\\\n",
       "\tOwl monkey & -0.734 & 2.74  \\\\\n",
       "\tMountain beaver &  0.300 & 2.09  \\\\\n",
       "\tCow &  6.142 & 6.05  \\\\\n",
       "\tGrey wolf &  3.593 & 4.78  \\\\\n",
       "\tGoat &  3.320 & 4.74  \\\\\n",
       "\\end{tabular}\n"
      ],
      "text/markdown": [
       "\n",
       "| <!--/--> | mamlog_body | mamlog_brain |\n",
       "|---|---|---|\n",
       "| Arctic fox |  1.219 | 3.80   |\n",
       "| Owl monkey | -0.734 | 2.74   |\n",
       "| Mountain beaver |  0.300 | 2.09   |\n",
       "| Cow |  6.142 | 6.05   |\n",
       "| Grey wolf |  3.593 | 4.78   |\n",
       "| Goat |  3.320 | 4.74   |\n",
       "\n"
      ],
      "text/plain": [
       "                mamlog_body mamlog_brain\n",
       "Arctic fox       1.219      3.80        \n",
       "Owl monkey      -0.734      2.74        \n",
       "Mountain beaver  0.300      2.09        \n",
       "Cow              6.142      6.05        \n",
       "Grey wolf        3.593      4.78        \n",
       "Goat             3.320      4.74        "
      ]
     },
     "metadata": {},
     "output_type": "display_data"
    }
   ],
   "source": [
    "log_mammals<-log(mammals)\n",
    "colnames(log_mammals) <- c('mamlog_body', 'mamlog_brain')\n",
    "head(log_mammals)\n",
    "log_body<-log(mammals$body)\n",
    "log_brain<-log(mammals$brain)"
   ]
  },
  {
   "cell_type": "code",
   "execution_count": 98,
   "metadata": {},
   "outputs": [],
   "source": [
    "#?stem"
   ]
  },
  {
   "cell_type": "code",
   "execution_count": 99,
   "metadata": {},
   "outputs": [
    {
     "name": "stdout",
     "output_type": "stream",
     "text": [
      "\n",
      "  The decimal point is at the |\n",
      "\n",
      "  -4 | 36\n",
      "  -2 | 880863311\n",
      "  -0 | 639763211\n",
      "   0 | 00333557912233344459\n",
      "   2 | 347366\n",
      "   4 | 00114612335\n",
      "   6 | 1338\n",
      "   8 | 8\n",
      "\n"
     ]
    }
   ],
   "source": [
    "stem(log_body)"
   ]
  },
  {
   "cell_type": "code",
   "execution_count": 100,
   "metadata": {},
   "outputs": [
    {
     "name": "stdout",
     "output_type": "stream",
     "text": [
      "\n",
      "  The decimal point is at the |\n",
      "\n",
      "  -2 | 0\n",
      "  -0 | 4219\n",
      "   0 | 00269901344677899\n",
      "   2 | 1445555789022789\n",
      "   4 | 01467781122228\n",
      "   6 | 00012552\n",
      "   8 | 47\n",
      "\n"
     ]
    }
   ],
   "source": [
    "stem(log_brain)"
   ]
  },
  {
   "cell_type": "markdown",
   "metadata": {},
   "source": [
    "b) `scatterplot` coloreando diferente a cada grupo que se creó: `mamífero pequeño` y `mamífero grande` con la variable `size_body`."
   ]
  },
  {
   "cell_type": "markdown",
   "metadata": {},
   "source": [
    "Podemos añadir una nueva variable que sea categórica y represente el tamaño de los mamíferos: `grandes` y `chicos`. Un mamífero lo categorizamos como `grande` si el peso de su cuerpo está por encima de la mediana (para los datos transformados con `log`). Una variable `size` puede añadirse al `data.frame` para indicar lo anterior:"
   ]
  },
  {
   "cell_type": "code",
   "execution_count": 101,
   "metadata": {},
   "outputs": [
    {
     "data": {
      "text/html": [
       "<table>\n",
       "<thead><tr><th></th><th scope=col>mamlog_body</th><th scope=col>mamlog_brain</th><th scope=col>size_body</th><th scope=col>size_brain</th></tr></thead>\n",
       "<tbody>\n",
       "\t<tr><th scope=row>Arctic fox</th><td> 1.219  </td><td>3.80    </td><td>grande  </td><td>grande  </td></tr>\n",
       "\t<tr><th scope=row>Owl monkey</th><td>-0.734  </td><td>2.74    </td><td>pequenio</td><td>pequenio</td></tr>\n",
       "\t<tr><th scope=row>Mountain beaver</th><td> 0.300  </td><td>2.09    </td><td>pequenio</td><td>pequenio</td></tr>\n",
       "\t<tr><th scope=row>Cow</th><td> 6.142  </td><td>6.05    </td><td>grande  </td><td>grande  </td></tr>\n",
       "\t<tr><th scope=row>Grey wolf</th><td> 3.593  </td><td>4.78    </td><td>grande  </td><td>grande  </td></tr>\n",
       "\t<tr><th scope=row>Goat</th><td> 3.320  </td><td>4.74    </td><td>grande  </td><td>grande  </td></tr>\n",
       "</tbody>\n",
       "</table>\n"
      ],
      "text/latex": [
       "\\begin{tabular}{r|llll}\n",
       "  & mamlog\\_body & mamlog\\_brain & size\\_body & size\\_brain\\\\\n",
       "\\hline\n",
       "\tArctic fox &  1.219   & 3.80     & grande   & grande  \\\\\n",
       "\tOwl monkey & -0.734   & 2.74     & pequenio & pequenio\\\\\n",
       "\tMountain beaver &  0.300   & 2.09     & pequenio & pequenio\\\\\n",
       "\tCow &  6.142   & 6.05     & grande   & grande  \\\\\n",
       "\tGrey wolf &  3.593   & 4.78     & grande   & grande  \\\\\n",
       "\tGoat &  3.320   & 4.74     & grande   & grande  \\\\\n",
       "\\end{tabular}\n"
      ],
      "text/markdown": [
       "\n",
       "| <!--/--> | mamlog_body | mamlog_brain | size_body | size_brain |\n",
       "|---|---|---|---|---|\n",
       "| Arctic fox |  1.219   | 3.80     | grande   | grande   |\n",
       "| Owl monkey | -0.734   | 2.74     | pequenio | pequenio |\n",
       "| Mountain beaver |  0.300   | 2.09     | pequenio | pequenio |\n",
       "| Cow |  6.142   | 6.05     | grande   | grande   |\n",
       "| Grey wolf |  3.593   | 4.78     | grande   | grande   |\n",
       "| Goat |  3.320   | 4.74     | grande   | grande   |\n",
       "\n"
      ],
      "text/plain": [
       "                mamlog_body mamlog_brain size_body size_brain\n",
       "Arctic fox       1.219      3.80         grande    grande    \n",
       "Owl monkey      -0.734      2.74         pequenio  pequenio  \n",
       "Mountain beaver  0.300      2.09         pequenio  pequenio  \n",
       "Cow              6.142      6.05         grande    grande    \n",
       "Grey wolf        3.593      4.78         grande    grande    \n",
       "Goat             3.320      4.74         grande    grande    "
      ]
     },
     "metadata": {},
     "output_type": "display_data"
    }
   ],
   "source": [
    "mediana_body = median(log_mammals$mamlog_body)\n",
    "log_mammals$size_body = ifelse(log_mammals$mamlog_body >= mediana_body, \"grande\", \"pequenio\")\n",
    "#añadimos también la de brain:\n",
    "mediana_brain = median(log_mammals$mamlog_brain)\n",
    "log_mammals$size_brain = ifelse(log_mammals$mamlog_brain >= mediana_brain, \"grande\", \"pequenio\")\n",
    "head(log_mammals)"
   ]
  },
  {
   "cell_type": "code",
   "execution_count": 102,
   "metadata": {},
   "outputs": [
    {
     "data": {
      "image/png": "[encoded data removed]",
      "text/plain": [
       "plot without title"
      ]
     },
     "metadata": {},
     "output_type": "display_data"
    }
   ],
   "source": [
    "log_mammals$size_body_color = ifelse(log_mammals$size_body == \"grande\", \"red\", \"blue\")\n",
    "\n",
    "plot(log_mammals$mamlog_body,log_mammals$mamlog_brain,xlab=\"log_body\",\n",
    "     ylab=\"log_brain\",col=log_mammals$size_body_color)"
   ]
  },
  {
   "cell_type": "markdown",
   "metadata": {},
   "source": [
    "c) Instalar el paquete `dplyr` para colocar los datos en un formato `long` y se pueda graficar con el paquete de `ggplot2` con la función `gather` el dataframe `log_mammals`. Después de instalar tal paquete, realizar mismo enunciado que a) pero con `geom_points` y paquete `ggplot2`."
   ]
  },
  {
   "cell_type": "code",
   "execution_count": 103,
   "metadata": {},
   "outputs": [],
   "source": [
    "#install.packages(\"dplyr\")"
   ]
  },
  {
   "cell_type": "code",
   "execution_count": 104,
   "metadata": {},
   "outputs": [
    {
     "data": {
      "text/html": [
       "<table>\n",
       "<thead><tr><th></th><th scope=col>mamlog_body</th><th scope=col>mamlog_brain</th><th scope=col>size_body</th><th scope=col>size_brain</th><th scope=col>size_body_color</th></tr></thead>\n",
       "<tbody>\n",
       "\t<tr><th scope=row>Arctic fox</th><td> 1.219  </td><td>3.80    </td><td>grande  </td><td>grande  </td><td>red     </td></tr>\n",
       "\t<tr><th scope=row>Owl monkey</th><td>-0.734  </td><td>2.74    </td><td>pequenio</td><td>pequenio</td><td>blue    </td></tr>\n",
       "\t<tr><th scope=row>Mountain beaver</th><td> 0.300  </td><td>2.09    </td><td>pequenio</td><td>pequenio</td><td>blue    </td></tr>\n",
       "\t<tr><th scope=row>Cow</th><td> 6.142  </td><td>6.05    </td><td>grande  </td><td>grande  </td><td>red     </td></tr>\n",
       "\t<tr><th scope=row>Grey wolf</th><td> 3.593  </td><td>4.78    </td><td>grande  </td><td>grande  </td><td>red     </td></tr>\n",
       "\t<tr><th scope=row>Goat</th><td> 3.320  </td><td>4.74    </td><td>grande  </td><td>grande  </td><td>red     </td></tr>\n",
       "</tbody>\n",
       "</table>\n"
      ],
      "text/latex": [
       "\\begin{tabular}{r|lllll}\n",
       "  & mamlog\\_body & mamlog\\_brain & size\\_body & size\\_brain & size\\_body\\_color\\\\\n",
       "\\hline\n",
       "\tArctic fox &  1.219   & 3.80     & grande   & grande   & red     \\\\\n",
       "\tOwl monkey & -0.734   & 2.74     & pequenio & pequenio & blue    \\\\\n",
       "\tMountain beaver &  0.300   & 2.09     & pequenio & pequenio & blue    \\\\\n",
       "\tCow &  6.142   & 6.05     & grande   & grande   & red     \\\\\n",
       "\tGrey wolf &  3.593   & 4.78     & grande   & grande   & red     \\\\\n",
       "\tGoat &  3.320   & 4.74     & grande   & grande   & red     \\\\\n",
       "\\end{tabular}\n"
      ],
      "text/markdown": [
       "\n",
       "| <!--/--> | mamlog_body | mamlog_brain | size_body | size_brain | size_body_color |\n",
       "|---|---|---|---|---|---|\n",
       "| Arctic fox |  1.219   | 3.80     | grande   | grande   | red      |\n",
       "| Owl monkey | -0.734   | 2.74     | pequenio | pequenio | blue     |\n",
       "| Mountain beaver |  0.300   | 2.09     | pequenio | pequenio | blue     |\n",
       "| Cow |  6.142   | 6.05     | grande   | grande   | red      |\n",
       "| Grey wolf |  3.593   | 4.78     | grande   | grande   | red      |\n",
       "| Goat |  3.320   | 4.74     | grande   | grande   | red      |\n",
       "\n"
      ],
      "text/plain": [
       "                mamlog_body mamlog_brain size_body size_brain size_body_color\n",
       "Arctic fox       1.219      3.80         grande    grande     red            \n",
       "Owl monkey      -0.734      2.74         pequenio  pequenio   blue           \n",
       "Mountain beaver  0.300      2.09         pequenio  pequenio   blue           \n",
       "Cow              6.142      6.05         grande    grande     red            \n",
       "Grey wolf        3.593      4.78         grande    grande     red            \n",
       "Goat             3.320      4.74         grande    grande     red            "
      ]
     },
     "metadata": {},
     "output_type": "display_data"
    }
   ],
   "source": [
    "head(log_mammals)"
   ]
  },
  {
   "cell_type": "code",
   "execution_count": 105,
   "metadata": {},
   "outputs": [
    {
     "data": {
      "text/html": [
       "<table>\n",
       "<thead><tr><th scope=col>size_body</th><th scope=col>size_brain</th><th scope=col>size_body_color</th><th scope=col>var</th><th scope=col>col</th></tr></thead>\n",
       "<tbody>\n",
       "\t<tr><td>grande     </td><td>grande     </td><td>red        </td><td>mamlog_body</td><td> 1.219     </td></tr>\n",
       "\t<tr><td>pequenio   </td><td>pequenio   </td><td>blue       </td><td>mamlog_body</td><td>-0.734     </td></tr>\n",
       "\t<tr><td>pequenio   </td><td>pequenio   </td><td>blue       </td><td>mamlog_body</td><td> 0.300     </td></tr>\n",
       "\t<tr><td>grande     </td><td>grande     </td><td>red        </td><td>mamlog_body</td><td> 6.142     </td></tr>\n",
       "\t<tr><td>grande     </td><td>grande     </td><td>red        </td><td>mamlog_body</td><td> 3.593     </td></tr>\n",
       "\t<tr><td>grande     </td><td>grande     </td><td>red        </td><td>mamlog_body</td><td> 3.320     </td></tr>\n",
       "</tbody>\n",
       "</table>\n"
      ],
      "text/latex": [
       "\\begin{tabular}{r|lllll}\n",
       " size\\_body & size\\_brain & size\\_body\\_color & var & col\\\\\n",
       "\\hline\n",
       "\t grande        & grande        & red           & mamlog\\_body &  1.219       \\\\\n",
       "\t pequenio      & pequenio      & blue          & mamlog\\_body & -0.734       \\\\\n",
       "\t pequenio      & pequenio      & blue          & mamlog\\_body &  0.300       \\\\\n",
       "\t grande        & grande        & red           & mamlog\\_body &  6.142       \\\\\n",
       "\t grande        & grande        & red           & mamlog\\_body &  3.593       \\\\\n",
       "\t grande        & grande        & red           & mamlog\\_body &  3.320       \\\\\n",
       "\\end{tabular}\n"
      ],
      "text/markdown": [
       "\n",
       "| size_body | size_brain | size_body_color | var | col |\n",
       "|---|---|---|---|---|\n",
       "| grande      | grande      | red         | mamlog_body |  1.219      |\n",
       "| pequenio    | pequenio    | blue        | mamlog_body | -0.734      |\n",
       "| pequenio    | pequenio    | blue        | mamlog_body |  0.300      |\n",
       "| grande      | grande      | red         | mamlog_body |  6.142      |\n",
       "| grande      | grande      | red         | mamlog_body |  3.593      |\n",
       "| grande      | grande      | red         | mamlog_body |  3.320      |\n",
       "\n"
      ],
      "text/plain": [
       "  size_body size_brain size_body_color var         col   \n",
       "1 grande    grande     red             mamlog_body  1.219\n",
       "2 pequenio  pequenio   blue            mamlog_body -0.734\n",
       "3 pequenio  pequenio   blue            mamlog_body  0.300\n",
       "4 grande    grande     red             mamlog_body  6.142\n",
       "5 grande    grande     red             mamlog_body  3.593\n",
       "6 grande    grande     red             mamlog_body  3.320"
      ]
     },
     "metadata": {},
     "output_type": "display_data"
    }
   ],
   "source": [
    "library(tidyr)\n",
    "long<-gather(log_mammals,\"var\",\"col\",c(mamlog_body,mamlog_brain))\n",
    "head(long)"
   ]
  },
  {
   "cell_type": "code",
   "execution_count": 106,
   "metadata": {},
   "outputs": [],
   "source": [
    "#?gather\n"
   ]
  },
  {
   "cell_type": "code",
   "execution_count": 107,
   "metadata": {},
   "outputs": [],
   "source": [
    "#ggLog_mammals<-ggplot(data=log_mammals, aes(x=log_mammals$mamlog_body, \n",
    "#                                            y= log_mammals$mamlog_brain, color=size_body))\n",
    "long_plot<-ggplot(data=long, aes(x=var, \n",
    "                                            y= col, color=size_body))"
   ]
  },
  {
   "cell_type": "code",
   "execution_count": 108,
   "metadata": {},
   "outputs": [
    {
     "data": {
      "image/png": "[encoded data removed]",
      "text/plain": [
       "plot without title"
      ]
     },
     "metadata": {},
     "output_type": "display_data"
    }
   ],
   "source": [
    "long_plot + geom_point()"
   ]
  },
  {
   "cell_type": "markdown",
   "metadata": {},
   "source": [
    "d) Calcular estadísticas como el promedio, mediana, máximo y mínimo por grupos de `mamífero pequeño` y `mamífero grande` con `dplyr` y funciones como `group_by`, `sumarise` y el operador `%>%` (pipe). Ver como ayuda: [Data Wrangling with dplyr and tidyr](https://www.rstudio.com/wp-content/uploads/2015/02/data-wrangling-cheatsheet.pdf) o [Data Transformation with dplyr](https://ugoproto.github.io/ugo_r_doc/dplyr.pdf) o bien como ejemplo de uso: https://genomicsclass.github.io/book/pages/dplyr_tutorial.html u otro tutorial en la red de `dplyr` ¿qué mamíferos en cada grupo están en los tres primeros lugares (pensando que se ordenan de forma decreciente en `log_brain`)?. "
   ]
  },
  {
   "cell_type": "code",
   "execution_count": 109,
   "metadata": {},
   "outputs": [
    {
     "name": "stderr",
     "output_type": "stream",
     "text": [
      "also installing the dependency 'dplyr'\n",
      "\n",
      "Warning message:\n",
      "\"packages 'dplyr', 'tidyverse' are in use and will not be installed\""
     ]
    }
   ],
   "source": [
    "install.packages(\"tidyverse\")\n",
    "#library(tidyverse)\n",
    "library(tidyr)"
   ]
  },
  {
   "cell_type": "code",
   "execution_count": 110,
   "metadata": {},
   "outputs": [
    {
     "name": "stderr",
     "output_type": "stream",
     "text": [
      "Warning message:\n",
      "\"package 'dplyr' is in use and will not be installed\""
     ]
    }
   ],
   "source": [
    "install.packages(\"dplyr\")"
   ]
  },
  {
   "cell_type": "code",
   "execution_count": 111,
   "metadata": {},
   "outputs": [],
   "source": [
    "library(tidyr)"
   ]
  },
  {
   "cell_type": "code",
   "execution_count": 112,
   "metadata": {},
   "outputs": [
    {
     "data": {
      "text/html": [
       "<table>\n",
       "<thead><tr><th scope=col>log_mammals$size_body</th><th scope=col>n()</th><th scope=col>mean(mamlog_body)</th><th scope=col>median(mamlog_body)</th><th scope=col>min(mamlog_body)</th><th scope=col>max(mamlog_body)</th></tr></thead>\n",
       "<tbody>\n",
       "\t<tr><td>grande  </td><td>31      </td><td> 3.79   </td><td> 3.954  </td><td> 1.22   </td><td>8.80    </td></tr>\n",
       "\t<tr><td>pequenio</td><td>31      </td><td>-1.11   </td><td>-0.598  </td><td>-5.30   </td><td>1.19    </td></tr>\n",
       "</tbody>\n",
       "</table>\n"
      ],
      "text/latex": [
       "\\begin{tabular}{r|llllll}\n",
       " log\\_mammals\\$size\\_body & n() & mean(mamlog\\_body) & median(mamlog\\_body) & min(mamlog\\_body) & max(mamlog\\_body)\\\\\n",
       "\\hline\n",
       "\t grande   & 31       &  3.79    &  3.954   &  1.22    & 8.80    \\\\\n",
       "\t pequenio & 31       & -1.11    & -0.598   & -5.30    & 1.19    \\\\\n",
       "\\end{tabular}\n"
      ],
      "text/markdown": [
       "\n",
       "| log_mammals$size_body | n() | mean(mamlog_body) | median(mamlog_body) | min(mamlog_body) | max(mamlog_body) |\n",
       "|---|---|---|---|---|---|\n",
       "| grande   | 31       |  3.79    |  3.954   |  1.22    | 8.80     |\n",
       "| pequenio | 31       | -1.11    | -0.598   | -5.30    | 1.19     |\n",
       "\n"
      ],
      "text/plain": [
       "  log_mammals$size_body n() mean(mamlog_body) median(mamlog_body)\n",
       "1 grande                31   3.79              3.954             \n",
       "2 pequenio              31  -1.11             -0.598             \n",
       "  min(mamlog_body) max(mamlog_body)\n",
       "1  1.22            8.80            \n",
       "2 -5.30            1.19            "
      ]
     },
     "metadata": {},
     "output_type": "display_data"
    }
   ],
   "source": [
    "group_by(log_mammals,log_mammals$size_body) %>%#%>% es un pipe, que es como meter el resultado de una funcion en la siguiente función, el resultado de groupby pasa como primer argumento para la siguiente funcion \"summarize\"\n",
    "  summarize(n(),mean(mamlog_body),median(mamlog_body),min(mamlog_body),max(mamlog_body)) #%>% #pipe me ahorra generar objetos"
   ]
  },
  {
   "cell_type": "markdown",
   "metadata": {},
   "source": [
    "e) Crea una nueva variable `r` que sea el cociente entre `brain` y `body`. Ordena en orden creciente el dataset de `mammals` de acuerdo a esta nueva variable. ¿Qué mamíferos tienen los cocientes más grandes? ¿y cuáles los más pequeños?"
   ]
  },
  {
   "cell_type": "code",
   "execution_count": 113,
   "metadata": {},
   "outputs": [
    {
     "data": {
      "text/html": [
       "<table>\n",
       "<thead><tr><th scope=col>mamlog_body</th><th scope=col>mamlog_brain</th><th scope=col>size_body</th><th scope=col>size_brain</th><th scope=col>size_body_color</th><th scope=col>r</th></tr></thead>\n",
       "<tbody>\n",
       "\t<tr><td> 1.219  </td><td>3.80    </td><td>grande  </td><td>grande  </td><td>red     </td><td> 3.113  </td></tr>\n",
       "\t<tr><td>-0.734  </td><td>2.74    </td><td>pequenio</td><td>pequenio</td><td>blue    </td><td>-3.734  </td></tr>\n",
       "\t<tr><td> 0.300  </td><td>2.09    </td><td>pequenio</td><td>pequenio</td><td>blue    </td><td> 6.970  </td></tr>\n",
       "\t<tr><td> 6.142  </td><td>6.05    </td><td>grande  </td><td>grande  </td><td>red     </td><td> 0.985  </td></tr>\n",
       "\t<tr><td> 3.593  </td><td>4.78    </td><td>grande  </td><td>grande  </td><td>red     </td><td> 1.331  </td></tr>\n",
       "\t<tr><td> 3.320  </td><td>4.74    </td><td>grande  </td><td>grande  </td><td>red     </td><td> 1.429  </td></tr>\n",
       "</tbody>\n",
       "</table>\n"
      ],
      "text/latex": [
       "\\begin{tabular}{r|llllll}\n",
       " mamlog\\_body & mamlog\\_brain & size\\_body & size\\_brain & size\\_body\\_color & r\\\\\n",
       "\\hline\n",
       "\t  1.219   & 3.80     & grande   & grande   & red      &  3.113  \\\\\n",
       "\t -0.734   & 2.74     & pequenio & pequenio & blue     & -3.734  \\\\\n",
       "\t  0.300   & 2.09     & pequenio & pequenio & blue     &  6.970  \\\\\n",
       "\t  6.142   & 6.05     & grande   & grande   & red      &  0.985  \\\\\n",
       "\t  3.593   & 4.78     & grande   & grande   & red      &  1.331  \\\\\n",
       "\t  3.320   & 4.74     & grande   & grande   & red      &  1.429  \\\\\n",
       "\\end{tabular}\n"
      ],
      "text/markdown": [
       "\n",
       "| mamlog_body | mamlog_brain | size_body | size_brain | size_body_color | r |\n",
       "|---|---|---|---|---|---|\n",
       "|  1.219   | 3.80     | grande   | grande   | red      |  3.113   |\n",
       "| -0.734   | 2.74     | pequenio | pequenio | blue     | -3.734   |\n",
       "|  0.300   | 2.09     | pequenio | pequenio | blue     |  6.970   |\n",
       "|  6.142   | 6.05     | grande   | grande   | red      |  0.985   |\n",
       "|  3.593   | 4.78     | grande   | grande   | red      |  1.331   |\n",
       "|  3.320   | 4.74     | grande   | grande   | red      |  1.429   |\n",
       "\n"
      ],
      "text/plain": [
       "  mamlog_body mamlog_brain size_body size_brain size_body_color r     \n",
       "1  1.219      3.80         grande    grande     red              3.113\n",
       "2 -0.734      2.74         pequenio  pequenio   blue            -3.734\n",
       "3  0.300      2.09         pequenio  pequenio   blue             6.970\n",
       "4  6.142      6.05         grande    grande     red              0.985\n",
       "5  3.593      4.78         grande    grande     red              1.331\n",
       "6  3.320      4.74         grande    grande     red              1.429"
      ]
     },
     "metadata": {},
     "output_type": "display_data"
    }
   ],
   "source": [
    "log_mammals<-mutate(log_mammals,r=(log_mammals$mamlog_brain/log_mammals$mamlog_body))\n",
    "head(log_mammals)"
   ]
  },
  {
   "cell_type": "code",
   "execution_count": 114,
   "metadata": {},
   "outputs": [],
   "source": [
    "ord1<-head(order(log_mammals$r))"
   ]
  },
  {
   "cell_type": "code",
   "execution_count": 115,
   "metadata": {},
   "outputs": [],
   "source": [
    "ord2<-tail(order(log_mammals$r))"
   ]
  },
  {
   "cell_type": "markdown",
   "metadata": {},
   "source": [
    "¿Qué mamíferos tienen los cocientes más grandes? "
   ]
  },
  {
   "cell_type": "code",
   "execution_count": 116,
   "metadata": {},
   "outputs": [
    {
     "data": {
      "text/html": [
       "<table>\n",
       "<thead><tr><th></th><th scope=col>body</th><th scope=col>brain</th></tr></thead>\n",
       "<tbody>\n",
       "\t<tr><th scope=row>Arctic ground squirrel</th><td>0.920</td><td> 5.7 </td></tr>\n",
       "\t<tr><th scope=row>Tenrec</th><td>0.900</td><td> 2.6 </td></tr>\n",
       "\t<tr><th scope=row>Rock hyrax-a</th><td>0.750</td><td>12.3 </td></tr>\n",
       "\t<tr><th scope=row>European hedgehog</th><td>0.785</td><td> 3.5 </td></tr>\n",
       "\t<tr><th scope=row>Owl monkey</th><td>0.480</td><td>15.5 </td></tr>\n",
       "\t<tr><th scope=row>Chinchilla</th><td>0.425</td><td> 6.4 </td></tr>\n",
       "</tbody>\n",
       "</table>\n"
      ],
      "text/latex": [
       "\\begin{tabular}{r|ll}\n",
       "  & body & brain\\\\\n",
       "\\hline\n",
       "\tArctic ground squirrel & 0.920 &  5.7 \\\\\n",
       "\tTenrec & 0.900 &  2.6 \\\\\n",
       "\tRock hyrax-a & 0.750 & 12.3 \\\\\n",
       "\tEuropean hedgehog & 0.785 &  3.5 \\\\\n",
       "\tOwl monkey & 0.480 & 15.5 \\\\\n",
       "\tChinchilla & 0.425 &  6.4 \\\\\n",
       "\\end{tabular}\n"
      ],
      "text/markdown": [
       "\n",
       "| <!--/--> | body | brain |\n",
       "|---|---|---|\n",
       "| Arctic ground squirrel | 0.920 |  5.7  |\n",
       "| Tenrec | 0.900 |  2.6  |\n",
       "| Rock hyrax-a | 0.750 | 12.3  |\n",
       "| European hedgehog | 0.785 |  3.5  |\n",
       "| Owl monkey | 0.480 | 15.5  |\n",
       "| Chinchilla | 0.425 |  6.4  |\n",
       "\n"
      ],
      "text/plain": [
       "                       body  brain\n",
       "Arctic ground squirrel 0.920  5.7 \n",
       "Tenrec                 0.900  2.6 \n",
       "Rock hyrax-a           0.750 12.3 \n",
       "European hedgehog      0.785  3.5 \n",
       "Owl monkey             0.480 15.5 \n",
       "Chinchilla             0.425  6.4 "
      ]
     },
     "metadata": {},
     "output_type": "display_data"
    }
   ],
   "source": [
    "tab_ord1<-mammals[c(ord1),]\n",
    "tab_ord1"
   ]
  },
  {
   "cell_type": "markdown",
   "metadata": {},
   "source": [
    "¿y cuáles los más pequeños?"
   ]
  },
  {
   "cell_type": "code",
   "execution_count": 117,
   "metadata": {},
   "outputs": [
    {
     "data": {
      "text/html": [
       "<table>\n",
       "<thead><tr><th></th><th scope=col>body</th><th scope=col>brain</th></tr></thead>\n",
       "<tbody>\n",
       "\t<tr><th scope=row>Phalanger</th><td>1.62</td><td>11.4</td></tr>\n",
       "\t<tr><th scope=row>Mountain beaver</th><td>1.35</td><td> 8.1</td></tr>\n",
       "\t<tr><th scope=row>Slow loris</th><td>1.40</td><td>12.5</td></tr>\n",
       "\t<tr><th scope=row>Genet</th><td>1.41</td><td>17.5</td></tr>\n",
       "\t<tr><th scope=row>Guinea pig</th><td>1.04</td><td> 5.5</td></tr>\n",
       "\t<tr><th scope=row>African giant pouched rat</th><td>1.00</td><td> 6.6</td></tr>\n",
       "</tbody>\n",
       "</table>\n"
      ],
      "text/latex": [
       "\\begin{tabular}{r|ll}\n",
       "  & body & brain\\\\\n",
       "\\hline\n",
       "\tPhalanger & 1.62 & 11.4\\\\\n",
       "\tMountain beaver & 1.35 &  8.1\\\\\n",
       "\tSlow loris & 1.40 & 12.5\\\\\n",
       "\tGenet & 1.41 & 17.5\\\\\n",
       "\tGuinea pig & 1.04 &  5.5\\\\\n",
       "\tAfrican giant pouched rat & 1.00 &  6.6\\\\\n",
       "\\end{tabular}\n"
      ],
      "text/markdown": [
       "\n",
       "| <!--/--> | body | brain |\n",
       "|---|---|---|\n",
       "| Phalanger | 1.62 | 11.4 |\n",
       "| Mountain beaver | 1.35 |  8.1 |\n",
       "| Slow loris | 1.40 | 12.5 |\n",
       "| Genet | 1.41 | 17.5 |\n",
       "| Guinea pig | 1.04 |  5.5 |\n",
       "| African giant pouched rat | 1.00 |  6.6 |\n",
       "\n"
      ],
      "text/plain": [
       "                          body brain\n",
       "Phalanger                 1.62 11.4 \n",
       "Mountain beaver           1.35  8.1 \n",
       "Slow loris                1.40 12.5 \n",
       "Genet                     1.41 17.5 \n",
       "Guinea pig                1.04  5.5 \n",
       "African giant pouched rat 1.00  6.6 "
      ]
     },
     "metadata": {},
     "output_type": "display_data"
    }
   ],
   "source": [
    "tab_ord2<-mammals[c(ord2),]\n",
    "tab_ord2"
   ]
  },
  {
   "cell_type": "markdown",
   "metadata": {},
   "source": [
    "f) Usando e) realiza un `scatterplot` de *r* vs `body`."
   ]
  },
  {
   "cell_type": "code",
   "execution_count": 118,
   "metadata": {},
   "outputs": [
    {
     "data": {
      "text/html": [
       "<table>\n",
       "<thead><tr><th scope=col>mamlog_body</th><th scope=col>mamlog_brain</th><th scope=col>size_body</th><th scope=col>size_brain</th><th scope=col>size_body_color</th><th scope=col>r</th></tr></thead>\n",
       "<tbody>\n",
       "\t<tr><td> 1.219  </td><td>3.80    </td><td>grande  </td><td>grande  </td><td>red     </td><td> 3.113  </td></tr>\n",
       "\t<tr><td>-0.734  </td><td>2.74    </td><td>pequenio</td><td>pequenio</td><td>blue    </td><td>-3.734  </td></tr>\n",
       "\t<tr><td> 0.300  </td><td>2.09    </td><td>pequenio</td><td>pequenio</td><td>blue    </td><td> 6.970  </td></tr>\n",
       "\t<tr><td> 6.142  </td><td>6.05    </td><td>grande  </td><td>grande  </td><td>red     </td><td> 0.985  </td></tr>\n",
       "\t<tr><td> 3.593  </td><td>4.78    </td><td>grande  </td><td>grande  </td><td>red     </td><td> 1.331  </td></tr>\n",
       "\t<tr><td> 3.320  </td><td>4.74    </td><td>grande  </td><td>grande  </td><td>red     </td><td> 1.429  </td></tr>\n",
       "</tbody>\n",
       "</table>\n"
      ],
      "text/latex": [
       "\\begin{tabular}{r|llllll}\n",
       " mamlog\\_body & mamlog\\_brain & size\\_body & size\\_brain & size\\_body\\_color & r\\\\\n",
       "\\hline\n",
       "\t  1.219   & 3.80     & grande   & grande   & red      &  3.113  \\\\\n",
       "\t -0.734   & 2.74     & pequenio & pequenio & blue     & -3.734  \\\\\n",
       "\t  0.300   & 2.09     & pequenio & pequenio & blue     &  6.970  \\\\\n",
       "\t  6.142   & 6.05     & grande   & grande   & red      &  0.985  \\\\\n",
       "\t  3.593   & 4.78     & grande   & grande   & red      &  1.331  \\\\\n",
       "\t  3.320   & 4.74     & grande   & grande   & red      &  1.429  \\\\\n",
       "\\end{tabular}\n"
      ],
      "text/markdown": [
       "\n",
       "| mamlog_body | mamlog_brain | size_body | size_brain | size_body_color | r |\n",
       "|---|---|---|---|---|---|\n",
       "|  1.219   | 3.80     | grande   | grande   | red      |  3.113   |\n",
       "| -0.734   | 2.74     | pequenio | pequenio | blue     | -3.734   |\n",
       "|  0.300   | 2.09     | pequenio | pequenio | blue     |  6.970   |\n",
       "|  6.142   | 6.05     | grande   | grande   | red      |  0.985   |\n",
       "|  3.593   | 4.78     | grande   | grande   | red      |  1.331   |\n",
       "|  3.320   | 4.74     | grande   | grande   | red      |  1.429   |\n",
       "\n"
      ],
      "text/plain": [
       "  mamlog_body mamlog_brain size_body size_brain size_body_color r     \n",
       "1  1.219      3.80         grande    grande     red              3.113\n",
       "2 -0.734      2.74         pequenio  pequenio   blue            -3.734\n",
       "3  0.300      2.09         pequenio  pequenio   blue             6.970\n",
       "4  6.142      6.05         grande    grande     red              0.985\n",
       "5  3.593      4.78         grande    grande     red              1.331\n",
       "6  3.320      4.74         grande    grande     red              1.429"
      ]
     },
     "metadata": {},
     "output_type": "display_data"
    }
   ],
   "source": [
    "head(log_mammals)"
   ]
  },
  {
   "cell_type": "code",
   "execution_count": 119,
   "metadata": {},
   "outputs": [],
   "source": [
    "ggLog_mammals_r<-ggplot(data=log_mammals, aes(x=log_mammals$mamlog_body, \n",
    "                                            y= log_mammals$r, color=size_body))\n"
   ]
  },
  {
   "cell_type": "code",
   "execution_count": 120,
   "metadata": {},
   "outputs": [
    {
     "data": {
      "image/png": "[encoded data removed]",
      "text/plain": [
       "plot without title"
      ]
     },
     "metadata": {},
     "output_type": "display_data"
    }
   ],
   "source": [
    "ggLog_mammals_r + geom_point()"
   ]
  },
  {
   "cell_type": "markdown",
   "metadata": {},
   "source": [
    "3) Considérese el dataset `randu` (ejecutar `?randu` para una descripción):\n",
    "\n",
    "a) Usar la función `mean` para calcular la media muestral en cada uno de los números que forman la tripleta: $x, y, z$. Asimismo usar la función `var` para calcular una matriz de varianzas y covarianzas muestral. "
   ]
  },
  {
   "cell_type": "code",
   "execution_count": 121,
   "metadata": {},
   "outputs": [
    {
     "data": {
      "text/html": [
       "<ol class=list-inline>\n",
       "\t<li>'x'</li>\n",
       "\t<li>'y'</li>\n",
       "\t<li>'z'</li>\n",
       "</ol>\n"
      ],
      "text/latex": [
       "\\begin{enumerate*}\n",
       "\\item 'x'\n",
       "\\item 'y'\n",
       "\\item 'z'\n",
       "\\end{enumerate*}\n"
      ],
      "text/markdown": [
       "1. 'x'\n",
       "2. 'y'\n",
       "3. 'z'\n",
       "\n",
       "\n"
      ],
      "text/plain": [
       "[1] \"x\" \"y\" \"z\""
      ]
     },
     "metadata": {},
     "output_type": "display_data"
    }
   ],
   "source": [
    "dfrandu<-randu\n",
    "names(dfrandu)"
   ]
  },
  {
   "cell_type": "code",
   "execution_count": 122,
   "metadata": {},
   "outputs": [
    {
     "name": "stdout",
     "output_type": "stream",
     "text": [
      "[1] \"media de x: \"\n"
     ]
    },
    {
     "data": {
      "text/html": [
       "0.526429325"
      ],
      "text/latex": [
       "0.526429325"
      ],
      "text/markdown": [
       "0.526429325"
      ],
      "text/plain": [
       "[1] 0.526"
      ]
     },
     "metadata": {},
     "output_type": "display_data"
    }
   ],
   "source": [
    "print(\"media de x: \")\n",
    "mean(dfrandu$x)"
   ]
  },
  {
   "cell_type": "code",
   "execution_count": 123,
   "metadata": {},
   "outputs": [
    {
     "name": "stdout",
     "output_type": "stream",
     "text": [
      "[1] \"media de y: \"\n"
     ]
    },
    {
     "data": {
      "text/html": [
       "0.48605309"
      ],
      "text/latex": [
       "0.48605309"
      ],
      "text/markdown": [
       "0.48605309"
      ],
      "text/plain": [
       "[1] 0.486"
      ]
     },
     "metadata": {},
     "output_type": "display_data"
    }
   ],
   "source": [
    "print(\"media de y: \")\n",
    "mean(dfrandu$y)"
   ]
  },
  {
   "cell_type": "code",
   "execution_count": 124,
   "metadata": {},
   "outputs": [
    {
     "name": "stdout",
     "output_type": "stream",
     "text": [
      "[1] \"media de z: \"\n"
     ]
    },
    {
     "data": {
      "text/html": [
       "0.4809546925"
      ],
      "text/latex": [
       "0.4809546925"
      ],
      "text/markdown": [
       "0.4809546925"
      ],
      "text/plain": [
       "[1] 0.481"
      ]
     },
     "metadata": {},
     "output_type": "display_data"
    }
   ],
   "source": [
    "print(\"media de z: \")\n",
    "mean(dfrandu$z)"
   ]
  },
  {
   "cell_type": "code",
   "execution_count": 125,
   "metadata": {},
   "outputs": [
    {
     "name": "stdout",
     "output_type": "stream",
     "text": [
      "[1] \"varianza de x: \"\n"
     ]
    },
    {
     "data": {
      "text/html": [
       "0.0812318850269317"
      ],
      "text/latex": [
       "0.0812318850269317"
      ],
      "text/markdown": [
       "0.0812318850269317"
      ],
      "text/plain": [
       "[1] 0.0812"
      ]
     },
     "metadata": {},
     "output_type": "display_data"
    }
   ],
   "source": [
    "print(\"varianza de x: \")\n",
    "var(dfrandu$x)"
   ]
  },
  {
   "cell_type": "code",
   "execution_count": 126,
   "metadata": {},
   "outputs": [
    {
     "name": "stdout",
     "output_type": "stream",
     "text": [
      "[1] \"varianza de y: \"\n"
     ]
    },
    {
     "data": {
      "text/html": [
       "0.0862702058329192"
      ],
      "text/latex": [
       "0.0862702058329192"
      ],
      "text/markdown": [
       "0.0862702058329192"
      ],
      "text/plain": [
       "[1] 0.0863"
      ]
     },
     "metadata": {},
     "output_type": "display_data"
    }
   ],
   "source": [
    "print(\"varianza de y: \")\n",
    "var(dfrandu$y)"
   ]
  },
  {
   "cell_type": "code",
   "execution_count": 127,
   "metadata": {},
   "outputs": [
    {
     "name": "stdout",
     "output_type": "stream",
     "text": [
      "[1] \"varianza de z: \"\n"
     ]
    },
    {
     "data": {
      "text/html": [
       "0.0778604331691659"
      ],
      "text/latex": [
       "0.0778604331691659"
      ],
      "text/markdown": [
       "0.0778604331691659"
      ],
      "text/plain": [
       "[1] 0.0779"
      ]
     },
     "metadata": {},
     "output_type": "display_data"
    }
   ],
   "source": [
    "print(\"varianza de z: \")\n",
    "var(dfrandu$z)"
   ]
  },
  {
   "cell_type": "code",
   "execution_count": 128,
   "metadata": {},
   "outputs": [
    {
     "data": {
      "text/html": [
       "<table>\n",
       "<thead><tr><th></th><th scope=col>x</th><th scope=col>y</th><th scope=col>z</th></tr></thead>\n",
       "<tbody>\n",
       "\t<tr><th scope=row>x</th><td> 0.08123</td><td>-0.00406</td><td> 0.00464</td></tr>\n",
       "\t<tr><th scope=row>y</th><td>-0.00406</td><td> 0.08627</td><td>-0.00515</td></tr>\n",
       "\t<tr><th scope=row>z</th><td> 0.00464</td><td>-0.00515</td><td> 0.07786</td></tr>\n",
       "</tbody>\n",
       "</table>\n"
      ],
      "text/latex": [
       "\\begin{tabular}{r|lll}\n",
       "  & x & y & z\\\\\n",
       "\\hline\n",
       "\tx &  0.08123 & -0.00406 &  0.00464\\\\\n",
       "\ty & -0.00406 &  0.08627 & -0.00515\\\\\n",
       "\tz &  0.00464 & -0.00515 &  0.07786\\\\\n",
       "\\end{tabular}\n"
      ],
      "text/markdown": [
       "\n",
       "| <!--/--> | x | y | z |\n",
       "|---|---|---|---|\n",
       "| x |  0.08123 | -0.00406 |  0.00464 |\n",
       "| y | -0.00406 |  0.08627 | -0.00515 |\n",
       "| z |  0.00464 | -0.00515 |  0.07786 |\n",
       "\n"
      ],
      "text/plain": [
       "  x        y        z       \n",
       "x  0.08123 -0.00406  0.00464\n",
       "y -0.00406  0.08627 -0.00515\n",
       "z  0.00464 -0.00515  0.07786"
      ]
     },
     "metadata": {},
     "output_type": "display_data"
    }
   ],
   "source": [
    "#Matriz de Varanzas y covarianzas:\n",
    "var(dfrandu)"
   ]
  },
  {
   "cell_type": "markdown",
   "metadata": {},
   "source": [
    "b) Queremos ver la distribución del promedio por renglón de cada observación del dataset `randu`, para esto utilizar la función de `apply` para calcular tal promedio, alternativamente usar `rowMeans`."
   ]
  },
  {
   "cell_type": "code",
   "execution_count": 129,
   "metadata": {},
   "outputs": [
    {
     "data": {
      "text/html": [
       "<dl class=dl-horizontal>\n",
       "\t<dt>1</dt>\n",
       "\t\t<dd>0.000346</dd>\n",
       "\t<dt>2</dt>\n",
       "\t\t<dd>0.244722</dd>\n",
       "\t<dt>3</dt>\n",
       "\t\t<dd>0.844799333333333</dd>\n",
       "\t<dt>4</dt>\n",
       "\t\t<dd>0.653828</dd>\n",
       "\t<dt>5</dt>\n",
       "\t\t<dd>0.546449666666667</dd>\n",
       "\t<dt>6</dt>\n",
       "\t\t<dd>0.671117</dd>\n",
       "</dl>\n"
      ],
      "text/latex": [
       "\\begin{description*}\n",
       "\\item[1] 0.000346\n",
       "\\item[2] 0.244722\n",
       "\\item[3] 0.844799333333333\n",
       "\\item[4] 0.653828\n",
       "\\item[5] 0.546449666666667\n",
       "\\item[6] 0.671117\n",
       "\\end{description*}\n"
      ],
      "text/markdown": [
       "1\n",
       ":   0.0003462\n",
       ":   0.2447223\n",
       ":   0.8447993333333334\n",
       ":   0.6538285\n",
       ":   0.5464496666666676\n",
       ":   0.671117\n",
       "\n"
      ],
      "text/plain": [
       "       1        2        3        4        5        6 \n",
       "0.000346 0.244722 0.844799 0.653828 0.546450 0.671117 "
      ]
     },
     "metadata": {},
     "output_type": "display_data"
    }
   ],
   "source": [
    "distribucion_promedio<-apply(dfrandu,MARGIN=1,FUN=mean)\n",
    "head(distribucion_promedio)"
   ]
  },
  {
   "cell_type": "markdown",
   "metadata": {},
   "source": [
    "Otr forma:"
   ]
  },
  {
   "cell_type": "code",
   "execution_count": 130,
   "metadata": {},
   "outputs": [],
   "source": [
    "distribucion_promedio2<-rowMeans(dfrandu, na.rm = FALSE, dims = 1)"
   ]
  },
  {
   "cell_type": "code",
   "execution_count": 131,
   "metadata": {},
   "outputs": [
    {
     "data": {
      "text/html": [
       "<dl class=dl-horizontal>\n",
       "\t<dt>1</dt>\n",
       "\t\t<dd>0.000346</dd>\n",
       "\t<dt>2</dt>\n",
       "\t\t<dd>0.244722</dd>\n",
       "\t<dt>3</dt>\n",
       "\t\t<dd>0.844799333333333</dd>\n",
       "\t<dt>4</dt>\n",
       "\t\t<dd>0.653828</dd>\n",
       "\t<dt>5</dt>\n",
       "\t\t<dd>0.546449666666667</dd>\n",
       "\t<dt>6</dt>\n",
       "\t\t<dd>0.671117</dd>\n",
       "</dl>\n"
      ],
      "text/latex": [
       "\\begin{description*}\n",
       "\\item[1] 0.000346\n",
       "\\item[2] 0.244722\n",
       "\\item[3] 0.844799333333333\n",
       "\\item[4] 0.653828\n",
       "\\item[5] 0.546449666666667\n",
       "\\item[6] 0.671117\n",
       "\\end{description*}\n"
      ],
      "text/markdown": [
       "1\n",
       ":   0.0003462\n",
       ":   0.2447223\n",
       ":   0.8447993333333334\n",
       ":   0.6538285\n",
       ":   0.5464496666666676\n",
       ":   0.671117\n",
       "\n"
      ],
      "text/plain": [
       "       1        2        3        4        5        6 \n",
       "0.000346 0.244722 0.844799 0.653828 0.546450 0.671117 "
      ]
     },
     "metadata": {},
     "output_type": "display_data"
    }
   ],
   "source": [
    "head(distribucion_promedio2)"
   ]
  },
  {
   "cell_type": "markdown",
   "metadata": {},
   "source": [
    "c) Utilizar la función `hist` del paquete base para calcular un histograma con los `breaks` definido por tal función. "
   ]
  },
  {
   "cell_type": "code",
   "execution_count": 132,
   "metadata": {},
   "outputs": [
    {
     "data": {
      "image/png": "[encoded data removed]",
      "text/plain": [
       "Plot with title \"Histogram of distribucion_promedio\""
      ]
     },
     "metadata": {},
     "output_type": "display_data"
    }
   ],
   "source": [
    "hist(distribucion_promedio)"
   ]
  },
  {
   "cell_type": "markdown",
   "metadata": {},
   "source": [
    "d) Calcular sus propios `breaks` y volver a graficar el histograma con `hist` y con `geom_histogram` del paquete `ggplot2`."
   ]
  },
  {
   "cell_type": "code",
   "execution_count": 133,
   "metadata": {},
   "outputs": [],
   "source": [
    "#Para log_body:\n",
    "dif <- 0.06\n",
    "width <- .1\n",
    "minimo <- min(distribucion_promedio) - dif\n",
    "maximo <- max(distribucion_promedio) + dif\n",
    "cortes_mean <- seq(minimo, maximo, by = width)"
   ]
  },
  {
   "cell_type": "code",
   "execution_count": 134,
   "metadata": {},
   "outputs": [],
   "source": [
    "distribucion_promedio3<-data.frame(distribucion_promedio)\n",
    "distribucion_promedio3$intervalo_mean <- cut(distribucion_promedio3$distribucion_promedio, breaks = cortes_mean)"
   ]
  },
  {
   "cell_type": "code",
   "execution_count": 135,
   "metadata": {},
   "outputs": [
    {
     "data": {
      "text/plain": [
       "\n",
       "(-0.0597,0.0403]    (0.0403,0.14]      (0.14,0.24]      (0.24,0.34] \n",
       "               1                5               18               44 \n",
       "     (0.34,0.44]      (0.44,0.54]      (0.54,0.64]      (0.64,0.74] \n",
       "              75               97               85               48 \n",
       "     (0.74,0.84]      (0.84,0.94] \n",
       "              19                8 "
      ]
     },
     "metadata": {},
     "output_type": "display_data"
    }
   ],
   "source": [
    "table(distribucion_promedio3$intervalo_mean)"
   ]
  },
  {
   "cell_type": "code",
   "execution_count": 136,
   "metadata": {},
   "outputs": [
    {
     "data": {
      "text/html": [
       "<table>\n",
       "<thead><tr><th scope=col>distribucion_promedio</th><th scope=col>intervalo_mean</th></tr></thead>\n",
       "<tbody>\n",
       "\t<tr><td>0.000346        </td><td>(-0.0597,0.0403]</td></tr>\n",
       "\t<tr><td>0.244722        </td><td>(0.24,0.34]     </td></tr>\n",
       "\t<tr><td>0.844799        </td><td>(0.84,0.94]     </td></tr>\n",
       "\t<tr><td>0.653828        </td><td>(0.64,0.74]     </td></tr>\n",
       "\t<tr><td>0.546450        </td><td>(0.54,0.64]     </td></tr>\n",
       "\t<tr><td>0.671117        </td><td>(0.64,0.74]     </td></tr>\n",
       "</tbody>\n",
       "</table>\n"
      ],
      "text/latex": [
       "\\begin{tabular}{r|ll}\n",
       " distribucion\\_promedio & intervalo\\_mean\\\\\n",
       "\\hline\n",
       "\t 0.000346           & (-0.0597,0.0403{]}\\\\\n",
       "\t 0.244722           & (0.24,0.34{]}     \\\\\n",
       "\t 0.844799           & (0.84,0.94{]}     \\\\\n",
       "\t 0.653828           & (0.64,0.74{]}     \\\\\n",
       "\t 0.546450           & (0.54,0.64{]}     \\\\\n",
       "\t 0.671117           & (0.64,0.74{]}     \\\\\n",
       "\\end{tabular}\n"
      ],
      "text/markdown": [
       "\n",
       "| distribucion_promedio | intervalo_mean |\n",
       "|---|---|\n",
       "| 0.000346         | (-0.0597,0.0403] |\n",
       "| 0.244722         | (0.24,0.34]      |\n",
       "| 0.844799         | (0.84,0.94]      |\n",
       "| 0.653828         | (0.64,0.74]      |\n",
       "| 0.546450         | (0.54,0.64]      |\n",
       "| 0.671117         | (0.64,0.74]      |\n",
       "\n"
      ],
      "text/plain": [
       "  distribucion_promedio intervalo_mean  \n",
       "1 0.000346              (-0.0597,0.0403]\n",
       "2 0.244722              (0.24,0.34]     \n",
       "3 0.844799              (0.84,0.94]     \n",
       "4 0.653828              (0.64,0.74]     \n",
       "5 0.546450              (0.54,0.64]     \n",
       "6 0.671117              (0.64,0.74]     "
      ]
     },
     "metadata": {},
     "output_type": "display_data"
    }
   ],
   "source": [
    "head(distribucion_promedio3)"
   ]
  },
  {
   "cell_type": "code",
   "execution_count": 137,
   "metadata": {},
   "outputs": [
    {
     "data": {
      "image/png": "[encoded data removed]",
      "text/plain": [
       "Plot with title \"Histogram of distribucion_promedio3$distribucion_promedio\""
      ]
     },
     "metadata": {},
     "output_type": "display_data"
    }
   ],
   "source": [
    "hist(distribucion_promedio3$distribucion_promedio, breaks=cortes_mean,col='steelblue')"
   ]
  },
  {
   "cell_type": "markdown",
   "metadata": {},
   "source": [
    "graficando con ggplot2:"
   ]
  },
  {
   "cell_type": "code",
   "execution_count": 138,
   "metadata": {},
   "outputs": [],
   "source": [
    "ggdistprom<-ggplot(data=distribucion_promedio3)"
   ]
  },
  {
   "cell_type": "code",
   "execution_count": 139,
   "metadata": {},
   "outputs": [
    {
     "data": {
      "image/png": "[encoded data removed]",
      "text/plain": [
       "plot without title"
      ]
     },
     "metadata": {},
     "output_type": "display_data"
    }
   ],
   "source": [
    "ggdistprom+geom_histogram(aes(x=distribucion_promedio3$distribucion_promedio),bins=17)"
   ]
  },
  {
   "cell_type": "markdown",
   "metadata": {},
   "source": [
    "e) Utilizar la función `qqnorm` para comparar los cuantiles de una distribución normal con la distribución de las medias muestrales obtenidos en el inciso b). Sólo de forma visual ¿qué se puede concluir sobre la distribución de las medias muestrales calculadas en b)? (puedes añadir una línea al gráfico con `qqline`)."
   ]
  },
  {
   "cell_type": "code",
   "execution_count": 140,
   "metadata": {},
   "outputs": [
    {
     "data": {
      "image/png": "[encoded data removed]",
      "text/plain": [
       "Plot with title \"Normal Q-Q Plot\""
      ]
     },
     "metadata": {},
     "output_type": "display_data"
    }
   ],
   "source": [
    "qqnorm(distribucion_promedio, main = \"Normal Q-Q Plot\",\n",
    "       xlab = \"Cuantiles Teóricos\", ylab = \"Cuantiles obtenidos\",\n",
    "       plot.it = TRUE)\n",
    "qqline(distribucion_promedio, datax = FALSE, distribution = qnorm)"
   ]
  },
  {
   "cell_type": "markdown",
   "metadata": {},
   "source": [
    "¿qué se puede concluir sobre la distribución de las medias muestrales calculadas en b)?"
   ]
  },
  {
   "cell_type": "markdown",
   "metadata": {},
   "source": [
    "Se puede concluir que se comportan como una normal, pues están prácticamente sobre la recta de 45 grados"
   ]
  },
  {
   "cell_type": "markdown",
   "metadata": {},
   "source": [
    "4) Realizar gráficas con el comando `qqplot` para comparar $2$ distribuciones de datos, por ejemplo:"
   ]
  },
  {
   "cell_type": "code",
   "execution_count": 141,
   "metadata": {},
   "outputs": [],
   "source": [
    "options(repr.plot.width=4, repr.plot.height=4)#esta línea sólo se ejecuta para jupyterlab con R"
   ]
  },
  {
   "cell_type": "code",
   "execution_count": 142,
   "metadata": {},
   "outputs": [
    {
     "data": {
      "image/png": "[encoded data removed]",
      "text/plain": [
       "plot without title"
      ]
     },
     "metadata": {},
     "output_type": "display_data"
    }
   ],
   "source": [
    "n<-500\n",
    "set.seed(2000)\n",
    "par(cex=0.5) #control size of labels\n",
    "datos<- qqplot(rnorm(n), rexp(n)-3, cex=.1, xlab='', ylab='')\n",
    "abline(0,1) #recta a 45 grados, sirve de apoyo para realizar comentarios"
   ]
  },
  {
   "cell_type": "markdown",
   "metadata": {},
   "source": [
    "Realizar conclusiones de sus gráficas `qqplot`. Por ejemplo, sin utilizar la información de cuáles distribuciones se han generado los datos, ni cuáles están en el eje vertical ni horizontal del gráfico anterior se puede establecer: \"en el gráfico anterior se observa que una de las distribuciones está sesgada respecto a la otra. Este tipo de gráfica es similar al de una distribución sesgada a la derecha por lo que o bien, la cola izquierda de la otra distribución está más cercana a la mediana o tiene colas ligeras\"."
   ]
  },
  {
   "cell_type": "markdown",
   "metadata": {},
   "source": [
    "QQplot son gráficas de comparación de cuantiles.<br>\n",
    "documentación de R: https://www.rdocumentation.org/packages/car/versions/3.0-3/topics/qqPlot <br>\n",
    "se va a hacer la comparación entre la normal, la exponencial, \n"
   ]
  },
  {
   "cell_type": "markdown",
   "metadata": {},
   "source": [
    "### Normal contra Exponencial en cero"
   ]
  },
  {
   "cell_type": "code",
   "execution_count": 143,
   "metadata": {},
   "outputs": [
    {
     "data": {
      "image/png": "[encoded data removed]",
      "text/plain": [
       "plot without title"
      ]
     },
     "metadata": {},
     "output_type": "display_data"
    }
   ],
   "source": [
    "n<-500\n",
    "set.seed(2000)\n",
    "par(cex=0.5) #control size of labels\n",
    "datos<- qqplot(rnorm(n), rexp(n), cex=.1, xlab='', ylab='')\n",
    "abline(0,1) #recta a 45 grados, sirve de apoyo para realizar comentarios"
   ]
  },
  {
   "cell_type": "markdown",
   "metadata": {},
   "source": [
    "parecería que los cuantiles de la normal tiende a ser tangente a los cuantiles de la exponencial centrada en el origen"
   ]
  },
  {
   "cell_type": "markdown",
   "metadata": {},
   "source": [
    "### Normal contra Exponencial desplazada una unidad"
   ]
  },
  {
   "cell_type": "code",
   "execution_count": 144,
   "metadata": {},
   "outputs": [
    {
     "data": {
      "image/png": "[encoded data removed]",
      "text/plain": [
       "plot without title"
      ]
     },
     "metadata": {},
     "output_type": "display_data"
    }
   ],
   "source": [
    "n<-500\n",
    "set.seed(2000)\n",
    "par(cex=0.5) #control size of labels\n",
    "datos<- qqplot(rnorm(n), rexp(n)-1, cex=.1, xlab='', ylab='')\n",
    "abline(0,1) #recta a 45 grados, sirve de apoyo para realizar comentarios"
   ]
  },
  {
   "cell_type": "markdown",
   "metadata": {},
   "source": [
    "si centramos la exponencial en 1, parece que los cuantiles de la exponencial se parecen un poco más a los de la nomral en un punto cercano al interval de -1 a 1"
   ]
  },
  {
   "cell_type": "markdown",
   "metadata": {},
   "source": [
    "### Normal contra uniforme"
   ]
  },
  {
   "cell_type": "code",
   "execution_count": 145,
   "metadata": {},
   "outputs": [
    {
     "data": {
      "image/png": "[encoded data removed]",
      "text/plain": [
       "plot without title"
      ]
     },
     "metadata": {},
     "output_type": "display_data"
    }
   ],
   "source": [
    "n<-500\n",
    "set.seed(2000)\n",
    "par(cex=0.5) #control size of labels\n",
    "datos<- qqplot(rnorm(n), runif(n), cex=.1, xlab='', ylab='')\n",
    "abline(0,1) #recta a 45 grados, sirve de apoyo para realizar comentarios"
   ]
  },
  {
   "cell_type": "markdown",
   "metadata": {},
   "source": [
    "Se observa bastante diferencia con la normal en cuanto a los cuantiles."
   ]
  },
  {
   "cell_type": "markdown",
   "metadata": {},
   "source": [
    "### Normal contra uniforme desplazada de la forma 2.5*runif(n)-1.2"
   ]
  },
  {
   "cell_type": "code",
   "execution_count": 146,
   "metadata": {},
   "outputs": [
    {
     "data": {
      "image/png": "[encoded data removed]",
      "text/plain": [
       "plot without title"
      ]
     },
     "metadata": {},
     "output_type": "display_data"
    }
   ],
   "source": [
    "n<-500\n",
    "set.seed(2000)\n",
    "par(cex=0.5) #control size of labels\n",
    "datos<- qqplot(rnorm(n), 2.5*runif(n)-1.2, cex=.1, xlab='', ylab='')\n",
    "abline(0,1) #recta a 45 grados, sirve de apoyo para realizar comentarios"
   ]
  },
  {
   "cell_type": "markdown",
   "metadata": {},
   "source": [
    "Esta uniforme parece tener una distribución de cuantiles muy similar a la normal en el intervalo de -1 a 1"
   ]
  },
  {
   "cell_type": "markdown",
   "metadata": {},
   "source": [
    "### Normal contra Beta desplazada una unidad"
   ]
  },
  {
   "cell_type": "code",
   "execution_count": 147,
   "metadata": {},
   "outputs": [
    {
     "data": {
      "image/png": "[encoded data removed]",
      "text/plain": [
       "plot without title"
      ]
     },
     "metadata": {},
     "output_type": "display_data"
    }
   ],
   "source": [
    "n<-500\n",
    "set.seed(2000)\n",
    "vec<-rbeta(n, shape1=.5,shape2=.5)\n",
    "vec_eval<-dbeta(vec,shape1=.5,shape2=.5)\n",
    "par(cex=0.5) #control size of labels\n",
    "datos<- qqplot(rnorm(n), rbeta(n, shape1=1,shape2=2), cex=.1, xlab='', ylab='')\n",
    "abline(0,1) #recta a 45 grados, sirve de apoyo para realizar comentarios"
   ]
  },
  {
   "cell_type": "markdown",
   "metadata": {},
   "source": [
    "Esta gráfica muestra que las distribuciones tienen cuantiles totalmente diferentes."
   ]
  },
  {
   "cell_type": "markdown",
   "metadata": {},
   "source": [
    "## Parte 2: 2_distribuciones_comunes"
   ]
  },
  {
   "cell_type": "markdown",
   "metadata": {},
   "source": [
    "## Ejemplos"
   ]
  },
  {
   "cell_type": "markdown",
   "metadata": {},
   "source": [
    "1) Si $X \\sim N(1,2)$ calcular: $P(1<X<5)$."
   ]
  },
  {
   "cell_type": "markdown",
   "metadata": {},
   "source": [
    "Nuevamente usando: $$P(1 < X < 5) = 1 - P((1 < X < 5)^c) = 1 - P( (1 < X)^c \\cup (X <5)^c)=$$"
   ]
  },
  {
   "cell_type": "markdown",
   "metadata": {},
   "source": [
    "$$1 - P( X \\leq 1 \\cup 5 \\leq X) = 1 - (P(X \\leq 1) + P( 5 \\leq X))$$"
   ]
  },
  {
   "cell_type": "code",
   "execution_count": 149,
   "metadata": {},
   "outputs": [
    {
     "data": {
      "text/html": [
       "0.477249868051821"
      ],
      "text/latex": [
       "0.477249868051821"
      ],
      "text/markdown": [
       "0.477249868051821"
      ],
      "text/plain": [
       "[1] 0.477"
      ]
     },
     "metadata": {},
     "output_type": "display_data"
    }
   ],
   "source": [
    "ext_izq <- 1\n",
    "ext_der <- 5\n",
    "media<-1\n",
    "desv_est<-2\n",
    "1-pnorm(ext_izq,media,desv_est)-pnorm(ext_der,media,desv_est, lower.tail = F)"
   ]
  },
  {
   "cell_type": "markdown",
   "metadata": {},
   "source": [
    "2) Si $X \\sim N(0,1)$ calcular: $P(Z>0), P(Z<-1), P(-1<Z<0)$"
   ]
  },
  {
   "cell_type": "markdown",
   "metadata": {},
   "source": [
    "Para el cálculo de $P(Z>0)$:"
   ]
  },
  {
   "cell_type": "code",
   "execution_count": 150,
   "metadata": {},
   "outputs": [
    {
     "data": {
      "text/html": [
       "0.5"
      ],
      "text/latex": [
       "0.5"
      ],
      "text/markdown": [
       "0.5"
      ],
      "text/plain": [
       "[1] 0.5"
      ]
     },
     "metadata": {},
     "output_type": "display_data"
    }
   ],
   "source": [
    "ext_izq<-0\n",
    "pnorm(ext_izq,lower.tail=F)"
   ]
  },
  {
   "cell_type": "markdown",
   "metadata": {},
   "source": [
    "Para el cálculo de P(Z<-1):"
   ]
  },
  {
   "cell_type": "markdown",
   "metadata": {},
   "source": [
    "Por simetría de la normal se tiene: $P(Z<-1)=P(Z>1)$"
   ]
  },
  {
   "cell_type": "code",
   "execution_count": 151,
   "metadata": {},
   "outputs": [
    {
     "data": {
      "text/html": [
       "0.158655253931457"
      ],
      "text/latex": [
       "0.158655253931457"
      ],
      "text/markdown": [
       "0.158655253931457"
      ],
      "text/plain": [
       "[1] 0.159"
      ]
     },
     "metadata": {},
     "output_type": "display_data"
    }
   ],
   "source": [
    "ext_izq<-1\n",
    "pnorm(ext_izq,lower.tail=F)"
   ]
  },
  {
   "cell_type": "markdown",
   "metadata": {},
   "source": [
    "De igual forma por simetría: $P(-1<Z<0) = P(0<Z<1)$"
   ]
  },
  {
   "cell_type": "markdown",
   "metadata": {},
   "source": [
    "Nuevamente usando: $$P(-1 < Z < 0) = 1 - P((-1 < Z < 0)^c) = 1 - P( (-1 < Z)^c \\cup (Z <0)^c)=$$"
   ]
  },
  {
   "cell_type": "markdown",
   "metadata": {},
   "source": [
    "$$1 - P( Z \\leq -1 \\cup 0 \\leq Z) = 1 - (P(Z \\leq -1) + P( 0 \\leq Z))$$"
   ]
  },
  {
   "cell_type": "markdown",
   "metadata": {},
   "source": [
    "Como es una normal Z es la estandarizada, por lo tanto:"
   ]
  },
  {
   "cell_type": "markdown",
   "metadata": {},
   "source": [
    "**Ejercicio: calcular este caso**"
   ]
  },
  {
   "cell_type": "code",
   "execution_count": 152,
   "metadata": {},
   "outputs": [
    {
     "data": {
      "text/html": [
       "0.341344746068543"
      ],
      "text/latex": [
       "0.341344746068543"
      ],
      "text/markdown": [
       "0.341344746068543"
      ],
      "text/plain": [
       "[1] 0.341"
      ]
     },
     "metadata": {},
     "output_type": "display_data"
    }
   ],
   "source": [
    "ext_izq <- -1\n",
    "ext_der <- 0\n",
    "\n",
    "1-pnorm(ext_izq)-pnorm(ext_der, lower.tail = F)"
   ]
  },
  {
   "cell_type": "markdown",
   "metadata": {},
   "source": [
    "### Ejercicios 1"
   ]
  },
  {
   "cell_type": "markdown",
   "metadata": {},
   "source": [
    "## Ejemplo"
   ]
  },
  {
   "cell_type": "code",
   "execution_count": 153,
   "metadata": {},
   "outputs": [
    {
     "name": "stdout",
     "output_type": "stream",
     "text": [
      "package 'prob' successfully unpacked and MD5 sums checked\n",
      "\n",
      "The downloaded binary packages are in\n",
      "\tC:\\Users\\Angel Rafael\\AppData\\Local\\Temp\\Rtmp4Q2Be7\\downloaded_packages\n"
     ]
    }
   ],
   "source": [
    "install.packages('prob')"
   ]
  },
  {
   "cell_type": "code",
   "execution_count": 154,
   "metadata": {},
   "outputs": [
    {
     "name": "stderr",
     "output_type": "stream",
     "text": [
      "Warning message:\n",
      "\"package 'prob' was built under R version 3.6.1\"Loading required package: combinat\n",
      "\n",
      "Attaching package: 'combinat'\n",
      "\n",
      "The following object is masked from 'package:utils':\n",
      "\n",
      "    combn\n",
      "\n",
      "Loading required package: fAsianOptions\n",
      "Warning message:\n",
      "\"package 'fAsianOptions' was built under R version 3.6.1\"Loading required package: timeDate\n",
      "Loading required package: timeSeries\n",
      "Warning message:\n",
      "\"package 'timeSeries' was built under R version 3.6.1\"Loading required package: fBasics\n",
      "Warning message:\n",
      "\"package 'fBasics' was built under R version 3.6.1\"Loading required package: fOptions\n",
      "Warning message:\n",
      "\"package 'fOptions' was built under R version 3.6.1\"\n",
      "Attaching package: 'prob'\n",
      "\n",
      "The following objects are masked from 'package:dplyr':\n",
      "\n",
      "    intersect, setdiff, union\n",
      "\n",
      "The following objects are masked from 'package:base':\n",
      "\n",
      "    intersect, setdiff, union\n",
      "\n"
     ]
    }
   ],
   "source": [
    "library(prob)"
   ]
  },
  {
   "cell_type": "markdown",
   "metadata": {},
   "source": [
    "Lanzamos **un dado** $100$ veces y hacemos un histograma con los resultados. Después tomamos **dos dados** y los lanzamos $50$ veces. **Sumamos** los números de las dos caras que aparecen en cada lanzamiento y realizamos un histograma con ellos. Tomamos ahora **tres dados** y lanzamos los tres juntos $50$ ocasiones. **Sumamos** los números de las tres caras que aparecen en cada lanzamiento y realizamos un histograma con los resultados. Las siguientes figuras muestran estos histogramas. Visualmente observamos como la **distribución de la suma de las caras tiende a ser normal**."
   ]
  },
  {
   "cell_type": "markdown",
   "metadata": {},
   "source": [
    "Caso de **un dado**"
   ]
  },
  {
   "cell_type": "code",
   "execution_count": 155,
   "metadata": {},
   "outputs": [],
   "source": [
    "set.seed(2000)\n",
    "n_sample<-100\n",
    "prob<-rep(1/6,6)\n",
    "dado <-sample(1:6,size=n_sample, replace=T,prob=prob)\n",
    "gf<-ggplot(data.frame(valores=dado),aes(x=dado))"
   ]
  },
  {
   "cell_type": "code",
   "execution_count": 156,
   "metadata": {},
   "outputs": [
    {
     "data": {
      "image/png": "[encoded data removed]",
      "text/plain": [
       "plot without title"
      ]
     },
     "metadata": {},
     "output_type": "display_data"
    }
   ],
   "source": [
    "gf + geom_histogram(bins = 10)+\n",
    "ggtitle('Un dado') +\n",
    "theme(plot.title = element_text(size=10, hjust = 0.5),\n",
    "      axis.text=element_text(size=8),\n",
    "      axis.title=element_text(size=8)) +\n",
    "xlab('')"
   ]
  },
  {
   "cell_type": "markdown",
   "metadata": {},
   "source": [
    "Caso de **dos dados**"
   ]
  },
  {
   "cell_type": "code",
   "execution_count": 157,
   "metadata": {},
   "outputs": [],
   "source": [
    "set.seed(2000)\n",
    "n_sample<-100\n",
    "prob<-c(1,2,3,4,5,6,5,4,3,2,1)/36\n",
    "suma<-2:12\n",
    "dos_dados<-sample(suma,n_sample,prob=prob,replace=T)\n",
    "gf<-ggplot(data.frame(valores=dos_dados),aes(x=dos_dados))"
   ]
  },
  {
   "cell_type": "code",
   "execution_count": 158,
   "metadata": {},
   "outputs": [
    {
     "data": {
      "image/png": "[encoded data removed]",
      "text/plain": [
       "plot without title"
      ]
     },
     "metadata": {},
     "output_type": "display_data"
    }
   ],
   "source": [
    "gf + geom_histogram(bins = 6)+\n",
    "ggtitle('Dos dados') +\n",
    "theme(plot.title = element_text(size=10, hjust = 0.5),\n",
    "      axis.text=element_text(size=8),\n",
    "      axis.title=element_text(size=8)) +\n",
    "xlab('')"
   ]
  },
  {
   "cell_type": "markdown",
   "metadata": {},
   "source": [
    "La gráfica se ve así:"
   ]
  },
  {
   "cell_type": "markdown",
   "metadata": {},
   "source": [
    "Caso de **tres dados**"
   ]
  },
  {
   "cell_type": "code",
   "execution_count": 159,
   "metadata": {},
   "outputs": [
    {
     "data": {
      "image/png": "[encoded data removed]",
      "text/plain": [
       "plot without title"
      ]
     },
     "metadata": {},
     "output_type": "display_data"
    }
   ],
   "source": [
    "gf + geom_histogram(bins = 9)+\n",
    "ggtitle('Tres dados') +\n",
    "theme(plot.title = element_text(size=10, hjust = 0.5),\n",
    "      axis.text=element_text(size=8),\n",
    "      axis.title=element_text(size=8)) +\n",
    "xlab('')"
   ]
  },
  {
   "cell_type": "markdown",
   "metadata": {},
   "source": [
    "**Ejercicio: calcular este caso utilizando set.seed(2000), sample, ggplot2**"
   ]
  },
  {
   "cell_type": "code",
   "execution_count": 160,
   "metadata": {},
   "outputs": [],
   "source": [
    "s<-rolldie(3,makespace=T)"
   ]
  },
  {
   "cell_type": "code",
   "execution_count": 161,
   "metadata": {},
   "outputs": [
    {
     "data": {
      "text/html": [
       "<table>\n",
       "<thead><tr><th scope=col>X1</th><th scope=col>X2</th><th scope=col>X3</th><th scope=col>probs</th></tr></thead>\n",
       "<tbody>\n",
       "\t<tr><td>1      </td><td>1      </td><td>1      </td><td>0.00463</td></tr>\n",
       "\t<tr><td>2      </td><td>1      </td><td>1      </td><td>0.00463</td></tr>\n",
       "\t<tr><td>3      </td><td>1      </td><td>1      </td><td>0.00463</td></tr>\n",
       "\t<tr><td>4      </td><td>1      </td><td>1      </td><td>0.00463</td></tr>\n",
       "\t<tr><td>5      </td><td>1      </td><td>1      </td><td>0.00463</td></tr>\n",
       "\t<tr><td>6      </td><td>1      </td><td>1      </td><td>0.00463</td></tr>\n",
       "</tbody>\n",
       "</table>\n"
      ],
      "text/latex": [
       "\\begin{tabular}{r|llll}\n",
       " X1 & X2 & X3 & probs\\\\\n",
       "\\hline\n",
       "\t 1       & 1       & 1       & 0.00463\\\\\n",
       "\t 2       & 1       & 1       & 0.00463\\\\\n",
       "\t 3       & 1       & 1       & 0.00463\\\\\n",
       "\t 4       & 1       & 1       & 0.00463\\\\\n",
       "\t 5       & 1       & 1       & 0.00463\\\\\n",
       "\t 6       & 1       & 1       & 0.00463\\\\\n",
       "\\end{tabular}\n"
      ],
      "text/markdown": [
       "\n",
       "| X1 | X2 | X3 | probs |\n",
       "|---|---|---|---|\n",
       "| 1       | 1       | 1       | 0.00463 |\n",
       "| 2       | 1       | 1       | 0.00463 |\n",
       "| 3       | 1       | 1       | 0.00463 |\n",
       "| 4       | 1       | 1       | 0.00463 |\n",
       "| 5       | 1       | 1       | 0.00463 |\n",
       "| 6       | 1       | 1       | 0.00463 |\n",
       "\n"
      ],
      "text/plain": [
       "  X1 X2 X3 probs  \n",
       "1 1  1  1  0.00463\n",
       "2 2  1  1  0.00463\n",
       "3 3  1  1  0.00463\n",
       "4 4  1  1  0.00463\n",
       "5 5  1  1  0.00463\n",
       "6 6  1  1  0.00463"
      ]
     },
     "metadata": {},
     "output_type": "display_data"
    }
   ],
   "source": [
    "head(s)"
   ]
  },
  {
   "cell_type": "code",
   "execution_count": 162,
   "metadata": {},
   "outputs": [],
   "source": [
    "s_3<-addrv(s,FUN=sum,name='suma')"
   ]
  },
  {
   "cell_type": "code",
   "execution_count": 163,
   "metadata": {},
   "outputs": [
    {
     "data": {
      "text/html": [
       "<table>\n",
       "<thead><tr><th scope=col>X1</th><th scope=col>X2</th><th scope=col>X3</th><th scope=col>suma</th><th scope=col>probs</th></tr></thead>\n",
       "<tbody>\n",
       "\t<tr><td>1      </td><td>1      </td><td>1      </td><td>3      </td><td>0.00463</td></tr>\n",
       "\t<tr><td>2      </td><td>1      </td><td>1      </td><td>4      </td><td>0.00463</td></tr>\n",
       "\t<tr><td>3      </td><td>1      </td><td>1      </td><td>5      </td><td>0.00463</td></tr>\n",
       "\t<tr><td>4      </td><td>1      </td><td>1      </td><td>6      </td><td>0.00463</td></tr>\n",
       "\t<tr><td>5      </td><td>1      </td><td>1      </td><td>7      </td><td>0.00463</td></tr>\n",
       "\t<tr><td>6      </td><td>1      </td><td>1      </td><td>8      </td><td>0.00463</td></tr>\n",
       "</tbody>\n",
       "</table>\n"
      ],
      "text/latex": [
       "\\begin{tabular}{r|lllll}\n",
       " X1 & X2 & X3 & suma & probs\\\\\n",
       "\\hline\n",
       "\t 1       & 1       & 1       & 3       & 0.00463\\\\\n",
       "\t 2       & 1       & 1       & 4       & 0.00463\\\\\n",
       "\t 3       & 1       & 1       & 5       & 0.00463\\\\\n",
       "\t 4       & 1       & 1       & 6       & 0.00463\\\\\n",
       "\t 5       & 1       & 1       & 7       & 0.00463\\\\\n",
       "\t 6       & 1       & 1       & 8       & 0.00463\\\\\n",
       "\\end{tabular}\n"
      ],
      "text/markdown": [
       "\n",
       "| X1 | X2 | X3 | suma | probs |\n",
       "|---|---|---|---|---|\n",
       "| 1       | 1       | 1       | 3       | 0.00463 |\n",
       "| 2       | 1       | 1       | 4       | 0.00463 |\n",
       "| 3       | 1       | 1       | 5       | 0.00463 |\n",
       "| 4       | 1       | 1       | 6       | 0.00463 |\n",
       "| 5       | 1       | 1       | 7       | 0.00463 |\n",
       "| 6       | 1       | 1       | 8       | 0.00463 |\n",
       "\n"
      ],
      "text/plain": [
       "  X1 X2 X3 suma probs  \n",
       "1 1  1  1  3    0.00463\n",
       "2 2  1  1  4    0.00463\n",
       "3 3  1  1  5    0.00463\n",
       "4 4  1  1  6    0.00463\n",
       "5 5  1  1  7    0.00463\n",
       "6 6  1  1  8    0.00463"
      ]
     },
     "metadata": {},
     "output_type": "display_data"
    }
   ],
   "source": [
    "head(s_3)"
   ]
  },
  {
   "cell_type": "code",
   "execution_count": 164,
   "metadata": {},
   "outputs": [
    {
     "data": {
      "text/html": [
       "<table>\n",
       "<thead><tr><th scope=col>suma</th><th scope=col>probs</th></tr></thead>\n",
       "<tbody>\n",
       "\t<tr><td>3      </td><td>0.00463</td></tr>\n",
       "\t<tr><td>4      </td><td>0.01389</td></tr>\n",
       "\t<tr><td>5      </td><td>0.02778</td></tr>\n",
       "\t<tr><td>6      </td><td>0.04630</td></tr>\n",
       "\t<tr><td>7      </td><td>0.06944</td></tr>\n",
       "\t<tr><td>8      </td><td>0.09722</td></tr>\n",
       "</tbody>\n",
       "</table>\n"
      ],
      "text/latex": [
       "\\begin{tabular}{r|ll}\n",
       " suma & probs\\\\\n",
       "\\hline\n",
       "\t 3       & 0.00463\\\\\n",
       "\t 4       & 0.01389\\\\\n",
       "\t 5       & 0.02778\\\\\n",
       "\t 6       & 0.04630\\\\\n",
       "\t 7       & 0.06944\\\\\n",
       "\t 8       & 0.09722\\\\\n",
       "\\end{tabular}\n"
      ],
      "text/markdown": [
       "\n",
       "| suma | probs |\n",
       "|---|---|\n",
       "| 3       | 0.00463 |\n",
       "| 4       | 0.01389 |\n",
       "| 5       | 0.02778 |\n",
       "| 6       | 0.04630 |\n",
       "| 7       | 0.06944 |\n",
       "| 8       | 0.09722 |\n",
       "\n"
      ],
      "text/plain": [
       "  suma probs  \n",
       "1 3    0.00463\n",
       "2 4    0.01389\n",
       "3 5    0.02778\n",
       "4 6    0.04630\n",
       "5 7    0.06944\n",
       "6 8    0.09722"
      ]
     },
     "metadata": {},
     "output_type": "display_data"
    }
   ],
   "source": [
    "prob_suma_3_dados<-marginal(s_3,vars='suma')\n",
    "head(prob_suma_3_dados)#extraer este vector de probabilidades y ponerlo en prob"
   ]
  },
  {
   "cell_type": "code",
   "execution_count": 165,
   "metadata": {},
   "outputs": [],
   "source": [
    "set.seed(2000)\n",
    "prob<-marginal(s_3,vars='suma')$probs\n",
    "suma<-3:18\n",
    "suma_tres_dados<-sample(suma,n_sample,prob=prob,replace=T)\n",
    "gf<-ggplot(data.frame(valores=suma_tres_dados),aes(x=suma_tres_dados))"
   ]
  },
  {
   "cell_type": "code",
   "execution_count": 166,
   "metadata": {},
   "outputs": [
    {
     "data": {
      "image/png": "[encoded data removed]",
      "text/plain": [
       "plot without title"
      ]
     },
     "metadata": {},
     "output_type": "display_data"
    }
   ],
   "source": [
    "gf + geom_histogram(bins = 9)+\n",
    "ggtitle('Suma tres dados') +\n",
    "theme(plot.title = element_text(size=10, hjust = 0.5),\n",
    "      axis.text=element_text(size=8),\n",
    "      axis.title=element_text(size=8)) +\n",
    "xlab('')"
   ]
  },
  {
   "cell_type": "markdown",
   "metadata": {},
   "source": [
    "**Promedios**"
   ]
  },
  {
   "cell_type": "markdown",
   "metadata": {},
   "source": [
    "Caso de **dos dados**"
   ]
  },
  {
   "cell_type": "code",
   "execution_count": 167,
   "metadata": {},
   "outputs": [],
   "source": [
    "set.seed(2000)\n",
    "n_sample<-100\n",
    "prob<-c(1,2,3,4,5,6,5,4,3,2,1)/36\n",
    "promedio<-(2:12)/2\n",
    "dos_dados<-sample(promedio,n_sample,prob=prob,replace=T)\n",
    "gf<-ggplot(data.frame(valores=dos_dados),aes(x=dos_dados))"
   ]
  },
  {
   "cell_type": "code",
   "execution_count": 168,
   "metadata": {},
   "outputs": [
    {
     "data": {
      "image/png": "[encoded data removed]",
      "text/plain": [
       "plot without title"
      ]
     },
     "metadata": {},
     "output_type": "display_data"
    }
   ],
   "source": [
    "gf + geom_histogram(bins = 6)+\n",
    "ggtitle('Promedio dos dados') +\n",
    "theme(plot.title = element_text(size=10, hjust = 0.5),\n",
    "      axis.text=element_text(size=8),\n",
    "      axis.title=element_text(size=8)) +\n",
    "xlab('')"
   ]
  },
  {
   "cell_type": "markdown",
   "metadata": {},
   "source": [
    "Caso de **tres dados**"
   ]
  },
  {
   "cell_type": "markdown",
   "metadata": {},
   "source": [
    "**Ejercicio: calcular este caso utilizando set.seed(2000), sample, ggplot2**"
   ]
  },
  {
   "cell_type": "code",
   "execution_count": 169,
   "metadata": {},
   "outputs": [],
   "source": [
    "s_3_prom<-rolldie(3,makespace=T)"
   ]
  },
  {
   "cell_type": "code",
   "execution_count": 170,
   "metadata": {},
   "outputs": [
    {
     "data": {
      "text/html": [
       "<table>\n",
       "<thead><tr><th scope=col>X1</th><th scope=col>X2</th><th scope=col>X3</th><th scope=col>probs</th></tr></thead>\n",
       "<tbody>\n",
       "\t<tr><td>1      </td><td>1      </td><td>1      </td><td>0.00463</td></tr>\n",
       "\t<tr><td>2      </td><td>1      </td><td>1      </td><td>0.00463</td></tr>\n",
       "\t<tr><td>3      </td><td>1      </td><td>1      </td><td>0.00463</td></tr>\n",
       "\t<tr><td>4      </td><td>1      </td><td>1      </td><td>0.00463</td></tr>\n",
       "\t<tr><td>5      </td><td>1      </td><td>1      </td><td>0.00463</td></tr>\n",
       "\t<tr><td>6      </td><td>1      </td><td>1      </td><td>0.00463</td></tr>\n",
       "</tbody>\n",
       "</table>\n"
      ],
      "text/latex": [
       "\\begin{tabular}{r|llll}\n",
       " X1 & X2 & X3 & probs\\\\\n",
       "\\hline\n",
       "\t 1       & 1       & 1       & 0.00463\\\\\n",
       "\t 2       & 1       & 1       & 0.00463\\\\\n",
       "\t 3       & 1       & 1       & 0.00463\\\\\n",
       "\t 4       & 1       & 1       & 0.00463\\\\\n",
       "\t 5       & 1       & 1       & 0.00463\\\\\n",
       "\t 6       & 1       & 1       & 0.00463\\\\\n",
       "\\end{tabular}\n"
      ],
      "text/markdown": [
       "\n",
       "| X1 | X2 | X3 | probs |\n",
       "|---|---|---|---|\n",
       "| 1       | 1       | 1       | 0.00463 |\n",
       "| 2       | 1       | 1       | 0.00463 |\n",
       "| 3       | 1       | 1       | 0.00463 |\n",
       "| 4       | 1       | 1       | 0.00463 |\n",
       "| 5       | 1       | 1       | 0.00463 |\n",
       "| 6       | 1       | 1       | 0.00463 |\n",
       "\n"
      ],
      "text/plain": [
       "  X1 X2 X3 probs  \n",
       "1 1  1  1  0.00463\n",
       "2 2  1  1  0.00463\n",
       "3 3  1  1  0.00463\n",
       "4 4  1  1  0.00463\n",
       "5 5  1  1  0.00463\n",
       "6 6  1  1  0.00463"
      ]
     },
     "metadata": {},
     "output_type": "display_data"
    }
   ],
   "source": [
    "head(s_3_prom)"
   ]
  },
  {
   "cell_type": "code",
   "execution_count": 171,
   "metadata": {},
   "outputs": [],
   "source": [
    "s_3_prom<-addrv(s_3_prom,FUN=sum,name='suma_dados')"
   ]
  },
  {
   "cell_type": "code",
   "execution_count": 172,
   "metadata": {},
   "outputs": [
    {
     "data": {
      "text/html": [
       "<table>\n",
       "<thead><tr><th scope=col>X1</th><th scope=col>X2</th><th scope=col>X3</th><th scope=col>suma_dados</th><th scope=col>probs</th></tr></thead>\n",
       "<tbody>\n",
       "\t<tr><td>1      </td><td>1      </td><td>1      </td><td>3      </td><td>0.00463</td></tr>\n",
       "\t<tr><td>2      </td><td>1      </td><td>1      </td><td>4      </td><td>0.00463</td></tr>\n",
       "\t<tr><td>3      </td><td>1      </td><td>1      </td><td>5      </td><td>0.00463</td></tr>\n",
       "\t<tr><td>4      </td><td>1      </td><td>1      </td><td>6      </td><td>0.00463</td></tr>\n",
       "\t<tr><td>5      </td><td>1      </td><td>1      </td><td>7      </td><td>0.00463</td></tr>\n",
       "\t<tr><td>6      </td><td>1      </td><td>1      </td><td>8      </td><td>0.00463</td></tr>\n",
       "</tbody>\n",
       "</table>\n"
      ],
      "text/latex": [
       "\\begin{tabular}{r|lllll}\n",
       " X1 & X2 & X3 & suma\\_dados & probs\\\\\n",
       "\\hline\n",
       "\t 1       & 1       & 1       & 3       & 0.00463\\\\\n",
       "\t 2       & 1       & 1       & 4       & 0.00463\\\\\n",
       "\t 3       & 1       & 1       & 5       & 0.00463\\\\\n",
       "\t 4       & 1       & 1       & 6       & 0.00463\\\\\n",
       "\t 5       & 1       & 1       & 7       & 0.00463\\\\\n",
       "\t 6       & 1       & 1       & 8       & 0.00463\\\\\n",
       "\\end{tabular}\n"
      ],
      "text/markdown": [
       "\n",
       "| X1 | X2 | X3 | suma_dados | probs |\n",
       "|---|---|---|---|---|\n",
       "| 1       | 1       | 1       | 3       | 0.00463 |\n",
       "| 2       | 1       | 1       | 4       | 0.00463 |\n",
       "| 3       | 1       | 1       | 5       | 0.00463 |\n",
       "| 4       | 1       | 1       | 6       | 0.00463 |\n",
       "| 5       | 1       | 1       | 7       | 0.00463 |\n",
       "| 6       | 1       | 1       | 8       | 0.00463 |\n",
       "\n"
      ],
      "text/plain": [
       "  X1 X2 X3 suma_dados probs  \n",
       "1 1  1  1  3          0.00463\n",
       "2 2  1  1  4          0.00463\n",
       "3 3  1  1  5          0.00463\n",
       "4 4  1  1  6          0.00463\n",
       "5 5  1  1  7          0.00463\n",
       "6 6  1  1  8          0.00463"
      ]
     },
     "metadata": {},
     "output_type": "display_data"
    }
   ],
   "source": [
    "head(s_3_prom)"
   ]
  },
  {
   "cell_type": "code",
   "execution_count": 173,
   "metadata": {},
   "outputs": [],
   "source": [
    "#s_3_prom<-addrv(s_3_prom,promedio=s_3_prom$suma_dados/3,name='promedio')\n",
    "s_3_prom$promedios<-s_3_prom$suma_dados/3"
   ]
  },
  {
   "cell_type": "code",
   "execution_count": 174,
   "metadata": {},
   "outputs": [
    {
     "data": {
      "text/html": [
       "<table>\n",
       "<thead><tr><th scope=col>X1</th><th scope=col>X2</th><th scope=col>X3</th><th scope=col>suma_dados</th><th scope=col>probs</th><th scope=col>promedios</th></tr></thead>\n",
       "<tbody>\n",
       "\t<tr><td>1      </td><td>1      </td><td>1      </td><td>3      </td><td>0.00463</td><td>1.00   </td></tr>\n",
       "\t<tr><td>2      </td><td>1      </td><td>1      </td><td>4      </td><td>0.00463</td><td>1.33   </td></tr>\n",
       "\t<tr><td>3      </td><td>1      </td><td>1      </td><td>5      </td><td>0.00463</td><td>1.67   </td></tr>\n",
       "\t<tr><td>4      </td><td>1      </td><td>1      </td><td>6      </td><td>0.00463</td><td>2.00   </td></tr>\n",
       "\t<tr><td>5      </td><td>1      </td><td>1      </td><td>7      </td><td>0.00463</td><td>2.33   </td></tr>\n",
       "\t<tr><td>6      </td><td>1      </td><td>1      </td><td>8      </td><td>0.00463</td><td>2.67   </td></tr>\n",
       "</tbody>\n",
       "</table>\n"
      ],
      "text/latex": [
       "\\begin{tabular}{r|llllll}\n",
       " X1 & X2 & X3 & suma\\_dados & probs & promedios\\\\\n",
       "\\hline\n",
       "\t 1       & 1       & 1       & 3       & 0.00463 & 1.00   \\\\\n",
       "\t 2       & 1       & 1       & 4       & 0.00463 & 1.33   \\\\\n",
       "\t 3       & 1       & 1       & 5       & 0.00463 & 1.67   \\\\\n",
       "\t 4       & 1       & 1       & 6       & 0.00463 & 2.00   \\\\\n",
       "\t 5       & 1       & 1       & 7       & 0.00463 & 2.33   \\\\\n",
       "\t 6       & 1       & 1       & 8       & 0.00463 & 2.67   \\\\\n",
       "\\end{tabular}\n"
      ],
      "text/markdown": [
       "\n",
       "| X1 | X2 | X3 | suma_dados | probs | promedios |\n",
       "|---|---|---|---|---|---|\n",
       "| 1       | 1       | 1       | 3       | 0.00463 | 1.00    |\n",
       "| 2       | 1       | 1       | 4       | 0.00463 | 1.33    |\n",
       "| 3       | 1       | 1       | 5       | 0.00463 | 1.67    |\n",
       "| 4       | 1       | 1       | 6       | 0.00463 | 2.00    |\n",
       "| 5       | 1       | 1       | 7       | 0.00463 | 2.33    |\n",
       "| 6       | 1       | 1       | 8       | 0.00463 | 2.67    |\n",
       "\n"
      ],
      "text/plain": [
       "  X1 X2 X3 suma_dados probs   promedios\n",
       "1 1  1  1  3          0.00463 1.00     \n",
       "2 2  1  1  4          0.00463 1.33     \n",
       "3 3  1  1  5          0.00463 1.67     \n",
       "4 4  1  1  6          0.00463 2.00     \n",
       "5 5  1  1  7          0.00463 2.33     \n",
       "6 6  1  1  8          0.00463 2.67     "
      ]
     },
     "metadata": {},
     "output_type": "display_data"
    }
   ],
   "source": [
    "head(s_3_prom)"
   ]
  },
  {
   "cell_type": "code",
   "execution_count": 175,
   "metadata": {},
   "outputs": [
    {
     "data": {
      "text/html": [
       "<table>\n",
       "<thead><tr><th scope=col>promedios</th><th scope=col>probs</th></tr></thead>\n",
       "<tbody>\n",
       "\t<tr><td>1.00   </td><td>0.00463</td></tr>\n",
       "\t<tr><td>1.33   </td><td>0.01389</td></tr>\n",
       "\t<tr><td>1.67   </td><td>0.02778</td></tr>\n",
       "\t<tr><td>2.00   </td><td>0.04630</td></tr>\n",
       "\t<tr><td>2.33   </td><td>0.06944</td></tr>\n",
       "\t<tr><td>2.67   </td><td>0.09722</td></tr>\n",
       "</tbody>\n",
       "</table>\n"
      ],
      "text/latex": [
       "\\begin{tabular}{r|ll}\n",
       " promedios & probs\\\\\n",
       "\\hline\n",
       "\t 1.00    & 0.00463\\\\\n",
       "\t 1.33    & 0.01389\\\\\n",
       "\t 1.67    & 0.02778\\\\\n",
       "\t 2.00    & 0.04630\\\\\n",
       "\t 2.33    & 0.06944\\\\\n",
       "\t 2.67    & 0.09722\\\\\n",
       "\\end{tabular}\n"
      ],
      "text/markdown": [
       "\n",
       "| promedios | probs |\n",
       "|---|---|\n",
       "| 1.00    | 0.00463 |\n",
       "| 1.33    | 0.01389 |\n",
       "| 1.67    | 0.02778 |\n",
       "| 2.00    | 0.04630 |\n",
       "| 2.33    | 0.06944 |\n",
       "| 2.67    | 0.09722 |\n",
       "\n"
      ],
      "text/plain": [
       "  promedios probs  \n",
       "1 1.00      0.00463\n",
       "2 1.33      0.01389\n",
       "3 1.67      0.02778\n",
       "4 2.00      0.04630\n",
       "5 2.33      0.06944\n",
       "6 2.67      0.09722"
      ]
     },
     "metadata": {},
     "output_type": "display_data"
    }
   ],
   "source": [
    "prob_suma_3_dados<-marginal(s_3_prom,vars='promedios')\n",
    "head(prob_suma_3_dados)#extraer este vector de probabilidades y ponerlo en prob"
   ]
  },
  {
   "cell_type": "code",
   "execution_count": 176,
   "metadata": {},
   "outputs": [],
   "source": [
    "set.seed(2000)\n",
    "prob<-marginal(s_3_prom,vars='promedios')$probs\n",
    "proms<-(3:18)/3\n",
    "suma_tres_dados<-sample(proms,n_sample,prob=prob,replace=T)\n",
    "gf<-ggplot(data.frame(valores=suma_tres_dados),aes(x=suma_tres_dados))"
   ]
  },
  {
   "cell_type": "code",
   "execution_count": 177,
   "metadata": {},
   "outputs": [
    {
     "data": {
      "image/png": "[encoded data removed]",
      "text/plain": [
       "plot without title"
      ]
     },
     "metadata": {},
     "output_type": "display_data"
    }
   ],
   "source": [
    "gf + geom_histogram(bins = 9)+\n",
    "ggtitle('Promedio tres dados') +\n",
    "theme(plot.title = element_text(size=10, hjust = 0.5),\n",
    "      axis.text=element_text(size=8),\n",
    "      axis.title=element_text(size=8)) +\n",
    "xlab('')"
   ]
  },
  {
   "cell_type": "markdown",
   "metadata": {},
   "source": [
    "La gráfica se ve así:"
   ]
  },
  {
   "cell_type": "code",
   "execution_count": 178,
   "metadata": {},
   "outputs": [
    {
     "data": {
      "image/png": "[encoded data removed]",
      "text/plain": [
       "plot without title"
      ]
     },
     "metadata": {},
     "output_type": "display_data"
    }
   ],
   "source": [
    "gf + geom_histogram(bins = 9)+\n",
    "ggtitle('Promedio tres dados') +\n",
    "theme(plot.title = element_text(size=10, hjust = 0.5),\n",
    "      axis.text=element_text(size=8),\n",
    "      axis.title=element_text(size=8)) +\n",
    "xlab('')"
   ]
  },
  {
   "cell_type": "markdown",
   "metadata": {},
   "source": [
    "Estos histogramas convergen a los de una distribución normal con media de $3.5$, igual a la de la distribución uniforme original."
   ]
  },
  {
   "cell_type": "markdown",
   "metadata": {},
   "source": [
    "# Ejercicios"
   ]
  },
  {
   "cell_type": "markdown",
   "metadata": {},
   "source": [
    "1) Supóngase que el tiempo (en minutos) que una persona espera el Metrobús los días de semana sigue una distribución uniforme dada por, $$f(x) = \\begin{cases}\n",
    "\\frac{1}{12} & \\text{si } 0 \\leq x \\leq 12,\\\\\n",
    "0 & \\text{en otro caso}\n",
    "\\end{cases}$$"
   ]
  },
  {
   "cell_type": "markdown",
   "metadata": {},
   "source": [
    "a) ¿Cuál es la probabilidad que una persona espere menos de $6$ minutos?."
   ]
  },
  {
   "cell_type": "code",
   "execution_count": 179,
   "metadata": {},
   "outputs": [],
   "source": [
    "#?dunif"
   ]
  },
  {
   "cell_type": "code",
   "execution_count": 180,
   "metadata": {},
   "outputs": [
    {
     "data": {
      "text/html": [
       "0.5"
      ],
      "text/latex": [
       "0.5"
      ],
      "text/markdown": [
       "0.5"
      ],
      "text/plain": [
       "[1] 0.5"
      ]
     },
     "metadata": {},
     "output_type": "display_data"
    }
   ],
   "source": [
    "#la distribución de probabilidad sale con punif, y queremos la probabilidad de que X=6\n",
    "punif(6, min = 0, max = 12, lower.tail = TRUE, log.p = FALSE)"
   ]
  },
  {
   "cell_type": "markdown",
   "metadata": {},
   "source": [
    "b) ¿Su tiempo medio de espera? ¿su desviación estándar?."
   ]
  },
  {
   "cell_type": "markdown",
   "metadata": {},
   "source": [
    "**Propiedades:**\n",
    "\n",
    "* $\\mu = \\displaystyle \\sum_{i=1}^ni\\frac{1}{n} = \\frac{n+1}{2}$.\n",
    "\n",
    "* $\\sigma = \\sqrt{\\displaystyle \\sum_{i=1}^n(i-\\mu)^2\\frac{1}{n}} = \\sqrt{\\frac{n^2-1}{12}}$."
   ]
  },
  {
   "cell_type": "code",
   "execution_count": 181,
   "metadata": {},
   "outputs": [
    {
     "data": {
      "text/html": [
       "6.5"
      ],
      "text/latex": [
       "6.5"
      ],
      "text/markdown": [
       "6.5"
      ],
      "text/plain": [
       "[1] 6.5"
      ]
     },
     "metadata": {},
     "output_type": "display_data"
    }
   ],
   "source": [
    "#n es = 12\n",
    "media <- (12+1)/2\n",
    "media"
   ]
  },
  {
   "cell_type": "code",
   "execution_count": 182,
   "metadata": {},
   "outputs": [
    {
     "data": {
      "text/html": [
       "3.45205252953466"
      ],
      "text/latex": [
       "3.45205252953466"
      ],
      "text/markdown": [
       "3.45205252953466"
      ],
      "text/plain": [
       "[1] 3.45"
      ]
     },
     "metadata": {},
     "output_type": "display_data"
    }
   ],
   "source": [
    "desvest_unif<-sqrt(((12^2)-1)/12)\n",
    "desvest_unif"
   ]
  },
  {
   "cell_type": "markdown",
   "metadata": {},
   "source": [
    "2) Considérese lanzamientos de una moneda no cargada. Sea $X$ la variable aleatoria que cuenta el número de águilas en $10$ lanzamientos. Calcular en *R* la probabilidad $P(X \\geq 3)$ con la función `pbinom` y `dbinom`, el número medio de águilas y su desviación estándar."
   ]
  },
  {
   "cell_type": "code",
   "execution_count": 183,
   "metadata": {},
   "outputs": [],
   "source": [
    "#pbinom y dbinom\n",
    "#?dbinom"
   ]
  },
  {
   "cell_type": "markdown",
   "metadata": {},
   "source": [
    "con dbinom:"
   ]
  },
  {
   "cell_type": "code",
   "execution_count": 184,
   "metadata": {},
   "outputs": [
    {
     "data": {
      "text/html": [
       "0.9453125"
      ],
      "text/latex": [
       "0.9453125"
      ],
      "text/markdown": [
       "0.9453125"
      ],
      "text/plain": [
       "[1] 0.945"
      ]
     },
     "metadata": {},
     "output_type": "display_data"
    }
   ],
   "source": [
    "num_lanzamientos<-10\n",
    "#vector_cuantiles va a ser el lanzamiento de una moneda (2 opciones)\n",
    "#como es moneda justa, la prob de exito es 1/2\n",
    "prob_exito<-1/2\n",
    "#dbinom:\n",
    "sum(dbinom(3:10, num_lanzamientos, prob_exito))\n",
    "#dbinom(vector_cuantiles, num_lanzamientos, prob_exito, log = FALSE)\n",
    "#x y q son vector de cuantiles, prob es la probabilidad de exito, lower tail debe ser false, size numéro de lanzamientos (en este caso, 10)\n"
   ]
  },
  {
   "cell_type": "markdown",
   "metadata": {},
   "source": [
    "con pbinom:"
   ]
  },
  {
   "cell_type": "code",
   "execution_count": 185,
   "metadata": {},
   "outputs": [
    {
     "data": {
      "text/html": [
       "0.9453125"
      ],
      "text/latex": [
       "0.9453125"
      ],
      "text/markdown": [
       "0.9453125"
      ],
      "text/plain": [
       "[1] 0.945"
      ]
     },
     "metadata": {},
     "output_type": "display_data"
    }
   ],
   "source": [
    "pbinom(2, num_lanzamientos, prob_exito, lower.tail = FALSE, log.p = FALSE)"
   ]
  },
  {
   "cell_type": "markdown",
   "metadata": {},
   "source": [
    "* La media y la desviación estándar de la distribición binomial con parámetros $n$ y $p$ están dadas por:"
   ]
  },
  {
   "cell_type": "markdown",
   "metadata": {},
   "source": [
    "$$\\mu = np.$$"
   ]
  },
  {
   "cell_type": "markdown",
   "metadata": {},
   "source": [
    "$$\\sigma = \\sqrt{np(1-p)}.$$"
   ]
  },
  {
   "cell_type": "markdown",
   "metadata": {},
   "source": [
    "Media:"
   ]
  },
  {
   "cell_type": "code",
   "execution_count": 186,
   "metadata": {},
   "outputs": [
    {
     "data": {
      "text/html": [
       "5"
      ],
      "text/latex": [
       "5"
      ],
      "text/markdown": [
       "5"
      ],
      "text/plain": [
       "[1] 5"
      ]
     },
     "metadata": {},
     "output_type": "display_data"
    }
   ],
   "source": [
    "media_binom_2<-num_lanzamientos*prob_exito\n",
    "media_binom_2"
   ]
  },
  {
   "cell_type": "markdown",
   "metadata": {},
   "source": [
    "Desviación Estándar:"
   ]
  },
  {
   "cell_type": "code",
   "execution_count": 187,
   "metadata": {},
   "outputs": [
    {
     "data": {
      "text/html": [
       "1.58113883008419"
      ],
      "text/latex": [
       "1.58113883008419"
      ],
      "text/markdown": [
       "1.58113883008419"
      ],
      "text/plain": [
       "[1] 1.58"
      ]
     },
     "metadata": {},
     "output_type": "display_data"
    }
   ],
   "source": [
    "desvest_binom_2<-sqrt((num_lanzamientos*prob_exito)*(1-prob_exito))\n",
    "desvest_binom_2"
   ]
  },
  {
   "cell_type": "markdown",
   "metadata": {},
   "source": [
    "3) Considérese una población de votantes en la ciudad de México. Se reporta que la proporción de votantes que favorecen al candidato del partido Naranja es igual a $0.40$. Dada una muestra aleatoria de $200$ votantes, ¿cuál es la probabilidad de que más de la mitad de ellos tengan intención de voto por el candidato naranja? Usar:\n",
    "\n",
    "a)`pbinom`"
   ]
  },
  {
   "cell_type": "code",
   "execution_count": 188,
   "metadata": {},
   "outputs": [
    {
     "data": {
      "text/html": [
       "0.00168478651991935"
      ],
      "text/latex": [
       "0.00168478651991935"
      ],
      "text/markdown": [
       "0.00168478651991935"
      ],
      "text/plain": [
       "[1] 0.00168"
      ]
     },
     "metadata": {},
     "output_type": "display_data"
    }
   ],
   "source": [
    "pbinom(100, 200, .40, lower.tail = FALSE, log.p = FALSE)"
   ]
  },
  {
   "cell_type": "markdown",
   "metadata": {},
   "source": [
    "b) El teorema del límite central y `pnorm` considerando lo que se conoce como corrección por continuidad: si $B$ es variable aleatoria binomial con $\\mu$ y $\\sigma$ entonces $P(B=k) = P(k-0.5<X<k+0.5)$ con $X$ variable aleatoria normal $N(\\mu,\\sigma)$ y $k$ un número entero no negativo."
   ]
  },
  {
   "cell_type": "markdown",
   "metadata": {},
   "source": [
    "##### Teorema del Límite Central:"
   ]
  },
  {
   "cell_type": "markdown",
   "metadata": {},
   "source": [
    "El hecho de que para un gran número de ensayos una distribución binomial se parezca, cada vez más a una normal, es un resultado parecido al Teorema de Bernoulli o Ley de los Grandes Números. Esencialmente es también una ley de los grandes números. La versión más general de este tipo de resultados es el llamado **Teorema del Límite Central** por el matemático ruso Aleksandr Lyapunov. En términos simples, el teorema nos dice que si tenemos **cierto número de variables aleatorias independientes con la misma distribución**, al aumentar su número, la **distribución de la suma** de sus resultados se **aproxima a una distribución normal**. Esto sucede **independientemente de cual sea la distribución original de las variables.**"
   ]
  },
  {
   "cell_type": "markdown",
   "metadata": {},
   "source": [
    "El resultado del teorema aplica si cambiamos la palabra suma por **media**. Podemos, por ejemplo, iniciar con una distribución uniforme, tomar muestras aleatorias de tamaño dos y calcular sus medias. Después procedemos con muestras de tamaño tres, cuatro y así sucesivamente aumentamos el tamaño de la muestra. La **distribución de estas medias se aproxima a una normal con la misma media de la distribución original**. **La varianza de esta distribución normal disminuye conforme aumentamos el tamaño de la muestra**."
   ]
  },
  {
   "cell_type": "code",
   "execution_count": 189,
   "metadata": {},
   "outputs": [
    {
     "data": {
      "text/html": [
       "0.00154359552099668"
      ],
      "text/latex": [
       "0.00154359552099668"
      ],
      "text/markdown": [
       "0.00154359552099668"
      ],
      "text/plain": [
       "[1] 0.00154"
      ]
     },
     "metadata": {},
     "output_type": "display_data"
    }
   ],
   "source": [
    "numero_ensayos_pnorm<-200\n",
    "prob_exito_pnorm<-0.4\n",
    "\n",
    "ext_der <- (numero_ensayos_pnorm/2)+.5\n",
    "\n",
    "\n",
    "mu<-numero_ensayos_pnorm*.4 #media de B, por que es binomial\n",
    "\n",
    "sigma<-sqrt((numero_ensayos_pnorm*prob_exito_pnorm)*(1-prob_exito_pnorm)) #desvest de B, por que es binomial\n",
    "\n",
    "pnorm(ext_der,mu,sigma,lower.tail =F)"
   ]
  },
  {
   "cell_type": "markdown",
   "metadata": {},
   "source": [
    "4) Supongamos que el ingreso anual de un imigrante mexicano en los EUA se distribuye de forma normal con una media de $\\$30,000$ y una desviación estándar de $\\$10,000$ dólares. ¿Cuál es la probabilidad de que un inmigrante mexicano gane menos de $\\$20,000$ dólares anuales?"
   ]
  },
  {
   "cell_type": "code",
   "execution_count": 190,
   "metadata": {},
   "outputs": [
    {
     "data": {
      "text/html": [
       "0.158655253931457"
      ],
      "text/latex": [
       "0.158655253931457"
      ],
      "text/markdown": [
       "0.158655253931457"
      ],
      "text/plain": [
       "[1] 0.159"
      ]
     },
     "metadata": {},
     "output_type": "display_data"
    }
   ],
   "source": [
    "media_ing_an<-30000\n",
    "desvest_ing_an<-10000\n",
    "objetivo<-20000\n",
    "mayorque<-50000\n",
    "\n",
    "#datos se distribujen normal:\n",
    "pnorm(objetivo,media_ing_an,desvest_ing_an,lower.tail =T)"
   ]
  },
  {
   "cell_type": "markdown",
   "metadata": {},
   "source": [
    "¿Cuál es la probabilidad de que su ingreso sea mayor a los $\\$50,000$ dólares anuales? (usar *R*)."
   ]
  },
  {
   "cell_type": "code",
   "execution_count": 191,
   "metadata": {},
   "outputs": [
    {
     "data": {
      "text/html": [
       "0.0227501319481792"
      ],
      "text/latex": [
       "0.0227501319481792"
      ],
      "text/markdown": [
       "0.0227501319481792"
      ],
      "text/plain": [
       "[1] 0.0228"
      ]
     },
     "metadata": {},
     "output_type": "display_data"
    }
   ],
   "source": [
    "pnorm(mayorque,media_ing_an,desvest_ing_an,lower.tail =F)"
   ]
  }
 ],
 "metadata": {
  "kernelspec": {
   "display_name": "R",
   "language": "R",
   "name": "ir"
  },
  "language_info": {
   "codemirror_mode": "r",
   "file_extension": ".r",
   "mimetype": "text/x-r-source",
   "name": "R",
   "pygments_lexer": "r",
   "version": "3.6.0"
  }
 },
 "nbformat": 4,
 "nbformat_minor": 4
}
