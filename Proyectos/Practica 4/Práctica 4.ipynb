{
 "cells": [
  {
   "cell_type": "markdown",
   "metadata": {},
   "source": [
    "# Práctica 4"
   ]
  },
  {
   "cell_type": "markdown",
   "metadata": {},
   "source": [
    "Realizar los ejercicios de las notas (en papel excepto en los ejercicios que explícitamente se mencione se hagan en computadora en la nota correspondiente):\n",
    "\n",
    "+ Propedeutico/R/clases/2_probabilidad/1_elementos_de_probabilidad.ipynb\n",
    "+ Propedeutico/R/clases/2_probabilidad/2_propiedades_de_la_probabilidad.ipynb\n",
    "+ Propedeutico/R/clases/2_probabilidad/3_metodos_de_conteo.ipynb\n",
    "+ Propedeutico/R/clases/2_probabilidad/4_probabilidad_condicional.ipynb\n",
    "+ Propedeutico/R/clases/2_probabilidad/5_independencia.ipynb\n",
    "+ Propedeutico/R/clases/2_probabilidad/6_teorema_de_Bayes.ipynb\n",
    "+ Propedeutico/R/clases/2_probabilidad/7_variables_aleatorias.ipynb\n",
    "\n",
    "Leer, ejecutar y proponer sus propios ejemplos de uso de lenguaje para los ejemplos (en computadora):\n",
    "\n",
    "+ Propedeutico/R/clases/1_introduccion/2_core_R.ipynb\n",
    "+ Propedeutico/R/clases/1_introduccion/3_ggplot2.ipynb"
   ]
  },
  {
   "cell_type": "code",
   "execution_count": 1,
   "metadata": {},
   "outputs": [],
   "source": [
    "options(repr.plot.width=4, repr.plot.height=4) #esta línea sólo se ejecuta para jupyterlab con R"
   ]
  },
  {
   "cell_type": "code",
   "execution_count": 2,
   "metadata": {},
   "outputs": [
    {
     "name": "stderr",
     "output_type": "stream",
     "text": [
      "Updating HTML index of packages in '.Library'\n",
      "Making 'packages.html' ... done\n",
      "Loading required package: combinat\n",
      "\n",
      "Attaching package: ‘combinat’\n",
      "\n",
      "The following object is masked from ‘package:utils’:\n",
      "\n",
      "    combn\n",
      "\n",
      "Loading required package: fAsianOptions\n",
      "Loading required package: timeDate\n",
      "Loading required package: timeSeries\n",
      "Loading required package: fBasics\n",
      "Loading required package: fOptions\n",
      "\n",
      "Attaching package: ‘prob’\n",
      "\n",
      "The following objects are masked from ‘package:base’:\n",
      "\n",
      "    intersect, setdiff, union\n",
      "\n"
     ]
    }
   ],
   "source": [
    "install.packages('prob')\n",
    "library(prob)"
   ]
  },
  {
   "cell_type": "markdown",
   "metadata": {},
   "source": [
    "## Parte 1: 1_elementos_de_probabilidad"
   ]
  },
  {
   "cell_type": "markdown",
   "metadata": {},
   "source": [
    "### Ejemplos"
   ]
  },
  {
   "cell_type": "markdown",
   "metadata": {},
   "source": [
    "### ¿Cómo representar en R un espacio de probabilidad?"
   ]
  },
  {
   "cell_type": "markdown",
   "metadata": {},
   "source": [
    "Una opción para responder esta pregunta es considerar un objeto, `S`, que represente los *outcomes* o resultados del experimento y un vector de probabilidades, `probs`, con entradas que correspondan a cada outcome en `S`."
   ]
  },
  {
   "cell_type": "markdown",
   "metadata": {},
   "source": [
    "Además en el paquete *prob* se tiene una función `probspace` que tiene por argumentos $x$ que es un espacio muestral de los outcomes y $probs$ es un vector del mismo tamaño que el número de outcomes en $x$."
   ]
  },
  {
   "cell_type": "markdown",
   "metadata": {},
   "source": [
    "#### 1) Lanzamiento de un dado justo"
   ]
  },
  {
   "cell_type": "code",
   "execution_count": 3,
   "metadata": {},
   "outputs": [
    {
     "data": {
      "text/html": [
       "<table>\n",
       "<caption>A data.frame: 6 × 2</caption>\n",
       "<thead>\n",
       "\t<tr><th scope=col>X1</th><th scope=col>probs</th></tr>\n",
       "\t<tr><th scope=col>&lt;int&gt;</th><th scope=col>&lt;dbl&gt;</th></tr>\n",
       "</thead>\n",
       "<tbody>\n",
       "\t<tr><td>1</td><td>0.1666667</td></tr>\n",
       "\t<tr><td>2</td><td>0.1666667</td></tr>\n",
       "\t<tr><td>3</td><td>0.1666667</td></tr>\n",
       "\t<tr><td>4</td><td>0.1666667</td></tr>\n",
       "\t<tr><td>5</td><td>0.1666667</td></tr>\n",
       "\t<tr><td>6</td><td>0.1666667</td></tr>\n",
       "</tbody>\n",
       "</table>\n"
      ],
      "text/latex": [
       "A data.frame: 6 × 2\n",
       "\\begin{tabular}{r|ll}\n",
       " X1 & probs\\\\\n",
       " <int> & <dbl>\\\\\n",
       "\\hline\n",
       "\t 1 & 0.1666667\\\\\n",
       "\t 2 & 0.1666667\\\\\n",
       "\t 3 & 0.1666667\\\\\n",
       "\t 4 & 0.1666667\\\\\n",
       "\t 5 & 0.1666667\\\\\n",
       "\t 6 & 0.1666667\\\\\n",
       "\\end{tabular}\n"
      ],
      "text/markdown": [
       "\n",
       "A data.frame: 6 × 2\n",
       "\n",
       "| X1 &lt;int&gt; | probs &lt;dbl&gt; |\n",
       "|---|---|\n",
       "| 1 | 0.1666667 |\n",
       "| 2 | 0.1666667 |\n",
       "| 3 | 0.1666667 |\n",
       "| 4 | 0.1666667 |\n",
       "| 5 | 0.1666667 |\n",
       "| 6 | 0.1666667 |\n",
       "\n"
      ],
      "text/plain": [
       "  X1 probs    \n",
       "1 1  0.1666667\n",
       "2 2  0.1666667\n",
       "3 3  0.1666667\n",
       "4 4  0.1666667\n",
       "5 5  0.1666667\n",
       "6 6  0.1666667"
      ]
     },
     "metadata": {},
     "output_type": "display_data"
    }
   ],
   "source": [
    "outcomes <- rolldie(1)\n",
    "p <- rep(1/6, times = 6)\n",
    "probspace(outcomes, probs = p)\n",
    "#y es equivalente sólo haber ejecutado: \n",
    "#probspace(1:6, probs = p) o bien probspace(1:6) o rolldie(1, makespace = TRUE)"
   ]
  },
  {
   "cell_type": "markdown",
   "metadata": {},
   "source": [
    "#### 2) Lanzamiento de una moneda cargada"
   ]
  },
  {
   "cell_type": "markdown",
   "metadata": {},
   "source": [
    "Supóngase que $P(\\{\\text{sol}\\}) = .7$ y $P(\\{\\text{águila}\\}) = .3$ entonces:"
   ]
  },
  {
   "cell_type": "code",
   "execution_count": 4,
   "metadata": {},
   "outputs": [
    {
     "data": {
      "text/html": [
       "<table>\n",
       "<caption>A data.frame: 2 × 2</caption>\n",
       "<thead>\n",
       "\t<tr><th scope=col>toss1</th><th scope=col>probs</th></tr>\n",
       "\t<tr><th scope=col>&lt;fct&gt;</th><th scope=col>&lt;dbl&gt;</th></tr>\n",
       "</thead>\n",
       "<tbody>\n",
       "\t<tr><td>H</td><td>0.7</td></tr>\n",
       "\t<tr><td>T</td><td>0.3</td></tr>\n",
       "</tbody>\n",
       "</table>\n"
      ],
      "text/latex": [
       "A data.frame: 2 × 2\n",
       "\\begin{tabular}{r|ll}\n",
       " toss1 & probs\\\\\n",
       " <fct> & <dbl>\\\\\n",
       "\\hline\n",
       "\t H & 0.7\\\\\n",
       "\t T & 0.3\\\\\n",
       "\\end{tabular}\n"
      ],
      "text/markdown": [
       "\n",
       "A data.frame: 2 × 2\n",
       "\n",
       "| toss1 &lt;fct&gt; | probs &lt;dbl&gt; |\n",
       "|---|---|\n",
       "| H | 0.7 |\n",
       "| T | 0.3 |\n",
       "\n"
      ],
      "text/plain": [
       "  toss1 probs\n",
       "1 H     0.7  \n",
       "2 T     0.3  "
      ]
     },
     "metadata": {},
     "output_type": "display_data"
    }
   ],
   "source": [
    "probspace(tosscoin(1), probs = c(0.70, 0.30))"
   ]
  },
  {
   "cell_type": "markdown",
   "metadata": {},
   "source": [
    "**Ejercicio:** ¿cómo calcular la probabilidad anterior con la función `urnsamples`?"
   ]
  },
  {
   "cell_type": "markdown",
   "metadata": {},
   "source": [
    "En el paquete *prob* se tiene la función *urnsamples* la cual tiene argumentos $x, size, replace, ordered$. El argumento $x$ representa la urna de la cual se realizará el muestreo, $size$ representa el tamaño de la muestra, $replace$ y $ordered$ son argumentos lógicos y especifican cómo se debe realizar el muestreo."
   ]
  },
  {
   "cell_type": "markdown",
   "metadata": {},
   "source": [
    "One sample space function that does NOT have a makespace option is the urnsamples() function. This was intentional. The reason is that under the varied sampling assumptions the outcomes in the respective sample spaces are NOT, in general, equally likely. It is important for the user to carefully consider the experiment to decide whether or not the outcomes are equally likely, and then use probspace() to assign the model.\n",
    "https://cran.r-project.org/web/packages/prob/vignettes/prob.pdf"
   ]
  },
  {
   "cell_type": "markdown",
   "metadata": {},
   "source": [
    "Documentación de Probspace:\n",
    "https://www.rdocumentation.org/packages/prob/versions/1.0-1/topics/probspace\n",
    "\n",
    "Documentación de Urnsamples:\n",
    "https://www.rdocumentation.org/packages/prob/versions/1.0-1/topics/urnsamples"
   ]
  },
  {
   "cell_type": "code",
   "execution_count": 5,
   "metadata": {},
   "outputs": [
    {
     "data": {
      "text/html": [
       "<table>\n",
       "<caption>A data.frame: 2 × 1</caption>\n",
       "<thead>\n",
       "\t<tr><th scope=col>out</th></tr>\n",
       "\t<tr><th scope=col>&lt;fct&gt;</th></tr>\n",
       "</thead>\n",
       "<tbody>\n",
       "\t<tr><td>Sol   </td></tr>\n",
       "\t<tr><td>Aguila</td></tr>\n",
       "</tbody>\n",
       "</table>\n"
      ],
      "text/latex": [
       "A data.frame: 2 × 1\n",
       "\\begin{tabular}{r|l}\n",
       " out\\\\\n",
       " <fct>\\\\\n",
       "\\hline\n",
       "\t Sol   \\\\\n",
       "\t Aguila\\\\\n",
       "\\end{tabular}\n"
      ],
      "text/markdown": [
       "\n",
       "A data.frame: 2 × 1\n",
       "\n",
       "| out &lt;fct&gt; |\n",
       "|---|\n",
       "| Sol    |\n",
       "| Aguila |\n",
       "\n"
      ],
      "text/plain": [
       "  out   \n",
       "1 Sol   \n",
       "2 Aguila"
      ]
     },
     "metadata": {},
     "output_type": "display_data"
    }
   ],
   "source": [
    "#inicializando la \"urna\", que serían los valores de la moneda\n",
    "x <- c('Sol', 'Aguila')\n",
    "muestra<-urnsamples(x, 1)\n",
    "muestra"
   ]
  },
  {
   "cell_type": "code",
   "execution_count": 6,
   "metadata": {},
   "outputs": [
    {
     "data": {
      "text/html": [
       "<table>\n",
       "<caption>A data.frame: 2 × 2</caption>\n",
       "<thead>\n",
       "\t<tr><th scope=col>out</th><th scope=col>probs</th></tr>\n",
       "\t<tr><th scope=col>&lt;fct&gt;</th><th scope=col>&lt;dbl&gt;</th></tr>\n",
       "</thead>\n",
       "<tbody>\n",
       "\t<tr><td>Sol   </td><td>0.7</td></tr>\n",
       "\t<tr><td>Aguila</td><td>0.3</td></tr>\n",
       "</tbody>\n",
       "</table>\n"
      ],
      "text/latex": [
       "A data.frame: 2 × 2\n",
       "\\begin{tabular}{r|ll}\n",
       " out & probs\\\\\n",
       " <fct> & <dbl>\\\\\n",
       "\\hline\n",
       "\t Sol    & 0.7\\\\\n",
       "\t Aguila & 0.3\\\\\n",
       "\\end{tabular}\n"
      ],
      "text/markdown": [
       "\n",
       "A data.frame: 2 × 2\n",
       "\n",
       "| out &lt;fct&gt; | probs &lt;dbl&gt; |\n",
       "|---|---|\n",
       "| Sol    | 0.7 |\n",
       "| Aguila | 0.3 |\n",
       "\n"
      ],
      "text/plain": [
       "  out    probs\n",
       "1 Sol    0.7  \n",
       "2 Aguila 0.3  "
      ]
     },
     "metadata": {},
     "output_type": "display_data"
    }
   ],
   "source": [
    "probspace(muestra,probs = c(0.70, 0.30))"
   ]
  },
  {
   "cell_type": "markdown",
   "metadata": {},
   "source": [
    "## Parte 1: 2_propiedades_de_la_probabilidad"
   ]
  },
  {
   "cell_type": "markdown",
   "metadata": {},
   "source": [
    "### Ejercicios (a mano)"
   ]
  },
  {
   "cell_type": "markdown",
   "metadata": {},
   "source": [
    "Calcula las siguientes probabilidades suponiendo el modelo equiprobable y experimentos justos:\n",
    "\n",
    "1) Durante 5 años el profesor X ha impartido el mismo curso. En total ha tenido 500 alumnos, de los cuales 80 se han dado de baja, 200 han reprobado y 220 han aprobado. Nos encontramos a uno de estos exalumnos. ¿Cuál es la probabilidad de que éste se haya dado de baja en el curso?\n",
    "\n",
    "2) Una moneda se lanza al aire 300 veces y se obtienen 152 águilas y 148 soles. ¿Cuál es la probabilidad de sacar un águila?\n",
    "\n",
    "3) El año pasado nacieron 1613 mujeres y 1531 hombres en la Delegación Coyoacán. Si se selecciona uno de estos bebes al azar, ¿cuál es la probabilidad de que sea niña? \n",
    "\n",
    "4) Se lanza un dado de seis caras al aire. Sean los eventos $E=${el resultado es un número par} y $F=${el resultado es un número primo}. Calcular la probabilidad de “el resultado es un número par o un número primo”.\n",
    "\n",
    "5) ¿Cuál es la probabilidad de tener exactamente dos hijos varones en una familia de tres hijos?  ¿a lo más dos hijos varones?\n",
    "\n",
    "6) Considera una baraja ¿cuál es la probabilidad de sacar un as? ¿de un corazón? ¿de un as de corazones? ¿de un as o de un corazón?\n",
    "\n",
    "7) Un sondeo de opinión entre la población adulta acerca de si se desea una nueva línea del metro nos da los siguientes resultados:\n",
    "\n",
    "\n",
    "|----|A favor|En contra|Total|\n",
    "|:---:|:---:|:---:|:---:\n",
    "|Mujeres|210|50|260|\n",
    "|Hombres|180|60|240|\n",
    "|Total|390|110|500|\n",
    "\n",
    "Sea $F$ el evento “el encuestado es mujer” y $C$ el evento “está en contra de la nueva línea del Metro”. Calcular $P(F), P(C), P(F \\cap C), P(F \\cup C)$."
   ]
  },
  {
   "cell_type": "markdown",
   "metadata": {},
   "source": [
    "## Parte 1: 3_metodos_de_conteo"
   ]
  },
  {
   "cell_type": "markdown",
   "metadata": {},
   "source": [
    "### Ejercicios (a mano)"
   ]
  },
  {
   "cell_type": "markdown",
   "metadata": {},
   "source": [
    "Resolver lo siguiente:\n",
    "\n",
    "1) Tenemos 5 ingredientes de los cuales podemos elegir para pedir nuestra pizza: peperoni, salchicha, anchoas, huitlacoche y aceitunas. ¿Cuántas pizzas distintas podemos formar?\n",
    "\n",
    "2) Para construir una computadora podemos elegir entre las opciones que están en una tienda: dos procesadores, tres sistemas operativos, cuatro tamaños distintos de memoria, 4 discos duros de distinto tamaño y 10 opciones de monitor. ¿Cuántas opciones de computadoras podemos construir?\n",
    "\n",
    "3) ¿Cuántas formas distintas se pueden construir números de tres cifras sin repetir ningún número?\n",
    "\n",
    "4) Cuatro personas ordenan diferentes bebidas en un bar. El cantinero sirve las bebidas pero por falta de atención olvida completamente quién ordenó qué. ¿Cuál es la probabilidad de que el cantinero coloque las bebidas correctamente? \n",
    "\n",
    "5) Rentas $5$ películas para ver: $3$ hoy y $2$ mañana por la noche pero tu amiga Mariana te pide prestadas $2$ películas. ¿De cuántas formas distintas puede Mariana elegir las $2$ películas?\n",
    "\n",
    "6) ¿Cuántas manos de poker contienen (exactamente) una tercia? ---> (excluye par, esto es, excluye el llamado full)"
   ]
  },
  {
   "cell_type": "markdown",
   "metadata": {},
   "source": [
    "## Parte 1: 4_probabilidad_condicional"
   ]
  },
  {
   "cell_type": "markdown",
   "metadata": {},
   "source": [
    "## Propiedades y reglas"
   ]
  },
  {
   "cell_type": "markdown",
   "metadata": {},
   "source": [
    "Las probabilidades condicionales se comportan como probabilidades sin condicionar:\n",
    "\n",
    "Para cualquier evento $E$ fijo con $P(E)>0$ se tiene:\n",
    "\n",
    "1) $P(F|E) \\geq 0$, para todos los eventos $F \\in S$.\n",
    "\n",
    "2) $P(S|E) = 1$.\n",
    "\n",
    "3) Si los eventos $F_1, F_2, F_3, \\dots $ son ajenos entonces:\n",
    "\n",
    "$P(\\displaystyle \\cup_{i=1}^n F_i | E ) =  \\sum_{i=1}^nP(F_i | E)$ para toda $n$ y aún más: $P(\\displaystyle \\cup_{i=1}^\\infty F_i| E ) = \\sum_{i=1}^\\infty P(F_i|E)$"
   ]
  },
  {
   "cell_type": "markdown",
   "metadata": {},
   "source": [
    "Y se tienen las siguientes propiedades:\n",
    "\n",
    "1)  $P(F^c | E) = 1-P(F|E)$.\n",
    "\n",
    "2) Si $F \\subset G$ entonces $P(F|E) \\leq P(G|E)$.\n",
    "\n",
    "3) $P(F \\cup G|E) = P(F|E) + P(G|E) - P(F \\cap G|E)$ \n",
    "\n",
    "4) La **regla de la multiplicación** para cualquier par de eventos $E, F$: $P(E \\cap F) = P(E|F)P(F) = P(F|E)P(E)$ y en general: $P(\\displaystyle \\cap_{i=1}^n E_i) = P(E_1)P(E_2|E_1)P(E_3|E_1 \\cap E_2) \\cdots P(E_n |\\displaystyle \\cap_{i=1}^{n-1} E_i)$"
   ]
  },
  {
   "cell_type": "markdown",
   "metadata": {},
   "source": [
    "### Ejemplos de la regla de la multiplicación"
   ]
  },
  {
   "cell_type": "markdown",
   "metadata": {},
   "source": [
    "\n",
    "1)**Problema:** calcular la probabilidad de extraer $2$ aces de una baraja.\n",
    "\n",
    "**Solución:**\n",
    "\n",
    "Si $E=${extraer un as} y $F=${extraer un as} entonces $P(E\\cap F)=P(E|F)P(F) = \\frac{3}{51} \\cdot \\frac{4}{52}  \\approx 0.00452$"
   ]
  },
  {
   "cell_type": "markdown",
   "metadata": {},
   "source": [
    "#### En R ..."
   ]
  },
  {
   "cell_type": "code",
   "execution_count": 7,
   "metadata": {},
   "outputs": [
    {
     "data": {
      "text/html": [
       "<table>\n",
       "<caption>A data.frame: 6 × 2</caption>\n",
       "<thead>\n",
       "\t<tr><th scope=col>rank</th><th scope=col>suit</th></tr>\n",
       "\t<tr><th scope=col>&lt;fct&gt;</th><th scope=col>&lt;fct&gt;</th></tr>\n",
       "</thead>\n",
       "<tbody>\n",
       "\t<tr><td>2</td><td>Club</td></tr>\n",
       "\t<tr><td>3</td><td>Club</td></tr>\n",
       "\t<tr><td>4</td><td>Club</td></tr>\n",
       "\t<tr><td>5</td><td>Club</td></tr>\n",
       "\t<tr><td>6</td><td>Club</td></tr>\n",
       "\t<tr><td>7</td><td>Club</td></tr>\n",
       "</tbody>\n",
       "</table>\n"
      ],
      "text/latex": [
       "A data.frame: 6 × 2\n",
       "\\begin{tabular}{r|ll}\n",
       " rank & suit\\\\\n",
       " <fct> & <fct>\\\\\n",
       "\\hline\n",
       "\t 2 & Club\\\\\n",
       "\t 3 & Club\\\\\n",
       "\t 4 & Club\\\\\n",
       "\t 5 & Club\\\\\n",
       "\t 6 & Club\\\\\n",
       "\t 7 & Club\\\\\n",
       "\\end{tabular}\n"
      ],
      "text/markdown": [
       "\n",
       "A data.frame: 6 × 2\n",
       "\n",
       "| rank &lt;fct&gt; | suit &lt;fct&gt; |\n",
       "|---|---|\n",
       "| 2 | Club |\n",
       "| 3 | Club |\n",
       "| 4 | Club |\n",
       "| 5 | Club |\n",
       "| 6 | Club |\n",
       "| 7 | Club |\n",
       "\n"
      ],
      "text/plain": [
       "  rank suit\n",
       "1 2    Club\n",
       "2 3    Club\n",
       "3 4    Club\n",
       "4 5    Club\n",
       "5 6    Club\n",
       "6 7    Club"
      ]
     },
     "metadata": {},
     "output_type": "display_data"
    }
   ],
   "source": [
    "L <- cards() #Es un dataframe\n",
    "head(L)"
   ]
  },
  {
   "cell_type": "code",
   "execution_count": 8,
   "metadata": {},
   "outputs": [],
   "source": [
    "M <- urnsamples(L, size = 2, replace=F, ordered = F) #extraer dos canicas\n",
    "                                                     #sin reemplazo y sin orden\n",
    "N <- probspace(M) #modelo equiprobable"
   ]
  },
  {
   "cell_type": "markdown",
   "metadata": {},
   "source": [
    "$M$ es una lista de una dimensión que contiene todas las combinaciones posibles de pares de renglones del data frame $L$. La cantidad de combinaciones de pares de renglones es $\\binom{52}{2}:$"
   ]
  },
  {
   "cell_type": "code",
   "execution_count": 9,
   "metadata": {},
   "outputs": [
    {
     "data": {
      "text/html": [
       "1"
      ],
      "text/latex": [
       "1"
      ],
      "text/markdown": [
       "1"
      ],
      "text/plain": [
       "[1] 1"
      ]
     },
     "metadata": {},
     "output_type": "display_data"
    }
   ],
   "source": [
    "NCOL(M)"
   ]
  },
  {
   "cell_type": "code",
   "execution_count": 10,
   "metadata": {},
   "outputs": [
    {
     "data": {
      "text/html": [
       "1326"
      ],
      "text/latex": [
       "1326"
      ],
      "text/markdown": [
       "1326"
      ],
      "text/plain": [
       "[1] 1326"
      ]
     },
     "metadata": {},
     "output_type": "display_data"
    }
   ],
   "source": [
    "NROW(M)"
   ]
  },
  {
   "cell_type": "code",
   "execution_count": 11,
   "metadata": {},
   "outputs": [
    {
     "data": {
      "text/html": [
       "1326"
      ],
      "text/latex": [
       "1326"
      ],
      "text/markdown": [
       "1326"
      ],
      "text/plain": [
       "[1] 1326"
      ]
     },
     "metadata": {},
     "output_type": "display_data"
    }
   ],
   "source": [
    "choose(52,2)"
   ]
  },
  {
   "cell_type": "code",
   "execution_count": 12,
   "metadata": {},
   "outputs": [
    {
     "data": {
      "text/html": [
       "<ol>\n",
       "\t<li><table>\n",
       "<caption>A data.frame: 2 × 2</caption>\n",
       "<thead>\n",
       "\t<tr><th scope=col>rank</th><th scope=col>suit</th></tr>\n",
       "\t<tr><th scope=col>&lt;fct&gt;</th><th scope=col>&lt;fct&gt;</th></tr>\n",
       "</thead>\n",
       "<tbody>\n",
       "\t<tr><td>2</td><td>Club</td></tr>\n",
       "\t<tr><td>3</td><td>Club</td></tr>\n",
       "</tbody>\n",
       "</table>\n",
       "</li>\n",
       "\t<li><table>\n",
       "<caption>A data.frame: 2 × 2</caption>\n",
       "<thead>\n",
       "\t<tr><th></th><th scope=col>rank</th><th scope=col>suit</th></tr>\n",
       "\t<tr><th></th><th scope=col>&lt;fct&gt;</th><th scope=col>&lt;fct&gt;</th></tr>\n",
       "</thead>\n",
       "<tbody>\n",
       "\t<tr><th scope=row>1</th><td>2</td><td>Club</td></tr>\n",
       "\t<tr><th scope=row>3</th><td>4</td><td>Club</td></tr>\n",
       "</tbody>\n",
       "</table>\n",
       "</li>\n",
       "\t<li><table>\n",
       "<caption>A data.frame: 2 × 2</caption>\n",
       "<thead>\n",
       "\t<tr><th></th><th scope=col>rank</th><th scope=col>suit</th></tr>\n",
       "\t<tr><th></th><th scope=col>&lt;fct&gt;</th><th scope=col>&lt;fct&gt;</th></tr>\n",
       "</thead>\n",
       "<tbody>\n",
       "\t<tr><th scope=row>1</th><td>2</td><td>Club</td></tr>\n",
       "\t<tr><th scope=row>4</th><td>5</td><td>Club</td></tr>\n",
       "</tbody>\n",
       "</table>\n",
       "</li>\n",
       "\t<li><table>\n",
       "<caption>A data.frame: 2 × 2</caption>\n",
       "<thead>\n",
       "\t<tr><th></th><th scope=col>rank</th><th scope=col>suit</th></tr>\n",
       "\t<tr><th></th><th scope=col>&lt;fct&gt;</th><th scope=col>&lt;fct&gt;</th></tr>\n",
       "</thead>\n",
       "<tbody>\n",
       "\t<tr><th scope=row>1</th><td>2</td><td>Club</td></tr>\n",
       "\t<tr><th scope=row>5</th><td>6</td><td>Club</td></tr>\n",
       "</tbody>\n",
       "</table>\n",
       "</li>\n",
       "\t<li><table>\n",
       "<caption>A data.frame: 2 × 2</caption>\n",
       "<thead>\n",
       "\t<tr><th></th><th scope=col>rank</th><th scope=col>suit</th></tr>\n",
       "\t<tr><th></th><th scope=col>&lt;fct&gt;</th><th scope=col>&lt;fct&gt;</th></tr>\n",
       "</thead>\n",
       "<tbody>\n",
       "\t<tr><th scope=row>1</th><td>2</td><td>Club</td></tr>\n",
       "\t<tr><th scope=row>6</th><td>7</td><td>Club</td></tr>\n",
       "</tbody>\n",
       "</table>\n",
       "</li>\n",
       "\t<li><table>\n",
       "<caption>A data.frame: 2 × 2</caption>\n",
       "<thead>\n",
       "\t<tr><th></th><th scope=col>rank</th><th scope=col>suit</th></tr>\n",
       "\t<tr><th></th><th scope=col>&lt;fct&gt;</th><th scope=col>&lt;fct&gt;</th></tr>\n",
       "</thead>\n",
       "<tbody>\n",
       "\t<tr><th scope=row>1</th><td>2</td><td>Club</td></tr>\n",
       "\t<tr><th scope=row>7</th><td>8</td><td>Club</td></tr>\n",
       "</tbody>\n",
       "</table>\n",
       "</li>\n",
       "</ol>\n"
      ],
      "text/latex": [
       "\\begin{enumerate}\n",
       "\\item A data.frame: 2 × 2\n",
       "\\begin{tabular}{r|ll}\n",
       " rank & suit\\\\\n",
       " <fct> & <fct>\\\\\n",
       "\\hline\n",
       "\t 2 & Club\\\\\n",
       "\t 3 & Club\\\\\n",
       "\\end{tabular}\n",
       "\n",
       "\\item A data.frame: 2 × 2\n",
       "\\begin{tabular}{r|ll}\n",
       "  & rank & suit\\\\\n",
       "  & <fct> & <fct>\\\\\n",
       "\\hline\n",
       "\t1 & 2 & Club\\\\\n",
       "\t3 & 4 & Club\\\\\n",
       "\\end{tabular}\n",
       "\n",
       "\\item A data.frame: 2 × 2\n",
       "\\begin{tabular}{r|ll}\n",
       "  & rank & suit\\\\\n",
       "  & <fct> & <fct>\\\\\n",
       "\\hline\n",
       "\t1 & 2 & Club\\\\\n",
       "\t4 & 5 & Club\\\\\n",
       "\\end{tabular}\n",
       "\n",
       "\\item A data.frame: 2 × 2\n",
       "\\begin{tabular}{r|ll}\n",
       "  & rank & suit\\\\\n",
       "  & <fct> & <fct>\\\\\n",
       "\\hline\n",
       "\t1 & 2 & Club\\\\\n",
       "\t5 & 6 & Club\\\\\n",
       "\\end{tabular}\n",
       "\n",
       "\\item A data.frame: 2 × 2\n",
       "\\begin{tabular}{r|ll}\n",
       "  & rank & suit\\\\\n",
       "  & <fct> & <fct>\\\\\n",
       "\\hline\n",
       "\t1 & 2 & Club\\\\\n",
       "\t6 & 7 & Club\\\\\n",
       "\\end{tabular}\n",
       "\n",
       "\\item A data.frame: 2 × 2\n",
       "\\begin{tabular}{r|ll}\n",
       "  & rank & suit\\\\\n",
       "  & <fct> & <fct>\\\\\n",
       "\\hline\n",
       "\t1 & 2 & Club\\\\\n",
       "\t7 & 8 & Club\\\\\n",
       "\\end{tabular}\n",
       "\n",
       "\\end{enumerate}\n"
      ],
      "text/markdown": [
       "1. \n",
       "A data.frame: 2 × 2\n",
       "\n",
       "| rank &lt;fct&gt; | suit &lt;fct&gt; |\n",
       "|---|---|\n",
       "| 2 | Club |\n",
       "| 3 | Club |\n",
       "\n",
       "\n",
       "2. \n",
       "A data.frame: 2 × 2\n",
       "\n",
       "| <!--/--> | rank &lt;fct&gt; | suit &lt;fct&gt; |\n",
       "|---|---|---|\n",
       "| 1 | 2 | Club |\n",
       "| 3 | 4 | Club |\n",
       "\n",
       "\n",
       "3. \n",
       "A data.frame: 2 × 2\n",
       "\n",
       "| <!--/--> | rank &lt;fct&gt; | suit &lt;fct&gt; |\n",
       "|---|---|---|\n",
       "| 1 | 2 | Club |\n",
       "| 4 | 5 | Club |\n",
       "\n",
       "\n",
       "4. \n",
       "A data.frame: 2 × 2\n",
       "\n",
       "| <!--/--> | rank &lt;fct&gt; | suit &lt;fct&gt; |\n",
       "|---|---|---|\n",
       "| 1 | 2 | Club |\n",
       "| 5 | 6 | Club |\n",
       "\n",
       "\n",
       "5. \n",
       "A data.frame: 2 × 2\n",
       "\n",
       "| <!--/--> | rank &lt;fct&gt; | suit &lt;fct&gt; |\n",
       "|---|---|---|\n",
       "| 1 | 2 | Club |\n",
       "| 6 | 7 | Club |\n",
       "\n",
       "\n",
       "6. \n",
       "A data.frame: 2 × 2\n",
       "\n",
       "| <!--/--> | rank &lt;fct&gt; | suit &lt;fct&gt; |\n",
       "|---|---|---|\n",
       "| 1 | 2 | Club |\n",
       "| 7 | 8 | Club |\n",
       "\n",
       "\n",
       "\n",
       "\n"
      ],
      "text/plain": [
       "[[1]]\n",
       "  rank suit\n",
       "1    2 Club\n",
       "2    3 Club\n",
       "\n",
       "[[2]]\n",
       "  rank suit\n",
       "1    2 Club\n",
       "3    4 Club\n",
       "\n",
       "[[3]]\n",
       "  rank suit\n",
       "1    2 Club\n",
       "4    5 Club\n",
       "\n",
       "[[4]]\n",
       "  rank suit\n",
       "1    2 Club\n",
       "5    6 Club\n",
       "\n",
       "[[5]]\n",
       "  rank suit\n",
       "1    2 Club\n",
       "6    7 Club\n",
       "\n",
       "[[6]]\n",
       "  rank suit\n",
       "1    2 Club\n",
       "7    8 Club\n"
      ]
     },
     "metadata": {},
     "output_type": "display_data"
    }
   ],
   "source": [
    "head(M)"
   ]
  },
  {
   "cell_type": "markdown",
   "metadata": {},
   "source": [
    "$N$ es una lista de dimensión igual a dos, se utiliza `attributes` para revisar sus `names`: "
   ]
  },
  {
   "cell_type": "code",
   "execution_count": 13,
   "metadata": {},
   "outputs": [
    {
     "name": "stdout",
     "output_type": "stream",
     "text": [
      "$names\n",
      "[1] \"outcomes\" \"probs\"   \n",
      "\n",
      "$class\n",
      "[1] \"ps\"   \"list\"\n",
      "\n"
     ]
    }
   ],
   "source": [
    "print(attributes(N))"
   ]
  },
  {
   "cell_type": "code",
   "execution_count": 14,
   "metadata": {},
   "outputs": [
    {
     "name": "stdout",
     "output_type": "stream",
     "text": [
      "[1] \"outcomes\" \"probs\"   \n"
     ]
    }
   ],
   "source": [
    "print(attributes(N)$names) #dos dimensiones"
   ]
  },
  {
   "cell_type": "markdown",
   "metadata": {},
   "source": [
    "En la primer dimensión tiene $\\binom{52}{2} = 1326$ data frames y cada data frame tiene 2 renglones:"
   ]
  },
  {
   "cell_type": "code",
   "execution_count": 15,
   "metadata": {},
   "outputs": [
    {
     "data": {
      "text/html": [
       "1326"
      ],
      "text/latex": [
       "1326"
      ],
      "text/markdown": [
       "1326"
      ],
      "text/plain": [
       "[1] 1326"
      ]
     },
     "metadata": {},
     "output_type": "display_data"
    }
   ],
   "source": [
    "length(N$outcomes)"
   ]
  },
  {
   "cell_type": "code",
   "execution_count": 16,
   "metadata": {},
   "outputs": [
    {
     "data": {
      "text/html": [
       "<ol>\n",
       "\t<li><table>\n",
       "<caption>A data.frame: 2 × 2</caption>\n",
       "<thead>\n",
       "\t<tr><th scope=col>rank</th><th scope=col>suit</th></tr>\n",
       "\t<tr><th scope=col>&lt;fct&gt;</th><th scope=col>&lt;fct&gt;</th></tr>\n",
       "</thead>\n",
       "<tbody>\n",
       "\t<tr><td>2</td><td>Club</td></tr>\n",
       "\t<tr><td>3</td><td>Club</td></tr>\n",
       "</tbody>\n",
       "</table>\n",
       "</li>\n",
       "</ol>\n"
      ],
      "text/latex": [
       "\\begin{enumerate}\n",
       "\\item A data.frame: 2 × 2\n",
       "\\begin{tabular}{r|ll}\n",
       " rank & suit\\\\\n",
       " <fct> & <fct>\\\\\n",
       "\\hline\n",
       "\t 2 & Club\\\\\n",
       "\t 3 & Club\\\\\n",
       "\\end{tabular}\n",
       "\n",
       "\\end{enumerate}\n"
      ],
      "text/markdown": [
       "1. \n",
       "A data.frame: 2 × 2\n",
       "\n",
       "| rank &lt;fct&gt; | suit &lt;fct&gt; |\n",
       "|---|---|\n",
       "| 2 | Club |\n",
       "| 3 | Club |\n",
       "\n",
       "\n",
       "\n",
       "\n"
      ],
      "text/plain": [
       "[[1]]\n",
       "  rank suit\n",
       "1    2 Club\n",
       "2    3 Club\n"
      ]
     },
     "metadata": {},
     "output_type": "display_data"
    }
   ],
   "source": [
    "N$outcomes[1]"
   ]
  },
  {
   "cell_type": "code",
   "execution_count": 17,
   "metadata": {},
   "outputs": [
    {
     "data": {
      "text/html": [
       "<ol>\n",
       "\t<li><table>\n",
       "<caption>A data.frame: 2 × 2</caption>\n",
       "<thead>\n",
       "\t<tr><th></th><th scope=col>rank</th><th scope=col>suit</th></tr>\n",
       "\t<tr><th></th><th scope=col>&lt;fct&gt;</th><th scope=col>&lt;fct&gt;</th></tr>\n",
       "</thead>\n",
       "<tbody>\n",
       "\t<tr><th scope=row>2</th><td>3</td><td>Club </td></tr>\n",
       "\t<tr><th scope=row>51</th><td>K</td><td>Spade</td></tr>\n",
       "</tbody>\n",
       "</table>\n",
       "</li>\n",
       "</ol>\n"
      ],
      "text/latex": [
       "\\begin{enumerate}\n",
       "\\item A data.frame: 2 × 2\n",
       "\\begin{tabular}{r|ll}\n",
       "  & rank & suit\\\\\n",
       "  & <fct> & <fct>\\\\\n",
       "\\hline\n",
       "\t2 & 3 & Club \\\\\n",
       "\t51 & K & Spade\\\\\n",
       "\\end{tabular}\n",
       "\n",
       "\\end{enumerate}\n"
      ],
      "text/markdown": [
       "1. \n",
       "A data.frame: 2 × 2\n",
       "\n",
       "| <!--/--> | rank &lt;fct&gt; | suit &lt;fct&gt; |\n",
       "|---|---|---|\n",
       "| 2 | 3 | Club  |\n",
       "| 51 | K | Spade |\n",
       "\n",
       "\n",
       "\n",
       "\n"
      ],
      "text/plain": [
       "[[1]]\n",
       "   rank  suit\n",
       "2     3  Club\n",
       "51    K Spade\n"
      ]
     },
     "metadata": {},
     "output_type": "display_data"
    }
   ],
   "source": [
    "N$outcomes[100]"
   ]
  },
  {
   "cell_type": "markdown",
   "metadata": {},
   "source": [
    "Cada renglón representa el par de cartas elegidas."
   ]
  },
  {
   "cell_type": "markdown",
   "metadata": {},
   "source": [
    "La segunda dimensión tiene $\\binom{52}{2} = 1326$ probabilidades:"
   ]
  },
  {
   "cell_type": "code",
   "execution_count": 18,
   "metadata": {},
   "outputs": [
    {
     "data": {
      "text/html": [
       "1326"
      ],
      "text/latex": [
       "1326"
      ],
      "text/markdown": [
       "1326"
      ],
      "text/plain": [
       "[1] 1326"
      ]
     },
     "metadata": {},
     "output_type": "display_data"
    }
   ],
   "source": [
    "length(N$probs)"
   ]
  },
  {
   "cell_type": "markdown",
   "metadata": {},
   "source": [
    "cada probabilidad igual a $\\frac{1}{\\binom{52}{2}}$ que es la probabilidad de extraer dos cartas cualesquiera."
   ]
  },
  {
   "cell_type": "code",
   "execution_count": 19,
   "metadata": {},
   "outputs": [
    {
     "data": {
      "text/html": [
       "0.000754147812971342"
      ],
      "text/latex": [
       "0.000754147812971342"
      ],
      "text/markdown": [
       "0.000754147812971342"
      ],
      "text/plain": [
       "[1] 0.0007541478"
      ]
     },
     "metadata": {},
     "output_type": "display_data"
    }
   ],
   "source": [
    "N$probs[1]"
   ]
  },
  {
   "cell_type": "code",
   "execution_count": 20,
   "metadata": {},
   "outputs": [
    {
     "data": {
      "text/html": [
       "0.000754147812971342"
      ],
      "text/latex": [
       "0.000754147812971342"
      ],
      "text/markdown": [
       "0.000754147812971342"
      ],
      "text/plain": [
       "[1] 0.0007541478"
      ]
     },
     "metadata": {},
     "output_type": "display_data"
    }
   ],
   "source": [
    "N$probs[100]"
   ]
  },
  {
   "cell_type": "code",
   "execution_count": 21,
   "metadata": {},
   "outputs": [
    {
     "data": {
      "text/html": [
       "0.000754147812971342"
      ],
      "text/latex": [
       "0.000754147812971342"
      ],
      "text/markdown": [
       "0.000754147812971342"
      ],
      "text/plain": [
       "[1] 0.0007541478"
      ]
     },
     "metadata": {},
     "output_type": "display_data"
    }
   ],
   "source": [
    "1/choose(52,2)"
   ]
  },
  {
   "cell_type": "markdown",
   "metadata": {},
   "source": [
    "Y la probabilidad deseada: $P(E\\cap F) = P(${extraer dos aces}$)$ es:"
   ]
  },
  {
   "cell_type": "code",
   "execution_count": 22,
   "metadata": {},
   "outputs": [
    {
     "data": {
      "text/html": [
       "0.00452488687782805"
      ],
      "text/latex": [
       "0.00452488687782805"
      ],
      "text/markdown": [
       "0.00452488687782805"
      ],
      "text/plain": [
       "[1] 0.004524887"
      ]
     },
     "metadata": {},
     "output_type": "display_data"
    }
   ],
   "source": [
    "Prob(N, all(rank == 'A')) #Prob asume modelo equiprobable\n",
    "                          # el evento es all(rank == 'A') y como son dos cartas extraídas, \n",
    "                          #entonces ambas deben ser iguales a A"
   ]
  },
  {
   "cell_type": "markdown",
   "metadata": {},
   "source": [
    "2) **Problema:** considérese una urna con $10$ canicas: $7$ son rojas y $3$ son verdes y se seleccionan $3$ canicas. Sea $E=${primer canica es roja}, $F=${segunda canica es roja} y $G=${tercera canica es roja}. Calcular $P(E \\cap F \\cap G)$."
   ]
  },
  {
   "cell_type": "markdown",
   "metadata": {},
   "source": [
    "**Solución:**\n",
    "\n",
    "$P(E\\cap F\\cap G) = \\frac{\\binom{7}{3}}{\\binom{10}{3}}$"
   ]
  },
  {
   "cell_type": "code",
   "execution_count": 23,
   "metadata": {},
   "outputs": [
    {
     "data": {
      "text/html": [
       "0.291666666666667"
      ],
      "text/latex": [
       "0.291666666666667"
      ],
      "text/markdown": [
       "0.291666666666667"
      ],
      "text/plain": [
       "[1] 0.2916667"
      ]
     },
     "metadata": {},
     "output_type": "display_data"
    }
   ],
   "source": [
    "choose(7,3)/choose(10,3)"
   ]
  },
  {
   "cell_type": "markdown",
   "metadata": {},
   "source": [
    "#### En R ..."
   ]
  },
  {
   "cell_type": "code",
   "execution_count": 24,
   "metadata": {},
   "outputs": [
    {
     "name": "stdout",
     "output_type": "stream",
     "text": [
      " [1] \"red\"   \"red\"   \"red\"   \"red\"   \"red\"   \"red\"   \"red\"   \"green\" \"green\"\n",
      "[10] \"green\"\n"
     ]
    }
   ],
   "source": [
    "L <- rep(c(\"red\",\"green\"), times = c(7,3)) #urna, es un vector\n",
    "print(L)"
   ]
  },
  {
   "cell_type": "code",
   "execution_count": 25,
   "metadata": {},
   "outputs": [],
   "source": [
    "M <- urnsamples(L, size = 3, replace = FALSE, ordered = TRUE) #data frame, espacio de resultados"
   ]
  },
  {
   "cell_type": "code",
   "execution_count": 26,
   "metadata": {},
   "outputs": [
    {
     "data": {
      "text/html": [
       "720"
      ],
      "text/latex": [
       "720"
      ],
      "text/markdown": [
       "720"
      ],
      "text/plain": [
       "[1] 720"
      ]
     },
     "metadata": {},
     "output_type": "display_data"
    }
   ],
   "source": [
    "NROW(M)"
   ]
  },
  {
   "cell_type": "code",
   "execution_count": 27,
   "metadata": {},
   "outputs": [
    {
     "data": {
      "text/html": [
       "3"
      ],
      "text/latex": [
       "3"
      ],
      "text/markdown": [
       "3"
      ],
      "text/plain": [
       "[1] 3"
      ]
     },
     "metadata": {},
     "output_type": "display_data"
    }
   ],
   "source": [
    "NCOL(M)"
   ]
  },
  {
   "cell_type": "code",
   "execution_count": 28,
   "metadata": {},
   "outputs": [
    {
     "data": {
      "text/html": [
       "<table>\n",
       "<caption>A data.frame: 6 × 3</caption>\n",
       "<thead>\n",
       "\t<tr><th></th><th scope=col>X1</th><th scope=col>X2</th><th scope=col>X3</th></tr>\n",
       "\t<tr><th></th><th scope=col>&lt;fct&gt;</th><th scope=col>&lt;fct&gt;</th><th scope=col>&lt;fct&gt;</th></tr>\n",
       "</thead>\n",
       "<tbody>\n",
       "\t<tr><th scope=row>35</th><td>red  </td><td>green</td><td>red  </td></tr>\n",
       "\t<tr><th scope=row>36</th><td>red  </td><td>red  </td><td>green</td></tr>\n",
       "\t<tr><th scope=row>37</th><td>red  </td><td>red  </td><td>green</td></tr>\n",
       "\t<tr><th scope=row>38</th><td>red  </td><td>green</td><td>red  </td></tr>\n",
       "\t<tr><th scope=row>39</th><td>green</td><td>red  </td><td>red  </td></tr>\n",
       "\t<tr><th scope=row>40</th><td>green</td><td>red  </td><td>red  </td></tr>\n",
       "</tbody>\n",
       "</table>\n"
      ],
      "text/latex": [
       "A data.frame: 6 × 3\n",
       "\\begin{tabular}{r|lll}\n",
       "  & X1 & X2 & X3\\\\\n",
       "  & <fct> & <fct> & <fct>\\\\\n",
       "\\hline\n",
       "\t35 & red   & green & red  \\\\\n",
       "\t36 & red   & red   & green\\\\\n",
       "\t37 & red   & red   & green\\\\\n",
       "\t38 & red   & green & red  \\\\\n",
       "\t39 & green & red   & red  \\\\\n",
       "\t40 & green & red   & red  \\\\\n",
       "\\end{tabular}\n"
      ],
      "text/markdown": [
       "\n",
       "A data.frame: 6 × 3\n",
       "\n",
       "| <!--/--> | X1 &lt;fct&gt; | X2 &lt;fct&gt; | X3 &lt;fct&gt; |\n",
       "|---|---|---|---|\n",
       "| 35 | red   | green | red   |\n",
       "| 36 | red   | red   | green |\n",
       "| 37 | red   | red   | green |\n",
       "| 38 | red   | green | red   |\n",
       "| 39 | green | red   | red   |\n",
       "| 40 | green | red   | red   |\n",
       "\n"
      ],
      "text/plain": [
       "   X1    X2    X3   \n",
       "35 red   green red  \n",
       "36 red   red   green\n",
       "37 red   red   green\n",
       "38 red   green red  \n",
       "39 green red   red  \n",
       "40 green red   red  "
      ]
     },
     "metadata": {},
     "output_type": "display_data"
    }
   ],
   "source": [
    "M[35:40,]"
   ]
  },
  {
   "cell_type": "code",
   "execution_count": 29,
   "metadata": {},
   "outputs": [],
   "source": [
    "N <- probspace(M) #a cada renglón de M (outcomes) se le asocia un vector de probabilidades\n",
    "                  #con lo que se tiene un data frame: N, que es un espacio de probabilidad\n",
    "                  #probspace usa modelo equiprobable"
   ]
  },
  {
   "cell_type": "code",
   "execution_count": 30,
   "metadata": {},
   "outputs": [
    {
     "data": {
      "text/html": [
       "720"
      ],
      "text/latex": [
       "720"
      ],
      "text/markdown": [
       "720"
      ],
      "text/plain": [
       "[1] 720"
      ]
     },
     "metadata": {},
     "output_type": "display_data"
    }
   ],
   "source": [
    "NROW(N)"
   ]
  },
  {
   "cell_type": "code",
   "execution_count": 31,
   "metadata": {},
   "outputs": [
    {
     "data": {
      "text/html": [
       "4"
      ],
      "text/latex": [
       "4"
      ],
      "text/markdown": [
       "4"
      ],
      "text/plain": [
       "[1] 4"
      ]
     },
     "metadata": {},
     "output_type": "display_data"
    }
   ],
   "source": [
    "NCOL(N)"
   ]
  },
  {
   "cell_type": "code",
   "execution_count": 32,
   "metadata": {},
   "outputs": [
    {
     "data": {
      "text/html": [
       "<table>\n",
       "<caption>A data.frame: 720 × 4</caption>\n",
       "<thead>\n",
       "\t<tr><th scope=col>X1</th><th scope=col>X2</th><th scope=col>X3</th><th scope=col>probs</th></tr>\n",
       "\t<tr><th scope=col>&lt;fct&gt;</th><th scope=col>&lt;fct&gt;</th><th scope=col>&lt;fct&gt;</th><th scope=col>&lt;dbl&gt;</th></tr>\n",
       "</thead>\n",
       "<tbody>\n",
       "\t<tr><td>red</td><td>red</td><td>red</td><td>0.001388889</td></tr>\n",
       "\t<tr><td>red</td><td>red</td><td>red</td><td>0.001388889</td></tr>\n",
       "\t<tr><td>red</td><td>red</td><td>red</td><td>0.001388889</td></tr>\n",
       "\t<tr><td>red</td><td>red</td><td>red</td><td>0.001388889</td></tr>\n",
       "\t<tr><td>red</td><td>red</td><td>red</td><td>0.001388889</td></tr>\n",
       "\t<tr><td>red</td><td>red</td><td>red</td><td>0.001388889</td></tr>\n",
       "\t<tr><td>red</td><td>red</td><td>red</td><td>0.001388889</td></tr>\n",
       "\t<tr><td>red</td><td>red</td><td>red</td><td>0.001388889</td></tr>\n",
       "\t<tr><td>red</td><td>red</td><td>red</td><td>0.001388889</td></tr>\n",
       "\t<tr><td>red</td><td>red</td><td>red</td><td>0.001388889</td></tr>\n",
       "\t<tr><td>red</td><td>red</td><td>red</td><td>0.001388889</td></tr>\n",
       "\t<tr><td>red</td><td>red</td><td>red</td><td>0.001388889</td></tr>\n",
       "\t<tr><td>red</td><td>red</td><td>red</td><td>0.001388889</td></tr>\n",
       "\t<tr><td>red</td><td>red</td><td>red</td><td>0.001388889</td></tr>\n",
       "\t<tr><td>red</td><td>red</td><td>red</td><td>0.001388889</td></tr>\n",
       "\t<tr><td>red</td><td>red</td><td>red</td><td>0.001388889</td></tr>\n",
       "\t<tr><td>red</td><td>red</td><td>red</td><td>0.001388889</td></tr>\n",
       "\t<tr><td>red</td><td>red</td><td>red</td><td>0.001388889</td></tr>\n",
       "\t<tr><td>red</td><td>red</td><td>red</td><td>0.001388889</td></tr>\n",
       "\t<tr><td>red</td><td>red</td><td>red</td><td>0.001388889</td></tr>\n",
       "\t<tr><td>red</td><td>red</td><td>red</td><td>0.001388889</td></tr>\n",
       "\t<tr><td>red</td><td>red</td><td>red</td><td>0.001388889</td></tr>\n",
       "\t<tr><td>red</td><td>red</td><td>red</td><td>0.001388889</td></tr>\n",
       "\t<tr><td>red</td><td>red</td><td>red</td><td>0.001388889</td></tr>\n",
       "\t<tr><td>red</td><td>red</td><td>red</td><td>0.001388889</td></tr>\n",
       "\t<tr><td>red</td><td>red</td><td>red</td><td>0.001388889</td></tr>\n",
       "\t<tr><td>red</td><td>red</td><td>red</td><td>0.001388889</td></tr>\n",
       "\t<tr><td>red</td><td>red</td><td>red</td><td>0.001388889</td></tr>\n",
       "\t<tr><td>red</td><td>red</td><td>red</td><td>0.001388889</td></tr>\n",
       "\t<tr><td>red</td><td>red</td><td>red</td><td>0.001388889</td></tr>\n",
       "\t<tr><td>⋮</td><td>⋮</td><td>⋮</td><td>⋮</td></tr>\n",
       "\t<tr><td>red  </td><td>green</td><td>green</td><td>0.001388889</td></tr>\n",
       "\t<tr><td>red  </td><td>green</td><td>green</td><td>0.001388889</td></tr>\n",
       "\t<tr><td>green</td><td>red  </td><td>green</td><td>0.001388889</td></tr>\n",
       "\t<tr><td>green</td><td>green</td><td>red  </td><td>0.001388889</td></tr>\n",
       "\t<tr><td>green</td><td>green</td><td>red  </td><td>0.001388889</td></tr>\n",
       "\t<tr><td>green</td><td>red  </td><td>green</td><td>0.001388889</td></tr>\n",
       "\t<tr><td>red  </td><td>green</td><td>green</td><td>0.001388889</td></tr>\n",
       "\t<tr><td>red  </td><td>green</td><td>green</td><td>0.001388889</td></tr>\n",
       "\t<tr><td>green</td><td>red  </td><td>green</td><td>0.001388889</td></tr>\n",
       "\t<tr><td>green</td><td>green</td><td>red  </td><td>0.001388889</td></tr>\n",
       "\t<tr><td>green</td><td>green</td><td>red  </td><td>0.001388889</td></tr>\n",
       "\t<tr><td>green</td><td>red  </td><td>green</td><td>0.001388889</td></tr>\n",
       "\t<tr><td>red  </td><td>green</td><td>green</td><td>0.001388889</td></tr>\n",
       "\t<tr><td>red  </td><td>green</td><td>green</td><td>0.001388889</td></tr>\n",
       "\t<tr><td>green</td><td>red  </td><td>green</td><td>0.001388889</td></tr>\n",
       "\t<tr><td>green</td><td>green</td><td>red  </td><td>0.001388889</td></tr>\n",
       "\t<tr><td>green</td><td>green</td><td>red  </td><td>0.001388889</td></tr>\n",
       "\t<tr><td>green</td><td>red  </td><td>green</td><td>0.001388889</td></tr>\n",
       "\t<tr><td>red  </td><td>green</td><td>green</td><td>0.001388889</td></tr>\n",
       "\t<tr><td>red  </td><td>green</td><td>green</td><td>0.001388889</td></tr>\n",
       "\t<tr><td>green</td><td>red  </td><td>green</td><td>0.001388889</td></tr>\n",
       "\t<tr><td>green</td><td>green</td><td>red  </td><td>0.001388889</td></tr>\n",
       "\t<tr><td>green</td><td>green</td><td>red  </td><td>0.001388889</td></tr>\n",
       "\t<tr><td>green</td><td>red  </td><td>green</td><td>0.001388889</td></tr>\n",
       "\t<tr><td>green</td><td>green</td><td>green</td><td>0.001388889</td></tr>\n",
       "\t<tr><td>green</td><td>green</td><td>green</td><td>0.001388889</td></tr>\n",
       "\t<tr><td>green</td><td>green</td><td>green</td><td>0.001388889</td></tr>\n",
       "\t<tr><td>green</td><td>green</td><td>green</td><td>0.001388889</td></tr>\n",
       "\t<tr><td>green</td><td>green</td><td>green</td><td>0.001388889</td></tr>\n",
       "\t<tr><td>green</td><td>green</td><td>green</td><td>0.001388889</td></tr>\n",
       "</tbody>\n",
       "</table>\n"
      ],
      "text/latex": [
       "A data.frame: 720 × 4\n",
       "\\begin{tabular}{r|llll}\n",
       " X1 & X2 & X3 & probs\\\\\n",
       " <fct> & <fct> & <fct> & <dbl>\\\\\n",
       "\\hline\n",
       "\t red & red & red & 0.001388889\\\\\n",
       "\t red & red & red & 0.001388889\\\\\n",
       "\t red & red & red & 0.001388889\\\\\n",
       "\t red & red & red & 0.001388889\\\\\n",
       "\t red & red & red & 0.001388889\\\\\n",
       "\t red & red & red & 0.001388889\\\\\n",
       "\t red & red & red & 0.001388889\\\\\n",
       "\t red & red & red & 0.001388889\\\\\n",
       "\t red & red & red & 0.001388889\\\\\n",
       "\t red & red & red & 0.001388889\\\\\n",
       "\t red & red & red & 0.001388889\\\\\n",
       "\t red & red & red & 0.001388889\\\\\n",
       "\t red & red & red & 0.001388889\\\\\n",
       "\t red & red & red & 0.001388889\\\\\n",
       "\t red & red & red & 0.001388889\\\\\n",
       "\t red & red & red & 0.001388889\\\\\n",
       "\t red & red & red & 0.001388889\\\\\n",
       "\t red & red & red & 0.001388889\\\\\n",
       "\t red & red & red & 0.001388889\\\\\n",
       "\t red & red & red & 0.001388889\\\\\n",
       "\t red & red & red & 0.001388889\\\\\n",
       "\t red & red & red & 0.001388889\\\\\n",
       "\t red & red & red & 0.001388889\\\\\n",
       "\t red & red & red & 0.001388889\\\\\n",
       "\t red & red & red & 0.001388889\\\\\n",
       "\t red & red & red & 0.001388889\\\\\n",
       "\t red & red & red & 0.001388889\\\\\n",
       "\t red & red & red & 0.001388889\\\\\n",
       "\t red & red & red & 0.001388889\\\\\n",
       "\t red & red & red & 0.001388889\\\\\n",
       "\t ⋮ & ⋮ & ⋮ & ⋮\\\\\n",
       "\t red   & green & green & 0.001388889\\\\\n",
       "\t red   & green & green & 0.001388889\\\\\n",
       "\t green & red   & green & 0.001388889\\\\\n",
       "\t green & green & red   & 0.001388889\\\\\n",
       "\t green & green & red   & 0.001388889\\\\\n",
       "\t green & red   & green & 0.001388889\\\\\n",
       "\t red   & green & green & 0.001388889\\\\\n",
       "\t red   & green & green & 0.001388889\\\\\n",
       "\t green & red   & green & 0.001388889\\\\\n",
       "\t green & green & red   & 0.001388889\\\\\n",
       "\t green & green & red   & 0.001388889\\\\\n",
       "\t green & red   & green & 0.001388889\\\\\n",
       "\t red   & green & green & 0.001388889\\\\\n",
       "\t red   & green & green & 0.001388889\\\\\n",
       "\t green & red   & green & 0.001388889\\\\\n",
       "\t green & green & red   & 0.001388889\\\\\n",
       "\t green & green & red   & 0.001388889\\\\\n",
       "\t green & red   & green & 0.001388889\\\\\n",
       "\t red   & green & green & 0.001388889\\\\\n",
       "\t red   & green & green & 0.001388889\\\\\n",
       "\t green & red   & green & 0.001388889\\\\\n",
       "\t green & green & red   & 0.001388889\\\\\n",
       "\t green & green & red   & 0.001388889\\\\\n",
       "\t green & red   & green & 0.001388889\\\\\n",
       "\t green & green & green & 0.001388889\\\\\n",
       "\t green & green & green & 0.001388889\\\\\n",
       "\t green & green & green & 0.001388889\\\\\n",
       "\t green & green & green & 0.001388889\\\\\n",
       "\t green & green & green & 0.001388889\\\\\n",
       "\t green & green & green & 0.001388889\\\\\n",
       "\\end{tabular}\n"
      ],
      "text/markdown": [
       "\n",
       "A data.frame: 720 × 4\n",
       "\n",
       "| X1 &lt;fct&gt; | X2 &lt;fct&gt; | X3 &lt;fct&gt; | probs &lt;dbl&gt; |\n",
       "|---|---|---|---|\n",
       "| red | red | red | 0.001388889 |\n",
       "| red | red | red | 0.001388889 |\n",
       "| red | red | red | 0.001388889 |\n",
       "| red | red | red | 0.001388889 |\n",
       "| red | red | red | 0.001388889 |\n",
       "| red | red | red | 0.001388889 |\n",
       "| red | red | red | 0.001388889 |\n",
       "| red | red | red | 0.001388889 |\n",
       "| red | red | red | 0.001388889 |\n",
       "| red | red | red | 0.001388889 |\n",
       "| red | red | red | 0.001388889 |\n",
       "| red | red | red | 0.001388889 |\n",
       "| red | red | red | 0.001388889 |\n",
       "| red | red | red | 0.001388889 |\n",
       "| red | red | red | 0.001388889 |\n",
       "| red | red | red | 0.001388889 |\n",
       "| red | red | red | 0.001388889 |\n",
       "| red | red | red | 0.001388889 |\n",
       "| red | red | red | 0.001388889 |\n",
       "| red | red | red | 0.001388889 |\n",
       "| red | red | red | 0.001388889 |\n",
       "| red | red | red | 0.001388889 |\n",
       "| red | red | red | 0.001388889 |\n",
       "| red | red | red | 0.001388889 |\n",
       "| red | red | red | 0.001388889 |\n",
       "| red | red | red | 0.001388889 |\n",
       "| red | red | red | 0.001388889 |\n",
       "| red | red | red | 0.001388889 |\n",
       "| red | red | red | 0.001388889 |\n",
       "| red | red | red | 0.001388889 |\n",
       "| ⋮ | ⋮ | ⋮ | ⋮ |\n",
       "| red   | green | green | 0.001388889 |\n",
       "| red   | green | green | 0.001388889 |\n",
       "| green | red   | green | 0.001388889 |\n",
       "| green | green | red   | 0.001388889 |\n",
       "| green | green | red   | 0.001388889 |\n",
       "| green | red   | green | 0.001388889 |\n",
       "| red   | green | green | 0.001388889 |\n",
       "| red   | green | green | 0.001388889 |\n",
       "| green | red   | green | 0.001388889 |\n",
       "| green | green | red   | 0.001388889 |\n",
       "| green | green | red   | 0.001388889 |\n",
       "| green | red   | green | 0.001388889 |\n",
       "| red   | green | green | 0.001388889 |\n",
       "| red   | green | green | 0.001388889 |\n",
       "| green | red   | green | 0.001388889 |\n",
       "| green | green | red   | 0.001388889 |\n",
       "| green | green | red   | 0.001388889 |\n",
       "| green | red   | green | 0.001388889 |\n",
       "| red   | green | green | 0.001388889 |\n",
       "| red   | green | green | 0.001388889 |\n",
       "| green | red   | green | 0.001388889 |\n",
       "| green | green | red   | 0.001388889 |\n",
       "| green | green | red   | 0.001388889 |\n",
       "| green | red   | green | 0.001388889 |\n",
       "| green | green | green | 0.001388889 |\n",
       "| green | green | green | 0.001388889 |\n",
       "| green | green | green | 0.001388889 |\n",
       "| green | green | green | 0.001388889 |\n",
       "| green | green | green | 0.001388889 |\n",
       "| green | green | green | 0.001388889 |\n",
       "\n"
      ],
      "text/plain": [
       "    X1    X2    X3    probs      \n",
       "1   red   red   red   0.001388889\n",
       "2   red   red   red   0.001388889\n",
       "3   red   red   red   0.001388889\n",
       "4   red   red   red   0.001388889\n",
       "5   red   red   red   0.001388889\n",
       "6   red   red   red   0.001388889\n",
       "7   red   red   red   0.001388889\n",
       "8   red   red   red   0.001388889\n",
       "9   red   red   red   0.001388889\n",
       "10  red   red   red   0.001388889\n",
       "11  red   red   red   0.001388889\n",
       "12  red   red   red   0.001388889\n",
       "13  red   red   red   0.001388889\n",
       "14  red   red   red   0.001388889\n",
       "15  red   red   red   0.001388889\n",
       "16  red   red   red   0.001388889\n",
       "17  red   red   red   0.001388889\n",
       "18  red   red   red   0.001388889\n",
       "19  red   red   red   0.001388889\n",
       "20  red   red   red   0.001388889\n",
       "21  red   red   red   0.001388889\n",
       "22  red   red   red   0.001388889\n",
       "23  red   red   red   0.001388889\n",
       "24  red   red   red   0.001388889\n",
       "25  red   red   red   0.001388889\n",
       "26  red   red   red   0.001388889\n",
       "27  red   red   red   0.001388889\n",
       "28  red   red   red   0.001388889\n",
       "29  red   red   red   0.001388889\n",
       "30  red   red   red   0.001388889\n",
       "⋮   ⋮     ⋮     ⋮     ⋮          \n",
       "691 red   green green 0.001388889\n",
       "692 red   green green 0.001388889\n",
       "693 green red   green 0.001388889\n",
       "694 green green red   0.001388889\n",
       "695 green green red   0.001388889\n",
       "696 green red   green 0.001388889\n",
       "697 red   green green 0.001388889\n",
       "698 red   green green 0.001388889\n",
       "699 green red   green 0.001388889\n",
       "700 green green red   0.001388889\n",
       "701 green green red   0.001388889\n",
       "702 green red   green 0.001388889\n",
       "703 red   green green 0.001388889\n",
       "704 red   green green 0.001388889\n",
       "705 green red   green 0.001388889\n",
       "706 green green red   0.001388889\n",
       "707 green green red   0.001388889\n",
       "708 green red   green 0.001388889\n",
       "709 red   green green 0.001388889\n",
       "710 red   green green 0.001388889\n",
       "711 green red   green 0.001388889\n",
       "712 green green red   0.001388889\n",
       "713 green green red   0.001388889\n",
       "714 green red   green 0.001388889\n",
       "715 green green green 0.001388889\n",
       "716 green green green 0.001388889\n",
       "717 green green green 0.001388889\n",
       "718 green green green 0.001388889\n",
       "719 green green green 0.001388889\n",
       "720 green green green 0.001388889"
      ]
     },
     "metadata": {},
     "output_type": "display_data"
    }
   ],
   "source": [
    "N"
   ]
  },
  {
   "cell_type": "code",
   "execution_count": 33,
   "metadata": {},
   "outputs": [
    {
     "data": {
      "text/html": [
       "0.291666666666667"
      ],
      "text/latex": [
       "0.291666666666667"
      ],
      "text/markdown": [
       "0.291666666666667"
      ],
      "text/plain": [
       "[1] 0.2916667"
      ]
     },
     "metadata": {},
     "output_type": "display_data"
    }
   ],
   "source": [
    "Prob(N, isrep(N, vals='red', nrep=3))# equivalente hacer: \n",
    "                                     #Prob(N, X1 =='red'& X2 =='red' & X3 =='red')\n",
    "                                     #y se calculó: sum(N[with(N,isrep(N, 'red', 3)),]$probs)"
   ]
  },
  {
   "cell_type": "markdown",
   "metadata": {},
   "source": [
    "`isrep` es una función del paquete `prob`"
   ]
  },
  {
   "cell_type": "markdown",
   "metadata": {},
   "source": [
    "**(En computadora) Ejercicio: calcular la probabilidad de:**\n",
    "\n",
    "* extraer dos canicas rojas\n",
    "\n",
    "* extraer roja, verde, roja (en este orden)\n",
    "\n",
    "* extraer roja, verde, roja (no importa el orden)"
   ]
  },
  {
   "cell_type": "markdown",
   "metadata": {},
   "source": [
    "#### Ejercicio 2.1: Extraer dos canicas rojas"
   ]
  },
  {
   "cell_type": "markdown",
   "metadata": {},
   "source": [
    "Documentación de la función prob: https://cran.r-project.org/web/packages/prob/prob.pdf"
   ]
  },
  {
   "cell_type": "markdown",
   "metadata": {},
   "source": [
    "extraer dos canicas rojas:"
   ]
  },
  {
   "cell_type": "markdown",
   "metadata": {},
   "source": [
    "si son dos canicas rojas, independientemente de su posición, sería:"
   ]
  },
  {
   "cell_type": "code",
   "execution_count": 46,
   "metadata": {},
   "outputs": [
    {
     "data": {
      "text/html": [
       "0.525"
      ],
      "text/latex": [
       "0.525"
      ],
      "text/markdown": [
       "0.525"
      ],
      "text/plain": [
       "[1] 0.525"
      ]
     },
     "metadata": {},
     "output_type": "display_data"
    }
   ],
   "source": [
    "Prob(N, isrep(N, vals='red', nrep=2))"
   ]
  },
  {
   "cell_type": "markdown",
   "metadata": {},
   "source": [
    "Si son 2 canicas rojas en las primeras 2 posiciones:"
   ]
  },
  {
   "cell_type": "code",
   "execution_count": 47,
   "metadata": {},
   "outputs": [
    {
     "data": {
      "text/html": [
       "0.466666666666667"
      ],
      "text/latex": [
       "0.466666666666667"
      ],
      "text/markdown": [
       "0.466666666666667"
      ],
      "text/plain": [
       "[1] 0.4666667"
      ]
     },
     "metadata": {},
     "output_type": "display_data"
    }
   ],
   "source": [
    "Prob(N, X1 =='red'& X2 =='red')"
   ]
  },
  {
   "cell_type": "markdown",
   "metadata": {},
   "source": [
    "extraer roja, verde, roja (en este orden):"
   ]
  },
  {
   "cell_type": "code",
   "execution_count": 48,
   "metadata": {},
   "outputs": [
    {
     "data": {
      "text/html": [
       "0.175"
      ],
      "text/latex": [
       "0.175"
      ],
      "text/markdown": [
       "0.175"
      ],
      "text/plain": [
       "[1] 0.175"
      ]
     },
     "metadata": {},
     "output_type": "display_data"
    }
   ],
   "source": [
    "Prob(N, X1 =='red'& X2 =='green' & X3 =='red')"
   ]
  },
  {
   "cell_type": "markdown",
   "metadata": {},
   "source": [
    "extraer roja, verde, roja (no importa el orden):<br>\n",
    "Esto equivale a 2 rojas y 1 verde o a la suma de la verde en todas las posiciones:"
   ]
  },
  {
   "cell_type": "code",
   "execution_count": 49,
   "metadata": {},
   "outputs": [
    {
     "data": {
      "text/html": [
       "0.525"
      ],
      "text/latex": [
       "0.525"
      ],
      "text/markdown": [
       "0.525"
      ],
      "text/plain": [
       "[1] 0.525"
      ]
     },
     "metadata": {},
     "output_type": "display_data"
    }
   ],
   "source": [
    "Prob(N, X1 =='green'& X2 =='red' & X3 =='red')+Prob(N, X1 =='red'& X2 =='green' & X3 =='red')+Prob(N, X1 =='red'& X2 =='red' & X3 =='green')"
   ]
  },
  {
   "cell_type": "markdown",
   "metadata": {},
   "source": [
    "Otra forma de escribir lo anterior es:"
   ]
  },
  {
   "cell_type": "code",
   "execution_count": 50,
   "metadata": {},
   "outputs": [
    {
     "data": {
      "text/html": [
       "0.525"
      ],
      "text/latex": [
       "0.525"
      ],
      "text/markdown": [
       "0.525"
      ],
      "text/plain": [
       "[1] 0.525"
      ]
     },
     "metadata": {},
     "output_type": "display_data"
    }
   ],
   "source": [
    "Prob(N, isrep(N, vals='red', nrep=2))"
   ]
  },
  {
   "cell_type": "markdown",
   "metadata": {},
   "source": [
    "### Ejercicios (a mano)\n",
    "\n",
    "1) Supongamos que en una muestra de 100 personas, 65 de ellas son vacunadas contra la influenza esta temporada de invierno. Cinco de las personas vacunadas contraen la enfermedad. De las 35 personas que no son vacunadas 25 caen enfermas. La siguiente tabla resume esta información:\n",
    "\n",
    "|----|enfermo|no enfermo|Total|\n",
    "|:---:|:---:|:---:|:---:|\n",
    "|vacunados|5|60|65|\n",
    "|no vacunados|25|10|35|\n",
    "|Total|30|70|100\n",
    "\n",
    "Calcular:\n",
    "\n",
    "a) $P(${vacunado}$)$, $P(${no vacunado}$)$, $P(${enfermo|vacunado}$)$, $P(${no enfermo|vacunado}$)$, $P(${enfermo|no vacunado}$)$, $P(${no enfermo|no vacunado}$)$ y $P(${vacunado y no enfermo}$)$. \n",
    "\n",
    "b)$P(${no vacunado y no enfermo}$)$, $P(${no enfermo}$)$\n",
    "\n",
    "c)$P(${vacunado} | {no enfermo}$)$.\n",
    "\n"
   ]
  },
  {
   "cell_type": "markdown",
   "metadata": {},
   "source": [
    "## Parte 1: 5_independencia"
   ]
  },
  {
   "cell_type": "markdown",
   "metadata": {},
   "source": [
    "### Ejercicios (a mano)"
   ]
  },
  {
   "cell_type": "markdown",
   "metadata": {},
   "source": [
    "1) Calcular la probabilidad de sacar un as y corazón en una baraja\n",
    "\n",
    "2) Se lanzan dos dados, uno verde y otro rojo. Considérense los eventos $E=${los números suman 5}, $F=${el número en el dado verde es impar}. ¿$E$ y $F$ son independientes?.\n",
    "\n",
    "3) Supóngase que nuestra elección de postre cuando salimos a comer es independiente del platillo principal que pedimos. La mitad de las veces que vamos a comer al restaurante \"L Intervallo\" pedimos pasta con camarones y la mitad de las veces pedimos *pannacotta* de postre. ¿Cuál es la probabilidad de ordenar pasta con camarones y *pannacotta* dado que comemos en \"L Intervallo\"?\n",
    "\n",
    "4) Sea E el evento de que el número $111111$ sea ganador en el sorteo Melate (la lotería Melate consiste en elegir una combinación de seis números diferentes entre el $1$ y el $56$, sin orden y sin reemplazo) y $F$ el evento de que el número $555555$ sea el ganador.\n",
    "\n",
    "a) Determina si estos eventos son mutuamente excluyentes.\n",
    "\n",
    "b) Determina si estos eventos son independientes."
   ]
  },
  {
   "cell_type": "markdown",
   "metadata": {},
   "source": [
    "## Parte 1: 6_teorema_de_Bayes"
   ]
  },
  {
   "cell_type": "markdown",
   "metadata": {},
   "source": [
    "### Ejercicios (a mano)\n",
    "\n",
    "1)El siguiente es un mecanismo conocido para elegir a una persona de un grupo pequeño. Digamos que en un grupo de 4 personas quiere seleccionarse a una de ellas para que realice alguna actividad, digamos ir por cervezas a la hielera. Para este efecto, se toman 4 palillos y uno de ellos se recorta; así, se tienen tres palillos largos y uno corto. Las personas toman turnos tomando palillos, ignorando cuál es el corto, y el que saca el palillo corto es el elegido para ir por las cervezas. ¿Tiene alguna ventaja escoger primero, segundo, tercero o cuarto?\n",
    "\n",
    "2)Considera el mismo escenario que el ejemplo $3$ pero en lugar de que el sospechoso sea un individuo albino ahora se tiene:\n",
    "\n",
    "a) El sospechoso del crimen es un individuo pelirrojo y la probabilidad de ser pelirrojo es del $2 \\%$. Encontrar $P(pelirrojo | Tp),$ en donde $Tp$ representa: “el testigo identifica a una persona como pelirroja”.\n",
    "\n",
    "b) El sospechoso es un individuo de pelo rubio y la probabilidad de tener el pelo rubio es del $15 \\%$. Encontrar $P(rubio | Tr)$, en donde $Tr$ representa: “el testigo identifica a una persona como rubia”."
   ]
  },
  {
   "cell_type": "markdown",
   "metadata": {},
   "source": [
    "## Parte 1: 7_variables_aleatorias"
   ]
  },
  {
   "cell_type": "markdown",
   "metadata": {},
   "source": [
    "### Ejercicios (a mano)"
   ]
  },
  {
   "cell_type": "markdown",
   "metadata": {},
   "source": [
    "1) Considérese lanzar dos monedas. Sea $X$ la variable aleatoria que cuenta el número de águilas que aparecen. Calcula la probabilidad de $P(X=0), P(X=1), P(X=2)$."
   ]
  },
  {
   "cell_type": "markdown",
   "metadata": {},
   "source": [
    "2) Considérese el sorteo de Melate (elegir una combinación de seis números diferentes entre el $1$ y el $56$ sin orden y sin reemplazo) \"simplificado\" con una bolsa acumulada de $N$ y la variable aleatoria $X$ que toma dos valores: $N$ si se elige la combinación ganadora y $0$ en cualquier otro caso. ¿Cuál es la distribución de probabilidad de $X$?\n",
    "\n",
    "(es simplificado pues en realidad la bolsa acumulada se reparte entre el número de personas ganadoras y varios premios menores, según el número de cifras acertadas entre dos y seis.)"
   ]
  },
  {
   "cell_type": "markdown",
   "metadata": {},
   "source": [
    "3) Calcular el valor esperado de los ejemplos $1)$ y $3)$ de la sección \"Distribución de probabilidad de una variable aleatoria\" y responder: ¿Si nos ofrecieran jugar uno de estos dos juegos cuál deberíamos elegir?. Nótese que ninguno de los premios o pérdidas es igual al valor esperado, éste simplemente nos da una idea del promedio de los premios y pérdidas que resultarían si el juego se repitiese un gran número de veces.\n"
   ]
  },
  {
   "cell_type": "markdown",
   "metadata": {},
   "source": [
    "4)  Los juegos de azar en los casinos pueden representarse por medio de variables aleatorias. Consideremos una versión simplificada de una máquina de palanca: existen dos figuras, digamos un cuadrado y un triángulo, que pueden aparecer en tres columnas de una cinta circular. El jugador baja la palanca, las cintas giran y al detenerse cada columna muestra un cuadrado o un triángulo. Las $8$ posibilidades equiprobables son: \n",
    "\n",
    "$$\\begin{array}{ccc} \\blacksquare &\\blacksquare& \\blacksquare \\\\ \\blacksquare & \\blacksquare& \\blacktriangle \\\\ \\blacksquare & \\blacktriangle & \\blacksquare \\\\ \\blacksquare & \\blacktriangle & \\blacktriangle \\\\ \\blacktriangle & \\blacksquare & \\blacksquare \\\\ \\blacktriangle & \\blacksquare & \\blacktriangle \\\\ \\blacktriangle & \\blacktriangle & \\blacksquare \\\\ \\blacktriangle & \\blacktriangle & \\blacktriangle \\end{array}$$\n",
    "\n",
    "Supongamos que para jugar se introduce una ficha de $\\$300$ y los premios asociados son: $\\$500$ si salen tres figuras iguales y $\\$0$ de cualquier otra forma. Sea $X$ la variable aleatoria que mide la ganancia o pérdida de jugar en la máquina. Calcular $E(X)$."
   ]
  },
  {
   "cell_type": "markdown",
   "metadata": {},
   "source": [
    "### Ejercicios (en computadora)"
   ]
  },
  {
   "cell_type": "markdown",
   "metadata": {},
   "source": [
    "Los siguientes ejercicios realizarlos en `R` y con `ggplot2`:"
   ]
  },
  {
   "cell_type": "markdown",
   "metadata": {},
   "source": [
    "5) Encontrar los histogramas de probabilidad para las distribuciones asociadas a las siguientes variables aleatorias:\n",
    "\n",
    "a) El número de águilas que aparecen cuando lanzamos tres monedas al aire.\n",
    "    \n",
    "b) La suma de los números de las caras cuando se lanzan dos dados.\n",
    "\n",
    "6) Se venden 8000 boletos para una rifa de $\\$5000.00$ y cada boleto cuesta $\\$2.00$.\n",
    "\n",
    "a) Encontrar la ganancia esperada del comprador de un boleto.\n",
    " \n",
    "b) Hacer la gráfica de la ganancia esperada que tiene una compradora en términos de un número de boletos $n$.\n",
    " \n",
    "c) ¿Cuál debería de ser el premio mínimo para que se pudiese garantizar “salir a mano” al comprar todos los boletos."
   ]
  },
  {
   "cell_type": "code",
   "execution_count": null,
   "metadata": {},
   "outputs": [],
   "source": []
  },
  {
   "cell_type": "code",
   "execution_count": null,
   "metadata": {},
   "outputs": [],
   "source": []
  },
  {
   "cell_type": "code",
   "execution_count": null,
   "metadata": {},
   "outputs": [],
   "source": []
  },
  {
   "cell_type": "code",
   "execution_count": null,
   "metadata": {},
   "outputs": [],
   "source": []
  },
  {
   "cell_type": "code",
   "execution_count": null,
   "metadata": {},
   "outputs": [],
   "source": []
  },
  {
   "cell_type": "code",
   "execution_count": null,
   "metadata": {},
   "outputs": [],
   "source": []
  },
  {
   "cell_type": "code",
   "execution_count": null,
   "metadata": {},
   "outputs": [],
   "source": []
  },
  {
   "cell_type": "code",
   "execution_count": null,
   "metadata": {},
   "outputs": [],
   "source": []
  },
  {
   "cell_type": "code",
   "execution_count": null,
   "metadata": {},
   "outputs": [],
   "source": []
  },
  {
   "cell_type": "code",
   "execution_count": null,
   "metadata": {},
   "outputs": [],
   "source": []
  },
  {
   "cell_type": "code",
   "execution_count": null,
   "metadata": {},
   "outputs": [],
   "source": []
  },
  {
   "cell_type": "code",
   "execution_count": null,
   "metadata": {},
   "outputs": [],
   "source": []
  },
  {
   "cell_type": "code",
   "execution_count": null,
   "metadata": {},
   "outputs": [],
   "source": []
  },
  {
   "cell_type": "code",
   "execution_count": null,
   "metadata": {},
   "outputs": [],
   "source": []
  },
  {
   "cell_type": "code",
   "execution_count": null,
   "metadata": {},
   "outputs": [],
   "source": []
  },
  {
   "cell_type": "code",
   "execution_count": null,
   "metadata": {},
   "outputs": [],
   "source": []
  },
  {
   "cell_type": "code",
   "execution_count": null,
   "metadata": {},
   "outputs": [],
   "source": []
  },
  {
   "cell_type": "code",
   "execution_count": null,
   "metadata": {},
   "outputs": [],
   "source": []
  },
  {
   "cell_type": "code",
   "execution_count": null,
   "metadata": {},
   "outputs": [],
   "source": []
  },
  {
   "cell_type": "code",
   "execution_count": null,
   "metadata": {},
   "outputs": [],
   "source": []
  },
  {
   "cell_type": "code",
   "execution_count": null,
   "metadata": {},
   "outputs": [],
   "source": []
  },
  {
   "cell_type": "code",
   "execution_count": null,
   "metadata": {},
   "outputs": [],
   "source": []
  },
  {
   "cell_type": "code",
   "execution_count": null,
   "metadata": {},
   "outputs": [],
   "source": []
  },
  {
   "cell_type": "code",
   "execution_count": null,
   "metadata": {},
   "outputs": [],
   "source": []
  },
  {
   "cell_type": "code",
   "execution_count": null,
   "metadata": {},
   "outputs": [],
   "source": []
  },
  {
   "cell_type": "code",
   "execution_count": null,
   "metadata": {},
   "outputs": [],
   "source": []
  },
  {
   "cell_type": "markdown",
   "metadata": {},
   "source": [
    "## Parte 2: 2_core_R"
   ]
  },
  {
   "cell_type": "code",
   "execution_count": null,
   "metadata": {},
   "outputs": [],
   "source": []
  },
  {
   "cell_type": "code",
   "execution_count": null,
   "metadata": {},
   "outputs": [],
   "source": []
  },
  {
   "cell_type": "code",
   "execution_count": null,
   "metadata": {},
   "outputs": [],
   "source": []
  },
  {
   "cell_type": "code",
   "execution_count": null,
   "metadata": {},
   "outputs": [],
   "source": []
  },
  {
   "cell_type": "code",
   "execution_count": null,
   "metadata": {},
   "outputs": [],
   "source": []
  },
  {
   "cell_type": "code",
   "execution_count": null,
   "metadata": {},
   "outputs": [],
   "source": []
  },
  {
   "cell_type": "code",
   "execution_count": null,
   "metadata": {},
   "outputs": [],
   "source": []
  },
  {
   "cell_type": "code",
   "execution_count": null,
   "metadata": {},
   "outputs": [],
   "source": []
  },
  {
   "cell_type": "code",
   "execution_count": null,
   "metadata": {},
   "outputs": [],
   "source": []
  },
  {
   "cell_type": "code",
   "execution_count": null,
   "metadata": {},
   "outputs": [],
   "source": []
  },
  {
   "cell_type": "code",
   "execution_count": null,
   "metadata": {},
   "outputs": [],
   "source": []
  },
  {
   "cell_type": "code",
   "execution_count": null,
   "metadata": {},
   "outputs": [],
   "source": []
  },
  {
   "cell_type": "code",
   "execution_count": null,
   "metadata": {},
   "outputs": [],
   "source": []
  },
  {
   "cell_type": "code",
   "execution_count": null,
   "metadata": {},
   "outputs": [],
   "source": []
  },
  {
   "cell_type": "code",
   "execution_count": null,
   "metadata": {},
   "outputs": [],
   "source": []
  },
  {
   "cell_type": "code",
   "execution_count": null,
   "metadata": {},
   "outputs": [],
   "source": []
  },
  {
   "cell_type": "code",
   "execution_count": null,
   "metadata": {},
   "outputs": [],
   "source": []
  },
  {
   "cell_type": "code",
   "execution_count": null,
   "metadata": {},
   "outputs": [],
   "source": []
  },
  {
   "cell_type": "code",
   "execution_count": null,
   "metadata": {},
   "outputs": [],
   "source": []
  },
  {
   "cell_type": "code",
   "execution_count": null,
   "metadata": {},
   "outputs": [],
   "source": []
  },
  {
   "cell_type": "code",
   "execution_count": null,
   "metadata": {},
   "outputs": [],
   "source": []
  },
  {
   "cell_type": "code",
   "execution_count": null,
   "metadata": {},
   "outputs": [],
   "source": []
  },
  {
   "cell_type": "code",
   "execution_count": null,
   "metadata": {},
   "outputs": [],
   "source": []
  },
  {
   "cell_type": "code",
   "execution_count": null,
   "metadata": {},
   "outputs": [],
   "source": []
  },
  {
   "cell_type": "code",
   "execution_count": null,
   "metadata": {},
   "outputs": [],
   "source": []
  },
  {
   "cell_type": "code",
   "execution_count": null,
   "metadata": {},
   "outputs": [],
   "source": []
  },
  {
   "cell_type": "code",
   "execution_count": null,
   "metadata": {},
   "outputs": [],
   "source": []
  },
  {
   "cell_type": "code",
   "execution_count": null,
   "metadata": {},
   "outputs": [],
   "source": []
  },
  {
   "cell_type": "code",
   "execution_count": null,
   "metadata": {},
   "outputs": [],
   "source": []
  },
  {
   "cell_type": "code",
   "execution_count": null,
   "metadata": {},
   "outputs": [],
   "source": []
  },
  {
   "cell_type": "code",
   "execution_count": null,
   "metadata": {},
   "outputs": [],
   "source": []
  },
  {
   "cell_type": "code",
   "execution_count": null,
   "metadata": {},
   "outputs": [],
   "source": []
  },
  {
   "cell_type": "code",
   "execution_count": null,
   "metadata": {},
   "outputs": [],
   "source": []
  },
  {
   "cell_type": "code",
   "execution_count": null,
   "metadata": {},
   "outputs": [],
   "source": []
  },
  {
   "cell_type": "code",
   "execution_count": null,
   "metadata": {},
   "outputs": [],
   "source": []
  },
  {
   "cell_type": "code",
   "execution_count": null,
   "metadata": {},
   "outputs": [],
   "source": []
  },
  {
   "cell_type": "code",
   "execution_count": null,
   "metadata": {},
   "outputs": [],
   "source": []
  },
  {
   "cell_type": "code",
   "execution_count": null,
   "metadata": {},
   "outputs": [],
   "source": []
  },
  {
   "cell_type": "code",
   "execution_count": null,
   "metadata": {},
   "outputs": [],
   "source": []
  },
  {
   "cell_type": "code",
   "execution_count": null,
   "metadata": {},
   "outputs": [],
   "source": []
  },
  {
   "cell_type": "code",
   "execution_count": null,
   "metadata": {},
   "outputs": [],
   "source": []
  },
  {
   "cell_type": "code",
   "execution_count": null,
   "metadata": {},
   "outputs": [],
   "source": []
  },
  {
   "cell_type": "code",
   "execution_count": null,
   "metadata": {},
   "outputs": [],
   "source": []
  },
  {
   "cell_type": "code",
   "execution_count": null,
   "metadata": {},
   "outputs": [],
   "source": []
  },
  {
   "cell_type": "markdown",
   "metadata": {},
   "source": [
    "## Parte 2: 3_ggplot2"
   ]
  },
  {
   "cell_type": "code",
   "execution_count": null,
   "metadata": {},
   "outputs": [],
   "source": []
  }
 ],
 "metadata": {
  "kernelspec": {
   "display_name": "R",
   "language": "R",
   "name": "ir"
  },
  "language_info": {
   "codemirror_mode": "r",
   "file_extension": ".r",
   "mimetype": "text/x-r-source",
   "name": "R",
   "pygments_lexer": "r",
   "version": "3.5.1"
  }
 },
 "nbformat": 4,
 "nbformat_minor": 4
}
