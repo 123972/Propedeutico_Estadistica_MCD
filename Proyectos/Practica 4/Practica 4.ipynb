{
 "cells": [
  {
   "cell_type": "markdown",
   "metadata": {},
   "source": [
    "# Práctica 4"
   ]
  },
  {
   "cell_type": "markdown",
   "metadata": {},
   "source": [
    "Realizar los ejercicios de las notas (en papel excepto en los ejercicios que explícitamente se mencione se hagan en computadora en la nota correspondiente):\n",
    "\n",
    "+ Propedeutico/R/clases/2_probabilidad/1_elementos_de_probabilidad.ipynb\n",
    "+ Propedeutico/R/clases/2_probabilidad/2_propiedades_de_la_probabilidad.ipynb\n",
    "+ Propedeutico/R/clases/2_probabilidad/3_metodos_de_conteo.ipynb\n",
    "+ Propedeutico/R/clases/2_probabilidad/4_probabilidad_condicional.ipynb\n",
    "+ Propedeutico/R/clases/2_probabilidad/5_independencia.ipynb\n",
    "+ Propedeutico/R/clases/2_probabilidad/6_teorema_de_Bayes.ipynb\n",
    "+ Propedeutico/R/clases/2_probabilidad/7_variables_aleatorias.ipynb\n",
    "\n",
    "Leer, ejecutar y proponer sus propios ejemplos de uso de lenguaje para los ejemplos (en computadora):\n",
    "\n",
    "+ Propedeutico/R/clases/1_introduccion/2_core_R.ipynb\n",
    "+ Propedeutico/R/clases/1_introduccion/3_ggplot2.ipynb"
   ]
  },
  {
   "cell_type": "code",
   "execution_count": 1,
   "metadata": {},
   "outputs": [],
   "source": [
    "options(repr.plot.width=4, repr.plot.height=4) #esta línea sólo se ejecuta para jupyterlab con R"
   ]
  },
  {
   "cell_type": "code",
   "execution_count": 2,
   "metadata": {},
   "outputs": [
    {
     "name": "stdout",
     "output_type": "stream",
     "text": [
      "package 'prob' successfully unpacked and MD5 sums checked\n",
      "\n",
      "The downloaded binary packages are in\n",
      "\tC:\\Users\\Angel Rafael\\AppData\\Local\\Temp\\RtmpgpynSy\\downloaded_packages\n"
     ]
    },
    {
     "name": "stderr",
     "output_type": "stream",
     "text": [
      "Warning message:\n",
      "\"package 'prob' was built under R version 3.6.1\"Loading required package: combinat\n",
      "\n",
      "Attaching package: 'combinat'\n",
      "\n",
      "The following object is masked from 'package:utils':\n",
      "\n",
      "    combn\n",
      "\n",
      "Loading required package: fAsianOptions\n",
      "Warning message:\n",
      "\"package 'fAsianOptions' was built under R version 3.6.1\"Loading required package: timeDate\n",
      "Loading required package: timeSeries\n",
      "Warning message:\n",
      "\"package 'timeSeries' was built under R version 3.6.1\"Loading required package: fBasics\n",
      "Warning message:\n",
      "\"package 'fBasics' was built under R version 3.6.1\"Loading required package: fOptions\n",
      "Warning message:\n",
      "\"package 'fOptions' was built under R version 3.6.1\"\n",
      "Attaching package: 'prob'\n",
      "\n",
      "The following objects are masked from 'package:base':\n",
      "\n",
      "    intersect, setdiff, union\n",
      "\n"
     ]
    }
   ],
   "source": [
    "install.packages('prob')\n",
    "library(prob)"
   ]
  },
  {
   "cell_type": "code",
   "execution_count": 3,
   "metadata": {},
   "outputs": [
    {
     "name": "stdout",
     "output_type": "stream",
     "text": [
      "package 'ggplot2' successfully unpacked and MD5 sums checked\n",
      "\n",
      "The downloaded binary packages are in\n",
      "\tC:\\Users\\Angel Rafael\\AppData\\Local\\Temp\\RtmpgpynSy\\downloaded_packages\n"
     ]
    }
   ],
   "source": [
    "install.packages('ggplot2')\n",
    "library(ggplot2)"
   ]
  },
  {
   "cell_type": "markdown",
   "metadata": {},
   "source": [
    "## Parte 1: 1_elementos_de_probabilidad"
   ]
  },
  {
   "cell_type": "markdown",
   "metadata": {},
   "source": [
    "### Ejemplos"
   ]
  },
  {
   "cell_type": "markdown",
   "metadata": {},
   "source": [
    "### ¿Cómo representar en R un espacio de probabilidad?"
   ]
  },
  {
   "cell_type": "markdown",
   "metadata": {},
   "source": [
    "Una opción para responder esta pregunta es considerar un objeto, `S`, que represente los *outcomes* o resultados del experimento y un vector de probabilidades, `probs`, con entradas que correspondan a cada outcome en `S`."
   ]
  },
  {
   "cell_type": "markdown",
   "metadata": {},
   "source": [
    "Además en el paquete *prob* se tiene una función `probspace` que tiene por argumentos $x$ que es un espacio muestral de los outcomes y $probs$ es un vector del mismo tamaño que el número de outcomes en $x$."
   ]
  },
  {
   "cell_type": "markdown",
   "metadata": {},
   "source": [
    "#### 1) Lanzamiento de un dado justo"
   ]
  },
  {
   "cell_type": "code",
   "execution_count": 4,
   "metadata": {},
   "outputs": [
    {
     "data": {
      "text/html": [
       "<table>\n",
       "<thead><tr><th scope=col>X1</th><th scope=col>probs</th></tr></thead>\n",
       "<tbody>\n",
       "\t<tr><td>1        </td><td>0.1666667</td></tr>\n",
       "\t<tr><td>2        </td><td>0.1666667</td></tr>\n",
       "\t<tr><td>3        </td><td>0.1666667</td></tr>\n",
       "\t<tr><td>4        </td><td>0.1666667</td></tr>\n",
       "\t<tr><td>5        </td><td>0.1666667</td></tr>\n",
       "\t<tr><td>6        </td><td>0.1666667</td></tr>\n",
       "</tbody>\n",
       "</table>\n"
      ],
      "text/latex": [
       "\\begin{tabular}{r|ll}\n",
       " X1 & probs\\\\\n",
       "\\hline\n",
       "\t 1         & 0.1666667\\\\\n",
       "\t 2         & 0.1666667\\\\\n",
       "\t 3         & 0.1666667\\\\\n",
       "\t 4         & 0.1666667\\\\\n",
       "\t 5         & 0.1666667\\\\\n",
       "\t 6         & 0.1666667\\\\\n",
       "\\end{tabular}\n"
      ],
      "text/markdown": [
       "\n",
       "| X1 | probs |\n",
       "|---|---|\n",
       "| 1         | 0.1666667 |\n",
       "| 2         | 0.1666667 |\n",
       "| 3         | 0.1666667 |\n",
       "| 4         | 0.1666667 |\n",
       "| 5         | 0.1666667 |\n",
       "| 6         | 0.1666667 |\n",
       "\n"
      ],
      "text/plain": [
       "  X1 probs    \n",
       "1 1  0.1666667\n",
       "2 2  0.1666667\n",
       "3 3  0.1666667\n",
       "4 4  0.1666667\n",
       "5 5  0.1666667\n",
       "6 6  0.1666667"
      ]
     },
     "metadata": {},
     "output_type": "display_data"
    }
   ],
   "source": [
    "outcomes <- rolldie(1)\n",
    "p <- rep(1/6, times = 6)\n",
    "probspace(outcomes, probs = p)\n",
    "#y es equivalente sólo haber ejecutado: \n",
    "#probspace(1:6, probs = p) o bien probspace(1:6) o rolldie(1, makespace = TRUE)"
   ]
  },
  {
   "cell_type": "markdown",
   "metadata": {},
   "source": [
    "#### 2) Lanzamiento de una moneda cargada"
   ]
  },
  {
   "cell_type": "markdown",
   "metadata": {},
   "source": [
    "Supóngase que $P(\\{\\text{sol}\\}) = .7$ y $P(\\{\\text{águila}\\}) = .3$ entonces:"
   ]
  },
  {
   "cell_type": "code",
   "execution_count": 5,
   "metadata": {},
   "outputs": [
    {
     "data": {
      "text/html": [
       "<table>\n",
       "<thead><tr><th scope=col>toss1</th><th scope=col>probs</th></tr></thead>\n",
       "<tbody>\n",
       "\t<tr><td>H  </td><td>0.7</td></tr>\n",
       "\t<tr><td>T  </td><td>0.3</td></tr>\n",
       "</tbody>\n",
       "</table>\n"
      ],
      "text/latex": [
       "\\begin{tabular}{r|ll}\n",
       " toss1 & probs\\\\\n",
       "\\hline\n",
       "\t H   & 0.7\\\\\n",
       "\t T   & 0.3\\\\\n",
       "\\end{tabular}\n"
      ],
      "text/markdown": [
       "\n",
       "| toss1 | probs |\n",
       "|---|---|\n",
       "| H   | 0.7 |\n",
       "| T   | 0.3 |\n",
       "\n"
      ],
      "text/plain": [
       "  toss1 probs\n",
       "1 H     0.7  \n",
       "2 T     0.3  "
      ]
     },
     "metadata": {},
     "output_type": "display_data"
    }
   ],
   "source": [
    "probspace(tosscoin(1), probs = c(0.70, 0.30))"
   ]
  },
  {
   "cell_type": "markdown",
   "metadata": {},
   "source": [
    "**Ejercicio:** ¿cómo calcular la probabilidad anterior con la función `urnsamples`?"
   ]
  },
  {
   "cell_type": "markdown",
   "metadata": {},
   "source": [
    "En el paquete *prob* se tiene la función *urnsamples* la cual tiene argumentos $x, size, replace, ordered$. El argumento $x$ representa la urna de la cual se realizará el muestreo, $size$ representa el tamaño de la muestra, $replace$ y $ordered$ son argumentos lógicos y especifican cómo se debe realizar el muestreo."
   ]
  },
  {
   "cell_type": "markdown",
   "metadata": {},
   "source": [
    "One sample space function that does NOT have a makespace option is the urnsamples() function. This was intentional. The reason is that under the varied sampling assumptions the outcomes in the respective sample spaces are NOT, in general, equally likely. It is important for the user to carefully consider the experiment to decide whether or not the outcomes are equally likely, and then use probspace() to assign the model.\n",
    "https://cran.r-project.org/web/packages/prob/vignettes/prob.pdf"
   ]
  },
  {
   "cell_type": "markdown",
   "metadata": {},
   "source": [
    "Documentación de Probspace:\n",
    "https://www.rdocumentation.org/packages/prob/versions/1.0-1/topics/probspace\n",
    "\n",
    "Documentación de Urnsamples:\n",
    "https://www.rdocumentation.org/packages/prob/versions/1.0-1/topics/urnsamples"
   ]
  },
  {
   "cell_type": "code",
   "execution_count": 6,
   "metadata": {},
   "outputs": [
    {
     "data": {
      "text/html": [
       "<table>\n",
       "<thead><tr><th scope=col>out</th></tr></thead>\n",
       "<tbody>\n",
       "\t<tr><td>Sol   </td></tr>\n",
       "\t<tr><td>Aguila</td></tr>\n",
       "</tbody>\n",
       "</table>\n"
      ],
      "text/latex": [
       "\\begin{tabular}{r|l}\n",
       " out\\\\\n",
       "\\hline\n",
       "\t Sol   \\\\\n",
       "\t Aguila\\\\\n",
       "\\end{tabular}\n"
      ],
      "text/markdown": [
       "\n",
       "| out |\n",
       "|---|\n",
       "| Sol    |\n",
       "| Aguila |\n",
       "\n"
      ],
      "text/plain": [
       "  out   \n",
       "1 Sol   \n",
       "2 Aguila"
      ]
     },
     "metadata": {},
     "output_type": "display_data"
    }
   ],
   "source": [
    "#inicializando la \"urna\", que serían los valores de la moneda\n",
    "x <- c('Sol', 'Aguila')\n",
    "muestra<-urnsamples(x, 1)\n",
    "muestra"
   ]
  },
  {
   "cell_type": "code",
   "execution_count": 7,
   "metadata": {},
   "outputs": [
    {
     "data": {
      "text/html": [
       "<table>\n",
       "<thead><tr><th scope=col>out</th><th scope=col>probs</th></tr></thead>\n",
       "<tbody>\n",
       "\t<tr><td>Sol   </td><td>0.7   </td></tr>\n",
       "\t<tr><td>Aguila</td><td>0.3   </td></tr>\n",
       "</tbody>\n",
       "</table>\n"
      ],
      "text/latex": [
       "\\begin{tabular}{r|ll}\n",
       " out & probs\\\\\n",
       "\\hline\n",
       "\t Sol    & 0.7   \\\\\n",
       "\t Aguila & 0.3   \\\\\n",
       "\\end{tabular}\n"
      ],
      "text/markdown": [
       "\n",
       "| out | probs |\n",
       "|---|---|\n",
       "| Sol    | 0.7    |\n",
       "| Aguila | 0.3    |\n",
       "\n"
      ],
      "text/plain": [
       "  out    probs\n",
       "1 Sol    0.7  \n",
       "2 Aguila 0.3  "
      ]
     },
     "metadata": {},
     "output_type": "display_data"
    }
   ],
   "source": [
    "probspace(muestra,probs = c(0.70, 0.30))"
   ]
  },
  {
   "cell_type": "markdown",
   "metadata": {},
   "source": [
    "## Parte 1: 2_propiedades_de_la_probabilidad"
   ]
  },
  {
   "cell_type": "markdown",
   "metadata": {},
   "source": [
    "### Ejercicios (a mano)"
   ]
  },
  {
   "cell_type": "markdown",
   "metadata": {},
   "source": [
    "Calcula las siguientes probabilidades suponiendo el modelo equiprobable y experimentos justos:\n",
    "\n",
    "1) Durante 5 años el profesor X ha impartido el mismo curso. En total ha tenido 500 alumnos, de los cuales 80 se han dado de baja, 200 han reprobado y 220 han aprobado. Nos encontramos a uno de estos exalumnos. ¿Cuál es la probabilidad de que éste se haya dado de baja en el curso?\n",
    "\n",
    "2) Una moneda se lanza al aire 300 veces y se obtienen 152 águilas y 148 soles. ¿Cuál es la probabilidad de sacar un águila?\n",
    "\n",
    "3) El año pasado nacieron 1613 mujeres y 1531 hombres en la Delegación Coyoacán. Si se selecciona uno de estos bebes al azar, ¿cuál es la probabilidad de que sea niña? \n",
    "\n",
    "4) Se lanza un dado de seis caras al aire. Sean los eventos $E=${el resultado es un número par} y $F=${el resultado es un número primo}. Calcular la probabilidad de “el resultado es un número par o un número primo”.\n",
    "\n",
    "5) ¿Cuál es la probabilidad de tener exactamente dos hijos varones en una familia de tres hijos?  ¿a lo más dos hijos varones?\n",
    "\n",
    "6) Considera una baraja ¿cuál es la probabilidad de sacar un as? ¿de un corazón? ¿de un as de corazones? ¿de un as o de un corazón?\n",
    "\n",
    "7) Un sondeo de opinión entre la población adulta acerca de si se desea una nueva línea del metro nos da los siguientes resultados:\n",
    "\n",
    "\n",
    "|----|A favor|En contra|Total|\n",
    "|:---:|:---:|:---:|:---:\n",
    "|Mujeres|210|50|260|\n",
    "|Hombres|180|60|240|\n",
    "|Total|390|110|500|\n",
    "\n",
    "Sea $F$ el evento “el encuestado es mujer” y $C$ el evento “está en contra de la nueva línea del Metro”. Calcular $P(F), P(C), P(F \\cap C), P(F \\cup C)$."
   ]
  },
  {
   "cell_type": "markdown",
   "metadata": {},
   "source": [
    "## Parte 1: 3_metodos_de_conteo"
   ]
  },
  {
   "cell_type": "markdown",
   "metadata": {},
   "source": [
    "### Ejercicios (a mano)"
   ]
  },
  {
   "cell_type": "markdown",
   "metadata": {},
   "source": [
    "Resolver lo siguiente:\n",
    "\n",
    "1) Tenemos 5 ingredientes de los cuales podemos elegir para pedir nuestra pizza: peperoni, salchicha, anchoas, huitlacoche y aceitunas. ¿Cuántas pizzas distintas podemos formar?\n",
    "\n",
    "2) Para construir una computadora podemos elegir entre las opciones que están en una tienda: dos procesadores, tres sistemas operativos, cuatro tamaños distintos de memoria, 4 discos duros de distinto tamaño y 10 opciones de monitor. ¿Cuántas opciones de computadoras podemos construir?\n",
    "\n",
    "3) ¿Cuántas formas distintas se pueden construir números de tres cifras sin repetir ningún número?\n",
    "\n",
    "4) Cuatro personas ordenan diferentes bebidas en un bar. El cantinero sirve las bebidas pero por falta de atención olvida completamente quién ordenó qué. ¿Cuál es la probabilidad de que el cantinero coloque las bebidas correctamente? \n",
    "\n",
    "5) Rentas $5$ películas para ver: $3$ hoy y $2$ mañana por la noche pero tu amiga Mariana te pide prestadas $2$ películas. ¿De cuántas formas distintas puede Mariana elegir las $2$ películas?\n",
    "\n",
    "6) ¿Cuántas manos de poker contienen (exactamente) una tercia? ---> (excluye par, esto es, excluye el llamado full)"
   ]
  },
  {
   "cell_type": "markdown",
   "metadata": {},
   "source": [
    "## Parte 1: 4_probabilidad_condicional"
   ]
  },
  {
   "cell_type": "markdown",
   "metadata": {},
   "source": [
    "## Propiedades y reglas"
   ]
  },
  {
   "cell_type": "markdown",
   "metadata": {},
   "source": [
    "Las probabilidades condicionales se comportan como probabilidades sin condicionar:\n",
    "\n",
    "Para cualquier evento $E$ fijo con $P(E)>0$ se tiene:\n",
    "\n",
    "1) $P(F|E) \\geq 0$, para todos los eventos $F \\in S$.\n",
    "\n",
    "2) $P(S|E) = 1$.\n",
    "\n",
    "3) Si los eventos $F_1, F_2, F_3, \\dots $ son ajenos entonces:\n",
    "\n",
    "$P(\\displaystyle \\cup_{i=1}^n F_i | E ) =  \\sum_{i=1}^nP(F_i | E)$ para toda $n$ y aún más: $P(\\displaystyle \\cup_{i=1}^\\infty F_i| E ) = \\sum_{i=1}^\\infty P(F_i|E)$"
   ]
  },
  {
   "cell_type": "markdown",
   "metadata": {},
   "source": [
    "Y se tienen las siguientes propiedades:\n",
    "\n",
    "1)  $P(F^c | E) = 1-P(F|E)$.\n",
    "\n",
    "2) Si $F \\subset G$ entonces $P(F|E) \\leq P(G|E)$.\n",
    "\n",
    "3) $P(F \\cup G|E) = P(F|E) + P(G|E) - P(F \\cap G|E)$ \n",
    "\n",
    "4) La **regla de la multiplicación** para cualquier par de eventos $E, F$: $P(E \\cap F) = P(E|F)P(F) = P(F|E)P(E)$ y en general: $P(\\displaystyle \\cap_{i=1}^n E_i) = P(E_1)P(E_2|E_1)P(E_3|E_1 \\cap E_2) \\cdots P(E_n |\\displaystyle \\cap_{i=1}^{n-1} E_i)$"
   ]
  },
  {
   "cell_type": "markdown",
   "metadata": {},
   "source": [
    "### Ejemplos de la regla de la multiplicación"
   ]
  },
  {
   "cell_type": "markdown",
   "metadata": {},
   "source": [
    "\n",
    "1)**Problema:** calcular la probabilidad de extraer $2$ aces de una baraja.\n",
    "\n",
    "**Solución:**\n",
    "\n",
    "Si $E=${extraer un as} y $F=${extraer un as} entonces $P(E\\cap F)=P(E|F)P(F) = \\frac{3}{51} \\cdot \\frac{4}{52}  \\approx 0.00452$"
   ]
  },
  {
   "cell_type": "markdown",
   "metadata": {},
   "source": [
    "#### En R ..."
   ]
  },
  {
   "cell_type": "code",
   "execution_count": 8,
   "metadata": {},
   "outputs": [
    {
     "data": {
      "text/html": [
       "<table>\n",
       "<thead><tr><th scope=col>rank</th><th scope=col>suit</th></tr></thead>\n",
       "<tbody>\n",
       "\t<tr><td>2   </td><td>Club</td></tr>\n",
       "\t<tr><td>3   </td><td>Club</td></tr>\n",
       "\t<tr><td>4   </td><td>Club</td></tr>\n",
       "\t<tr><td>5   </td><td>Club</td></tr>\n",
       "\t<tr><td>6   </td><td>Club</td></tr>\n",
       "\t<tr><td>7   </td><td>Club</td></tr>\n",
       "</tbody>\n",
       "</table>\n"
      ],
      "text/latex": [
       "\\begin{tabular}{r|ll}\n",
       " rank & suit\\\\\n",
       "\\hline\n",
       "\t 2    & Club\\\\\n",
       "\t 3    & Club\\\\\n",
       "\t 4    & Club\\\\\n",
       "\t 5    & Club\\\\\n",
       "\t 6    & Club\\\\\n",
       "\t 7    & Club\\\\\n",
       "\\end{tabular}\n"
      ],
      "text/markdown": [
       "\n",
       "| rank | suit |\n",
       "|---|---|\n",
       "| 2    | Club |\n",
       "| 3    | Club |\n",
       "| 4    | Club |\n",
       "| 5    | Club |\n",
       "| 6    | Club |\n",
       "| 7    | Club |\n",
       "\n"
      ],
      "text/plain": [
       "  rank suit\n",
       "1 2    Club\n",
       "2 3    Club\n",
       "3 4    Club\n",
       "4 5    Club\n",
       "5 6    Club\n",
       "6 7    Club"
      ]
     },
     "metadata": {},
     "output_type": "display_data"
    }
   ],
   "source": [
    "L <- cards() #Es un dataframe\n",
    "head(L)"
   ]
  },
  {
   "cell_type": "code",
   "execution_count": 9,
   "metadata": {},
   "outputs": [],
   "source": [
    "M <- urnsamples(L, size = 2, replace=F, ordered = F) #extraer dos canicas\n",
    "                                                     #sin reemplazo y sin orden\n",
    "N <- probspace(M) #modelo equiprobable"
   ]
  },
  {
   "cell_type": "markdown",
   "metadata": {},
   "source": [
    "$M$ es una lista de una dimensión que contiene todas las combinaciones posibles de pares de renglones del data frame $L$. La cantidad de combinaciones de pares de renglones es $\\binom{52}{2}:$"
   ]
  },
  {
   "cell_type": "code",
   "execution_count": 10,
   "metadata": {},
   "outputs": [
    {
     "data": {
      "text/html": [
       "1"
      ],
      "text/latex": [
       "1"
      ],
      "text/markdown": [
       "1"
      ],
      "text/plain": [
       "[1] 1"
      ]
     },
     "metadata": {},
     "output_type": "display_data"
    }
   ],
   "source": [
    "NCOL(M)"
   ]
  },
  {
   "cell_type": "code",
   "execution_count": 11,
   "metadata": {},
   "outputs": [
    {
     "data": {
      "text/html": [
       "1326"
      ],
      "text/latex": [
       "1326"
      ],
      "text/markdown": [
       "1326"
      ],
      "text/plain": [
       "[1] 1326"
      ]
     },
     "metadata": {},
     "output_type": "display_data"
    }
   ],
   "source": [
    "NROW(M)"
   ]
  },
  {
   "cell_type": "code",
   "execution_count": 12,
   "metadata": {},
   "outputs": [
    {
     "data": {
      "text/html": [
       "1326"
      ],
      "text/latex": [
       "1326"
      ],
      "text/markdown": [
       "1326"
      ],
      "text/plain": [
       "[1] 1326"
      ]
     },
     "metadata": {},
     "output_type": "display_data"
    }
   ],
   "source": [
    "choose(52,2)"
   ]
  },
  {
   "cell_type": "code",
   "execution_count": 13,
   "metadata": {},
   "outputs": [
    {
     "data": {
      "text/html": [
       "<ol>\n",
       "\t<li><table>\n",
       "<thead><tr><th scope=col>rank</th><th scope=col>suit</th></tr></thead>\n",
       "<tbody>\n",
       "\t<tr><td>2   </td><td>Club</td></tr>\n",
       "\t<tr><td>3   </td><td>Club</td></tr>\n",
       "</tbody>\n",
       "</table>\n",
       "</li>\n",
       "\t<li><table>\n",
       "<thead><tr><th></th><th scope=col>rank</th><th scope=col>suit</th></tr></thead>\n",
       "<tbody>\n",
       "\t<tr><th scope=row>1</th><td>2   </td><td>Club</td></tr>\n",
       "\t<tr><th scope=row>3</th><td>4   </td><td>Club</td></tr>\n",
       "</tbody>\n",
       "</table>\n",
       "</li>\n",
       "\t<li><table>\n",
       "<thead><tr><th></th><th scope=col>rank</th><th scope=col>suit</th></tr></thead>\n",
       "<tbody>\n",
       "\t<tr><th scope=row>1</th><td>2   </td><td>Club</td></tr>\n",
       "\t<tr><th scope=row>4</th><td>5   </td><td>Club</td></tr>\n",
       "</tbody>\n",
       "</table>\n",
       "</li>\n",
       "\t<li><table>\n",
       "<thead><tr><th></th><th scope=col>rank</th><th scope=col>suit</th></tr></thead>\n",
       "<tbody>\n",
       "\t<tr><th scope=row>1</th><td>2   </td><td>Club</td></tr>\n",
       "\t<tr><th scope=row>5</th><td>6   </td><td>Club</td></tr>\n",
       "</tbody>\n",
       "</table>\n",
       "</li>\n",
       "\t<li><table>\n",
       "<thead><tr><th></th><th scope=col>rank</th><th scope=col>suit</th></tr></thead>\n",
       "<tbody>\n",
       "\t<tr><th scope=row>1</th><td>2   </td><td>Club</td></tr>\n",
       "\t<tr><th scope=row>6</th><td>7   </td><td>Club</td></tr>\n",
       "</tbody>\n",
       "</table>\n",
       "</li>\n",
       "\t<li><table>\n",
       "<thead><tr><th></th><th scope=col>rank</th><th scope=col>suit</th></tr></thead>\n",
       "<tbody>\n",
       "\t<tr><th scope=row>1</th><td>2   </td><td>Club</td></tr>\n",
       "\t<tr><th scope=row>7</th><td>8   </td><td>Club</td></tr>\n",
       "</tbody>\n",
       "</table>\n",
       "</li>\n",
       "</ol>\n"
      ],
      "text/latex": [
       "\\begin{enumerate}\n",
       "\\item \\begin{tabular}{r|ll}\n",
       " rank & suit\\\\\n",
       "\\hline\n",
       "\t 2    & Club\\\\\n",
       "\t 3    & Club\\\\\n",
       "\\end{tabular}\n",
       "\n",
       "\\item \\begin{tabular}{r|ll}\n",
       "  & rank & suit\\\\\n",
       "\\hline\n",
       "\t1 & 2    & Club\\\\\n",
       "\t3 & 4    & Club\\\\\n",
       "\\end{tabular}\n",
       "\n",
       "\\item \\begin{tabular}{r|ll}\n",
       "  & rank & suit\\\\\n",
       "\\hline\n",
       "\t1 & 2    & Club\\\\\n",
       "\t4 & 5    & Club\\\\\n",
       "\\end{tabular}\n",
       "\n",
       "\\item \\begin{tabular}{r|ll}\n",
       "  & rank & suit\\\\\n",
       "\\hline\n",
       "\t1 & 2    & Club\\\\\n",
       "\t5 & 6    & Club\\\\\n",
       "\\end{tabular}\n",
       "\n",
       "\\item \\begin{tabular}{r|ll}\n",
       "  & rank & suit\\\\\n",
       "\\hline\n",
       "\t1 & 2    & Club\\\\\n",
       "\t6 & 7    & Club\\\\\n",
       "\\end{tabular}\n",
       "\n",
       "\\item \\begin{tabular}{r|ll}\n",
       "  & rank & suit\\\\\n",
       "\\hline\n",
       "\t1 & 2    & Club\\\\\n",
       "\t7 & 8    & Club\\\\\n",
       "\\end{tabular}\n",
       "\n",
       "\\end{enumerate}\n"
      ],
      "text/markdown": [
       "1. \n",
       "| rank | suit |\n",
       "|---|---|\n",
       "| 2    | Club |\n",
       "| 3    | Club |\n",
       "\n",
       "\n",
       "2. \n",
       "| <!--/--> | rank | suit |\n",
       "|---|---|---|\n",
       "| 1 | 2    | Club |\n",
       "| 3 | 4    | Club |\n",
       "\n",
       "\n",
       "3. \n",
       "| <!--/--> | rank | suit |\n",
       "|---|---|---|\n",
       "| 1 | 2    | Club |\n",
       "| 4 | 5    | Club |\n",
       "\n",
       "\n",
       "4. \n",
       "| <!--/--> | rank | suit |\n",
       "|---|---|---|\n",
       "| 1 | 2    | Club |\n",
       "| 5 | 6    | Club |\n",
       "\n",
       "\n",
       "5. \n",
       "| <!--/--> | rank | suit |\n",
       "|---|---|---|\n",
       "| 1 | 2    | Club |\n",
       "| 6 | 7    | Club |\n",
       "\n",
       "\n",
       "6. \n",
       "| <!--/--> | rank | suit |\n",
       "|---|---|---|\n",
       "| 1 | 2    | Club |\n",
       "| 7 | 8    | Club |\n",
       "\n",
       "\n",
       "\n",
       "\n"
      ],
      "text/plain": [
       "[[1]]\n",
       "  rank suit\n",
       "1    2 Club\n",
       "2    3 Club\n",
       "\n",
       "[[2]]\n",
       "  rank suit\n",
       "1    2 Club\n",
       "3    4 Club\n",
       "\n",
       "[[3]]\n",
       "  rank suit\n",
       "1    2 Club\n",
       "4    5 Club\n",
       "\n",
       "[[4]]\n",
       "  rank suit\n",
       "1    2 Club\n",
       "5    6 Club\n",
       "\n",
       "[[5]]\n",
       "  rank suit\n",
       "1    2 Club\n",
       "6    7 Club\n",
       "\n",
       "[[6]]\n",
       "  rank suit\n",
       "1    2 Club\n",
       "7    8 Club\n"
      ]
     },
     "metadata": {},
     "output_type": "display_data"
    }
   ],
   "source": [
    "head(M)"
   ]
  },
  {
   "cell_type": "markdown",
   "metadata": {},
   "source": [
    "$N$ es una lista de dimensión igual a dos, se utiliza `attributes` para revisar sus `names`: "
   ]
  },
  {
   "cell_type": "code",
   "execution_count": 14,
   "metadata": {},
   "outputs": [
    {
     "name": "stdout",
     "output_type": "stream",
     "text": [
      "$names\n",
      "[1] \"outcomes\" \"probs\"   \n",
      "\n",
      "$class\n",
      "[1] \"ps\"   \"list\"\n",
      "\n"
     ]
    }
   ],
   "source": [
    "print(attributes(N))"
   ]
  },
  {
   "cell_type": "code",
   "execution_count": 15,
   "metadata": {},
   "outputs": [
    {
     "name": "stdout",
     "output_type": "stream",
     "text": [
      "[1] \"outcomes\" \"probs\"   \n"
     ]
    }
   ],
   "source": [
    "print(attributes(N)$names) #dos dimensiones"
   ]
  },
  {
   "cell_type": "markdown",
   "metadata": {},
   "source": [
    "En la primer dimensión tiene $\\binom{52}{2} = 1326$ data frames y cada data frame tiene 2 renglones:"
   ]
  },
  {
   "cell_type": "code",
   "execution_count": 16,
   "metadata": {},
   "outputs": [
    {
     "data": {
      "text/html": [
       "1326"
      ],
      "text/latex": [
       "1326"
      ],
      "text/markdown": [
       "1326"
      ],
      "text/plain": [
       "[1] 1326"
      ]
     },
     "metadata": {},
     "output_type": "display_data"
    }
   ],
   "source": [
    "length(N$outcomes)"
   ]
  },
  {
   "cell_type": "code",
   "execution_count": 17,
   "metadata": {},
   "outputs": [
    {
     "data": {
      "text/html": [
       "<ol>\n",
       "\t<li><table>\n",
       "<thead><tr><th scope=col>rank</th><th scope=col>suit</th></tr></thead>\n",
       "<tbody>\n",
       "\t<tr><td>2   </td><td>Club</td></tr>\n",
       "\t<tr><td>3   </td><td>Club</td></tr>\n",
       "</tbody>\n",
       "</table>\n",
       "</li>\n",
       "</ol>\n"
      ],
      "text/latex": [
       "\\begin{enumerate}\n",
       "\\item \\begin{tabular}{r|ll}\n",
       " rank & suit\\\\\n",
       "\\hline\n",
       "\t 2    & Club\\\\\n",
       "\t 3    & Club\\\\\n",
       "\\end{tabular}\n",
       "\n",
       "\\end{enumerate}\n"
      ],
      "text/markdown": [
       "1. \n",
       "| rank | suit |\n",
       "|---|---|\n",
       "| 2    | Club |\n",
       "| 3    | Club |\n",
       "\n",
       "\n",
       "\n",
       "\n"
      ],
      "text/plain": [
       "[[1]]\n",
       "  rank suit\n",
       "1    2 Club\n",
       "2    3 Club\n"
      ]
     },
     "metadata": {},
     "output_type": "display_data"
    }
   ],
   "source": [
    "N$outcomes[1]"
   ]
  },
  {
   "cell_type": "code",
   "execution_count": 18,
   "metadata": {},
   "outputs": [
    {
     "data": {
      "text/html": [
       "<ol>\n",
       "\t<li><table>\n",
       "<thead><tr><th></th><th scope=col>rank</th><th scope=col>suit</th></tr></thead>\n",
       "<tbody>\n",
       "\t<tr><th scope=row>2</th><td>3    </td><td>Club </td></tr>\n",
       "\t<tr><th scope=row>51</th><td>K    </td><td>Spade</td></tr>\n",
       "</tbody>\n",
       "</table>\n",
       "</li>\n",
       "</ol>\n"
      ],
      "text/latex": [
       "\\begin{enumerate}\n",
       "\\item \\begin{tabular}{r|ll}\n",
       "  & rank & suit\\\\\n",
       "\\hline\n",
       "\t2 & 3     & Club \\\\\n",
       "\t51 & K     & Spade\\\\\n",
       "\\end{tabular}\n",
       "\n",
       "\\end{enumerate}\n"
      ],
      "text/markdown": [
       "1. \n",
       "| <!--/--> | rank | suit |\n",
       "|---|---|---|\n",
       "| 2 | 3     | Club  |\n",
       "| 51 | K     | Spade |\n",
       "\n",
       "\n",
       "\n",
       "\n"
      ],
      "text/plain": [
       "[[1]]\n",
       "   rank  suit\n",
       "2     3  Club\n",
       "51    K Spade\n"
      ]
     },
     "metadata": {},
     "output_type": "display_data"
    }
   ],
   "source": [
    "N$outcomes[100]"
   ]
  },
  {
   "cell_type": "markdown",
   "metadata": {},
   "source": [
    "Cada renglón representa el par de cartas elegidas."
   ]
  },
  {
   "cell_type": "markdown",
   "metadata": {},
   "source": [
    "La segunda dimensión tiene $\\binom{52}{2} = 1326$ probabilidades:"
   ]
  },
  {
   "cell_type": "code",
   "execution_count": 19,
   "metadata": {},
   "outputs": [
    {
     "data": {
      "text/html": [
       "1326"
      ],
      "text/latex": [
       "1326"
      ],
      "text/markdown": [
       "1326"
      ],
      "text/plain": [
       "[1] 1326"
      ]
     },
     "metadata": {},
     "output_type": "display_data"
    }
   ],
   "source": [
    "length(N$probs)"
   ]
  },
  {
   "cell_type": "markdown",
   "metadata": {},
   "source": [
    "cada probabilidad igual a $\\frac{1}{\\binom{52}{2}}$ que es la probabilidad de extraer dos cartas cualesquiera."
   ]
  },
  {
   "cell_type": "code",
   "execution_count": 20,
   "metadata": {},
   "outputs": [
    {
     "data": {
      "text/html": [
       "0.000754147812971342"
      ],
      "text/latex": [
       "0.000754147812971342"
      ],
      "text/markdown": [
       "0.000754147812971342"
      ],
      "text/plain": [
       "[1] 0.0007541478"
      ]
     },
     "metadata": {},
     "output_type": "display_data"
    }
   ],
   "source": [
    "N$probs[1]"
   ]
  },
  {
   "cell_type": "code",
   "execution_count": 21,
   "metadata": {},
   "outputs": [
    {
     "data": {
      "text/html": [
       "0.000754147812971342"
      ],
      "text/latex": [
       "0.000754147812971342"
      ],
      "text/markdown": [
       "0.000754147812971342"
      ],
      "text/plain": [
       "[1] 0.0007541478"
      ]
     },
     "metadata": {},
     "output_type": "display_data"
    }
   ],
   "source": [
    "N$probs[100]"
   ]
  },
  {
   "cell_type": "code",
   "execution_count": 22,
   "metadata": {},
   "outputs": [
    {
     "data": {
      "text/html": [
       "0.000754147812971342"
      ],
      "text/latex": [
       "0.000754147812971342"
      ],
      "text/markdown": [
       "0.000754147812971342"
      ],
      "text/plain": [
       "[1] 0.0007541478"
      ]
     },
     "metadata": {},
     "output_type": "display_data"
    }
   ],
   "source": [
    "1/choose(52,2)"
   ]
  },
  {
   "cell_type": "markdown",
   "metadata": {},
   "source": [
    "Y la probabilidad deseada: $P(E\\cap F) = P(${extraer dos aces}$)$ es:"
   ]
  },
  {
   "cell_type": "code",
   "execution_count": 23,
   "metadata": {},
   "outputs": [
    {
     "data": {
      "text/html": [
       "0.00452488687782805"
      ],
      "text/latex": [
       "0.00452488687782805"
      ],
      "text/markdown": [
       "0.00452488687782805"
      ],
      "text/plain": [
       "[1] 0.004524887"
      ]
     },
     "metadata": {},
     "output_type": "display_data"
    }
   ],
   "source": [
    "Prob(N, all(rank == 'A')) #Prob asume modelo equiprobable\n",
    "                          # el evento es all(rank == 'A') y como son dos cartas extraídas, \n",
    "                          #entonces ambas deben ser iguales a A"
   ]
  },
  {
   "cell_type": "markdown",
   "metadata": {},
   "source": [
    "2) **Problema:** considérese una urna con $10$ canicas: $7$ son rojas y $3$ son verdes y se seleccionan $3$ canicas. Sea $E=${primer canica es roja}, $F=${segunda canica es roja} y $G=${tercera canica es roja}. Calcular $P(E \\cap F \\cap G)$."
   ]
  },
  {
   "cell_type": "markdown",
   "metadata": {},
   "source": [
    "**Solución:**\n",
    "\n",
    "$P(E\\cap F\\cap G) = \\frac{\\binom{7}{3}}{\\binom{10}{3}}$"
   ]
  },
  {
   "cell_type": "code",
   "execution_count": 24,
   "metadata": {},
   "outputs": [
    {
     "data": {
      "text/html": [
       "0.291666666666667"
      ],
      "text/latex": [
       "0.291666666666667"
      ],
      "text/markdown": [
       "0.291666666666667"
      ],
      "text/plain": [
       "[1] 0.2916667"
      ]
     },
     "metadata": {},
     "output_type": "display_data"
    }
   ],
   "source": [
    "choose(7,3)/choose(10,3)"
   ]
  },
  {
   "cell_type": "markdown",
   "metadata": {},
   "source": [
    "#### En R ..."
   ]
  },
  {
   "cell_type": "code",
   "execution_count": 25,
   "metadata": {},
   "outputs": [
    {
     "name": "stdout",
     "output_type": "stream",
     "text": [
      " [1] \"red\"   \"red\"   \"red\"   \"red\"   \"red\"   \"red\"   \"red\"   \"green\" \"green\"\n",
      "[10] \"green\"\n"
     ]
    }
   ],
   "source": [
    "L <- rep(c(\"red\",\"green\"), times = c(7,3)) #urna, es un vector\n",
    "print(L)"
   ]
  },
  {
   "cell_type": "code",
   "execution_count": 26,
   "metadata": {},
   "outputs": [],
   "source": [
    "M <- urnsamples(L, size = 3, replace = FALSE, ordered = TRUE) #data frame, espacio de resultados"
   ]
  },
  {
   "cell_type": "code",
   "execution_count": 27,
   "metadata": {},
   "outputs": [
    {
     "data": {
      "text/html": [
       "720"
      ],
      "text/latex": [
       "720"
      ],
      "text/markdown": [
       "720"
      ],
      "text/plain": [
       "[1] 720"
      ]
     },
     "metadata": {},
     "output_type": "display_data"
    }
   ],
   "source": [
    "NROW(M)"
   ]
  },
  {
   "cell_type": "code",
   "execution_count": 28,
   "metadata": {},
   "outputs": [
    {
     "data": {
      "text/html": [
       "3"
      ],
      "text/latex": [
       "3"
      ],
      "text/markdown": [
       "3"
      ],
      "text/plain": [
       "[1] 3"
      ]
     },
     "metadata": {},
     "output_type": "display_data"
    }
   ],
   "source": [
    "NCOL(M)"
   ]
  },
  {
   "cell_type": "code",
   "execution_count": 29,
   "metadata": {},
   "outputs": [
    {
     "data": {
      "text/html": [
       "<table>\n",
       "<thead><tr><th></th><th scope=col>X1</th><th scope=col>X2</th><th scope=col>X3</th></tr></thead>\n",
       "<tbody>\n",
       "\t<tr><th scope=row>35</th><td>red  </td><td>green</td><td>red  </td></tr>\n",
       "\t<tr><th scope=row>36</th><td>red  </td><td>red  </td><td>green</td></tr>\n",
       "\t<tr><th scope=row>37</th><td>red  </td><td>red  </td><td>green</td></tr>\n",
       "\t<tr><th scope=row>38</th><td>red  </td><td>green</td><td>red  </td></tr>\n",
       "\t<tr><th scope=row>39</th><td>green</td><td>red  </td><td>red  </td></tr>\n",
       "\t<tr><th scope=row>40</th><td>green</td><td>red  </td><td>red  </td></tr>\n",
       "</tbody>\n",
       "</table>\n"
      ],
      "text/latex": [
       "\\begin{tabular}{r|lll}\n",
       "  & X1 & X2 & X3\\\\\n",
       "\\hline\n",
       "\t35 & red   & green & red  \\\\\n",
       "\t36 & red   & red   & green\\\\\n",
       "\t37 & red   & red   & green\\\\\n",
       "\t38 & red   & green & red  \\\\\n",
       "\t39 & green & red   & red  \\\\\n",
       "\t40 & green & red   & red  \\\\\n",
       "\\end{tabular}\n"
      ],
      "text/markdown": [
       "\n",
       "| <!--/--> | X1 | X2 | X3 |\n",
       "|---|---|---|---|\n",
       "| 35 | red   | green | red   |\n",
       "| 36 | red   | red   | green |\n",
       "| 37 | red   | red   | green |\n",
       "| 38 | red   | green | red   |\n",
       "| 39 | green | red   | red   |\n",
       "| 40 | green | red   | red   |\n",
       "\n"
      ],
      "text/plain": [
       "   X1    X2    X3   \n",
       "35 red   green red  \n",
       "36 red   red   green\n",
       "37 red   red   green\n",
       "38 red   green red  \n",
       "39 green red   red  \n",
       "40 green red   red  "
      ]
     },
     "metadata": {},
     "output_type": "display_data"
    }
   ],
   "source": [
    "M[35:40,]"
   ]
  },
  {
   "cell_type": "code",
   "execution_count": 30,
   "metadata": {},
   "outputs": [],
   "source": [
    "N <- probspace(M) #a cada renglón de M (outcomes) se le asocia un vector de probabilidades\n",
    "                  #con lo que se tiene un data frame: N, que es un espacio de probabilidad\n",
    "                  #probspace usa modelo equiprobable"
   ]
  },
  {
   "cell_type": "code",
   "execution_count": 31,
   "metadata": {},
   "outputs": [
    {
     "data": {
      "text/html": [
       "720"
      ],
      "text/latex": [
       "720"
      ],
      "text/markdown": [
       "720"
      ],
      "text/plain": [
       "[1] 720"
      ]
     },
     "metadata": {},
     "output_type": "display_data"
    }
   ],
   "source": [
    "NROW(N)"
   ]
  },
  {
   "cell_type": "code",
   "execution_count": 32,
   "metadata": {},
   "outputs": [
    {
     "data": {
      "text/html": [
       "4"
      ],
      "text/latex": [
       "4"
      ],
      "text/markdown": [
       "4"
      ],
      "text/plain": [
       "[1] 4"
      ]
     },
     "metadata": {},
     "output_type": "display_data"
    }
   ],
   "source": [
    "NCOL(N)"
   ]
  },
  {
   "cell_type": "code",
   "execution_count": 33,
   "metadata": {},
   "outputs": [
    {
     "data": {
      "text/html": [
       "<table>\n",
       "<thead><tr><th scope=col>X1</th><th scope=col>X2</th><th scope=col>X3</th><th scope=col>probs</th></tr></thead>\n",
       "<tbody>\n",
       "\t<tr><td>red        </td><td>red        </td><td>red        </td><td>0.001388889</td></tr>\n",
       "\t<tr><td>red        </td><td>red        </td><td>red        </td><td>0.001388889</td></tr>\n",
       "\t<tr><td>red        </td><td>red        </td><td>red        </td><td>0.001388889</td></tr>\n",
       "\t<tr><td>red        </td><td>red        </td><td>red        </td><td>0.001388889</td></tr>\n",
       "\t<tr><td>red        </td><td>red        </td><td>red        </td><td>0.001388889</td></tr>\n",
       "\t<tr><td>red        </td><td>red        </td><td>red        </td><td>0.001388889</td></tr>\n",
       "</tbody>\n",
       "</table>\n"
      ],
      "text/latex": [
       "\\begin{tabular}{r|llll}\n",
       " X1 & X2 & X3 & probs\\\\\n",
       "\\hline\n",
       "\t red         & red         & red         & 0.001388889\\\\\n",
       "\t red         & red         & red         & 0.001388889\\\\\n",
       "\t red         & red         & red         & 0.001388889\\\\\n",
       "\t red         & red         & red         & 0.001388889\\\\\n",
       "\t red         & red         & red         & 0.001388889\\\\\n",
       "\t red         & red         & red         & 0.001388889\\\\\n",
       "\\end{tabular}\n"
      ],
      "text/markdown": [
       "\n",
       "| X1 | X2 | X3 | probs |\n",
       "|---|---|---|---|\n",
       "| red         | red         | red         | 0.001388889 |\n",
       "| red         | red         | red         | 0.001388889 |\n",
       "| red         | red         | red         | 0.001388889 |\n",
       "| red         | red         | red         | 0.001388889 |\n",
       "| red         | red         | red         | 0.001388889 |\n",
       "| red         | red         | red         | 0.001388889 |\n",
       "\n"
      ],
      "text/plain": [
       "  X1  X2  X3  probs      \n",
       "1 red red red 0.001388889\n",
       "2 red red red 0.001388889\n",
       "3 red red red 0.001388889\n",
       "4 red red red 0.001388889\n",
       "5 red red red 0.001388889\n",
       "6 red red red 0.001388889"
      ]
     },
     "metadata": {},
     "output_type": "display_data"
    }
   ],
   "source": [
    "head(N)"
   ]
  },
  {
   "cell_type": "code",
   "execution_count": 34,
   "metadata": {},
   "outputs": [
    {
     "data": {
      "text/html": [
       "0.291666666666667"
      ],
      "text/latex": [
       "0.291666666666667"
      ],
      "text/markdown": [
       "0.291666666666667"
      ],
      "text/plain": [
       "[1] 0.2916667"
      ]
     },
     "metadata": {},
     "output_type": "display_data"
    }
   ],
   "source": [
    "Prob(N, isrep(N, vals='red', nrep=3))# equivalente hacer: \n",
    "                                     #Prob(N, X1 =='red'& X2 =='red' & X3 =='red')\n",
    "                                     #y se calculó: sum(N[with(N,isrep(N, 'red', 3)),]$probs)"
   ]
  },
  {
   "cell_type": "markdown",
   "metadata": {},
   "source": [
    "`isrep` es una función del paquete `prob`"
   ]
  },
  {
   "cell_type": "markdown",
   "metadata": {},
   "source": [
    "**(En computadora) Ejercicio: calcular la probabilidad de:**\n",
    "\n",
    "* extraer dos canicas rojas\n",
    "\n",
    "* extraer roja, verde, roja (en este orden)\n",
    "\n",
    "* extraer roja, verde, roja (no importa el orden)"
   ]
  },
  {
   "cell_type": "markdown",
   "metadata": {},
   "source": [
    "#### Ejercicio 2.1: Extraer dos canicas rojas"
   ]
  },
  {
   "cell_type": "markdown",
   "metadata": {},
   "source": [
    "Documentación de la función prob: https://cran.r-project.org/web/packages/prob/prob.pdf"
   ]
  },
  {
   "cell_type": "markdown",
   "metadata": {},
   "source": [
    "extraer dos canicas rojas:"
   ]
  },
  {
   "cell_type": "markdown",
   "metadata": {},
   "source": [
    "si son dos canicas rojas, independientemente de su posición, sería:"
   ]
  },
  {
   "cell_type": "code",
   "execution_count": 35,
   "metadata": {},
   "outputs": [
    {
     "data": {
      "text/html": [
       "0.525"
      ],
      "text/latex": [
       "0.525"
      ],
      "text/markdown": [
       "0.525"
      ],
      "text/plain": [
       "[1] 0.525"
      ]
     },
     "metadata": {},
     "output_type": "display_data"
    }
   ],
   "source": [
    "Prob(N, isrep(N, vals='red', nrep=2))"
   ]
  },
  {
   "cell_type": "markdown",
   "metadata": {},
   "source": [
    "Si son 2 canicas rojas en las primeras 2 posiciones:"
   ]
  },
  {
   "cell_type": "code",
   "execution_count": 36,
   "metadata": {},
   "outputs": [
    {
     "data": {
      "text/html": [
       "0.466666666666667"
      ],
      "text/latex": [
       "0.466666666666667"
      ],
      "text/markdown": [
       "0.466666666666667"
      ],
      "text/plain": [
       "[1] 0.4666667"
      ]
     },
     "metadata": {},
     "output_type": "display_data"
    }
   ],
   "source": [
    "Prob(N, X1 =='red'& X2 =='red')"
   ]
  },
  {
   "cell_type": "markdown",
   "metadata": {},
   "source": [
    "#### Ejercicio 2.2: Extraer roja, verde, roja (en este orden):"
   ]
  },
  {
   "cell_type": "code",
   "execution_count": 37,
   "metadata": {},
   "outputs": [
    {
     "data": {
      "text/html": [
       "0.175"
      ],
      "text/latex": [
       "0.175"
      ],
      "text/markdown": [
       "0.175"
      ],
      "text/plain": [
       "[1] 0.175"
      ]
     },
     "metadata": {},
     "output_type": "display_data"
    }
   ],
   "source": [
    "Prob(N, X1 =='red'& X2 =='green' & X3 =='red')"
   ]
  },
  {
   "cell_type": "markdown",
   "metadata": {},
   "source": [
    "#### Ejercicio 2.3: Extraer roja, verde, roja (no importa el orden):<br>\n",
    "Esto equivale a 2 rojas y 1 verde o a la suma de la verde en todas las posiciones:"
   ]
  },
  {
   "cell_type": "code",
   "execution_count": 38,
   "metadata": {},
   "outputs": [
    {
     "data": {
      "text/html": [
       "0.525"
      ],
      "text/latex": [
       "0.525"
      ],
      "text/markdown": [
       "0.525"
      ],
      "text/plain": [
       "[1] 0.525"
      ]
     },
     "metadata": {},
     "output_type": "display_data"
    }
   ],
   "source": [
    "Prob(N, X1 =='green'& X2 =='red' & X3 =='red')+Prob(N, X1 =='red'& X2 =='green' & X3 =='red')+Prob(N, X1 =='red'& X2 =='red' & X3 =='green')"
   ]
  },
  {
   "cell_type": "markdown",
   "metadata": {},
   "source": [
    "Otra forma de escribir lo anterior es:"
   ]
  },
  {
   "cell_type": "code",
   "execution_count": 39,
   "metadata": {},
   "outputs": [
    {
     "data": {
      "text/html": [
       "0.525"
      ],
      "text/latex": [
       "0.525"
      ],
      "text/markdown": [
       "0.525"
      ],
      "text/plain": [
       "[1] 0.525"
      ]
     },
     "metadata": {},
     "output_type": "display_data"
    }
   ],
   "source": [
    "Prob(N, isrep(N, vals='red', nrep=2))"
   ]
  },
  {
   "cell_type": "markdown",
   "metadata": {},
   "source": [
    "### Ejercicios (a mano)\n",
    "\n",
    "1) Supongamos que en una muestra de 100 personas, 65 de ellas son vacunadas contra la influenza esta temporada de invierno. Cinco de las personas vacunadas contraen la enfermedad. De las 35 personas que no son vacunadas 25 caen enfermas. La siguiente tabla resume esta información:\n",
    "\n",
    "|----|enfermo|no enfermo|Total|\n",
    "|:---:|:---:|:---:|:---:|\n",
    "|vacunados|5|60|65|\n",
    "|no vacunados|25|10|35|\n",
    "|Total|30|70|100\n",
    "\n",
    "Calcular:\n",
    "\n",
    "a) $P(${vacunado}$)$, $P(${no vacunado}$)$, $P(${enfermo|vacunado}$)$, $P(${no enfermo|vacunado}$)$, $P(${enfermo|no vacunado}$)$, $P(${no enfermo|no vacunado}$)$ y $P(${vacunado y no enfermo}$)$. \n",
    "\n",
    "b)$P(${no vacunado y no enfermo}$)$, $P(${no enfermo}$)$\n",
    "\n",
    "c)$P(${vacunado} | {no enfermo}$)$.\n",
    "\n"
   ]
  },
  {
   "cell_type": "markdown",
   "metadata": {},
   "source": [
    "## Parte 1: 5_independencia"
   ]
  },
  {
   "cell_type": "markdown",
   "metadata": {},
   "source": [
    "### Ejercicios (a mano)"
   ]
  },
  {
   "cell_type": "markdown",
   "metadata": {},
   "source": [
    "1) Calcular la probabilidad de sacar un as y corazón en una baraja\n",
    "\n",
    "2) Se lanzan dos dados, uno verde y otro rojo. Considérense los eventos $E=${los números suman 5}, $F=${el número en el dado verde es impar}. ¿$E$ y $F$ son independientes?.\n",
    "\n",
    "3) Supóngase que nuestra elección de postre cuando salimos a comer es independiente del platillo principal que pedimos. La mitad de las veces que vamos a comer al restaurante \"L Intervallo\" pedimos pasta con camarones y la mitad de las veces pedimos *pannacotta* de postre. ¿Cuál es la probabilidad de ordenar pasta con camarones y *pannacotta* dado que comemos en \"L Intervallo\"?\n",
    "\n",
    "4) Sea E el evento de que el número $111111$ sea ganador en el sorteo Melate (la lotería Melate consiste en elegir una combinación de seis números diferentes entre el $1$ y el $56$, sin orden y sin reemplazo) y $F$ el evento de que el número $555555$ sea el ganador.\n",
    "\n",
    "a) Determina si estos eventos son mutuamente excluyentes.\n",
    "\n",
    "b) Determina si estos eventos son independientes."
   ]
  },
  {
   "cell_type": "markdown",
   "metadata": {},
   "source": [
    "## Parte 1: 6_teorema_de_Bayes"
   ]
  },
  {
   "cell_type": "markdown",
   "metadata": {},
   "source": [
    "### Ejercicios (a mano)\n",
    "\n",
    "1)El siguiente es un mecanismo conocido para elegir a una persona de un grupo pequeño. Digamos que en un grupo de 4 personas quiere seleccionarse a una de ellas para que realice alguna actividad, digamos ir por cervezas a la hielera. Para este efecto, se toman 4 palillos y uno de ellos se recorta; así, se tienen tres palillos largos y uno corto. Las personas toman turnos tomando palillos, ignorando cuál es el corto, y el que saca el palillo corto es el elegido para ir por las cervezas. ¿Tiene alguna ventaja escoger primero, segundo, tercero o cuarto?\n",
    "\n",
    "2)Considera el mismo escenario que el ejemplo $3$ pero en lugar de que el sospechoso sea un individuo albino ahora se tiene:\n",
    "\n",
    "a) El sospechoso del crimen es un individuo pelirrojo y la probabilidad de ser pelirrojo es del $2 \\%$. Encontrar $P(pelirrojo | Tp),$ en donde $Tp$ representa: “el testigo identifica a una persona como pelirroja”.\n",
    "\n",
    "b) El sospechoso es un individuo de pelo rubio y la probabilidad de tener el pelo rubio es del $15 \\%$. Encontrar $P(rubio | Tr)$, en donde $Tr$ representa: “el testigo identifica a una persona como rubia”."
   ]
  },
  {
   "cell_type": "markdown",
   "metadata": {},
   "source": [
    "## Parte 1: 7_variables_aleatorias"
   ]
  },
  {
   "cell_type": "markdown",
   "metadata": {},
   "source": [
    "### Ejercicios (a mano)"
   ]
  },
  {
   "cell_type": "markdown",
   "metadata": {},
   "source": [
    "1) Considérese lanzar dos monedas. Sea $X$ la variable aleatoria que cuenta el número de águilas que aparecen. Calcula la probabilidad de $P(X=0), P(X=1), P(X=2)$."
   ]
  },
  {
   "cell_type": "markdown",
   "metadata": {},
   "source": [
    "2) Considérese el sorteo de Melate (elegir una combinación de seis números diferentes entre el $1$ y el $56$ sin orden y sin reemplazo) \"simplificado\" con una bolsa acumulada de $N$ y la variable aleatoria $X$ que toma dos valores: $N$ si se elige la combinación ganadora y $0$ en cualquier otro caso. ¿Cuál es la distribución de probabilidad de $X$?\n",
    "\n",
    "(es simplificado pues en realidad la bolsa acumulada se reparte entre el número de personas ganadoras y varios premios menores, según el número de cifras acertadas entre dos y seis.)"
   ]
  },
  {
   "cell_type": "markdown",
   "metadata": {},
   "source": [
    "3) Calcular el valor esperado de los ejemplos $1)$ y $3)$ de la sección \"Distribución de probabilidad de una variable aleatoria\" y responder: ¿Si nos ofrecieran jugar uno de estos dos juegos cuál deberíamos elegir?. Nótese que ninguno de los premios o pérdidas es igual al valor esperado, éste simplemente nos da una idea del promedio de los premios y pérdidas que resultarían si el juego se repitiese un gran número de veces.\n"
   ]
  },
  {
   "cell_type": "markdown",
   "metadata": {},
   "source": [
    "4)  Los juegos de azar en los casinos pueden representarse por medio de variables aleatorias. Consideremos una versión simplificada de una máquina de palanca: existen dos figuras, digamos un cuadrado y un triángulo, que pueden aparecer en tres columnas de una cinta circular. El jugador baja la palanca, las cintas giran y al detenerse cada columna muestra un cuadrado o un triángulo. Las $8$ posibilidades equiprobables son: \n",
    "\n",
    "$$\\begin{array}{ccc} \\blacksquare &\\blacksquare& \\blacksquare \\\\ \\blacksquare & \\blacksquare& \\blacktriangle \\\\ \\blacksquare & \\blacktriangle & \\blacksquare \\\\ \\blacksquare & \\blacktriangle & \\blacktriangle \\\\ \\blacktriangle & \\blacksquare & \\blacksquare \\\\ \\blacktriangle & \\blacksquare & \\blacktriangle \\\\ \\blacktriangle & \\blacktriangle & \\blacksquare \\\\ \\blacktriangle & \\blacktriangle & \\blacktriangle \\end{array}$$\n",
    "\n",
    "Supongamos que para jugar se introduce una ficha de $\\$300$ y los premios asociados son: $\\$500$ si salen tres figuras iguales y $\\$0$ de cualquier otra forma. Sea $X$ la variable aleatoria que mide la ganancia o pérdida de jugar en la máquina. Calcular $E(X)$."
   ]
  },
  {
   "cell_type": "markdown",
   "metadata": {},
   "source": [
    "### Ejercicios (en computadora)"
   ]
  },
  {
   "cell_type": "markdown",
   "metadata": {},
   "source": [
    "Los siguientes ejercicios realizarlos en `R` y con `ggplot2`:"
   ]
  },
  {
   "cell_type": "markdown",
   "metadata": {},
   "source": [
    "5) Encontrar los histogramas de probabilidad para las distribuciones asociadas a las siguientes variables aleatorias:\n",
    "\n",
    "a) El número de águilas que aparecen cuando lanzamos tres monedas al aire.\n",
    "    \n",
    "b) La suma de los números de las caras cuando se lanzan dos dados."
   ]
  },
  {
   "cell_type": "markdown",
   "metadata": {},
   "source": [
    "**a) El número de águilas que aparecen cuando lanzamos tres monedas al aire.**"
   ]
  },
  {
   "cell_type": "code",
   "execution_count": 40,
   "metadata": {},
   "outputs": [],
   "source": [
    "S <- tosscoin(3, makespace = TRUE) #lanzamiento de tres monedas"
   ]
  },
  {
   "cell_type": "code",
   "execution_count": 41,
   "metadata": {},
   "outputs": [],
   "source": [
    "#head(S)"
   ]
  },
  {
   "cell_type": "code",
   "execution_count": 42,
   "metadata": {},
   "outputs": [
    {
     "data": {
      "text/html": [
       "<table>\n",
       "<thead><tr><th scope=col>toss1</th><th scope=col>toss2</th><th scope=col>toss3</th><th scope=col>probs</th></tr></thead>\n",
       "<tbody>\n",
       "\t<tr><td>H    </td><td>H    </td><td>H    </td><td>0.125</td></tr>\n",
       "\t<tr><td>T    </td><td>H    </td><td>H    </td><td>0.125</td></tr>\n",
       "\t<tr><td>H    </td><td>T    </td><td>H    </td><td>0.125</td></tr>\n",
       "\t<tr><td>T    </td><td>T    </td><td>H    </td><td>0.125</td></tr>\n",
       "\t<tr><td>H    </td><td>H    </td><td>T    </td><td>0.125</td></tr>\n",
       "\t<tr><td>T    </td><td>H    </td><td>T    </td><td>0.125</td></tr>\n",
       "\t<tr><td>H    </td><td>T    </td><td>T    </td><td>0.125</td></tr>\n",
       "\t<tr><td>T    </td><td>T    </td><td>T    </td><td>0.125</td></tr>\n",
       "</tbody>\n",
       "</table>\n"
      ],
      "text/latex": [
       "\\begin{tabular}{r|llll}\n",
       " toss1 & toss2 & toss3 & probs\\\\\n",
       "\\hline\n",
       "\t H     & H     & H     & 0.125\\\\\n",
       "\t T     & H     & H     & 0.125\\\\\n",
       "\t H     & T     & H     & 0.125\\\\\n",
       "\t T     & T     & H     & 0.125\\\\\n",
       "\t H     & H     & T     & 0.125\\\\\n",
       "\t T     & H     & T     & 0.125\\\\\n",
       "\t H     & T     & T     & 0.125\\\\\n",
       "\t T     & T     & T     & 0.125\\\\\n",
       "\\end{tabular}\n"
      ],
      "text/markdown": [
       "\n",
       "| toss1 | toss2 | toss3 | probs |\n",
       "|---|---|---|---|\n",
       "| H     | H     | H     | 0.125 |\n",
       "| T     | H     | H     | 0.125 |\n",
       "| H     | T     | H     | 0.125 |\n",
       "| T     | T     | H     | 0.125 |\n",
       "| H     | H     | T     | 0.125 |\n",
       "| T     | H     | T     | 0.125 |\n",
       "| H     | T     | T     | 0.125 |\n",
       "| T     | T     | T     | 0.125 |\n",
       "\n"
      ],
      "text/plain": [
       "  toss1 toss2 toss3 probs\n",
       "1 H     H     H     0.125\n",
       "2 T     H     H     0.125\n",
       "3 H     T     H     0.125\n",
       "4 T     T     H     0.125\n",
       "5 H     H     T     0.125\n",
       "6 T     H     T     0.125\n",
       "7 H     T     T     0.125\n",
       "8 T     T     T     0.125"
      ]
     },
     "metadata": {},
     "output_type": "display_data"
    }
   ],
   "source": [
    "S"
   ]
  },
  {
   "cell_type": "code",
   "execution_count": 43,
   "metadata": {},
   "outputs": [
    {
     "data": {
      "text/html": [
       "<table>\n",
       "<thead><tr><th scope=col>toss1</th><th scope=col>toss2</th><th scope=col>toss3</th><th scope=col>probs</th></tr></thead>\n",
       "<tbody>\n",
       "\t<tr><td>1    </td><td>1    </td><td>1    </td><td>0.125</td></tr>\n",
       "\t<tr><td>0    </td><td>1    </td><td>1    </td><td>0.125</td></tr>\n",
       "\t<tr><td>1    </td><td>0    </td><td>1    </td><td>0.125</td></tr>\n",
       "\t<tr><td>0    </td><td>0    </td><td>1    </td><td>0.125</td></tr>\n",
       "\t<tr><td>1    </td><td>1    </td><td>0    </td><td>0.125</td></tr>\n",
       "\t<tr><td>0    </td><td>1    </td><td>0    </td><td>0.125</td></tr>\n",
       "\t<tr><td>1    </td><td>0    </td><td>0    </td><td>0.125</td></tr>\n",
       "\t<tr><td>0    </td><td>0    </td><td>0    </td><td>0.125</td></tr>\n",
       "</tbody>\n",
       "</table>\n"
      ],
      "text/latex": [
       "\\begin{tabular}{r|llll}\n",
       " toss1 & toss2 & toss3 & probs\\\\\n",
       "\\hline\n",
       "\t 1     & 1     & 1     & 0.125\\\\\n",
       "\t 0     & 1     & 1     & 0.125\\\\\n",
       "\t 1     & 0     & 1     & 0.125\\\\\n",
       "\t 0     & 0     & 1     & 0.125\\\\\n",
       "\t 1     & 1     & 0     & 0.125\\\\\n",
       "\t 0     & 1     & 0     & 0.125\\\\\n",
       "\t 1     & 0     & 0     & 0.125\\\\\n",
       "\t 0     & 0     & 0     & 0.125\\\\\n",
       "\\end{tabular}\n"
      ],
      "text/markdown": [
       "\n",
       "| toss1 | toss2 | toss3 | probs |\n",
       "|---|---|---|---|\n",
       "| 1     | 1     | 1     | 0.125 |\n",
       "| 0     | 1     | 1     | 0.125 |\n",
       "| 1     | 0     | 1     | 0.125 |\n",
       "| 0     | 0     | 1     | 0.125 |\n",
       "| 1     | 1     | 0     | 0.125 |\n",
       "| 0     | 1     | 0     | 0.125 |\n",
       "| 1     | 0     | 0     | 0.125 |\n",
       "| 0     | 0     | 0     | 0.125 |\n",
       "\n"
      ],
      "text/plain": [
       "  toss1 toss2 toss3 probs\n",
       "1 1     1     1     0.125\n",
       "2 0     1     1     0.125\n",
       "3 1     0     1     0.125\n",
       "4 0     0     1     0.125\n",
       "5 1     1     0     0.125\n",
       "6 0     1     0     0.125\n",
       "7 1     0     0     0.125\n",
       "8 0     0     0     0.125"
      ]
     },
     "metadata": {},
     "output_type": "display_data"
    }
   ],
   "source": [
    "#Cambiando las variables de Character a numéricas\n",
    "S$toss1<-ifelse(S$toss1==\"H\",1,0)\n",
    "S$toss2<-ifelse(S$toss2==\"H\",1,0)\n",
    "S$toss3<-ifelse(S$toss3==\"H\",1,0)\n",
    "S"
   ]
  },
  {
   "cell_type": "code",
   "execution_count": 44,
   "metadata": {},
   "outputs": [
    {
     "data": {
      "text/html": [
       "<table>\n",
       "<thead><tr><th scope=col>Aguilas</th><th scope=col>probs</th></tr></thead>\n",
       "<tbody>\n",
       "\t<tr><td>0    </td><td>0.125</td></tr>\n",
       "\t<tr><td>1    </td><td>0.375</td></tr>\n",
       "\t<tr><td>2    </td><td>0.375</td></tr>\n",
       "\t<tr><td>3    </td><td>0.125</td></tr>\n",
       "</tbody>\n",
       "</table>\n"
      ],
      "text/latex": [
       "\\begin{tabular}{r|ll}\n",
       " Aguilas & probs\\\\\n",
       "\\hline\n",
       "\t 0     & 0.125\\\\\n",
       "\t 1     & 0.375\\\\\n",
       "\t 2     & 0.375\\\\\n",
       "\t 3     & 0.125\\\\\n",
       "\\end{tabular}\n"
      ],
      "text/markdown": [
       "\n",
       "| Aguilas | probs |\n",
       "|---|---|\n",
       "| 0     | 0.125 |\n",
       "| 1     | 0.375 |\n",
       "| 2     | 0.375 |\n",
       "| 3     | 0.125 |\n",
       "\n"
      ],
      "text/plain": [
       "  Aguilas probs\n",
       "1 0       0.125\n",
       "2 1       0.375\n",
       "3 2       0.375\n",
       "4 3       0.125"
      ]
     },
     "metadata": {},
     "output_type": "display_data"
    }
   ],
   "source": [
    "#Obteniendo la tabla marginal de la variable aleatoria\n",
    "S_con_va<-addrv(S,FUN=sum,invars=c(\"toss1\",\"toss2\",\"toss3\"),name=\"Aguilas\")\n",
    "S_con_va_marginal<-marginal(S_con_va,\"Aguilas\")\n",
    "S_con_va_marginal"
   ]
  },
  {
   "cell_type": "code",
   "execution_count": 45,
   "metadata": {},
   "outputs": [
    {
     "data": {
      "image/png": "[encoded data removed]",
      "text/plain": [
       "plot without title"
      ]
     },
     "metadata": {},
     "output_type": "display_data"
    }
   ],
   "source": [
    "gf <- ggplot(data=S_con_va_marginal,aes(x=Aguilas,y = probs))\n",
    "gf + geom_col()"
   ]
  },
  {
   "cell_type": "markdown",
   "metadata": {},
   "source": [
    "**b) La suma de los números de las caras cuando se lanzan dos dados..**"
   ]
  },
  {
   "cell_type": "code",
   "execution_count": 46,
   "metadata": {},
   "outputs": [],
   "source": [
    "S_dados <- rolldie(2,makespace = TRUE) #lanzamiento de tres monedas"
   ]
  },
  {
   "cell_type": "code",
   "execution_count": 47,
   "metadata": {},
   "outputs": [],
   "source": [
    "#head(S)"
   ]
  },
  {
   "cell_type": "code",
   "execution_count": 48,
   "metadata": {},
   "outputs": [
    {
     "data": {
      "text/html": [
       "<table>\n",
       "<thead><tr><th scope=col>X1</th><th scope=col>X2</th><th scope=col>probs</th></tr></thead>\n",
       "<tbody>\n",
       "\t<tr><td>1         </td><td>1         </td><td>0.02777778</td></tr>\n",
       "\t<tr><td>2         </td><td>1         </td><td>0.02777778</td></tr>\n",
       "\t<tr><td>3         </td><td>1         </td><td>0.02777778</td></tr>\n",
       "\t<tr><td>4         </td><td>1         </td><td>0.02777778</td></tr>\n",
       "\t<tr><td>5         </td><td>1         </td><td>0.02777778</td></tr>\n",
       "\t<tr><td>6         </td><td>1         </td><td>0.02777778</td></tr>\n",
       "\t<tr><td>1         </td><td>2         </td><td>0.02777778</td></tr>\n",
       "\t<tr><td>2         </td><td>2         </td><td>0.02777778</td></tr>\n",
       "\t<tr><td>3         </td><td>2         </td><td>0.02777778</td></tr>\n",
       "\t<tr><td>4         </td><td>2         </td><td>0.02777778</td></tr>\n",
       "\t<tr><td>5         </td><td>2         </td><td>0.02777778</td></tr>\n",
       "\t<tr><td>6         </td><td>2         </td><td>0.02777778</td></tr>\n",
       "\t<tr><td>1         </td><td>3         </td><td>0.02777778</td></tr>\n",
       "\t<tr><td>2         </td><td>3         </td><td>0.02777778</td></tr>\n",
       "\t<tr><td>3         </td><td>3         </td><td>0.02777778</td></tr>\n",
       "\t<tr><td>4         </td><td>3         </td><td>0.02777778</td></tr>\n",
       "\t<tr><td>5         </td><td>3         </td><td>0.02777778</td></tr>\n",
       "\t<tr><td>6         </td><td>3         </td><td>0.02777778</td></tr>\n",
       "\t<tr><td>1         </td><td>4         </td><td>0.02777778</td></tr>\n",
       "\t<tr><td>2         </td><td>4         </td><td>0.02777778</td></tr>\n",
       "\t<tr><td>3         </td><td>4         </td><td>0.02777778</td></tr>\n",
       "\t<tr><td>4         </td><td>4         </td><td>0.02777778</td></tr>\n",
       "\t<tr><td>5         </td><td>4         </td><td>0.02777778</td></tr>\n",
       "\t<tr><td>6         </td><td>4         </td><td>0.02777778</td></tr>\n",
       "\t<tr><td>1         </td><td>5         </td><td>0.02777778</td></tr>\n",
       "\t<tr><td>2         </td><td>5         </td><td>0.02777778</td></tr>\n",
       "\t<tr><td>3         </td><td>5         </td><td>0.02777778</td></tr>\n",
       "\t<tr><td>4         </td><td>5         </td><td>0.02777778</td></tr>\n",
       "\t<tr><td>5         </td><td>5         </td><td>0.02777778</td></tr>\n",
       "\t<tr><td>6         </td><td>5         </td><td>0.02777778</td></tr>\n",
       "\t<tr><td>1         </td><td>6         </td><td>0.02777778</td></tr>\n",
       "\t<tr><td>2         </td><td>6         </td><td>0.02777778</td></tr>\n",
       "\t<tr><td>3         </td><td>6         </td><td>0.02777778</td></tr>\n",
       "\t<tr><td>4         </td><td>6         </td><td>0.02777778</td></tr>\n",
       "\t<tr><td>5         </td><td>6         </td><td>0.02777778</td></tr>\n",
       "\t<tr><td>6         </td><td>6         </td><td>0.02777778</td></tr>\n",
       "</tbody>\n",
       "</table>\n"
      ],
      "text/latex": [
       "\\begin{tabular}{r|lll}\n",
       " X1 & X2 & probs\\\\\n",
       "\\hline\n",
       "\t 1          & 1          & 0.02777778\\\\\n",
       "\t 2          & 1          & 0.02777778\\\\\n",
       "\t 3          & 1          & 0.02777778\\\\\n",
       "\t 4          & 1          & 0.02777778\\\\\n",
       "\t 5          & 1          & 0.02777778\\\\\n",
       "\t 6          & 1          & 0.02777778\\\\\n",
       "\t 1          & 2          & 0.02777778\\\\\n",
       "\t 2          & 2          & 0.02777778\\\\\n",
       "\t 3          & 2          & 0.02777778\\\\\n",
       "\t 4          & 2          & 0.02777778\\\\\n",
       "\t 5          & 2          & 0.02777778\\\\\n",
       "\t 6          & 2          & 0.02777778\\\\\n",
       "\t 1          & 3          & 0.02777778\\\\\n",
       "\t 2          & 3          & 0.02777778\\\\\n",
       "\t 3          & 3          & 0.02777778\\\\\n",
       "\t 4          & 3          & 0.02777778\\\\\n",
       "\t 5          & 3          & 0.02777778\\\\\n",
       "\t 6          & 3          & 0.02777778\\\\\n",
       "\t 1          & 4          & 0.02777778\\\\\n",
       "\t 2          & 4          & 0.02777778\\\\\n",
       "\t 3          & 4          & 0.02777778\\\\\n",
       "\t 4          & 4          & 0.02777778\\\\\n",
       "\t 5          & 4          & 0.02777778\\\\\n",
       "\t 6          & 4          & 0.02777778\\\\\n",
       "\t 1          & 5          & 0.02777778\\\\\n",
       "\t 2          & 5          & 0.02777778\\\\\n",
       "\t 3          & 5          & 0.02777778\\\\\n",
       "\t 4          & 5          & 0.02777778\\\\\n",
       "\t 5          & 5          & 0.02777778\\\\\n",
       "\t 6          & 5          & 0.02777778\\\\\n",
       "\t 1          & 6          & 0.02777778\\\\\n",
       "\t 2          & 6          & 0.02777778\\\\\n",
       "\t 3          & 6          & 0.02777778\\\\\n",
       "\t 4          & 6          & 0.02777778\\\\\n",
       "\t 5          & 6          & 0.02777778\\\\\n",
       "\t 6          & 6          & 0.02777778\\\\\n",
       "\\end{tabular}\n"
      ],
      "text/markdown": [
       "\n",
       "| X1 | X2 | probs |\n",
       "|---|---|---|\n",
       "| 1          | 1          | 0.02777778 |\n",
       "| 2          | 1          | 0.02777778 |\n",
       "| 3          | 1          | 0.02777778 |\n",
       "| 4          | 1          | 0.02777778 |\n",
       "| 5          | 1          | 0.02777778 |\n",
       "| 6          | 1          | 0.02777778 |\n",
       "| 1          | 2          | 0.02777778 |\n",
       "| 2          | 2          | 0.02777778 |\n",
       "| 3          | 2          | 0.02777778 |\n",
       "| 4          | 2          | 0.02777778 |\n",
       "| 5          | 2          | 0.02777778 |\n",
       "| 6          | 2          | 0.02777778 |\n",
       "| 1          | 3          | 0.02777778 |\n",
       "| 2          | 3          | 0.02777778 |\n",
       "| 3          | 3          | 0.02777778 |\n",
       "| 4          | 3          | 0.02777778 |\n",
       "| 5          | 3          | 0.02777778 |\n",
       "| 6          | 3          | 0.02777778 |\n",
       "| 1          | 4          | 0.02777778 |\n",
       "| 2          | 4          | 0.02777778 |\n",
       "| 3          | 4          | 0.02777778 |\n",
       "| 4          | 4          | 0.02777778 |\n",
       "| 5          | 4          | 0.02777778 |\n",
       "| 6          | 4          | 0.02777778 |\n",
       "| 1          | 5          | 0.02777778 |\n",
       "| 2          | 5          | 0.02777778 |\n",
       "| 3          | 5          | 0.02777778 |\n",
       "| 4          | 5          | 0.02777778 |\n",
       "| 5          | 5          | 0.02777778 |\n",
       "| 6          | 5          | 0.02777778 |\n",
       "| 1          | 6          | 0.02777778 |\n",
       "| 2          | 6          | 0.02777778 |\n",
       "| 3          | 6          | 0.02777778 |\n",
       "| 4          | 6          | 0.02777778 |\n",
       "| 5          | 6          | 0.02777778 |\n",
       "| 6          | 6          | 0.02777778 |\n",
       "\n"
      ],
      "text/plain": [
       "   X1 X2 probs     \n",
       "1  1  1  0.02777778\n",
       "2  2  1  0.02777778\n",
       "3  3  1  0.02777778\n",
       "4  4  1  0.02777778\n",
       "5  5  1  0.02777778\n",
       "6  6  1  0.02777778\n",
       "7  1  2  0.02777778\n",
       "8  2  2  0.02777778\n",
       "9  3  2  0.02777778\n",
       "10 4  2  0.02777778\n",
       "11 5  2  0.02777778\n",
       "12 6  2  0.02777778\n",
       "13 1  3  0.02777778\n",
       "14 2  3  0.02777778\n",
       "15 3  3  0.02777778\n",
       "16 4  3  0.02777778\n",
       "17 5  3  0.02777778\n",
       "18 6  3  0.02777778\n",
       "19 1  4  0.02777778\n",
       "20 2  4  0.02777778\n",
       "21 3  4  0.02777778\n",
       "22 4  4  0.02777778\n",
       "23 5  4  0.02777778\n",
       "24 6  4  0.02777778\n",
       "25 1  5  0.02777778\n",
       "26 2  5  0.02777778\n",
       "27 3  5  0.02777778\n",
       "28 4  5  0.02777778\n",
       "29 5  5  0.02777778\n",
       "30 6  5  0.02777778\n",
       "31 1  6  0.02777778\n",
       "32 2  6  0.02777778\n",
       "33 3  6  0.02777778\n",
       "34 4  6  0.02777778\n",
       "35 5  6  0.02777778\n",
       "36 6  6  0.02777778"
      ]
     },
     "metadata": {},
     "output_type": "display_data"
    }
   ],
   "source": [
    "S_dados"
   ]
  },
  {
   "cell_type": "code",
   "execution_count": 49,
   "metadata": {},
   "outputs": [
    {
     "data": {
      "text/html": [
       "<table>\n",
       "<thead><tr><th scope=col>suma2dados</th><th scope=col>probs</th></tr></thead>\n",
       "<tbody>\n",
       "\t<tr><td> 2        </td><td>0.02777778</td></tr>\n",
       "\t<tr><td> 3        </td><td>0.05555556</td></tr>\n",
       "\t<tr><td> 4        </td><td>0.08333333</td></tr>\n",
       "\t<tr><td> 5        </td><td>0.11111111</td></tr>\n",
       "\t<tr><td> 6        </td><td>0.13888889</td></tr>\n",
       "\t<tr><td> 7        </td><td>0.16666667</td></tr>\n",
       "\t<tr><td> 8        </td><td>0.13888889</td></tr>\n",
       "\t<tr><td> 9        </td><td>0.11111111</td></tr>\n",
       "\t<tr><td>10        </td><td>0.08333333</td></tr>\n",
       "\t<tr><td>11        </td><td>0.05555556</td></tr>\n",
       "\t<tr><td>12        </td><td>0.02777778</td></tr>\n",
       "</tbody>\n",
       "</table>\n"
      ],
      "text/latex": [
       "\\begin{tabular}{r|ll}\n",
       " suma2dados & probs\\\\\n",
       "\\hline\n",
       "\t  2         & 0.02777778\\\\\n",
       "\t  3         & 0.05555556\\\\\n",
       "\t  4         & 0.08333333\\\\\n",
       "\t  5         & 0.11111111\\\\\n",
       "\t  6         & 0.13888889\\\\\n",
       "\t  7         & 0.16666667\\\\\n",
       "\t  8         & 0.13888889\\\\\n",
       "\t  9         & 0.11111111\\\\\n",
       "\t 10         & 0.08333333\\\\\n",
       "\t 11         & 0.05555556\\\\\n",
       "\t 12         & 0.02777778\\\\\n",
       "\\end{tabular}\n"
      ],
      "text/markdown": [
       "\n",
       "| suma2dados | probs |\n",
       "|---|---|\n",
       "|  2         | 0.02777778 |\n",
       "|  3         | 0.05555556 |\n",
       "|  4         | 0.08333333 |\n",
       "|  5         | 0.11111111 |\n",
       "|  6         | 0.13888889 |\n",
       "|  7         | 0.16666667 |\n",
       "|  8         | 0.13888889 |\n",
       "|  9         | 0.11111111 |\n",
       "| 10         | 0.08333333 |\n",
       "| 11         | 0.05555556 |\n",
       "| 12         | 0.02777778 |\n",
       "\n"
      ],
      "text/plain": [
       "   suma2dados probs     \n",
       "1   2         0.02777778\n",
       "2   3         0.05555556\n",
       "3   4         0.08333333\n",
       "4   5         0.11111111\n",
       "5   6         0.13888889\n",
       "6   7         0.16666667\n",
       "7   8         0.13888889\n",
       "8   9         0.11111111\n",
       "9  10         0.08333333\n",
       "10 11         0.05555556\n",
       "11 12         0.02777778"
      ]
     },
     "metadata": {},
     "output_type": "display_data"
    }
   ],
   "source": [
    "#Obteniendo la tabla marginal de la variable aleatoria\n",
    "S_dados_con_va<-addrv(S_dados,FUN=sum,invars=c(\"X1\",\"X2\"),name=\"suma2dados\")\n",
    "S_dados_con_va_marginal<-marginal(S_dados_con_va,\"suma2dados\")\n",
    "S_dados_con_va_marginal"
   ]
  },
  {
   "cell_type": "code",
   "execution_count": 50,
   "metadata": {},
   "outputs": [
    {
     "data": {
      "image/png": "[encoded data removed]",
      "text/plain": [
       "plot without title"
      ]
     },
     "metadata": {},
     "output_type": "display_data"
    }
   ],
   "source": [
    "gf_dados <- ggplot(data=S_dados_con_va_marginal,aes(x=suma2dados,y = probs))\n",
    "gf_dados + geom_col()"
   ]
  },
  {
   "cell_type": "markdown",
   "metadata": {},
   "source": [
    "6) Se venden 8000 boletos para una rifa de $\\$5000.00$ y cada boleto cuesta $\\$2.00$.\n",
    "\n",
    "a) Encontrar la ganancia esperada del comprador de un boleto.\n",
    " \n",
    "b) Hacer la gráfica de la ganancia esperada que tiene una compradora en términos de un número de boletos $n$.\n",
    " \n",
    "c) ¿Cuál debería de ser el premio mínimo para que se pudiese garantizar “salir a mano” al comprar todos los boletos."
   ]
  },
  {
   "cell_type": "markdown",
   "metadata": {},
   "source": [
    "**a) Encontrar la ganancia esperada del comprador de un boleto.**"
   ]
  },
  {
   "cell_type": "code",
   "execution_count": 51,
   "metadata": {},
   "outputs": [
    {
     "data": {
      "text/html": [
       "<table>\n",
       "<thead><tr><th scope=col>Jugadores</th><th scope=col>probs</th></tr></thead>\n",
       "<tbody>\n",
       "\t<tr><td>1       </td><td>0.000125</td></tr>\n",
       "\t<tr><td>2       </td><td>0.000125</td></tr>\n",
       "\t<tr><td>3       </td><td>0.000125</td></tr>\n",
       "\t<tr><td>4       </td><td>0.000125</td></tr>\n",
       "\t<tr><td>5       </td><td>0.000125</td></tr>\n",
       "\t<tr><td>6       </td><td>0.000125</td></tr>\n",
       "</tbody>\n",
       "</table>\n"
      ],
      "text/latex": [
       "\\begin{tabular}{r|ll}\n",
       " Jugadores & probs\\\\\n",
       "\\hline\n",
       "\t 1        & 0.000125\\\\\n",
       "\t 2        & 0.000125\\\\\n",
       "\t 3        & 0.000125\\\\\n",
       "\t 4        & 0.000125\\\\\n",
       "\t 5        & 0.000125\\\\\n",
       "\t 6        & 0.000125\\\\\n",
       "\\end{tabular}\n"
      ],
      "text/markdown": [
       "\n",
       "| Jugadores | probs |\n",
       "|---|---|\n",
       "| 1        | 0.000125 |\n",
       "| 2        | 0.000125 |\n",
       "| 3        | 0.000125 |\n",
       "| 4        | 0.000125 |\n",
       "| 5        | 0.000125 |\n",
       "| 6        | 0.000125 |\n",
       "\n"
      ],
      "text/plain": [
       "  Jugadores probs   \n",
       "1 1         0.000125\n",
       "2 2         0.000125\n",
       "3 3         0.000125\n",
       "4 4         0.000125\n",
       "5 5         0.000125\n",
       "6 6         0.000125"
      ]
     },
     "metadata": {},
     "output_type": "display_data"
    }
   ],
   "source": [
    "#Primero, creamos el grupo de jugadores\n",
    "jugadores<-data.frame(seq(1,8000,1))\n",
    "\n",
    "#Cambiando el nombre a la columna\n",
    "names(jugadores)[1]=\"Jugadores\"\n",
    "\n",
    "#Añadimos la columna con las probabilidades\n",
    "juego_rifa<-probspace(jugadores,makespace=TRUE)\n",
    "\n",
    "#Para ver como quedó la tabla:\n",
    "head(juego_rifa)"
   ]
  },
  {
   "cell_type": "markdown",
   "metadata": {},
   "source": [
    "seleccionamos a un solo jugador y determinamos la probabilidad de que gane, según el número de boletos que compra "
   ]
  },
  {
   "cell_type": "code",
   "execution_count": 52,
   "metadata": {},
   "outputs": [],
   "source": [
    "#juego_rifa_rv<-addrv(juego_rifa,FUN=sumcum,invars=juego_rifa$probs,name=\"suma Acumulada\")"
   ]
  },
  {
   "cell_type": "code",
   "execution_count": 53,
   "metadata": {},
   "outputs": [],
   "source": [
    "#juego_rifa_marginal<-marginal(juego_rifa,\"suma Acumulada\")"
   ]
  },
  {
   "cell_type": "code",
   "execution_count": 54,
   "metadata": {},
   "outputs": [
    {
     "data": {
      "text/html": [
       "0.000125"
      ],
      "text/latex": [
       "0.000125"
      ],
      "text/markdown": [
       "0.000125"
      ],
      "text/plain": [
       "[1] 0.000125"
      ]
     },
     "metadata": {},
     "output_type": "display_data"
    }
   ],
   "source": [
    "#Seleccionamos a un jugador para calcular su probabilidad:\n",
    "probabilidad_ganar = juego_rifa[1,2]\n",
    "probabilidad_ganar"
   ]
  },
  {
   "cell_type": "code",
   "execution_count": 55,
   "metadata": {},
   "outputs": [
    {
     "data": {
      "text/html": [
       "0.999875"
      ],
      "text/latex": [
       "0.999875"
      ],
      "text/markdown": [
       "0.999875"
      ],
      "text/plain": [
       "[1] 0.999875"
      ]
     },
     "metadata": {},
     "output_type": "display_data"
    }
   ],
   "source": [
    "probablidad_no_ganar = 1-probabilidad_ganar \n",
    "probablidad_no_ganar"
   ]
  },
  {
   "cell_type": "code",
   "execution_count": 56,
   "metadata": {},
   "outputs": [
    {
     "name": "stdout",
     "output_type": "stream",
     "text": [
      "[1] \"Si gana, obtendría: \"\n"
     ]
    },
    {
     "data": {
      "text/html": [
       "4998"
      ],
      "text/latex": [
       "4998"
      ],
      "text/markdown": [
       "4998"
      ],
      "text/plain": [
       "[1] 4998"
      ]
     },
     "metadata": {},
     "output_type": "display_data"
    },
    {
     "name": "stdout",
     "output_type": "stream",
     "text": [
      "[1] \"Si no gana, obtendría: \"\n"
     ]
    },
    {
     "data": {
      "text/html": [
       "-2"
      ],
      "text/latex": [
       "-2"
      ],
      "text/markdown": [
       "-2"
      ],
      "text/plain": [
       "[1] -2"
      ]
     },
     "metadata": {},
     "output_type": "display_data"
    }
   ],
   "source": [
    "si_gana = 5000.0-2.0\n",
    "si_no_gana = -2.0\n",
    "\n",
    "#Entonces, el resultado se vería comoo una binomial, donde los dos posibles resultados son:\n",
    "print(\"Si gana, obtendría: \")\n",
    "si_gana\n",
    "print(\"Si no gana, obtendría: \")\n",
    "si_no_gana"
   ]
  },
  {
   "cell_type": "code",
   "execution_count": 57,
   "metadata": {},
   "outputs": [
    {
     "name": "stdout",
     "output_type": "stream",
     "text": [
      "[1] \"El valor esperado sería: \"\n"
     ]
    },
    {
     "data": {
      "text/html": [
       "-1.375"
      ],
      "text/latex": [
       "-1.375"
      ],
      "text/markdown": [
       "-1.375"
      ],
      "text/plain": [
       "[1] -1.375"
      ]
     },
     "metadata": {},
     "output_type": "display_data"
    }
   ],
   "source": [
    "#Por lo tanto, el valor esperado sería:\n",
    "valor_esperado = (probabilidad_ganar*si_gana)+(probablidad_no_ganar*si_no_gana)\n",
    "print(\"El valor esperado sería: \")\n",
    "valor_esperado"
   ]
  },
  {
   "cell_type": "markdown",
   "metadata": {},
   "source": [
    "**b) Hacer la gráfica de la ganancia esperada que tiene una compradora en términos de un número de boletos $n$.**"
   ]
  },
  {
   "cell_type": "code",
   "execution_count": 58,
   "metadata": {},
   "outputs": [],
   "source": [
    "juego_rifa_rv<-addrv(juego_rifa,probganar=juego_rifa$Jugadores*juego_rifa$probs,invars=c(\"Jugadores\",\"probs\"))\n",
    "#Revisando el resultado\n",
    "#print(juego_rifa_rv)\n",
    "#Cambiando el nombre a la columna\n",
    "names(juego_rifa_rv)[1]=\"NumBoletos\""
   ]
  },
  {
   "cell_type": "code",
   "execution_count": 59,
   "metadata": {},
   "outputs": [
    {
     "data": {
      "image/png": "[encoded data removed]",
      "text/plain": [
       "plot without title"
      ]
     },
     "metadata": {},
     "output_type": "display_data"
    }
   ],
   "source": [
    "gf_probganar <- ggplot(data=juego_rifa_rv,aes(x=NumBoletos,y = probganar))\n",
    "gf_probganar + geom_col()"
   ]
  },
  {
   "cell_type": "code",
   "execution_count": 60,
   "metadata": {},
   "outputs": [
    {
     "name": "stdout",
     "output_type": "stream",
     "text": [
      "package 'dplyr' successfully unpacked and MD5 sums checked\n",
      "\n",
      "The downloaded binary packages are in\n",
      "\tC:\\Users\\Angel Rafael\\AppData\\Local\\Temp\\RtmpgpynSy\\downloaded_packages\n"
     ]
    },
    {
     "name": "stderr",
     "output_type": "stream",
     "text": [
      "Warning message:\n",
      "\"package 'dplyr' was built under R version 3.6.1\"\n",
      "Attaching package: 'dplyr'\n",
      "\n",
      "The following object is masked from 'package:ggplot2':\n",
      "\n",
      "    vars\n",
      "\n",
      "The following objects are masked from 'package:prob':\n",
      "\n",
      "    intersect, setdiff, union\n",
      "\n",
      "The following objects are masked from 'package:timeSeries':\n",
      "\n",
      "    filter, lag\n",
      "\n",
      "The following objects are masked from 'package:stats':\n",
      "\n",
      "    filter, lag\n",
      "\n",
      "The following objects are masked from 'package:base':\n",
      "\n",
      "    intersect, setdiff, setequal, union\n",
      "\n"
     ]
    }
   ],
   "source": [
    "install.packages('dplyr')\n",
    "library(dplyr)"
   ]
  },
  {
   "cell_type": "code",
   "execution_count": null,
   "metadata": {},
   "outputs": [],
   "source": []
  },
  {
   "cell_type": "markdown",
   "metadata": {},
   "source": [
    "Una buena liga sobre el uso de mutate (entre muchas otras funciones) es: https://rsanchezs.gitbooks.io/rprogramming/content/chapter9/mutate.html"
   ]
  },
  {
   "cell_type": "code",
   "execution_count": 61,
   "metadata": {},
   "outputs": [],
   "source": [
    "#juego<-data.frame(juego_rifa_rv)"
   ]
  },
  {
   "cell_type": "code",
   "execution_count": 62,
   "metadata": {},
   "outputs": [],
   "source": [
    "\n",
    "#Haciendo gráfica de la ganancia esperada\n",
    "ganancia_Esperada<-mutate(juego_rifa_rv,ganancia=(5000-(juego_rifa_rv$NumBoletos*(2))))\n",
    "#-(juego_rifa_rv$NumBoletos*(2))\n",
    "#head(ganancia_Esperada)\n",
    "#ganancia_Esperada<-addrv(juego_rifa_rv,ganancia=((juego_rifa_rv$probganar*(5000.0*(-2*juego_rifa_rv$NumBoletos)))+((1-juego_rifa_rv$probganar)*(-2*NumBoletos))))\n",
    "#print(ganancia_Esperada)"
   ]
  },
  {
   "cell_type": "code",
   "execution_count": 63,
   "metadata": {},
   "outputs": [],
   "source": [
    "ganancia_Esperada<-mutate(ganancia_Esperada,perdida=(ganancia_Esperada$NumBoletos*(-2)))\n",
    "#head(ganancia_Esperada)"
   ]
  },
  {
   "cell_type": "code",
   "execution_count": 64,
   "metadata": {},
   "outputs": [],
   "source": [
    "#ganancia_Esperada<-mutate(ganancia_Esperada,perdida=(ganancia_Esperada$NumBoletos*(-2)))\n",
    "#head(ganancia_Esperada)"
   ]
  },
  {
   "cell_type": "code",
   "execution_count": 65,
   "metadata": {},
   "outputs": [],
   "source": [
    "ganancia_Esperada<-mutate(ganancia_Esperada,valor_esperado=((ganancia_Esperada$probganar*ganancia_Esperada$ganancia)+((1-ganancia_Esperada$probganar)*ganancia_Esperada$perdida)))\n",
    "#head(ganancia_Esperada)"
   ]
  },
  {
   "cell_type": "code",
   "execution_count": 66,
   "metadata": {},
   "outputs": [
    {
     "data": {
      "image/png": "[encoded data removed]",
      "text/plain": [
       "plot without title"
      ]
     },
     "metadata": {},
     "output_type": "display_data"
    }
   ],
   "source": [
    "gf_ganancia <- ggplot(data=ganancia_Esperada,aes(x=NumBoletos,y = valor_esperado))\n",
    "gf_ganancia + geom_col()"
   ]
  },
  {
   "cell_type": "code",
   "execution_count": 67,
   "metadata": {},
   "outputs": [],
   "source": [
    "#print(ganancia_Esperada)"
   ]
  },
  {
   "cell_type": "markdown",
   "metadata": {},
   "source": [
    "**c) ¿Cuál debería de ser el premio mínimo para que se pudiese garantizar “salir a mano” al comprar todos los boletos.**"
   ]
  },
  {
   "cell_type": "code",
   "execution_count": 68,
   "metadata": {},
   "outputs": [
    {
     "name": "stdout",
     "output_type": "stream",
     "text": [
      "[1] \"Por lo tanto, para quedar a mano debería quedar en cero el valor de comprar todos los boletos, de modo que el premio mínimo para salir a mano al comprar todos los boletos es:\"\n"
     ]
    },
    {
     "data": {
      "text/html": [
       "16000"
      ],
      "text/latex": [
       "16000"
      ],
      "text/markdown": [
       "16000"
      ],
      "text/plain": [
       "[1] 16000"
      ]
     },
     "metadata": {},
     "output_type": "display_data"
    }
   ],
   "source": [
    "print(\"Por lo tanto, para quedar a mano debería quedar en cero el valor de comprar todos los boletos, de modo que el premio mínimo para salir a mano al comprar todos los boletos es:\")\n",
    "premioOptimo<-2*8000\n",
    "premioOptimo"
   ]
  },
  {
   "cell_type": "markdown",
   "metadata": {},
   "source": [
    "esto es debido a que nos quedaría lo siguiente:<br>\n",
    "Valor esperado = [premio-(8000 x 2)]+[(1-1)x( 8000 x 2)] = 0 <br>\n",
    "Valor esperado = [premio-(16000)]+[(0)x( 8000 x 2)] = 0<br>\n",
    "Valor esperado = [premio-(16000)]+0 = 0<br>\n",
    "Valor esperado = premio = +16000<br>"
   ]
  },
  {
   "cell_type": "code",
   "execution_count": 69,
   "metadata": {},
   "outputs": [],
   "source": [
    "#Para demostrarlo...\n",
    "ganancia_EsperadaOptima<-mutate(juego_rifa_rv,ganancia=((premioOptimo)-(juego_rifa_rv$NumBoletos*(2))))\n",
    "ganancia_EsperadaOptima<-mutate(ganancia_EsperadaOptima,perdida=(ganancia_EsperadaOptima$NumBoletos*(-2)))\n",
    "ganancia_EsperadaOptima<-mutate(ganancia_EsperadaOptima,valor_esperado=((ganancia_EsperadaOptima$probganar*ganancia_EsperadaOptima$ganancia)+((1-ganancia_EsperadaOptima$probganar)*ganancia_EsperadaOptima$perdida)))\n"
   ]
  },
  {
   "cell_type": "code",
   "execution_count": 70,
   "metadata": {},
   "outputs": [
    {
     "data": {
      "image/png": "[encoded data removed]",
      "text/plain": [
       "plot without title"
      ]
     },
     "metadata": {},
     "output_type": "display_data"
    }
   ],
   "source": [
    "gf_gananciaOptima <- ggplot(data=ganancia_EsperadaOptima,aes(x=NumBoletos,y = valor_esperado))\n",
    "gf_gananciaOptima + geom_col()"
   ]
  },
  {
   "cell_type": "code",
   "execution_count": 71,
   "metadata": {},
   "outputs": [
    {
     "name": "stdout",
     "output_type": "stream",
     "text": [
      "[1] 0\n"
     ]
    }
   ],
   "source": [
    "print(ganancia_EsperadaOptima[5,length(ganancia_EsperadaOptima)])"
   ]
  },
  {
   "cell_type": "code",
   "execution_count": 72,
   "metadata": {},
   "outputs": [],
   "source": [
    "#print(ganancia_EsperadaOptima)"
   ]
  },
  {
   "cell_type": "markdown",
   "metadata": {},
   "source": [
    "---"
   ]
  },
  {
   "cell_type": "markdown",
   "metadata": {},
   "source": [
    "## Parte 2: 2_core_R\n",
    "### Leer, ejecutar y proponer sus propios ejemplos de uso de lenguaje para los ejemplos (en computadora):"
   ]
  },
  {
   "cell_type": "markdown",
   "metadata": {},
   "source": [
    "# Ejemplos y enunciados de diferentes libros"
   ]
  },
  {
   "cell_type": "markdown",
   "metadata": {},
   "source": [
    "En esta sección se revisan funciones básicas en R. Las definiciones que toca son:\n",
    "+ Vectores\n",
    "    + Función combine\n",
    "    + Set.seed\n",
    "    + Funciones que crean vectores\n",
    "    + Operaciones **con** vectores\n",
    "    + Operaciones **entre** vectores\n",
    "    + creación de arreglo\n",
    "    + Tamaño de la arreglo\n",
    "    + función sequence\n",
    "    + cambio en el valor de valores dentro de un arreglo (un valor particular o un rango)\n",
    "    + media de un arreglo\n",
    "    + creación de un data frame\n",
    "    + comparaciones entre arreglos\n",
    "    + Función table\n",
    "    + Hacer porcentajes con la función table\n",
    "    + función barplot\n",
    "    + Función plot\n",
    "    + Función getwd()\n",
    "    + Función Source\n",
    "+ Funciones del user (más de un renglón)\n",
    "    + Funciones con un renglón\n",
    "    + Operaciones vectorizadas en R\n",
    "    + Función con extra arguments\n",
    "    + Función Integrate\n",
    "    + Función curve\n",
    "+ Vectores y Matrices\n",
    "    + Creación de una matriz\n",
    "    + Creación de un vector\n",
    "    + Ingresar vector a una matriz como renglón\n",
    "    + Función rowSums()\n",
    "    + Función apply()\n",
    "    + Operador de multiplicación de matrices %*%\n",
    "    + Extraer elementos de una matriz\n",
    "    + Extraer un renglón\n",
    "    + matrix of constants\n",
    "    + Matrix operations for numeric matrices in R:\n",
    "+ Data Frames\n",
    "    + Data sets package\n",
    "    + Función head\n",
    "    + Sample size and dimension\n",
    "    + Función names()\n",
    "    + Structure of the data (str)\n",
    "    + Función as.matrix()\n",
    "    + Missing Values (función is.na)\n",
    "    + Función Summary, (Compute summary statistics)\n",
    "    + Extraer datos de un data frame\n",
    "    + Extraer una variable\n",
    "    + Histogramas\n",
    "    + Attaching th data frame\n",
    "    + Función detach\n",
    "    + función rm\n",
    "    + Función With\n",
    "    + Scatterplots and correlations\n",
    "    + Función pairs\n",
    "    + Función cor para correlaciones\n",
    "    \n",
    "\n",
    "\n"
   ]
  },
  {
   "cell_type": "markdown",
   "metadata": {},
   "source": [
    "## J. Albert & M. Rizzo, \"R by Example\", 2012."
   ]
  },
  {
   "cell_type": "markdown",
   "metadata": {},
   "source": [
    "El libro tiene github: https://github.com/mariarizzo/RbyExample"
   ]
  },
  {
   "cell_type": "code",
   "execution_count": 73,
   "metadata": {},
   "outputs": [],
   "source": [
    "options(repr.plot.width=4, repr.plot.height=4) #esta línea sólo se ejecuta para jupyterlab con R"
   ]
  },
  {
   "cell_type": "markdown",
   "metadata": {},
   "source": [
    "**En algunas líneas del código siguiente no es necesario colocar print (sólo se realiza por la integración entre Jupyterlab y R)**"
   ]
  },
  {
   "cell_type": "markdown",
   "metadata": {},
   "source": [
    "## Vectores"
   ]
  },
  {
   "cell_type": "markdown",
   "metadata": {},
   "source": [
    "c función `combine` y crea un vector de sus argumentos que se almacena en `x`, un vector:"
   ]
  },
  {
   "cell_type": "code",
   "execution_count": 74,
   "metadata": {},
   "outputs": [],
   "source": [
    "x <- c(-2, 109, 1, 0) "
   ]
  },
  {
   "cell_type": "code",
   "execution_count": 75,
   "metadata": {},
   "outputs": [
    {
     "name": "stdout",
     "output_type": "stream",
     "text": [
      "[1]  -2 109   1   0\n"
     ]
    }
   ],
   "source": [
    "print(x)"
   ]
  },
  {
   "cell_type": "markdown",
   "metadata": {},
   "source": [
    "---\n",
    "**\n",
    "---\n",
    "**\n",
    "---\n",
    "**\n",
    "---\n",
    "#### Mi Ejemplo:\n",
    "La función `combine` se puede usar tanto para strings como para números:"
   ]
  },
  {
   "cell_type": "code",
   "execution_count": 76,
   "metadata": {},
   "outputs": [
    {
     "name": "stdout",
     "output_type": "stream",
     "text": [
      "[1] \"hola\"  \"adios\"\n"
     ]
    }
   ],
   "source": [
    "stringcomb<-c(\"hola\",\"adios\")\n",
    "print(stringcomb)"
   ]
  },
  {
   "cell_type": "code",
   "execution_count": 77,
   "metadata": {},
   "outputs": [
    {
     "name": "stdout",
     "output_type": "stream",
     "text": [
      "[1] 1 2\n"
     ]
    }
   ],
   "source": [
    "Intcomb<-c(1,2)\n",
    "print(Intcomb)"
   ]
  },
  {
   "cell_type": "code",
   "execution_count": 78,
   "metadata": {},
   "outputs": [
    {
     "name": "stdout",
     "output_type": "stream",
     "text": [
      "[1] 1 2\n"
     ]
    }
   ],
   "source": [
    "DoubleComb<-c(1.0,2.0)\n",
    "print(DoubleComb)"
   ]
  },
  {
   "cell_type": "markdown",
   "metadata": {},
   "source": [
    "Pero no aceptan diferentes tipos de datos, en caso de suceder esto los convierte todos a string:"
   ]
  },
  {
   "cell_type": "code",
   "execution_count": 79,
   "metadata": {},
   "outputs": [
    {
     "name": "stdout",
     "output_type": "stream",
     "text": [
      "[1] \"hola\"  \"2\"     \"veces\" \"3\"    \n"
     ]
    }
   ],
   "source": [
    "strIntcomb<-c(\"hola\",2,\"veces\",3.0)\n",
    "print(strIntcomb)"
   ]
  },
  {
   "cell_type": "markdown",
   "metadata": {},
   "source": [
    "#### Fin de mi ejemplo\n",
    "**\n",
    "---\n",
    "---\n",
    "**\n",
    "---\n",
    "**\n",
    "---\n"
   ]
  },
  {
   "cell_type": "markdown",
   "metadata": {},
   "source": [
    "Tenemos funciones que crean vectores por ejemplo:"
   ]
  },
  {
   "cell_type": "code",
   "execution_count": 80,
   "metadata": {},
   "outputs": [],
   "source": [
    "set.seed(2000)\n",
    "y <- rpois(200, lambda = .61)"
   ]
  },
  {
   "cell_type": "code",
   "execution_count": 81,
   "metadata": {},
   "outputs": [
    {
     "name": "stdout",
     "output_type": "stream",
     "text": [
      "  [1] 0 1 0 0 1 0 2 1 1 1 0 0 0 0 3 0 1 0 2 0 2 2 1 1 2 1 0 1 1 0 1 0 0 2 1 1 0\n",
      " [38] 2 0 0 1 0 0 0 1 0 1 0 1 2 0 1 0 1 0 0 0 1 2 0 0 1 0 0 0 1 0 1 0 0 0 0 1 1\n",
      " [75] 1 0 0 0 0 1 0 1 0 4 1 0 1 1 2 0 1 1 1 1 0 0 1 0 1 1 1 0 0 1 0 0 0 2 0 0 1\n",
      "[112] 0 1 3 1 1 0 0 1 2 1 0 0 6 0 0 1 0 0 0 1 0 1 0 1 1 0 0 0 0 0 2 0 0 0 1 0 0\n",
      "[149] 0 1 1 0 0 1 1 0 1 0 1 1 0 1 0 0 0 0 1 0 1 1 0 1 2 1 0 1 0 0 1 0 0 2 1 0 2\n",
      "[186] 0 0 0 1 2 1 0 1 0 0 0 0 1 0 0\n"
     ]
    }
   ],
   "source": [
    "print(y)"
   ]
  },
  {
   "cell_type": "markdown",
   "metadata": {},
   "source": [
    "Podemos hacer operaciones con los vectores, por ejemplo:"
   ]
  },
  {
   "cell_type": "code",
   "execution_count": 82,
   "metadata": {},
   "outputs": [
    {
     "name": "stdout",
     "output_type": "stream",
     "text": [
      "[1]  -6 105  -3  -4\n"
     ]
    }
   ],
   "source": [
    "print(x-4)"
   ]
  },
  {
   "cell_type": "code",
   "execution_count": 83,
   "metadata": {},
   "outputs": [
    {
     "name": "stdout",
     "output_type": "stream",
     "text": [
      "[1]  -8.000000 140.000000  -4.000000  -5.333333\n"
     ]
    }
   ],
   "source": [
    "print(4/3*(x-4))"
   ]
  },
  {
   "cell_type": "markdown",
   "metadata": {},
   "source": [
    "Y realizar operaciones entre vectores como:"
   ]
  },
  {
   "cell_type": "code",
   "execution_count": 84,
   "metadata": {},
   "outputs": [],
   "source": [
    "x2 <- c(48.2, 11.05, -1, 0)"
   ]
  },
  {
   "cell_type": "code",
   "execution_count": 85,
   "metadata": {},
   "outputs": [
    {
     "name": "stdout",
     "output_type": "stream",
     "text": [
      "[1] -50.20  97.95   2.00   0.00\n"
     ]
    }
   ],
   "source": [
    "print(x-x2)"
   ]
  },
  {
   "cell_type": "markdown",
   "metadata": {},
   "source": [
    "**\n",
    "---\n",
    "---\n",
    "**\n",
    "---\n",
    "\n",
    "**\n",
    "---\n",
    "#### Mi Ejemplo:"
   ]
  },
  {
   "cell_type": "markdown",
   "metadata": {},
   "source": [
    "Como ejemplo en esta sección seguiré usando los vectores que ya había hecho antes:<br>\n",
    "Podemos realizar operaciones sobre todos los valores de los vectores:"
   ]
  },
  {
   "cell_type": "code",
   "execution_count": 86,
   "metadata": {},
   "outputs": [
    {
     "data": {
      "text/html": [
       "<ol class=list-inline>\n",
       "\t<li>2</li>\n",
       "\t<li>3</li>\n",
       "</ol>\n"
      ],
      "text/latex": [
       "\\begin{enumerate*}\n",
       "\\item 2\n",
       "\\item 3\n",
       "\\end{enumerate*}\n"
      ],
      "text/markdown": [
       "1. 2\n",
       "2. 3\n",
       "\n",
       "\n"
      ],
      "text/plain": [
       "[1] 2 3"
      ]
     },
     "metadata": {},
     "output_type": "display_data"
    }
   ],
   "source": [
    "#suma\n",
    "sumaIntcomb<-Intcomb+1\n",
    "sumaIntcomb"
   ]
  },
  {
   "cell_type": "code",
   "execution_count": 87,
   "metadata": {},
   "outputs": [
    {
     "data": {
      "text/html": [
       "<ol class=list-inline>\n",
       "\t<li>-30</li>\n",
       "\t<li>-29</li>\n",
       "</ol>\n"
      ],
      "text/latex": [
       "\\begin{enumerate*}\n",
       "\\item -30\n",
       "\\item -29\n",
       "\\end{enumerate*}\n"
      ],
      "text/markdown": [
       "1. -30\n",
       "2. -29\n",
       "\n",
       "\n"
      ],
      "text/plain": [
       "[1] -30 -29"
      ]
     },
     "metadata": {},
     "output_type": "display_data"
    }
   ],
   "source": [
    "#resta\n",
    "restaIntcomb<-Intcomb-31\n",
    "restaIntcomb"
   ]
  },
  {
   "cell_type": "code",
   "execution_count": 88,
   "metadata": {},
   "outputs": [
    {
     "data": {
      "text/html": [
       "<ol class=list-inline>\n",
       "\t<li>10</li>\n",
       "\t<li>20</li>\n",
       "</ol>\n"
      ],
      "text/latex": [
       "\\begin{enumerate*}\n",
       "\\item 10\n",
       "\\item 20\n",
       "\\end{enumerate*}\n"
      ],
      "text/markdown": [
       "1. 10\n",
       "2. 20\n",
       "\n",
       "\n"
      ],
      "text/plain": [
       "[1] 10 20"
      ]
     },
     "metadata": {},
     "output_type": "display_data"
    }
   ],
   "source": [
    "#multiplicacion\n",
    "multIntcomb<-Intcomb*10\n",
    "multIntcomb"
   ]
  },
  {
   "cell_type": "code",
   "execution_count": 89,
   "metadata": {},
   "outputs": [
    {
     "data": {
      "text/html": [
       "<ol class=list-inline>\n",
       "\t<li>0.5</li>\n",
       "\t<li>1</li>\n",
       "</ol>\n"
      ],
      "text/latex": [
       "\\begin{enumerate*}\n",
       "\\item 0.5\n",
       "\\item 1\n",
       "\\end{enumerate*}\n"
      ],
      "text/markdown": [
       "1. 0.5\n",
       "2. 1\n",
       "\n",
       "\n"
      ],
      "text/plain": [
       "[1] 0.5 1.0"
      ]
     },
     "metadata": {},
     "output_type": "display_data"
    }
   ],
   "source": [
    "#division\n",
    "divIntcomb<-Intcomb/2\n",
    "divIntcomb"
   ]
  },
  {
   "cell_type": "markdown",
   "metadata": {},
   "source": [
    "También se pueden realizar operaciones entre vectores:"
   ]
  },
  {
   "cell_type": "code",
   "execution_count": 90,
   "metadata": {},
   "outputs": [
    {
     "data": {
      "text/html": [
       "<ol class=list-inline>\n",
       "\t<li>40</li>\n",
       "\t<li>49</li>\n",
       "</ol>\n"
      ],
      "text/latex": [
       "\\begin{enumerate*}\n",
       "\\item 40\n",
       "\\item 49\n",
       "\\end{enumerate*}\n"
      ],
      "text/markdown": [
       "1. 40\n",
       "2. 49\n",
       "\n",
       "\n"
      ],
      "text/plain": [
       "[1] 40 49"
      ]
     },
     "metadata": {},
     "output_type": "display_data"
    }
   ],
   "source": [
    "multres<-multIntcomb-restaIntcomb\n",
    "multres"
   ]
  },
  {
   "cell_type": "markdown",
   "metadata": {},
   "source": [
    "#### Fin de mi ejemplo\n",
    "**\n",
    "---\n",
    "**\n",
    "---\n",
    "---\n",
    "**\n",
    "---\n"
   ]
  },
  {
   "cell_type": "markdown",
   "metadata": {},
   "source": [
    "#### Ejemplo: President's heights"
   ]
  },
  {
   "cell_type": "markdown",
   "metadata": {},
   "source": [
    "An article in [Wikipedia](https://en.wikipedia.org/wiki/Heights_of_presidents_and_presidential_candidates_of_the_United_States) reports data on the heights of Presidents of the United States and the heights of their opponents in the presidential election. It has been observed ([reference](https://www.washingtonpost.com/?noredirect=on), [reference](https://usatoday30.usatoday.com/news/politicselections/nation/president/2004-06-23-bush-kerry-cover_x.htm)) that the taller presidential candidate typically wins the election. In this example, we explore the data corresponding to the elections in the television era. Next values are the heights of the presidents and their opponents in the U.S. presidential elections of 1948 through 2008, extracted from the Wikipedia article."
   ]
  },
  {
   "cell_type": "code",
   "execution_count": 91,
   "metadata": {},
   "outputs": [],
   "source": [
    "winner <- c(185, 182, 182, 188, 188, 188, 185, 185, 177,\n",
    "182, 182, 193, 183, 179, 179, 175)\n",
    "opponent <- c(175, 193, 185, 187, 188, 173, 180, 177, 183,\n",
    "185, 180, 180, 182, 178, 178, 173)\n"
   ]
  },
  {
   "cell_type": "code",
   "execution_count": 92,
   "metadata": {},
   "outputs": [
    {
     "data": {
      "text/html": [
       "16"
      ],
      "text/latex": [
       "16"
      ],
      "text/markdown": [
       "16"
      ],
      "text/plain": [
       "[1] 16"
      ]
     },
     "metadata": {},
     "output_type": "display_data"
    }
   ],
   "source": [
    "length(winner)"
   ]
  },
  {
   "cell_type": "code",
   "execution_count": 93,
   "metadata": {},
   "outputs": [],
   "source": [
    "year <- seq(from=2008, to=1948, by=-4)"
   ]
  },
  {
   "cell_type": "markdown",
   "metadata": {},
   "source": [
    "According to the [Washington Post blog](https://www.washingtonpost.com/?noredirect=on), Wikipedia misstates “Bill Clinton’s height, which was measured during official medical exams at 6 foot 2-1/2, making him just a tad taller than George H.W. Bush.” We can correct the height measurement for Bill Clinton by assigning a height of 189 cm to the fourth and fifth entries of the vector winner"
   ]
  },
  {
   "cell_type": "code",
   "execution_count": 94,
   "metadata": {},
   "outputs": [],
   "source": [
    "winner[4:5] <- 189"
   ]
  },
  {
   "cell_type": "code",
   "execution_count": 95,
   "metadata": {},
   "outputs": [
    {
     "name": "stdout",
     "output_type": "stream",
     "text": [
      " [1] 185 182 182 189 189 188 185 185 177 182 182 193 183 179 179 175\n"
     ]
    }
   ],
   "source": [
    "print(winner)"
   ]
  },
  {
   "cell_type": "markdown",
   "metadata": {},
   "source": [
    "Are presidents taller than average adult males? According to the National Center for Health Statistics, in 2005 the average height for an adult male in the United States is 5 feet 9.2 inches or 175.768 cm. The sample mean is computed by the mean function."
   ]
  },
  {
   "cell_type": "code",
   "execution_count": 96,
   "metadata": {},
   "outputs": [
    {
     "data": {
      "text/html": [
       "183.4375"
      ],
      "text/latex": [
       "183.4375"
      ],
      "text/markdown": [
       "183.4375"
      ],
      "text/plain": [
       "[1] 183.4375"
      ]
     },
     "metadata": {},
     "output_type": "display_data"
    }
   ],
   "source": [
    "mean(winner)"
   ]
  },
  {
   "cell_type": "code",
   "execution_count": 97,
   "metadata": {},
   "outputs": [
    {
     "data": {
      "text/html": [
       "181.0625"
      ],
      "text/latex": [
       "181.0625"
      ],
      "text/markdown": [
       "181.0625"
      ],
      "text/plain": [
       "[1] 181.0625"
      ]
     },
     "metadata": {},
     "output_type": "display_data"
    }
   ],
   "source": [
    "mean(opponent)"
   ]
  },
  {
   "cell_type": "code",
   "execution_count": 98,
   "metadata": {},
   "outputs": [],
   "source": [
    "difference <- winner - opponent"
   ]
  },
  {
   "cell_type": "code",
   "execution_count": 99,
   "metadata": {},
   "outputs": [
    {
     "name": "stdout",
     "output_type": "stream",
     "text": [
      " [1]  10 -11  -3   2   1  15   5   8  -6  -3   2  13   1   1   1   2\n"
     ]
    }
   ],
   "source": [
    "print(difference)"
   ]
  },
  {
   "cell_type": "markdown",
   "metadata": {},
   "source": [
    "**\n",
    "---\n",
    "---\n",
    "**\n",
    "---\n",
    "\n",
    "**\n",
    "---\n",
    "#### Mi Ejemplo:"
   ]
  },
  {
   "cell_type": "markdown",
   "metadata": {},
   "source": [
    "Podemos obtener información sobre los vectores:"
   ]
  },
  {
   "cell_type": "code",
   "execution_count": 100,
   "metadata": {},
   "outputs": [
    {
     "data": {
      "text/html": [
       "23"
      ],
      "text/latex": [
       "23"
      ],
      "text/markdown": [
       "23"
      ],
      "text/plain": [
       "[1] 23"
      ]
     },
     "metadata": {},
     "output_type": "display_data"
    }
   ],
   "source": [
    "elvectorazo<-c(1,61,56856,615,56,5,2,158,3,1,3,158,3,8,156,16,168,6168,35,8,681,156,156)\n",
    "\n",
    "#tamaño\n",
    "length(elvectorazo)"
   ]
  },
  {
   "cell_type": "markdown",
   "metadata": {},
   "source": [
    "También cambiar un valor específico o varios al mismo tiempo"
   ]
  },
  {
   "cell_type": "code",
   "execution_count": 101,
   "metadata": {},
   "outputs": [
    {
     "name": "stdout",
     "output_type": "stream",
     "text": [
      "[1] \"el vector original es: \"\n",
      " [1]     1    61 56856   615    56     5     2   158     3     1     3   158\n",
      "[13]     3     8   156    16   168  6168    35     8   681   156   156\n",
      "[1] \"el vector después de cambiar varios valores por 10 es: \"\n",
      " [1]    1   61   10   10   10   10   10   10   10   10    3  158    3    8  156\n",
      "[16]   16  168 6168   35    8  681  156  156\n"
     ]
    }
   ],
   "source": [
    "elvectorazo2<-elvectorazo\n",
    "\n",
    "print(\"el vector original es: \")\n",
    "print(elvectorazo)\n",
    "\n",
    "elvectorazo2[3:10]=10\n",
    "\n",
    "print(\"el vector después de cambiar varios valores por 10 es: \")\n",
    "print(elvectorazo2)"
   ]
  },
  {
   "cell_type": "markdown",
   "metadata": {},
   "source": [
    "**cambiando solo un valor (el mas grande:)**"
   ]
  },
  {
   "cell_type": "code",
   "execution_count": 102,
   "metadata": {},
   "outputs": [
    {
     "name": "stdout",
     "output_type": "stream",
     "text": [
      " [1]    1   61   10  615   56    5    2  158    3    1    3  158    3    8  156\n",
      "[16]   16  168 6168   35    8  681  156  156\n"
     ]
    }
   ],
   "source": [
    "elvectorazo3<-elvectorazo\n",
    "elvectorazo3[3]=10\n",
    "print(elvectorazo3)"
   ]
  },
  {
   "cell_type": "markdown",
   "metadata": {},
   "source": [
    "obteniendo los promedios:"
   ]
  },
  {
   "cell_type": "code",
   "execution_count": 103,
   "metadata": {},
   "outputs": [
    {
     "name": "stdout",
     "output_type": "stream",
     "text": [
      "[1] \"La media del vector original es:\"\n",
      "[1] 2846.696\n",
      "[1] \"La media del vector 2 es: \"\n",
      "[1] 341.6522\n",
      "[1] \"La media del vector3 es: \"\n",
      "[1] 375.1304\n"
     ]
    }
   ],
   "source": [
    "print(\"La media del vector original es:\" )\n",
    "print(mean(elvectorazo))\n",
    "print(\"La media del vector 2 es: \")\n",
    "print(mean(elvectorazo2))\n",
    "print(\"La media del vector3 es: \")\n",
    "print(mean(elvectorazo3))"
   ]
  },
  {
   "cell_type": "markdown",
   "metadata": {},
   "source": [
    "#### Fin de mi ejemplo\n",
    "**\n",
    "---\n",
    "**\n",
    "---\n",
    "---\n",
    "**\n",
    "---\n"
   ]
  },
  {
   "cell_type": "markdown",
   "metadata": {},
   "source": [
    "An easy way to display our data is as a data frame:"
   ]
  },
  {
   "cell_type": "code",
   "execution_count": 104,
   "metadata": {},
   "outputs": [
    {
     "data": {
      "text/html": [
       "<table>\n",
       "<thead><tr><th scope=col>year</th><th scope=col>winner</th><th scope=col>opponent</th><th scope=col>difference</th></tr></thead>\n",
       "<tbody>\n",
       "\t<tr><td>2008</td><td>185 </td><td>175 </td><td> 10 </td></tr>\n",
       "\t<tr><td>2004</td><td>182 </td><td>193 </td><td>-11 </td></tr>\n",
       "\t<tr><td>2000</td><td>182 </td><td>185 </td><td> -3 </td></tr>\n",
       "\t<tr><td>1996</td><td>189 </td><td>187 </td><td>  2 </td></tr>\n",
       "\t<tr><td>1992</td><td>189 </td><td>188 </td><td>  1 </td></tr>\n",
       "\t<tr><td>1988</td><td>188 </td><td>173 </td><td> 15 </td></tr>\n",
       "\t<tr><td>1984</td><td>185 </td><td>180 </td><td>  5 </td></tr>\n",
       "\t<tr><td>1980</td><td>185 </td><td>177 </td><td>  8 </td></tr>\n",
       "\t<tr><td>1976</td><td>177 </td><td>183 </td><td> -6 </td></tr>\n",
       "\t<tr><td>1972</td><td>182 </td><td>185 </td><td> -3 </td></tr>\n",
       "\t<tr><td>1968</td><td>182 </td><td>180 </td><td>  2 </td></tr>\n",
       "\t<tr><td>1964</td><td>193 </td><td>180 </td><td> 13 </td></tr>\n",
       "\t<tr><td>1960</td><td>183 </td><td>182 </td><td>  1 </td></tr>\n",
       "\t<tr><td>1956</td><td>179 </td><td>178 </td><td>  1 </td></tr>\n",
       "\t<tr><td>1952</td><td>179 </td><td>178 </td><td>  1 </td></tr>\n",
       "\t<tr><td>1948</td><td>175 </td><td>173 </td><td>  2 </td></tr>\n",
       "</tbody>\n",
       "</table>\n"
      ],
      "text/latex": [
       "\\begin{tabular}{r|llll}\n",
       " year & winner & opponent & difference\\\\\n",
       "\\hline\n",
       "\t 2008 & 185  & 175  &  10 \\\\\n",
       "\t 2004 & 182  & 193  & -11 \\\\\n",
       "\t 2000 & 182  & 185  &  -3 \\\\\n",
       "\t 1996 & 189  & 187  &   2 \\\\\n",
       "\t 1992 & 189  & 188  &   1 \\\\\n",
       "\t 1988 & 188  & 173  &  15 \\\\\n",
       "\t 1984 & 185  & 180  &   5 \\\\\n",
       "\t 1980 & 185  & 177  &   8 \\\\\n",
       "\t 1976 & 177  & 183  &  -6 \\\\\n",
       "\t 1972 & 182  & 185  &  -3 \\\\\n",
       "\t 1968 & 182  & 180  &   2 \\\\\n",
       "\t 1964 & 193  & 180  &  13 \\\\\n",
       "\t 1960 & 183  & 182  &   1 \\\\\n",
       "\t 1956 & 179  & 178  &   1 \\\\\n",
       "\t 1952 & 179  & 178  &   1 \\\\\n",
       "\t 1948 & 175  & 173  &   2 \\\\\n",
       "\\end{tabular}\n"
      ],
      "text/markdown": [
       "\n",
       "| year | winner | opponent | difference |\n",
       "|---|---|---|---|\n",
       "| 2008 | 185  | 175  |  10  |\n",
       "| 2004 | 182  | 193  | -11  |\n",
       "| 2000 | 182  | 185  |  -3  |\n",
       "| 1996 | 189  | 187  |   2  |\n",
       "| 1992 | 189  | 188  |   1  |\n",
       "| 1988 | 188  | 173  |  15  |\n",
       "| 1984 | 185  | 180  |   5  |\n",
       "| 1980 | 185  | 177  |   8  |\n",
       "| 1976 | 177  | 183  |  -6  |\n",
       "| 1972 | 182  | 185  |  -3  |\n",
       "| 1968 | 182  | 180  |   2  |\n",
       "| 1964 | 193  | 180  |  13  |\n",
       "| 1960 | 183  | 182  |   1  |\n",
       "| 1956 | 179  | 178  |   1  |\n",
       "| 1952 | 179  | 178  |   1  |\n",
       "| 1948 | 175  | 173  |   2  |\n",
       "\n"
      ],
      "text/plain": [
       "   year winner opponent difference\n",
       "1  2008 185    175       10       \n",
       "2  2004 182    193      -11       \n",
       "3  2000 182    185       -3       \n",
       "4  1996 189    187        2       \n",
       "5  1992 189    188        1       \n",
       "6  1988 188    173       15       \n",
       "7  1984 185    180        5       \n",
       "8  1980 185    177        8       \n",
       "9  1976 177    183       -6       \n",
       "10 1972 182    185       -3       \n",
       "11 1968 182    180        2       \n",
       "12 1964 193    180       13       \n",
       "13 1960 183    182        1       \n",
       "14 1956 179    178        1       \n",
       "15 1952 179    178        1       \n",
       "16 1948 175    173        2       "
      ]
     },
     "metadata": {},
     "output_type": "display_data"
    }
   ],
   "source": [
    "data.frame(year, winner, opponent, difference)"
   ]
  },
  {
   "cell_type": "markdown",
   "metadata": {},
   "source": [
    "... We see that most, but not all, of the differences in height are positive, indicating that the taller candidate won the election. "
   ]
  },
  {
   "cell_type": "markdown",
   "metadata": {},
   "source": [
    "**\n",
    "---\n",
    "---\n",
    "**\n",
    "---\n",
    "\n",
    "**\n",
    "---\n",
    "#### Mi Ejemplo:"
   ]
  },
  {
   "cell_type": "markdown",
   "metadata": {},
   "source": [
    "podemos hacer un data frame con todos los vectores que ya tenemos:"
   ]
  },
  {
   "cell_type": "code",
   "execution_count": 105,
   "metadata": {},
   "outputs": [
    {
     "data": {
      "text/html": [
       "<table>\n",
       "<thead><tr><th scope=col>elvectorazo</th><th scope=col>elvectorazo2</th><th scope=col>elvectorazo3</th></tr></thead>\n",
       "<tbody>\n",
       "\t<tr><td>    1</td><td>   1 </td><td>   1 </td></tr>\n",
       "\t<tr><td>   61</td><td>  61 </td><td>  61 </td></tr>\n",
       "\t<tr><td>56856</td><td>  10 </td><td>  10 </td></tr>\n",
       "\t<tr><td>  615</td><td>  10 </td><td> 615 </td></tr>\n",
       "\t<tr><td>   56</td><td>  10 </td><td>  56 </td></tr>\n",
       "\t<tr><td>    5</td><td>  10 </td><td>   5 </td></tr>\n",
       "\t<tr><td>    2</td><td>  10 </td><td>   2 </td></tr>\n",
       "\t<tr><td>  158</td><td>  10 </td><td> 158 </td></tr>\n",
       "\t<tr><td>    3</td><td>  10 </td><td>   3 </td></tr>\n",
       "\t<tr><td>    1</td><td>  10 </td><td>   1 </td></tr>\n",
       "\t<tr><td>    3</td><td>   3 </td><td>   3 </td></tr>\n",
       "\t<tr><td>  158</td><td> 158 </td><td> 158 </td></tr>\n",
       "\t<tr><td>    3</td><td>   3 </td><td>   3 </td></tr>\n",
       "\t<tr><td>    8</td><td>   8 </td><td>   8 </td></tr>\n",
       "\t<tr><td>  156</td><td> 156 </td><td> 156 </td></tr>\n",
       "\t<tr><td>   16</td><td>  16 </td><td>  16 </td></tr>\n",
       "\t<tr><td>  168</td><td> 168 </td><td> 168 </td></tr>\n",
       "\t<tr><td> 6168</td><td>6168 </td><td>6168 </td></tr>\n",
       "\t<tr><td>   35</td><td>  35 </td><td>  35 </td></tr>\n",
       "\t<tr><td>    8</td><td>   8 </td><td>   8 </td></tr>\n",
       "\t<tr><td>  681</td><td> 681 </td><td> 681 </td></tr>\n",
       "\t<tr><td>  156</td><td> 156 </td><td> 156 </td></tr>\n",
       "\t<tr><td>  156</td><td> 156 </td><td> 156 </td></tr>\n",
       "</tbody>\n",
       "</table>\n"
      ],
      "text/latex": [
       "\\begin{tabular}{r|lll}\n",
       " elvectorazo & elvectorazo2 & elvectorazo3\\\\\n",
       "\\hline\n",
       "\t     1 &    1  &    1 \\\\\n",
       "\t    61 &   61  &   61 \\\\\n",
       "\t 56856 &   10  &   10 \\\\\n",
       "\t   615 &   10  &  615 \\\\\n",
       "\t    56 &   10  &   56 \\\\\n",
       "\t     5 &   10  &    5 \\\\\n",
       "\t     2 &   10  &    2 \\\\\n",
       "\t   158 &   10  &  158 \\\\\n",
       "\t     3 &   10  &    3 \\\\\n",
       "\t     1 &   10  &    1 \\\\\n",
       "\t     3 &    3  &    3 \\\\\n",
       "\t   158 &  158  &  158 \\\\\n",
       "\t     3 &    3  &    3 \\\\\n",
       "\t     8 &    8  &    8 \\\\\n",
       "\t   156 &  156  &  156 \\\\\n",
       "\t    16 &   16  &   16 \\\\\n",
       "\t   168 &  168  &  168 \\\\\n",
       "\t  6168 & 6168  & 6168 \\\\\n",
       "\t    35 &   35  &   35 \\\\\n",
       "\t     8 &    8  &    8 \\\\\n",
       "\t   681 &  681  &  681 \\\\\n",
       "\t   156 &  156  &  156 \\\\\n",
       "\t   156 &  156  &  156 \\\\\n",
       "\\end{tabular}\n"
      ],
      "text/markdown": [
       "\n",
       "| elvectorazo | elvectorazo2 | elvectorazo3 |\n",
       "|---|---|---|\n",
       "|     1 |    1  |    1  |\n",
       "|    61 |   61  |   61  |\n",
       "| 56856 |   10  |   10  |\n",
       "|   615 |   10  |  615  |\n",
       "|    56 |   10  |   56  |\n",
       "|     5 |   10  |    5  |\n",
       "|     2 |   10  |    2  |\n",
       "|   158 |   10  |  158  |\n",
       "|     3 |   10  |    3  |\n",
       "|     1 |   10  |    1  |\n",
       "|     3 |    3  |    3  |\n",
       "|   158 |  158  |  158  |\n",
       "|     3 |    3  |    3  |\n",
       "|     8 |    8  |    8  |\n",
       "|   156 |  156  |  156  |\n",
       "|    16 |   16  |   16  |\n",
       "|   168 |  168  |  168  |\n",
       "|  6168 | 6168  | 6168  |\n",
       "|    35 |   35  |   35  |\n",
       "|     8 |    8  |    8  |\n",
       "|   681 |  681  |  681  |\n",
       "|   156 |  156  |  156  |\n",
       "|   156 |  156  |  156  |\n",
       "\n"
      ],
      "text/plain": [
       "   elvectorazo elvectorazo2 elvectorazo3\n",
       "1      1          1            1        \n",
       "2     61         61           61        \n",
       "3  56856         10           10        \n",
       "4    615         10          615        \n",
       "5     56         10           56        \n",
       "6      5         10            5        \n",
       "7      2         10            2        \n",
       "8    158         10          158        \n",
       "9      3         10            3        \n",
       "10     1         10            1        \n",
       "11     3          3            3        \n",
       "12   158        158          158        \n",
       "13     3          3            3        \n",
       "14     8          8            8        \n",
       "15   156        156          156        \n",
       "16    16         16           16        \n",
       "17   168        168          168        \n",
       "18  6168       6168         6168        \n",
       "19    35         35           35        \n",
       "20     8          8            8        \n",
       "21   681        681          681        \n",
       "22   156        156          156        \n",
       "23   156        156          156        "
      ]
     },
     "metadata": {},
     "output_type": "display_data"
    }
   ],
   "source": [
    "data.frame(elvectorazo,elvectorazo2,elvectorazo3)"
   ]
  },
  {
   "cell_type": "markdown",
   "metadata": {},
   "source": [
    "#### Fin de mi ejemplo\n",
    "**\n",
    "---\n",
    "**\n",
    "---\n",
    "---\n",
    "**\n",
    "---\n"
   ]
  },
  {
   "cell_type": "code",
   "execution_count": 106,
   "metadata": {},
   "outputs": [],
   "source": [
    "taller.won <- winner > opponent"
   ]
  },
  {
   "cell_type": "code",
   "execution_count": 107,
   "metadata": {},
   "outputs": [
    {
     "name": "stdout",
     "output_type": "stream",
     "text": [
      " [1]  TRUE FALSE FALSE  TRUE  TRUE  TRUE  TRUE  TRUE FALSE FALSE  TRUE  TRUE\n",
      "[13]  TRUE  TRUE  TRUE  TRUE\n"
     ]
    }
   ],
   "source": [
    "print(taller.won)"
   ]
  },
  {
   "cell_type": "markdown",
   "metadata": {},
   "source": [
    "The table function summarizes discrete data such as the result in the vector taller.won"
   ]
  },
  {
   "cell_type": "code",
   "execution_count": 108,
   "metadata": {},
   "outputs": [
    {
     "data": {
      "text/plain": [
       "taller.won\n",
       "FALSE  TRUE \n",
       "    4    12 "
      ]
     },
     "metadata": {},
     "output_type": "display_data"
    }
   ],
   "source": [
    "table(taller.won)"
   ]
  },
  {
   "cell_type": "markdown",
   "metadata": {},
   "source": [
    "We can use the result of table to display percentages if we divide the result by 16 and multiply that result by 100."
   ]
  },
  {
   "cell_type": "code",
   "execution_count": 109,
   "metadata": {},
   "outputs": [
    {
     "data": {
      "text/plain": [
       "taller.won\n",
       "FALSE  TRUE \n",
       "   25    75 "
      ]
     },
     "metadata": {},
     "output_type": "display_data"
    }
   ],
   "source": [
    "table(taller.won) / 16 * 100"
   ]
  },
  {
   "cell_type": "markdown",
   "metadata": {},
   "source": [
    "**\n",
    "---\n",
    "---\n",
    "**\n",
    "---\n",
    "\n",
    "**\n",
    "---\n",
    "#### Mi Ejemplo:"
   ]
  },
  {
   "cell_type": "markdown",
   "metadata": {},
   "source": [
    "podemos comparar vectores y obtendríamos un vector de True y False"
   ]
  },
  {
   "cell_type": "code",
   "execution_count": 110,
   "metadata": {},
   "outputs": [
    {
     "data": {
      "text/html": [
       "<ol class=list-inline>\n",
       "\t<li>TRUE</li>\n",
       "\t<li>FALSE</li>\n",
       "\t<li>TRUE</li>\n",
       "\t<li>FALSE</li>\n",
       "\t<li>FALSE</li>\n",
       "\t<li>FALSE</li>\n",
       "\t<li>FALSE</li>\n",
       "\t<li>FALSE</li>\n",
       "\t<li>FALSE</li>\n",
       "\t<li>FALSE</li>\n",
       "\t<li>TRUE</li>\n",
       "\t<li>FALSE</li>\n",
       "\t<li>TRUE</li>\n",
       "\t<li>FALSE</li>\n",
       "\t<li>FALSE</li>\n",
       "\t<li>FALSE</li>\n",
       "\t<li>FALSE</li>\n",
       "\t<li>FALSE</li>\n",
       "\t<li>FALSE</li>\n",
       "\t<li>FALSE</li>\n",
       "\t<li>FALSE</li>\n",
       "\t<li>FALSE</li>\n",
       "\t<li>FALSE</li>\n",
       "</ol>\n"
      ],
      "text/latex": [
       "\\begin{enumerate*}\n",
       "\\item TRUE\n",
       "\\item FALSE\n",
       "\\item TRUE\n",
       "\\item FALSE\n",
       "\\item FALSE\n",
       "\\item FALSE\n",
       "\\item FALSE\n",
       "\\item FALSE\n",
       "\\item FALSE\n",
       "\\item FALSE\n",
       "\\item TRUE\n",
       "\\item FALSE\n",
       "\\item TRUE\n",
       "\\item FALSE\n",
       "\\item FALSE\n",
       "\\item FALSE\n",
       "\\item FALSE\n",
       "\\item FALSE\n",
       "\\item FALSE\n",
       "\\item FALSE\n",
       "\\item FALSE\n",
       "\\item FALSE\n",
       "\\item FALSE\n",
       "\\end{enumerate*}\n"
      ],
      "text/markdown": [
       "1. TRUE\n",
       "2. FALSE\n",
       "3. TRUE\n",
       "4. FALSE\n",
       "5. FALSE\n",
       "6. FALSE\n",
       "7. FALSE\n",
       "8. FALSE\n",
       "9. FALSE\n",
       "10. FALSE\n",
       "11. TRUE\n",
       "12. FALSE\n",
       "13. TRUE\n",
       "14. FALSE\n",
       "15. FALSE\n",
       "16. FALSE\n",
       "17. FALSE\n",
       "18. FALSE\n",
       "19. FALSE\n",
       "20. FALSE\n",
       "21. FALSE\n",
       "22. FALSE\n",
       "23. FALSE\n",
       "\n",
       "\n"
      ],
      "text/plain": [
       " [1]  TRUE FALSE  TRUE FALSE FALSE FALSE FALSE FALSE FALSE FALSE  TRUE FALSE\n",
       "[13]  TRUE FALSE FALSE FALSE FALSE FALSE FALSE FALSE FALSE FALSE FALSE"
      ]
     },
     "metadata": {},
     "output_type": "display_data"
    }
   ],
   "source": [
    "elvectorazo4<-elvectorazo2*(elvectorazo3/3.5)\n",
    "comparacion<-elvectorazo>elvectorazo4\n",
    "comparacion"
   ]
  },
  {
   "cell_type": "markdown",
   "metadata": {},
   "source": [
    "Cuando se tienen este tipo de situaciones, se puede usar un table para resumir la información\n",
    "(también funciona con todo tipo de datos)"
   ]
  },
  {
   "cell_type": "code",
   "execution_count": 111,
   "metadata": {},
   "outputs": [
    {
     "data": {
      "text/plain": [
       "comparacion\n",
       "FALSE  TRUE \n",
       "   19     4 "
      ]
     },
     "metadata": {},
     "output_type": "display_data"
    }
   ],
   "source": [
    "table(comparacion)"
   ]
  },
  {
   "cell_type": "code",
   "execution_count": 112,
   "metadata": {},
   "outputs": [
    {
     "data": {
      "text/plain": [
       "elvectorazo\n",
       "    1     2     3     5     8    16    35    56    61   156   158   168   615 \n",
       "    2     1     3     1     2     1     1     1     1     3     2     1     1 \n",
       "  681  6168 56856 \n",
       "    1     1     1 "
      ]
     },
     "metadata": {},
     "output_type": "display_data"
    }
   ],
   "source": [
    "table(elvectorazo)"
   ]
  },
  {
   "cell_type": "code",
   "execution_count": 113,
   "metadata": {},
   "outputs": [
    {
     "data": {
      "text/plain": [
       "elvectorazo2\n",
       "   1    3    8   10   16   35   61  156  158  168  681 6168 \n",
       "   1    2    2    8    1    1    1    3    1    1    1    1 "
      ]
     },
     "metadata": {},
     "output_type": "display_data"
    }
   ],
   "source": [
    "table(elvectorazo2)"
   ]
  },
  {
   "cell_type": "code",
   "execution_count": 114,
   "metadata": {},
   "outputs": [
    {
     "data": {
      "text/plain": [
       "elvectorazo3\n",
       "   1    2    3    5    8   10   16   35   56   61  156  158  168  615  681 6168 \n",
       "   2    1    3    1    2    1    1    1    1    1    3    2    1    1    1    1 "
      ]
     },
     "metadata": {},
     "output_type": "display_data"
    }
   ],
   "source": [
    "table(elvectorazo3)"
   ]
  },
  {
   "cell_type": "markdown",
   "metadata": {},
   "source": [
    "Table te cuenta el numero de veces que se repite cada uno de los elementos tienes en el vector"
   ]
  },
  {
   "cell_type": "markdown",
   "metadata": {},
   "source": [
    "#### Fin de mi ejemplo\n",
    "**\n",
    "---\n",
    "**\n",
    "---\n",
    "---\n",
    "**\n",
    "---\n"
   ]
  },
  {
   "cell_type": "markdown",
   "metadata": {},
   "source": [
    "Thus, in the last 16 elections, the odds in favor of the taller candidate winning the election are 3 to 1."
   ]
  },
  {
   "cell_type": "markdown",
   "metadata": {},
   "source": [
    "Several types of graphs of this data may be interesting to help visualize any pattern. For example, we could display a barplot of differences using the barplot function. For the plot we use the `rev` function to reverse the order of the differences so that the election year is increasing from left to right. We also provide a descriptive label for both axes."
   ]
  },
  {
   "cell_type": "code",
   "execution_count": 115,
   "metadata": {},
   "outputs": [
    {
     "data": {
      "image/png": "[encoded data removed]",
      "text/plain": [
       "plot without title"
      ]
     },
     "metadata": {},
     "output_type": "display_data"
    }
   ],
   "source": [
    "barplot(rev(difference), \n",
    "        xlab=\"Election years 1948 to 2008\",\n",
    "        ylab=\"Height difference in cm\", \n",
    "        col='steelblue') #see colors() for built-in colors in R"
   ]
  },
  {
   "cell_type": "markdown",
   "metadata": {},
   "source": [
    "Barplot of the difference in height of the election winner in the Electoral College over the height of the main opponent in the U.S. Presidential elections. Height differences in centimeters for election years 1948 through 2008 are shown from left to right. The electoral vote determines the outcome of the election. In 12 out of these 16 elections, the taller candidate won the electoral vote. In 2000, the taller candidate (Al Gore) did not win the electoral vote, but received more popular votes."
   ]
  },
  {
   "cell_type": "markdown",
   "metadata": {},
   "source": [
    "It would also be interesting to display a scatterplot of the data. A scatter- plot of loser’s heights vs winner’s height..."
   ]
  },
  {
   "cell_type": "markdown",
   "metadata": {},
   "source": [
    "**\n",
    "---\n",
    "---\n",
    "**\n",
    "---\n",
    "\n",
    "**\n",
    "---\n",
    "#### Mi Ejemplo:"
   ]
  },
  {
   "cell_type": "code",
   "execution_count": 116,
   "metadata": {},
   "outputs": [
    {
     "data": {
      "image/png": "[encoded data removed]",
      "text/plain": [
       "plot without title"
      ]
     },
     "metadata": {},
     "output_type": "display_data"
    }
   ],
   "source": [
    "elvectorazoNeg<-c(1,-1,1,-1,-1,-1,1,-1,1,-1,-1,1,1,1,-1,1,-1,1,-1,-1,1,-1,1)\n",
    "elvectorazoNeg<-elvectorazoNeg*elvectorazo2\n",
    "barplot(rev(elvectorazoNeg),xlab=\"Algunos números se hicieron negativos\",ylab=\"Otros se dejaron positivos\", col='cadetblue4')"
   ]
  },
  {
   "cell_type": "code",
   "execution_count": 117,
   "metadata": {},
   "outputs": [],
   "source": [
    "#colors()"
   ]
  },
  {
   "cell_type": "markdown",
   "metadata": {},
   "source": [
    "#### Fin de mi ejemplo\n",
    "**\n",
    "---\n",
    "**\n",
    "---\n",
    "---\n",
    "**\n",
    "---\n"
   ]
  },
  {
   "cell_type": "code",
   "execution_count": 118,
   "metadata": {},
   "outputs": [
    {
     "data": {
      "image/png": "[encoded data removed]",
      "text/plain": [
       "plot without title"
      ]
     },
     "metadata": {},
     "output_type": "display_data"
    }
   ],
   "source": [
    "plot(winner, opponent, pch=3, col='red') #pch define el símbolo del punto, ver ?points"
   ]
  },
  {
   "cell_type": "markdown",
   "metadata": {},
   "source": [
    "##### Comentarios"
   ]
  },
  {
   "cell_type": "markdown",
   "metadata": {},
   "source": [
    "###### En un script de R ..."
   ]
  },
  {
   "cell_type": "markdown",
   "metadata": {},
   "source": [
    "El ejemplo anterior lo podemos escribir en un sólo *script* el cual contiene las líneas de código de arriba:"
   ]
  },
  {
   "cell_type": "markdown",
   "metadata": {},
   "source": [
    "###### Archivo con extensión .R:\n",
    "\n",
    "```\n",
    "winner <- c(185, 182, 182, 188, 188, 188, 185, 185, 177,\n",
    "182, 182, 193, 183, 179, 179, 175)\n",
    "\n",
    "opponent <- c(175, 193, 185, 187, 188, 173, 180, 177, 183,\n",
    "185, 180, 180, 182, 178, 178, 173)\n",
    "\n",
    "year <- seq(from=2008, to=1948, by=-4)\n",
    "\n",
    "winner[4:5] <- 189\n",
    "\n",
    "difference <- winner - opponent\n",
    "\n",
    "data.frame(year, winner, opponent, difference)\n",
    "\n",
    "taller.won <- winner > opponent\n",
    "\n",
    "if (sum(taller.won) > sum(!taller.won)) print('its true that the taller presidential candidate typically wins the election')\n",
    "```"
   ]
  },
  {
   "cell_type": "markdown",
   "metadata": {},
   "source": [
    "Y lo ejecutamos guardándolo con nombre `miscript.R` en el directorio de trabajo, el cual se obtiene con: `getwd()`"
   ]
  },
  {
   "cell_type": "markdown",
   "metadata": {},
   "source": [
    "Hacemos:"
   ]
  },
  {
   "cell_type": "code",
   "execution_count": 119,
   "metadata": {},
   "outputs": [],
   "source": [
    "#source('miscript.R')"
   ]
  },
  {
   "cell_type": "markdown",
   "metadata": {},
   "source": [
    "**\n",
    "---\n",
    "---\n",
    "**\n",
    "---\n",
    "\n",
    "**\n",
    "---\n",
    "#### Mi Ejemplo:"
   ]
  },
  {
   "cell_type": "markdown",
   "metadata": {},
   "source": [
    "Se puede obtener una gráfica sencilla de los datos de la siguiente manera:"
   ]
  },
  {
   "cell_type": "code",
   "execution_count": 120,
   "metadata": {},
   "outputs": [
    {
     "data": {
      "image/png": "[encoded data removed]",
      "text/plain": [
       "plot without title"
      ]
     },
     "metadata": {},
     "output_type": "display_data"
    }
   ],
   "source": [
    "plot(elvectorazo2, elvectorazo3, pch=4, col='blue') #con pch cambiamos el tipo de punto"
   ]
  },
  {
   "cell_type": "markdown",
   "metadata": {},
   "source": [
    "#### Fin de mi ejemplo\n",
    "**\n",
    "---\n",
    "**\n",
    "---\n",
    "---\n",
    "**\n",
    "---\n"
   ]
  },
  {
   "cell_type": "markdown",
   "metadata": {},
   "source": [
    "## Funciones"
   ]
  },
  {
   "cell_type": "markdown",
   "metadata": {},
   "source": [
    "Sintaxis de una función:\n",
    "\n",
    "```\n",
    "f <- function(x, ...){\n",
    "\n",
    "}\n",
    "```"
   ]
  },
  {
   "cell_type": "markdown",
   "metadata": {},
   "source": [
    "Aquí `f` es el nombre de la función, `x` es el nombre del primer argumento, `...` indica argumentos posibles (las funciones pueden definirse sin argumentos). Los `{}` encierran el cuerpo de la función. El valor que regresa la función es el valor de la última expresión evaluada y se puede colocar la palabra reservada `return` o no."
   ]
  },
  {
   "cell_type": "markdown",
   "metadata": {},
   "source": [
    "#### Ejemplo:\n"
   ]
  },
  {
   "cell_type": "code",
   "execution_count": 121,
   "metadata": {},
   "outputs": [],
   "source": [
    "mivar <- function(x){\n",
    "    v <- var(x)\n",
    "    n <- NROW(x) #número de observaciones en x\n",
    "    v*(n-1)/n\n",
    "}"
   ]
  },
  {
   "cell_type": "markdown",
   "metadata": {},
   "source": [
    "La cual calcula: $$ \\hat{\\sigma}^2 = \\frac{1}{n}\\displaystyle \\sum_{i=1}^n(x_i - \\bar{x})^2 = \\frac{n-1}{n}s^2$$"
   ]
  },
  {
   "cell_type": "code",
   "execution_count": 122,
   "metadata": {},
   "outputs": [],
   "source": [
    "vec <- c(51.9, 51.8, 51.9, 53)"
   ]
  },
  {
   "cell_type": "code",
   "execution_count": 123,
   "metadata": {},
   "outputs": [
    {
     "data": {
      "text/html": [
       "0.242500000000001"
      ],
      "text/latex": [
       "0.242500000000001"
      ],
      "text/markdown": [
       "0.242500000000001"
      ],
      "text/plain": [
       "[1] 0.2425"
      ]
     },
     "metadata": {},
     "output_type": "display_data"
    }
   ],
   "source": [
    "mivar(vec)"
   ]
  },
  {
   "cell_type": "markdown",
   "metadata": {},
   "source": [
    "**Obs:** también colocar antes del último `}` el statement `return v*(n-1)/n` es correcto pero no es necesario."
   ]
  },
  {
   "cell_type": "markdown",
   "metadata": {},
   "source": [
    "#### Argumentos de funciones"
   ]
  },
  {
   "cell_type": "markdown",
   "metadata": {},
   "source": [
    "Supóngase que se desea aproximar la integral $$B(a,b) = \\displaystyle \\int_0^1x^{a-1}(1-x)^{b-1}dx,$$ para constantes $a >0, b > 0$. "
   ]
  },
  {
   "cell_type": "markdown",
   "metadata": {},
   "source": [
    "##### Solución"
   ]
  },
  {
   "cell_type": "markdown",
   "metadata": {},
   "source": [
    "Se utiliza la función `integrate` y la definición del integrando dada por:"
   ]
  },
  {
   "cell_type": "code",
   "execution_count": 124,
   "metadata": {},
   "outputs": [],
   "source": [
    "f <- function(x, a=1, b=1)\n",
    "    x^(a-1)*(1-x)^(b-1)"
   ]
  },
  {
   "cell_type": "markdown",
   "metadata": {},
   "source": [
    "**Obs:** no son necesarios `{}` pues sólo tiene una línea la `function`. También obsérvse que se definieron valores por default para los parámetros `a` y `b`."
   ]
  },
  {
   "cell_type": "code",
   "execution_count": 125,
   "metadata": {},
   "outputs": [],
   "source": [
    "x <- seq(0,1,.2) #secuencia de 0 a 1 con espaciado de .2"
   ]
  },
  {
   "cell_type": "code",
   "execution_count": 126,
   "metadata": {},
   "outputs": [
    {
     "name": "stdout",
     "output_type": "stream",
     "text": [
      "[1] 0.00 0.16 0.24 0.24 0.16 0.00\n"
     ]
    }
   ],
   "source": [
    "print(f(x,a=2,b=2))"
   ]
  },
  {
   "cell_type": "markdown",
   "metadata": {},
   "source": [
    "**Obs:** se definió `x` vector y se le pasó a la `f`. Entonces la `f` realiza las operaciones de una forma vectorizada y devuelve un vector del mismo tamaño que `x`."
   ]
  },
  {
   "cell_type": "code",
   "execution_count": 127,
   "metadata": {},
   "outputs": [
    {
     "data": {
      "text/plain": [
       "0.1666667 with absolute error < 1.9e-15"
      ]
     },
     "metadata": {},
     "output_type": "display_data"
    }
   ],
   "source": [
    "integrate(f, lower = 0, upper = 1, a=2, b=2)"
   ]
  },
  {
   "cell_type": "markdown",
   "metadata": {},
   "source": [
    "**Obs:** la función `integrate` es un ejemplo de una función con *extra arguments*:"
   ]
  },
  {
   "cell_type": "code",
   "execution_count": 128,
   "metadata": {},
   "outputs": [
    {
     "data": {
      "text/html": [
       "<pre class=language-r><code>function (f, lower, upper, ..., subdivisions = 100L, rel.tol = .Machine$double.eps^0.25, \n",
       "<span style=white-space:pre-wrap>    abs.tol = rel.tol, stop.on.error = TRUE, keep.xy = FALSE, </span>\n",
       "<span style=white-space:pre-wrap>    aux = NULL) </span>\n",
       "NULL</code></pre>"
      ],
      "text/latex": [
       "\\begin{minted}{r}\n",
       "function (f, lower, upper, ..., subdivisions = 100L, rel.tol = .Machine\\$double.eps\\textasciicircum{}0.25, \n",
       "    abs.tol = rel.tol, stop.on.error = TRUE, keep.xy = FALSE, \n",
       "    aux = NULL) \n",
       "NULL\n",
       "\\end{minted}"
      ],
      "text/markdown": [
       "```r\n",
       "function (f, lower, upper, ..., subdivisions = 100L, rel.tol = .Machine$double.eps^0.25, \n",
       "    abs.tol = rel.tol, stop.on.error = TRUE, keep.xy = FALSE, \n",
       "    aux = NULL) \n",
       "NULL\n",
       "```"
      ],
      "text/plain": [
       "function (f, lower, upper, ..., subdivisions = 100L, rel.tol = .Machine$double.eps^0.25, \n",
       "    abs.tol = rel.tol, stop.on.error = TRUE, keep.xy = FALSE, \n",
       "    aux = NULL) \n",
       "NULL"
      ]
     },
     "metadata": {},
     "output_type": "display_data"
    }
   ],
   "source": [
    "args(integrate)"
   ]
  },
  {
   "cell_type": "markdown",
   "metadata": {},
   "source": [
    "los tres puntos que se observan son los *extra arguments* y en el ejemplo son $a$ y $b$."
   ]
  },
  {
   "cell_type": "markdown",
   "metadata": {},
   "source": [
    "Se puede graficar la gráfica de una función con la función `curve`. En el caso anterior si deseamos graficar el integrando: $x^{a-1}*(1-x)^{b-1}$ para $x$ de $0$ a $1$ y $a=b=.5$ se ejecuta:"
   ]
  },
  {
   "cell_type": "code",
   "execution_count": 129,
   "metadata": {},
   "outputs": [
    {
     "data": {
      "image/png": "[encoded data removed]",
      "text/plain": [
       "plot without title"
      ]
     },
     "metadata": {},
     "output_type": "display_data"
    }
   ],
   "source": [
    "curve(x^.5*(1-x)^.5, from = 0, to=1, ylab='f(x)')"
   ]
  },
  {
   "cell_type": "markdown",
   "metadata": {},
   "source": [
    "**\n",
    "---\n",
    "---\n",
    "**\n",
    "---\n",
    "\n",
    "**\n",
    "---\n",
    "#### Mi Ejemplo:"
   ]
  },
  {
   "cell_type": "markdown",
   "metadata": {},
   "source": [
    "Sintaxis de una función:\n",
    "\n",
    "```\n",
    "f <- function(x, ...){\n",
    "\n",
    "}\n",
    "```"
   ]
  },
  {
   "cell_type": "markdown",
   "metadata": {},
   "source": [
    "Aquí `f` es el nombre de la función, `x` es el nombre del primer argumento, `...` indica argumentos posibles (las funciones pueden definirse sin argumentos). Los `{}` encierran el cuerpo de la función. El valor que regresa la función es el valor de la última expresión evaluada y se puede colocar la palabra reservada `return` o no."
   ]
  },
  {
   "cell_type": "code",
   "execution_count": 130,
   "metadata": {},
   "outputs": [],
   "source": [
    "multiplicaElementos <- function(vector,multiplicador){\n",
    "    resultado <- vector*multiplicador\n",
    "    resultado\n",
    "}"
   ]
  },
  {
   "cell_type": "code",
   "execution_count": 131,
   "metadata": {},
   "outputs": [
    {
     "data": {
      "text/html": [
       "<ol class=list-inline>\n",
       "\t<li>10</li>\n",
       "\t<li>610</li>\n",
       "\t<li>568560</li>\n",
       "\t<li>6150</li>\n",
       "\t<li>560</li>\n",
       "\t<li>50</li>\n",
       "\t<li>20</li>\n",
       "\t<li>1580</li>\n",
       "\t<li>30</li>\n",
       "\t<li>10</li>\n",
       "\t<li>30</li>\n",
       "\t<li>1580</li>\n",
       "\t<li>30</li>\n",
       "\t<li>80</li>\n",
       "\t<li>1560</li>\n",
       "\t<li>160</li>\n",
       "\t<li>1680</li>\n",
       "\t<li>61680</li>\n",
       "\t<li>350</li>\n",
       "\t<li>80</li>\n",
       "\t<li>6810</li>\n",
       "\t<li>1560</li>\n",
       "\t<li>1560</li>\n",
       "</ol>\n"
      ],
      "text/latex": [
       "\\begin{enumerate*}\n",
       "\\item 10\n",
       "\\item 610\n",
       "\\item 568560\n",
       "\\item 6150\n",
       "\\item 560\n",
       "\\item 50\n",
       "\\item 20\n",
       "\\item 1580\n",
       "\\item 30\n",
       "\\item 10\n",
       "\\item 30\n",
       "\\item 1580\n",
       "\\item 30\n",
       "\\item 80\n",
       "\\item 1560\n",
       "\\item 160\n",
       "\\item 1680\n",
       "\\item 61680\n",
       "\\item 350\n",
       "\\item 80\n",
       "\\item 6810\n",
       "\\item 1560\n",
       "\\item 1560\n",
       "\\end{enumerate*}\n"
      ],
      "text/markdown": [
       "1. 10\n",
       "2. 610\n",
       "3. 568560\n",
       "4. 6150\n",
       "5. 560\n",
       "6. 50\n",
       "7. 20\n",
       "8. 1580\n",
       "9. 30\n",
       "10. 10\n",
       "11. 30\n",
       "12. 1580\n",
       "13. 30\n",
       "14. 80\n",
       "15. 1560\n",
       "16. 160\n",
       "17. 1680\n",
       "18. 61680\n",
       "19. 350\n",
       "20. 80\n",
       "21. 6810\n",
       "22. 1560\n",
       "23. 1560\n",
       "\n",
       "\n"
      ],
      "text/plain": [
       " [1]     10    610 568560   6150    560     50     20   1580     30     10\n",
       "[11]     30   1580     30     80   1560    160   1680  61680    350     80\n",
       "[21]   6810   1560   1560"
      ]
     },
     "metadata": {},
     "output_type": "display_data"
    }
   ],
   "source": [
    "multiplicaElementos(elvectorazo,10)"
   ]
  },
  {
   "cell_type": "markdown",
   "metadata": {},
   "source": [
    "Tambien se pueden crear funciones con defaults"
   ]
  },
  {
   "cell_type": "code",
   "execution_count": 132,
   "metadata": {},
   "outputs": [],
   "source": [
    "multiplicaElementosDefault <- function(vector,multiplicador=5){\n",
    "    resultado <- vector*multiplicador\n",
    "    resultado\n",
    "}"
   ]
  },
  {
   "cell_type": "code",
   "execution_count": 133,
   "metadata": {},
   "outputs": [
    {
     "data": {
      "text/html": [
       "<ol class=list-inline>\n",
       "\t<li>5</li>\n",
       "\t<li>305</li>\n",
       "\t<li>284280</li>\n",
       "\t<li>3075</li>\n",
       "\t<li>280</li>\n",
       "\t<li>25</li>\n",
       "\t<li>10</li>\n",
       "\t<li>790</li>\n",
       "\t<li>15</li>\n",
       "\t<li>5</li>\n",
       "\t<li>15</li>\n",
       "\t<li>790</li>\n",
       "\t<li>15</li>\n",
       "\t<li>40</li>\n",
       "\t<li>780</li>\n",
       "\t<li>80</li>\n",
       "\t<li>840</li>\n",
       "\t<li>30840</li>\n",
       "\t<li>175</li>\n",
       "\t<li>40</li>\n",
       "\t<li>3405</li>\n",
       "\t<li>780</li>\n",
       "\t<li>780</li>\n",
       "</ol>\n"
      ],
      "text/latex": [
       "\\begin{enumerate*}\n",
       "\\item 5\n",
       "\\item 305\n",
       "\\item 284280\n",
       "\\item 3075\n",
       "\\item 280\n",
       "\\item 25\n",
       "\\item 10\n",
       "\\item 790\n",
       "\\item 15\n",
       "\\item 5\n",
       "\\item 15\n",
       "\\item 790\n",
       "\\item 15\n",
       "\\item 40\n",
       "\\item 780\n",
       "\\item 80\n",
       "\\item 840\n",
       "\\item 30840\n",
       "\\item 175\n",
       "\\item 40\n",
       "\\item 3405\n",
       "\\item 780\n",
       "\\item 780\n",
       "\\end{enumerate*}\n"
      ],
      "text/markdown": [
       "1. 5\n",
       "2. 305\n",
       "3. 284280\n",
       "4. 3075\n",
       "5. 280\n",
       "6. 25\n",
       "7. 10\n",
       "8. 790\n",
       "9. 15\n",
       "10. 5\n",
       "11. 15\n",
       "12. 790\n",
       "13. 15\n",
       "14. 40\n",
       "15. 780\n",
       "16. 80\n",
       "17. 840\n",
       "18. 30840\n",
       "19. 175\n",
       "20. 40\n",
       "21. 3405\n",
       "22. 780\n",
       "23. 780\n",
       "\n",
       "\n"
      ],
      "text/plain": [
       " [1]      5    305 284280   3075    280     25     10    790     15      5\n",
       "[11]     15    790     15     40    780     80    840  30840    175     40\n",
       "[21]   3405    780    780"
      ]
     },
     "metadata": {},
     "output_type": "display_data"
    }
   ],
   "source": [
    "multiplicaElementosDefault(elvectorazo)"
   ]
  },
  {
   "cell_type": "code",
   "execution_count": 134,
   "metadata": {},
   "outputs": [],
   "source": [
    "#Notese que está vectorizando la operación al introducir un vector, pero si le meto un número, lo hace por el número"
   ]
  },
  {
   "cell_type": "code",
   "execution_count": 135,
   "metadata": {},
   "outputs": [
    {
     "data": {
      "text/html": [
       "10"
      ],
      "text/latex": [
       "10"
      ],
      "text/markdown": [
       "10"
      ],
      "text/plain": [
       "[1] 10"
      ]
     },
     "metadata": {},
     "output_type": "display_data"
    }
   ],
   "source": [
    "multiplicaElementosDefault(2)"
   ]
  },
  {
   "cell_type": "markdown",
   "metadata": {},
   "source": [
    "Se puede acceder a los valores default de una función con args(\"funcion\")"
   ]
  },
  {
   "cell_type": "code",
   "execution_count": 136,
   "metadata": {},
   "outputs": [
    {
     "data": {
      "text/html": [
       "<pre class=language-r><code>function (vector, multiplicador = 5) \n",
       "NULL</code></pre>"
      ],
      "text/latex": [
       "\\begin{minted}{r}\n",
       "function (vector, multiplicador = 5) \n",
       "NULL\n",
       "\\end{minted}"
      ],
      "text/markdown": [
       "```r\n",
       "function (vector, multiplicador = 5) \n",
       "NULL\n",
       "```"
      ],
      "text/plain": [
       "function (vector, multiplicador = 5) \n",
       "NULL"
      ]
     },
     "metadata": {},
     "output_type": "display_data"
    }
   ],
   "source": [
    "args(multiplicaElementosDefault)"
   ]
  },
  {
   "cell_type": "markdown",
   "metadata": {},
   "source": [
    "Se puede graficar la gráfica de una función con la función `curve`. En el caso anterior si deseamos graficar el integrando: $x^{a-1}*(1-x)^{b-1}$ para $x$ de $0$ a $1$ y $a=b=.5$ se ejecuta:"
   ]
  },
  {
   "cell_type": "code",
   "execution_count": 137,
   "metadata": {},
   "outputs": [
    {
     "data": {
      "image/png": "[encoded data removed]",
      "text/plain": [
       "plot without title"
      ]
     },
     "metadata": {},
     "output_type": "display_data"
    }
   ],
   "source": [
    "curve((1/2)*x+10, from = 0, to=10, ylab='f(x)')"
   ]
  },
  {
   "cell_type": "markdown",
   "metadata": {},
   "source": [
    "se usó y=mx+b lo cual da una recta"
   ]
  },
  {
   "cell_type": "markdown",
   "metadata": {},
   "source": [
    "#### Fin de mi ejemplo\n",
    "**\n",
    "---\n",
    "**\n",
    "---\n",
    "---\n",
    "**\n",
    "---\n"
   ]
  },
  {
   "cell_type": "markdown",
   "metadata": {},
   "source": [
    "## Vectores y Matrices"
   ]
  },
  {
   "cell_type": "markdown",
   "metadata": {},
   "source": [
    "### Ejemplo: class mobility"
   ]
  },
  {
   "cell_type": "markdown",
   "metadata": {},
   "source": [
    "The following model of class mobility is discussed in Ross [Introduction to Probability Models, Example 4.19, p. 207]. Assume that the class of a child (lower, middle, or upper class) depends only on the class of his/her parents. The class of the parents is indicated by the row label. The entries in the table below correspond to the chance that the child will transition to the class indicated by the column label."
   ]
  },
  {
   "cell_type": "markdown",
   "metadata": {},
   "source": [
    "|-----| lower | middle | upper |\n",
    "|-----|:-----:|:------:|:-----:|\n",
    "|lower| 0.45  | 0.48   | 0.07  | \n",
    "|middle| 0.05 | 0.70   | 0.25  |\n",
    "|upper|0.01   |0.5|0.49|"
   ]
  },
  {
   "cell_type": "markdown",
   "metadata": {},
   "source": [
    "To create a matrix with these transition probabilities, we use the matrix function. First, the vector of probabilities probs is constructed to supply the entries of the matrix. Then the matrix is defined by its entries, number of rows, and number of columns."
   ]
  },
  {
   "cell_type": "code",
   "execution_count": 138,
   "metadata": {},
   "outputs": [],
   "source": [
    "probs <- c(.45, .05, .01, .48, .70, .50, .07, .25, .49)"
   ]
  },
  {
   "cell_type": "code",
   "execution_count": 139,
   "metadata": {},
   "outputs": [],
   "source": [
    "P <- matrix(probs, nrow=3, ncol=3)"
   ]
  },
  {
   "cell_type": "code",
   "execution_count": 140,
   "metadata": {},
   "outputs": [
    {
     "data": {
      "text/html": [
       "<table>\n",
       "<tbody>\n",
       "\t<tr><td>0.45</td><td>0.48</td><td>0.07</td></tr>\n",
       "\t<tr><td>0.05</td><td>0.70</td><td>0.25</td></tr>\n",
       "\t<tr><td>0.01</td><td>0.50</td><td>0.49</td></tr>\n",
       "</tbody>\n",
       "</table>\n"
      ],
      "text/latex": [
       "\\begin{tabular}{lll}\n",
       "\t 0.45 & 0.48 & 0.07\\\\\n",
       "\t 0.05 & 0.70 & 0.25\\\\\n",
       "\t 0.01 & 0.50 & 0.49\\\\\n",
       "\\end{tabular}\n"
      ],
      "text/markdown": [
       "\n",
       "| 0.45 | 0.48 | 0.07 |\n",
       "| 0.05 | 0.70 | 0.25 |\n",
       "| 0.01 | 0.50 | 0.49 |\n",
       "\n"
      ],
      "text/plain": [
       "     [,1] [,2] [,3]\n",
       "[1,] 0.45 0.48 0.07\n",
       "[2,] 0.05 0.70 0.25\n",
       "[3,] 0.01 0.50 0.49"
      ]
     },
     "metadata": {},
     "output_type": "display_data"
    }
   ],
   "source": [
    "P"
   ]
  },
  {
   "cell_type": "markdown",
   "metadata": {},
   "source": [
    "Notice that the values are entered by column; to enter the data by row, use the optional argument byrow=TRUE in the matrix function. Matrices can optionally have row names and column names. In this case, row names and column names are identical, so we can assign both using"
   ]
  },
  {
   "cell_type": "code",
   "execution_count": 141,
   "metadata": {},
   "outputs": [],
   "source": [
    "rownames(P) <- colnames(P) <- c(\"lower\", \"middle\", \"upper\")"
   ]
  },
  {
   "cell_type": "markdown",
   "metadata": {},
   "source": [
    "and the updated value of P is"
   ]
  },
  {
   "cell_type": "code",
   "execution_count": 142,
   "metadata": {},
   "outputs": [
    {
     "data": {
      "text/html": [
       "<table>\n",
       "<thead><tr><th></th><th scope=col>lower</th><th scope=col>middle</th><th scope=col>upper</th></tr></thead>\n",
       "<tbody>\n",
       "\t<tr><th scope=row>lower</th><td>0.45</td><td>0.48</td><td>0.07</td></tr>\n",
       "\t<tr><th scope=row>middle</th><td>0.05</td><td>0.70</td><td>0.25</td></tr>\n",
       "\t<tr><th scope=row>upper</th><td>0.01</td><td>0.50</td><td>0.49</td></tr>\n",
       "</tbody>\n",
       "</table>\n"
      ],
      "text/latex": [
       "\\begin{tabular}{r|lll}\n",
       "  & lower & middle & upper\\\\\n",
       "\\hline\n",
       "\tlower & 0.45 & 0.48 & 0.07\\\\\n",
       "\tmiddle & 0.05 & 0.70 & 0.25\\\\\n",
       "\tupper & 0.01 & 0.50 & 0.49\\\\\n",
       "\\end{tabular}\n"
      ],
      "text/markdown": [
       "\n",
       "| <!--/--> | lower | middle | upper |\n",
       "|---|---|---|---|\n",
       "| lower | 0.45 | 0.48 | 0.07 |\n",
       "| middle | 0.05 | 0.70 | 0.25 |\n",
       "| upper | 0.01 | 0.50 | 0.49 |\n",
       "\n"
      ],
      "text/plain": [
       "       lower middle upper\n",
       "lower  0.45  0.48   0.07 \n",
       "middle 0.05  0.70   0.25 \n",
       "upper  0.01  0.50   0.49 "
      ]
     },
     "metadata": {},
     "output_type": "display_data"
    }
   ],
   "source": [
    "P"
   ]
  },
  {
   "cell_type": "markdown",
   "metadata": {},
   "source": [
    "In the matrix $P = (p_{ij})$, the probability $p_{ij}$ in the $i$-th row and $j$-th column is the probability of a transition from class $i$ to class $j$ in one generation."
   ]
  },
  {
   "cell_type": "markdown",
   "metadata": {},
   "source": [
    "This type of matrix has rows that sum to 1 (because each row is a probability distribution on the three classes). This fact can be verified by the rowSums function."
   ]
  },
  {
   "cell_type": "code",
   "execution_count": 143,
   "metadata": {},
   "outputs": [
    {
     "data": {
      "text/html": [
       "<dl class=dl-horizontal>\n",
       "\t<dt>lower</dt>\n",
       "\t\t<dd>1</dd>\n",
       "\t<dt>middle</dt>\n",
       "\t\t<dd>1</dd>\n",
       "\t<dt>upper</dt>\n",
       "\t\t<dd>1</dd>\n",
       "</dl>\n"
      ],
      "text/latex": [
       "\\begin{description*}\n",
       "\\item[lower] 1\n",
       "\\item[middle] 1\n",
       "\\item[upper] 1\n",
       "\\end{description*}\n"
      ],
      "text/markdown": [
       "lower\n",
       ":   1middle\n",
       ":   1upper\n",
       ":   1\n",
       "\n"
      ],
      "text/plain": [
       " lower middle  upper \n",
       "     1      1      1 "
      ]
     },
     "metadata": {},
     "output_type": "display_data"
    }
   ],
   "source": [
    "rowSums(P)"
   ]
  },
  {
   "cell_type": "markdown",
   "metadata": {},
   "source": [
    "Another approach uses the apply function. It requires specifying the name of the matrix, MARGIN (row=1, column=2), and FUN (function) as its arguments."
   ]
  },
  {
   "cell_type": "code",
   "execution_count": 144,
   "metadata": {},
   "outputs": [
    {
     "data": {
      "text/html": [
       "<dl class=dl-horizontal>\n",
       "\t<dt>lower</dt>\n",
       "\t\t<dd>1</dd>\n",
       "\t<dt>middle</dt>\n",
       "\t\t<dd>1</dd>\n",
       "\t<dt>upper</dt>\n",
       "\t\t<dd>1</dd>\n",
       "</dl>\n"
      ],
      "text/latex": [
       "\\begin{description*}\n",
       "\\item[lower] 1\n",
       "\\item[middle] 1\n",
       "\\item[upper] 1\n",
       "\\end{description*}\n"
      ],
      "text/markdown": [
       "lower\n",
       ":   1middle\n",
       ":   1upper\n",
       ":   1\n",
       "\n"
      ],
      "text/plain": [
       " lower middle  upper \n",
       "     1      1      1 "
      ]
     },
     "metadata": {},
     "output_type": "display_data"
    }
   ],
   "source": [
    "apply(P, MARGIN=1, FUN=sum)"
   ]
  },
  {
   "cell_type": "markdown",
   "metadata": {},
   "source": [
    "It can be shown that the transition probabilities for two generations are given by the product $P2 =PP$, which can be computed by the matrix multiplication operator %*%."
   ]
  },
  {
   "cell_type": "code",
   "execution_count": 145,
   "metadata": {},
   "outputs": [
    {
     "data": {
      "text/html": [
       "<table>\n",
       "<thead><tr><th></th><th scope=col>lower</th><th scope=col>middle</th><th scope=col>upper</th></tr></thead>\n",
       "<tbody>\n",
       "\t<tr><th scope=row>lower</th><td>0.2272</td><td>0.5870</td><td>0.1858</td></tr>\n",
       "\t<tr><th scope=row>middle</th><td>0.0600</td><td>0.6390</td><td>0.3010</td></tr>\n",
       "\t<tr><th scope=row>upper</th><td>0.0344</td><td>0.5998</td><td>0.3658</td></tr>\n",
       "</tbody>\n",
       "</table>\n"
      ],
      "text/latex": [
       "\\begin{tabular}{r|lll}\n",
       "  & lower & middle & upper\\\\\n",
       "\\hline\n",
       "\tlower & 0.2272 & 0.5870 & 0.1858\\\\\n",
       "\tmiddle & 0.0600 & 0.6390 & 0.3010\\\\\n",
       "\tupper & 0.0344 & 0.5998 & 0.3658\\\\\n",
       "\\end{tabular}\n"
      ],
      "text/markdown": [
       "\n",
       "| <!--/--> | lower | middle | upper |\n",
       "|---|---|---|---|\n",
       "| lower | 0.2272 | 0.5870 | 0.1858 |\n",
       "| middle | 0.0600 | 0.6390 | 0.3010 |\n",
       "| upper | 0.0344 | 0.5998 | 0.3658 |\n",
       "\n"
      ],
      "text/plain": [
       "       lower  middle upper \n",
       "lower  0.2272 0.5870 0.1858\n",
       "middle 0.0600 0.6390 0.3010\n",
       "upper  0.0344 0.5998 0.3658"
      ]
     },
     "metadata": {},
     "output_type": "display_data"
    }
   ],
   "source": [
    "P2 <- P %*% P\n",
    "P2"
   ]
  },
  {
   "cell_type": "markdown",
   "metadata": {},
   "source": [
    "**Obs:** $P^2$ squares every element of the matrix and the result is the matrix $(p^2_{ij})$, not the matrix product."
   ]
  },
  {
   "cell_type": "code",
   "execution_count": 146,
   "metadata": {},
   "outputs": [
    {
     "data": {
      "text/html": [
       "<table>\n",
       "<thead><tr><th></th><th scope=col>lower</th><th scope=col>middle</th><th scope=col>upper</th></tr></thead>\n",
       "<tbody>\n",
       "\t<tr><th scope=row>lower</th><td>0.2025</td><td>0.2304</td><td>0.0049</td></tr>\n",
       "\t<tr><th scope=row>middle</th><td>0.0025</td><td>0.4900</td><td>0.0625</td></tr>\n",
       "\t<tr><th scope=row>upper</th><td>0.0001</td><td>0.2500</td><td>0.2401</td></tr>\n",
       "</tbody>\n",
       "</table>\n"
      ],
      "text/latex": [
       "\\begin{tabular}{r|lll}\n",
       "  & lower & middle & upper\\\\\n",
       "\\hline\n",
       "\tlower & 0.2025 & 0.2304 & 0.0049\\\\\n",
       "\tmiddle & 0.0025 & 0.4900 & 0.0625\\\\\n",
       "\tupper & 0.0001 & 0.2500 & 0.2401\\\\\n",
       "\\end{tabular}\n"
      ],
      "text/markdown": [
       "\n",
       "| <!--/--> | lower | middle | upper |\n",
       "|---|---|---|---|\n",
       "| lower | 0.2025 | 0.2304 | 0.0049 |\n",
       "| middle | 0.0025 | 0.4900 | 0.0625 |\n",
       "| upper | 0.0001 | 0.2500 | 0.2401 |\n",
       "\n"
      ],
      "text/plain": [
       "       lower  middle upper \n",
       "lower  0.2025 0.2304 0.0049\n",
       "middle 0.0025 0.4900 0.0625\n",
       "upper  0.0001 0.2500 0.2401"
      ]
     },
     "metadata": {},
     "output_type": "display_data"
    }
   ],
   "source": [
    "P^2"
   ]
  },
  {
   "cell_type": "markdown",
   "metadata": {},
   "source": [
    "To extract elements from the matrix, the [row, column] syntax is used. If the row or column is omitted, this specifies all rows (columns). In two generations, the probability that descendants of lower class parents can transition to upper class is in row 1, column 3:"
   ]
  },
  {
   "cell_type": "code",
   "execution_count": 147,
   "metadata": {},
   "outputs": [
    {
     "data": {
      "text/html": [
       "0.1858"
      ],
      "text/latex": [
       "0.1858"
      ],
      "text/markdown": [
       "0.1858"
      ],
      "text/plain": [
       "[1] 0.1858"
      ]
     },
     "metadata": {},
     "output_type": "display_data"
    }
   ],
   "source": [
    "P2[1,3]"
   ]
  },
  {
   "cell_type": "markdown",
   "metadata": {},
   "source": [
    "and the probability distribution for lower class to (lower, middle, upper) is given by row 1:"
   ]
  },
  {
   "cell_type": "code",
   "execution_count": 148,
   "metadata": {},
   "outputs": [
    {
     "data": {
      "text/html": [
       "<dl class=dl-horizontal>\n",
       "\t<dt>lower</dt>\n",
       "\t\t<dd>0.2272</dd>\n",
       "\t<dt>middle</dt>\n",
       "\t\t<dd>0.587</dd>\n",
       "\t<dt>upper</dt>\n",
       "\t\t<dd>0.1858</dd>\n",
       "</dl>\n"
      ],
      "text/latex": [
       "\\begin{description*}\n",
       "\\item[lower] 0.2272\n",
       "\\item[middle] 0.587\n",
       "\\item[upper] 0.1858\n",
       "\\end{description*}\n"
      ],
      "text/markdown": [
       "lower\n",
       ":   0.2272middle\n",
       ":   0.587upper\n",
       ":   0.1858\n",
       "\n"
      ],
      "text/plain": [
       " lower middle  upper \n",
       "0.2272 0.5870 0.1858 "
      ]
     },
     "metadata": {},
     "output_type": "display_data"
    }
   ],
   "source": [
    "P2[1,]"
   ]
  },
  {
   "cell_type": "markdown",
   "metadata": {},
   "source": [
    "**\n",
    "---\n",
    "---\n",
    "**\n",
    "---\n",
    "\n",
    "**\n",
    "---\n",
    "#### Mi Ejemplo:"
   ]
  },
  {
   "cell_type": "markdown",
   "metadata": {},
   "source": [
    "Se puede crear una matriz de la siguiente forma:"
   ]
  },
  {
   "cell_type": "code",
   "execution_count": 149,
   "metadata": {},
   "outputs": [],
   "source": [
    "elvectorazoPar<-c(1,61,56856,615,56,5,2,158,3,1,3,158,3,8,156,16,168,6168,35,8,681,156,156,20)"
   ]
  },
  {
   "cell_type": "code",
   "execution_count": 150,
   "metadata": {},
   "outputs": [],
   "source": [
    "matriz <- matrix(elvectorazoPar, nrow=6, ncol=4)"
   ]
  },
  {
   "cell_type": "code",
   "execution_count": 151,
   "metadata": {},
   "outputs": [
    {
     "data": {
      "text/html": [
       "<table>\n",
       "<tbody>\n",
       "\t<tr><td>    1</td><td>  2  </td><td>   3 </td><td> 35  </td></tr>\n",
       "\t<tr><td>   61</td><td>158  </td><td>   8 </td><td>  8  </td></tr>\n",
       "\t<tr><td>56856</td><td>  3  </td><td> 156 </td><td>681  </td></tr>\n",
       "\t<tr><td>  615</td><td>  1  </td><td>  16 </td><td>156  </td></tr>\n",
       "\t<tr><td>   56</td><td>  3  </td><td> 168 </td><td>156  </td></tr>\n",
       "\t<tr><td>    5</td><td>158  </td><td>6168 </td><td> 20  </td></tr>\n",
       "</tbody>\n",
       "</table>\n"
      ],
      "text/latex": [
       "\\begin{tabular}{llll}\n",
       "\t     1 &   2   &    3  &  35  \\\\\n",
       "\t    61 & 158   &    8  &   8  \\\\\n",
       "\t 56856 &   3   &  156  & 681  \\\\\n",
       "\t   615 &   1   &   16  & 156  \\\\\n",
       "\t    56 &   3   &  168  & 156  \\\\\n",
       "\t     5 & 158   & 6168  &  20  \\\\\n",
       "\\end{tabular}\n"
      ],
      "text/markdown": [
       "\n",
       "|     1 |   2   |    3  |  35   |\n",
       "|    61 | 158   |    8  |   8   |\n",
       "| 56856 |   3   |  156  | 681   |\n",
       "|   615 |   1   |   16  | 156   |\n",
       "|    56 |   3   |  168  | 156   |\n",
       "|     5 | 158   | 6168  |  20   |\n",
       "\n"
      ],
      "text/plain": [
       "     [,1]  [,2] [,3] [,4]\n",
       "[1,]     1   2     3  35 \n",
       "[2,]    61 158     8   8 \n",
       "[3,] 56856   3   156 681 \n",
       "[4,]   615   1    16 156 \n",
       "[5,]    56   3   168 156 \n",
       "[6,]     5 158  6168  20 "
      ]
     },
     "metadata": {},
     "output_type": "display_data"
    }
   ],
   "source": [
    "matriz"
   ]
  },
  {
   "cell_type": "markdown",
   "metadata": {},
   "source": [
    "Los números entran como columnas, pero se pueden meter como renglones"
   ]
  },
  {
   "cell_type": "markdown",
   "metadata": {},
   "source": [
    "Para asignar nombres a cada columna y renglon:"
   ]
  },
  {
   "cell_type": "code",
   "execution_count": 152,
   "metadata": {},
   "outputs": [],
   "source": [
    "colnames(matriz) <- c(\"c1\", \"c2\", \"c3\",\"c4\")\n",
    "rownames(matriz) <- c(\"r1\", \"r2\", \"r3\",\"r4\",\"r5\",\"r6\")"
   ]
  },
  {
   "cell_type": "code",
   "execution_count": 153,
   "metadata": {},
   "outputs": [
    {
     "data": {
      "text/html": [
       "<table>\n",
       "<thead><tr><th></th><th scope=col>c1</th><th scope=col>c2</th><th scope=col>c3</th><th scope=col>c4</th></tr></thead>\n",
       "<tbody>\n",
       "\t<tr><th scope=row>r1</th><td>    1</td><td>  2  </td><td>   3 </td><td> 35  </td></tr>\n",
       "\t<tr><th scope=row>r2</th><td>   61</td><td>158  </td><td>   8 </td><td>  8  </td></tr>\n",
       "\t<tr><th scope=row>r3</th><td>56856</td><td>  3  </td><td> 156 </td><td>681  </td></tr>\n",
       "\t<tr><th scope=row>r4</th><td>  615</td><td>  1  </td><td>  16 </td><td>156  </td></tr>\n",
       "\t<tr><th scope=row>r5</th><td>   56</td><td>  3  </td><td> 168 </td><td>156  </td></tr>\n",
       "\t<tr><th scope=row>r6</th><td>    5</td><td>158  </td><td>6168 </td><td> 20  </td></tr>\n",
       "</tbody>\n",
       "</table>\n"
      ],
      "text/latex": [
       "\\begin{tabular}{r|llll}\n",
       "  & c1 & c2 & c3 & c4\\\\\n",
       "\\hline\n",
       "\tr1 &     1 &   2   &    3  &  35  \\\\\n",
       "\tr2 &    61 & 158   &    8  &   8  \\\\\n",
       "\tr3 & 56856 &   3   &  156  & 681  \\\\\n",
       "\tr4 &   615 &   1   &   16  & 156  \\\\\n",
       "\tr5 &    56 &   3   &  168  & 156  \\\\\n",
       "\tr6 &     5 & 158   & 6168  &  20  \\\\\n",
       "\\end{tabular}\n"
      ],
      "text/markdown": [
       "\n",
       "| <!--/--> | c1 | c2 | c3 | c4 |\n",
       "|---|---|---|---|---|\n",
       "| r1 |     1 |   2   |    3  |  35   |\n",
       "| r2 |    61 | 158   |    8  |   8   |\n",
       "| r3 | 56856 |   3   |  156  | 681   |\n",
       "| r4 |   615 |   1   |   16  | 156   |\n",
       "| r5 |    56 |   3   |  168  | 156   |\n",
       "| r6 |     5 | 158   | 6168  |  20   |\n",
       "\n"
      ],
      "text/plain": [
       "   c1    c2  c3   c4 \n",
       "r1     1   2    3  35\n",
       "r2    61 158    8   8\n",
       "r3 56856   3  156 681\n",
       "r4   615   1   16 156\n",
       "r5    56   3  168 156\n",
       "r6     5 158 6168  20"
      ]
     },
     "metadata": {},
     "output_type": "display_data"
    }
   ],
   "source": [
    "matriz"
   ]
  },
  {
   "cell_type": "markdown",
   "metadata": {},
   "source": [
    "Se pueden sumar los valores de los renglones y las columnas"
   ]
  },
  {
   "cell_type": "code",
   "execution_count": 154,
   "metadata": {},
   "outputs": [
    {
     "data": {
      "text/html": [
       "<dl class=dl-horizontal>\n",
       "\t<dt>r1</dt>\n",
       "\t\t<dd>41</dd>\n",
       "\t<dt>r2</dt>\n",
       "\t\t<dd>235</dd>\n",
       "\t<dt>r3</dt>\n",
       "\t\t<dd>57696</dd>\n",
       "\t<dt>r4</dt>\n",
       "\t\t<dd>788</dd>\n",
       "\t<dt>r5</dt>\n",
       "\t\t<dd>383</dd>\n",
       "\t<dt>r6</dt>\n",
       "\t\t<dd>6351</dd>\n",
       "</dl>\n"
      ],
      "text/latex": [
       "\\begin{description*}\n",
       "\\item[r1] 41\n",
       "\\item[r2] 235\n",
       "\\item[r3] 57696\n",
       "\\item[r4] 788\n",
       "\\item[r5] 383\n",
       "\\item[r6] 6351\n",
       "\\end{description*}\n"
      ],
      "text/markdown": [
       "r1\n",
       ":   41r2\n",
       ":   235r3\n",
       ":   57696r4\n",
       ":   788r5\n",
       ":   383r6\n",
       ":   6351\n",
       "\n"
      ],
      "text/plain": [
       "   r1    r2    r3    r4    r5    r6 \n",
       "   41   235 57696   788   383  6351 "
      ]
     },
     "metadata": {},
     "output_type": "display_data"
    }
   ],
   "source": [
    "rowSums(matriz)"
   ]
  },
  {
   "cell_type": "code",
   "execution_count": 155,
   "metadata": {},
   "outputs": [
    {
     "data": {
      "text/html": [
       "<dl class=dl-horizontal>\n",
       "\t<dt>c1</dt>\n",
       "\t\t<dd>57594</dd>\n",
       "\t<dt>c2</dt>\n",
       "\t\t<dd>325</dd>\n",
       "\t<dt>c3</dt>\n",
       "\t\t<dd>6519</dd>\n",
       "\t<dt>c4</dt>\n",
       "\t\t<dd>1056</dd>\n",
       "</dl>\n"
      ],
      "text/latex": [
       "\\begin{description*}\n",
       "\\item[c1] 57594\n",
       "\\item[c2] 325\n",
       "\\item[c3] 6519\n",
       "\\item[c4] 1056\n",
       "\\end{description*}\n"
      ],
      "text/markdown": [
       "c1\n",
       ":   57594c2\n",
       ":   325c3\n",
       ":   6519c4\n",
       ":   1056\n",
       "\n"
      ],
      "text/plain": [
       "   c1    c2    c3    c4 \n",
       "57594   325  6519  1056 "
      ]
     },
     "metadata": {},
     "output_type": "display_data"
    }
   ],
   "source": [
    "colSums(matriz)"
   ]
  },
  {
   "cell_type": "code",
   "execution_count": 156,
   "metadata": {},
   "outputs": [
    {
     "data": {
      "text/html": [
       "<dl class=dl-horizontal>\n",
       "\t<dt>r1</dt>\n",
       "\t\t<dd>41</dd>\n",
       "\t<dt>r2</dt>\n",
       "\t\t<dd>235</dd>\n",
       "\t<dt>r3</dt>\n",
       "\t\t<dd>57696</dd>\n",
       "\t<dt>r4</dt>\n",
       "\t\t<dd>788</dd>\n",
       "\t<dt>r5</dt>\n",
       "\t\t<dd>383</dd>\n",
       "\t<dt>r6</dt>\n",
       "\t\t<dd>6351</dd>\n",
       "</dl>\n"
      ],
      "text/latex": [
       "\\begin{description*}\n",
       "\\item[r1] 41\n",
       "\\item[r2] 235\n",
       "\\item[r3] 57696\n",
       "\\item[r4] 788\n",
       "\\item[r5] 383\n",
       "\\item[r6] 6351\n",
       "\\end{description*}\n"
      ],
      "text/markdown": [
       "r1\n",
       ":   41r2\n",
       ":   235r3\n",
       ":   57696r4\n",
       ":   788r5\n",
       ":   383r6\n",
       ":   6351\n",
       "\n"
      ],
      "text/plain": [
       "   r1    r2    r3    r4    r5    r6 \n",
       "   41   235 57696   788   383  6351 "
      ]
     },
     "metadata": {},
     "output_type": "display_data"
    }
   ],
   "source": [
    "#Otra forma de hacer la misma suma:\n",
    "apply(matriz, MARGIN=1, FUN=sum)"
   ]
  },
  {
   "cell_type": "code",
   "execution_count": 157,
   "metadata": {},
   "outputs": [],
   "source": [
    "elvectorazoPar2<-elvectorazoPar/1000000\n",
    "\n",
    "matriz2 <- matrix(elvectorazoPar2, nrow=4, ncol=6)\n",
    "rownames(matriz2) <- c(\"r1\", \"r2\", \"r3\",\"r4\")"
   ]
  },
  {
   "cell_type": "markdown",
   "metadata": {},
   "source": [
    "se pueden multiplicar matrices con %*% "
   ]
  },
  {
   "cell_type": "code",
   "execution_count": 158,
   "metadata": {},
   "outputs": [
    {
     "data": {
      "text/html": [
       "<table>\n",
       "<thead><tr><th></th><th scope=col>c1</th><th scope=col>c2</th><th scope=col>c3</th><th scope=col>c4</th></tr></thead>\n",
       "<tbody>\n",
       "\t<tr><th scope=row>r1</th><td>0.188643</td><td>0.116964</td><td>4.229599</td><td>0.042822</td></tr>\n",
       "\t<tr><th scope=row>r2</th><td>0.408330</td><td>0.044075</td><td>1.998939</td><td>0.969432</td></tr>\n",
       "\t<tr><th scope=row>r3</th><td>0.326226</td><td>0.138946</td><td>1.141636</td><td>2.024935</td></tr>\n",
       "\t<tr><th scope=row>r4</th><td>9.003889</td><td>0.029868</td><td>0.152717</td><td>0.134531</td></tr>\n",
       "</tbody>\n",
       "</table>\n"
      ],
      "text/latex": [
       "\\begin{tabular}{r|llll}\n",
       "  & c1 & c2 & c3 & c4\\\\\n",
       "\\hline\n",
       "\tr1 & 0.188643 & 0.116964 & 4.229599 & 0.042822\\\\\n",
       "\tr2 & 0.408330 & 0.044075 & 1.998939 & 0.969432\\\\\n",
       "\tr3 & 0.326226 & 0.138946 & 1.141636 & 2.024935\\\\\n",
       "\tr4 & 9.003889 & 0.029868 & 0.152717 & 0.134531\\\\\n",
       "\\end{tabular}\n"
      ],
      "text/markdown": [
       "\n",
       "| <!--/--> | c1 | c2 | c3 | c4 |\n",
       "|---|---|---|---|---|\n",
       "| r1 | 0.188643 | 0.116964 | 4.229599 | 0.042822 |\n",
       "| r2 | 0.408330 | 0.044075 | 1.998939 | 0.969432 |\n",
       "| r3 | 0.326226 | 0.138946 | 1.141636 | 2.024935 |\n",
       "| r4 | 9.003889 | 0.029868 | 0.152717 | 0.134531 |\n",
       "\n"
      ],
      "text/plain": [
       "   c1       c2       c3       c4      \n",
       "r1 0.188643 0.116964 4.229599 0.042822\n",
       "r2 0.408330 0.044075 1.998939 0.969432\n",
       "r3 0.326226 0.138946 1.141636 2.024935\n",
       "r4 9.003889 0.029868 0.152717 0.134531"
      ]
     },
     "metadata": {},
     "output_type": "display_data"
    }
   ],
   "source": [
    "matrmult <- matriz2 %*% matriz\n",
    "matrmult"
   ]
  },
  {
   "cell_type": "markdown",
   "metadata": {},
   "source": [
    "se puede hacer un cuadrado de matriz"
   ]
  },
  {
   "cell_type": "code",
   "execution_count": 159,
   "metadata": {},
   "outputs": [],
   "source": [
    "elvectorazoaxa<-c(1,61,56856,615,56,5,2,158,3,1,3,158,3,8,156,16,168,6168,35,8,681,156,156,20,5)\n",
    "matriz3 <- matrix(elvectorazoaxa, nrow=5, ncol=5)\n",
    "rownames(matriz3) <-colnames(matriz3) <- c(\"r1\", \"r2\", \"r3\",\"r4\",\"r5\")\n"
   ]
  },
  {
   "cell_type": "code",
   "execution_count": 160,
   "metadata": {},
   "outputs": [
    {
     "data": {
      "text/html": [
       "<table>\n",
       "<thead><tr><th></th><th scope=col>r1</th><th scope=col>r2</th><th scope=col>r3</th><th scope=col>r4</th><th scope=col>r5</th></tr></thead>\n",
       "<tbody>\n",
       "\t<tr><th scope=row>r1</th><td>         1</td><td>   25     </td><td>    9     </td><td>     256  </td><td>463761    </td></tr>\n",
       "\t<tr><th scope=row>r2</th><td>      3721</td><td>    4     </td><td>24964     </td><td>   28224  </td><td> 24336    </td></tr>\n",
       "\t<tr><th scope=row>r3</th><td>3232604736</td><td>24964     </td><td>    9     </td><td>38044224  </td><td> 24336    </td></tr>\n",
       "\t<tr><th scope=row>r4</th><td>    378225</td><td>    9     </td><td>   64     </td><td>    1225  </td><td>   400    </td></tr>\n",
       "\t<tr><th scope=row>r5</th><td>      3136</td><td>    1     </td><td>24336     </td><td>      64  </td><td>    25    </td></tr>\n",
       "</tbody>\n",
       "</table>\n"
      ],
      "text/latex": [
       "\\begin{tabular}{r|lllll}\n",
       "  & r1 & r2 & r3 & r4 & r5\\\\\n",
       "\\hline\n",
       "\tr1 &          1 &    25      &     9      &      256   & 463761    \\\\\n",
       "\tr2 &       3721 &     4      & 24964      &    28224   &  24336    \\\\\n",
       "\tr3 & 3232604736 & 24964      &     9      & 38044224   &  24336    \\\\\n",
       "\tr4 &     378225 &     9      &    64      &     1225   &    400    \\\\\n",
       "\tr5 &       3136 &     1      & 24336      &       64   &     25    \\\\\n",
       "\\end{tabular}\n"
      ],
      "text/markdown": [
       "\n",
       "| <!--/--> | r1 | r2 | r3 | r4 | r5 |\n",
       "|---|---|---|---|---|---|\n",
       "| r1 |          1 |    25      |     9      |      256   | 463761     |\n",
       "| r2 |       3721 |     4      | 24964      |    28224   |  24336     |\n",
       "| r3 | 3232604736 | 24964      |     9      | 38044224   |  24336     |\n",
       "| r4 |     378225 |     9      |    64      |     1225   |    400     |\n",
       "| r5 |       3136 |     1      | 24336      |       64   |     25     |\n",
       "\n"
      ],
      "text/plain": [
       "   r1         r2    r3    r4       r5    \n",
       "r1          1    25     9      256 463761\n",
       "r2       3721     4 24964    28224  24336\n",
       "r3 3232604736 24964     9 38044224  24336\n",
       "r4     378225     9    64     1225    400\n",
       "r5       3136     1 24336       64     25"
      ]
     },
     "metadata": {},
     "output_type": "display_data"
    }
   ],
   "source": [
    "matriz3^2"
   ]
  },
  {
   "cell_type": "markdown",
   "metadata": {},
   "source": [
    "Tambien podemos obtener un valor en especifico o un renglon o una columna"
   ]
  },
  {
   "cell_type": "code",
   "execution_count": 161,
   "metadata": {},
   "outputs": [
    {
     "data": {
      "text/html": [
       "6168"
      ],
      "text/latex": [
       "6168"
      ],
      "text/markdown": [
       "6168"
      ],
      "text/plain": [
       "[1] 6168"
      ]
     },
     "metadata": {},
     "output_type": "display_data"
    }
   ],
   "source": [
    "matriz3[3,4]"
   ]
  },
  {
   "cell_type": "code",
   "execution_count": 162,
   "metadata": {},
   "outputs": [
    {
     "data": {
      "text/html": [
       "<dl class=dl-horizontal>\n",
       "\t<dt>r1</dt>\n",
       "\t\t<dd>615</dd>\n",
       "\t<dt>r2</dt>\n",
       "\t\t<dd>3</dd>\n",
       "\t<dt>r3</dt>\n",
       "\t\t<dd>8</dd>\n",
       "\t<dt>r4</dt>\n",
       "\t\t<dd>35</dd>\n",
       "\t<dt>r5</dt>\n",
       "\t\t<dd>20</dd>\n",
       "</dl>\n"
      ],
      "text/latex": [
       "\\begin{description*}\n",
       "\\item[r1] 615\n",
       "\\item[r2] 3\n",
       "\\item[r3] 8\n",
       "\\item[r4] 35\n",
       "\\item[r5] 20\n",
       "\\end{description*}\n"
      ],
      "text/markdown": [
       "r1\n",
       ":   615r2\n",
       ":   3r3\n",
       ":   8r4\n",
       ":   35r5\n",
       ":   20\n",
       "\n"
      ],
      "text/plain": [
       " r1  r2  r3  r4  r5 \n",
       "615   3   8  35  20 "
      ]
     },
     "metadata": {},
     "output_type": "display_data"
    }
   ],
   "source": [
    "matriz3[4,]"
   ]
  },
  {
   "cell_type": "markdown",
   "metadata": {},
   "source": [
    "#### Fin de mi ejemplo\n",
    "**\n",
    "---\n",
    "**\n",
    "---\n",
    "---\n",
    "**\n",
    "---\n"
   ]
  },
  {
   "cell_type": "markdown",
   "metadata": {},
   "source": [
    "After several generations, each row of the transition matrix will be approximately equal, with probabilities $p = (l,m,u)$ corresponding to the percentages of lower, middle, and upper class occupations. After eight transitions, the probabilities are $P8$:"
   ]
  },
  {
   "cell_type": "code",
   "execution_count": 163,
   "metadata": {},
   "outputs": [
    {
     "data": {
      "text/html": [
       "<table>\n",
       "<thead><tr><th></th><th scope=col>lower</th><th scope=col>middle</th><th scope=col>upper</th></tr></thead>\n",
       "<tbody>\n",
       "\t<tr><th scope=row>lower</th><td>0.06350395</td><td>0.6233444 </td><td>0.3131516 </td></tr>\n",
       "\t<tr><th scope=row>middle</th><td>0.06239010</td><td>0.6234412 </td><td>0.3141687 </td></tr>\n",
       "\t<tr><th scope=row>upper</th><td>0.06216410</td><td>0.6234574 </td><td>0.3143785 </td></tr>\n",
       "</tbody>\n",
       "</table>\n"
      ],
      "text/latex": [
       "\\begin{tabular}{r|lll}\n",
       "  & lower & middle & upper\\\\\n",
       "\\hline\n",
       "\tlower & 0.06350395 & 0.6233444  & 0.3131516 \\\\\n",
       "\tmiddle & 0.06239010 & 0.6234412  & 0.3141687 \\\\\n",
       "\tupper & 0.06216410 & 0.6234574  & 0.3143785 \\\\\n",
       "\\end{tabular}\n"
      ],
      "text/markdown": [
       "\n",
       "| <!--/--> | lower | middle | upper |\n",
       "|---|---|---|---|\n",
       "| lower | 0.06350395 | 0.6233444  | 0.3131516  |\n",
       "| middle | 0.06239010 | 0.6234412  | 0.3141687  |\n",
       "| upper | 0.06216410 | 0.6234574  | 0.3143785  |\n",
       "\n"
      ],
      "text/plain": [
       "       lower      middle    upper    \n",
       "lower  0.06350395 0.6233444 0.3131516\n",
       "middle 0.06239010 0.6234412 0.3141687\n",
       "upper  0.06216410 0.6234574 0.3143785"
      ]
     },
     "metadata": {},
     "output_type": "display_data"
    }
   ],
   "source": [
    "P4 <- P2 %*% P2\n",
    "P8 <- P4 %*% P4\n",
    "P8"
   ]
  },
  {
   "cell_type": "markdown",
   "metadata": {},
   "source": [
    "It can be shown that the limiting probabilities are 0.07, 0.62, and 0.31. For the solution p, see Ross [Introduction to Probability Models, p. 207]."
   ]
  },
  {
   "cell_type": "markdown",
   "metadata": {},
   "source": [
    "**Obs:** To enter a matrix of constants, as in this example, it is usually easier to enter data by rows using byrow=TRUE in the matrix function. The “by row” format makes it easier to see (visually) the data vector as a matrix in the code."
   ]
  },
  {
   "cell_type": "code",
   "execution_count": 164,
   "metadata": {},
   "outputs": [],
   "source": [
    "Q <- matrix(c(  0.45, 0.48, 0.07,\n",
    "               0.05, 0.70, 0.25, \n",
    "               0.01, 0.50, 0.49), nrow=3, ncol=3, byrow=TRUE)"
   ]
  },
  {
   "cell_type": "code",
   "execution_count": 165,
   "metadata": {},
   "outputs": [
    {
     "data": {
      "text/html": [
       "<table>\n",
       "<tbody>\n",
       "\t<tr><td>0.45</td><td>0.48</td><td>0.07</td></tr>\n",
       "\t<tr><td>0.05</td><td>0.70</td><td>0.25</td></tr>\n",
       "\t<tr><td>0.01</td><td>0.50</td><td>0.49</td></tr>\n",
       "</tbody>\n",
       "</table>\n"
      ],
      "text/latex": [
       "\\begin{tabular}{lll}\n",
       "\t 0.45 & 0.48 & 0.07\\\\\n",
       "\t 0.05 & 0.70 & 0.25\\\\\n",
       "\t 0.01 & 0.50 & 0.49\\\\\n",
       "\\end{tabular}\n"
      ],
      "text/markdown": [
       "\n",
       "| 0.45 | 0.48 | 0.07 |\n",
       "| 0.05 | 0.70 | 0.25 |\n",
       "| 0.01 | 0.50 | 0.49 |\n",
       "\n"
      ],
      "text/plain": [
       "     [,1] [,2] [,3]\n",
       "[1,] 0.45 0.48 0.07\n",
       "[2,] 0.05 0.70 0.25\n",
       "[3,] 0.01 0.50 0.49"
      ]
     },
     "metadata": {},
     "output_type": "display_data"
    }
   ],
   "source": [
    "Q"
   ]
  },
  {
   "cell_type": "markdown",
   "metadata": {},
   "source": [
    "Matrix operations for numeric matrices in R:\n",
    "\n",
    "* Elementwise multiplication: $*$\n",
    "  \n",
    "  If matrices $A = (a_{ij})$ and $B = (b_{ij})$ have the same dimension, then $A*B$ is evaluated as the matrix with entries $(a_{ij}b_{ij})$.\n",
    "  \n",
    "* If $A = (a_{ij})$ is a matrix then $A^r$ is evaluated as the matrix with entries $(a_{rij})$.\n",
    "\n",
    "* Matrix multiplication: $\\%*\\%$\n",
    "\n",
    "  If $A = (a_{ij})$ is an $n x k$ matrix and $B = (b_{ij})$ is a $k x m$ matrix, then $A \\%*\\% B$ is evaluated as the $n x m$ matrix product $AB$.\n",
    "\n",
    "* Matrix inverse:\n",
    "\n",
    "  If A is a nonsingular matrix, the inverse of A is returned by *solve(A)*.\n",
    "  \n",
    "  For eigenvalues and matrix factorization, see *eigen, qr, chol, and svd*."
   ]
  },
  {
   "cell_type": "markdown",
   "metadata": {},
   "source": [
    "## Data Frames"
   ]
  },
  {
   "cell_type": "markdown",
   "metadata": {},
   "source": [
    "Un *data frame* tiene renglones y columnas. Las variables corresponden a las columnas y las observaciones a los renglones. Las variables pueden ser numéricas (números) o categóricas (caracteres o factores)."
   ]
  },
  {
   "cell_type": "markdown",
   "metadata": {},
   "source": [
    "### Ejemplo: USArrests"
   ]
  },
  {
   "cell_type": "code",
   "execution_count": 166,
   "metadata": {},
   "outputs": [
    {
     "data": {
      "text/html": [
       "\n",
       "<table width=\"100%\" summary=\"page for datasets-package {datasets}\"><tr><td>datasets-package {datasets}</td><td style=\"text-align: right;\">R Documentation</td></tr></table>\n",
       "\n",
       "<h2>\n",
       "The R Datasets Package\n",
       "</h2>\n",
       "\n",
       "<h3>Description</h3>\n",
       "\n",
       "<p>Base R datasets\n",
       "</p>\n",
       "\n",
       "\n",
       "<h3>Details</h3>\n",
       "\n",
       "<p>This package contains a variety of datasets.  For a complete\n",
       "list, use <code>library(help = \"datasets\")</code>.\n",
       "</p>\n",
       "\n",
       "\n",
       "<h3>Author(s)</h3>\n",
       "\n",
       "<p>R Core Team and contributors worldwide\n",
       "</p>\n",
       "<p>Maintainer: R Core Team <a href=\"mailto:R-core@r-project.org\">R-core@r-project.org</a>\n",
       "</p>\n",
       "\n",
       "<hr /><div style=\"text-align: center;\">[Package <em>datasets</em> version 3.6.0 ]</div>"
      ],
      "text/latex": [
       "\\inputencoding{utf8}\n",
       "\\HeaderA{datasets-package}{The R Datasets Package}{datasets.Rdash.package}\n",
       "\\aliasA{datasets}{datasets-package}{datasets}\n",
       "\\keyword{package}{datasets-package}\n",
       "%\n",
       "\\begin{Description}\\relax\n",
       "Base R datasets\n",
       "\\end{Description}\n",
       "%\n",
       "\\begin{Details}\\relax\n",
       "This package contains a variety of datasets.  For a complete\n",
       "list, use \\code{library(help = \"datasets\")}.\n",
       "\\end{Details}\n",
       "%\n",
       "\\begin{Author}\\relax\n",
       "R Core Team and contributors worldwide\n",
       "\n",
       "Maintainer: R Core Team \\email{R-core@r-project.org}\n",
       "\\end{Author}"
      ],
      "text/plain": [
       "datasets-package           package:datasets            R Documentation\n",
       "\n",
       "_\bT_\bh_\be _\bR _\bD_\ba_\bt_\ba_\bs_\be_\bt_\bs _\bP_\ba_\bc_\bk_\ba_\bg_\be\n",
       "\n",
       "_\bD_\be_\bs_\bc_\br_\bi_\bp_\bt_\bi_\bo_\bn:\n",
       "\n",
       "     Base R datasets\n",
       "\n",
       "_\bD_\be_\bt_\ba_\bi_\bl_\bs:\n",
       "\n",
       "     This package contains a variety of datasets.  For a complete list,\n",
       "     use 'library(help = \"datasets\")'.\n",
       "\n",
       "_\bA_\bu_\bt_\bh_\bo_\br(_\bs):\n",
       "\n",
       "     R Core Team and contributors worldwide\n",
       "\n",
       "     Maintainer: R Core Team <email: R-core@r-project.org>\n"
      ]
     },
     "metadata": {},
     "output_type": "display_data"
    }
   ],
   "source": [
    "?datasets"
   ]
  },
  {
   "cell_type": "code",
   "execution_count": 167,
   "metadata": {},
   "outputs": [
    {
     "data": {
      "text/html": [
       "\n",
       "<table width=\"100%\" summary=\"page for USArrests {datasets}\"><tr><td>USArrests {datasets}</td><td style=\"text-align: right;\">R Documentation</td></tr></table>\n",
       "\n",
       "<h2>Violent Crime Rates by US State</h2>\n",
       "\n",
       "<h3>Description</h3>\n",
       "\n",
       "<p>This data set contains statistics, in arrests per 100,000 residents\n",
       "for assault, murder, and rape in each of the 50 US states in 1973.\n",
       "Also given is the percent of the population living in urban areas.\n",
       "</p>\n",
       "\n",
       "\n",
       "<h3>Usage</h3>\n",
       "\n",
       "<pre>USArrests</pre>\n",
       "\n",
       "\n",
       "<h3>Format</h3>\n",
       "\n",
       "<p>A data frame with 50 observations on 4 variables.\n",
       "</p>\n",
       "\n",
       "<table summary=\"Rd table\">\n",
       "<tr>\n",
       " <td style=\"text-align: right;\">\n",
       "    [,1]  </td><td style=\"text-align: left;\"> Murder    </td><td style=\"text-align: left;\"> numeric </td><td style=\"text-align: left;\"> Murder arrests (per 100,000)</td>\n",
       "</tr>\n",
       "<tr>\n",
       " <td style=\"text-align: right;\">\n",
       "    [,2]  </td><td style=\"text-align: left;\"> Assault   </td><td style=\"text-align: left;\"> numeric </td><td style=\"text-align: left;\"> Assault arrests (per 100,000)</td>\n",
       "</tr>\n",
       "<tr>\n",
       " <td style=\"text-align: right;\">\n",
       "    [,3]  </td><td style=\"text-align: left;\"> UrbanPop  </td><td style=\"text-align: left;\"> numeric </td><td style=\"text-align: left;\"> Percent urban population</td>\n",
       "</tr>\n",
       "<tr>\n",
       " <td style=\"text-align: right;\">\n",
       "    [,4]  </td><td style=\"text-align: left;\"> Rape      </td><td style=\"text-align: left;\"> numeric </td><td style=\"text-align: left;\"> Rape arrests (per 100,000)\n",
       "  </td>\n",
       "</tr>\n",
       "\n",
       "</table>\n",
       "\n",
       "\n",
       "\n",
       "<h3>Note</h3>\n",
       "\n",
       "<p><code>USArrests</code> contains the data as in McNeil's monograph.  For the\n",
       "<code>UrbanPop</code> percentages, a review of the table (No. 21) in the\n",
       "Statistical Abstracts 1975 reveals a transcription error for Maryland\n",
       "(and that McNeil used the same &ldquo;round to even&rdquo; rule that <span style=\"font-family: Courier New, Courier; color: #666666;\"><b>R</b></span>'s\n",
       "<code>round()</code> uses), as found by Daniel S Coven (Arizona).\n",
       "</p>\n",
       "<p>See the example below on how to correct the error and improve accuracy\n",
       "for the &lsquo;&lt;n&gt;.5&rsquo; percentages.\n",
       "</p>\n",
       "\n",
       "\n",
       "<h3>Source</h3>\n",
       "\n",
       "<p>World Almanac and Book of facts 1975.  (Crime rates).\n",
       "</p>\n",
       "<p>Statistical Abstracts of the United States 1975, p.20, (Urban rates),\n",
       "possibly available as\n",
       "<a href=\"https://books.google.ch/books?id=zl9qAAAAMAAJ&amp;pg=PA20\">https://books.google.ch/books?id=zl9qAAAAMAAJ&amp;pg=PA20</a>.\n",
       "</p>\n",
       "\n",
       "\n",
       "<h3>References</h3>\n",
       "\n",
       "<p>McNeil, D. R. (1977)\n",
       "<em>Interactive Data Analysis</em>.\n",
       "New York: Wiley.\n",
       "</p>\n",
       "\n",
       "\n",
       "<h3>See Also</h3>\n",
       "\n",
       "<p>The <code>state</code> data sets.</p>\n",
       "\n",
       "\n",
       "<h3>Examples</h3>\n",
       "\n",
       "<pre>\n",
       "summary(USArrests)\n",
       "\n",
       "require(graphics)\n",
       "pairs(USArrests, panel = panel.smooth, main = \"USArrests data\")\n",
       "\n",
       "## Difference between 'USArrests' and its correction\n",
       "USArrests[\"Maryland\", \"UrbanPop\"] # 67 -- the transcription error\n",
       "UA.C &lt;- USArrests\n",
       "UA.C[\"Maryland\", \"UrbanPop\"] &lt;- 76.6\n",
       "\n",
       "## also +/- 0.5 to restore the original  &lt;n&gt;.5  percentages\n",
       "s5u &lt;- c(\"Colorado\", \"Florida\", \"Mississippi\", \"Wyoming\")\n",
       "s5d &lt;- c(\"Nebraska\", \"Pennsylvania\")\n",
       "UA.C[s5u, \"UrbanPop\"] &lt;- UA.C[s5u, \"UrbanPop\"] + 0.5\n",
       "UA.C[s5d, \"UrbanPop\"] &lt;- UA.C[s5d, \"UrbanPop\"] - 0.5\n",
       "\n",
       "## ==&gt; UA.C  is now a *C*orrected version of  USArrests\n",
       "</pre>\n",
       "\n",
       "<hr /><div style=\"text-align: center;\">[Package <em>datasets</em> version 3.6.0 ]</div>"
      ],
      "text/latex": [
       "\\inputencoding{utf8}\n",
       "\\HeaderA{USArrests}{Violent Crime Rates by US State}{USArrests}\n",
       "\\keyword{datasets}{USArrests}\n",
       "%\n",
       "\\begin{Description}\\relax\n",
       "This data set contains statistics, in arrests per 100,000 residents\n",
       "for assault, murder, and rape in each of the 50 US states in 1973.\n",
       "Also given is the percent of the population living in urban areas.\n",
       "\\end{Description}\n",
       "%\n",
       "\\begin{Usage}\n",
       "\\begin{verbatim}\n",
       "USArrests\n",
       "\\end{verbatim}\n",
       "\\end{Usage}\n",
       "%\n",
       "\\begin{Format}\n",
       "A data frame with 50 observations on 4 variables.\n",
       "\n",
       "\n",
       "\\Tabular{rlll}{\n",
       "[,1]  & Murder    & numeric & Murder arrests (per 100,000)\\\\{}\n",
       "[,2]  & Assault   & numeric & Assault arrests (per 100,000)\\\\{}\n",
       "[,3]  & UrbanPop  & numeric & Percent urban population\\\\{}\n",
       "[,4]  & Rape      & numeric & Rape arrests (per 100,000)\n",
       "}\n",
       "\\end{Format}\n",
       "%\n",
       "\\begin{Note}\\relax\n",
       "\\code{USArrests} contains the data as in McNeil's monograph.  For the\n",
       "\\code{UrbanPop} percentages, a review of the table (No. 21) in the\n",
       "Statistical Abstracts 1975 reveals a transcription error for Maryland\n",
       "(and that McNeil used the same ``round to even'' rule that \\R{}'s\n",
       "\\code{\\LinkA{round}{round}()} uses), as found by Daniel S Coven (Arizona).\n",
       "\n",
       "See the example below on how to correct the error and improve accuracy\n",
       "for the `<n>.5' percentages.\n",
       "\\end{Note}\n",
       "%\n",
       "\\begin{Source}\\relax\n",
       "World Almanac and Book of facts 1975.  (Crime rates).\n",
       "\n",
       "Statistical Abstracts of the United States 1975, p.20, (Urban rates),\n",
       "possibly available as\n",
       "\\url{https://books.google.ch/books?id=zl9qAAAAMAAJ&pg=PA20}.\n",
       "\\end{Source}\n",
       "%\n",
       "\\begin{References}\\relax\n",
       "McNeil, D. R. (1977)\n",
       "\\emph{Interactive Data Analysis}.\n",
       "New York: Wiley.\n",
       "\\end{References}\n",
       "%\n",
       "\\begin{SeeAlso}\\relax\n",
       "The \\code{\\LinkA{state}{state}} data sets.\n",
       "\\end{SeeAlso}\n",
       "%\n",
       "\\begin{Examples}\n",
       "\\begin{ExampleCode}\n",
       "summary(USArrests)\n",
       "\n",
       "require(graphics)\n",
       "pairs(USArrests, panel = panel.smooth, main = \"USArrests data\")\n",
       "\n",
       "## Difference between 'USArrests' and its correction\n",
       "USArrests[\"Maryland\", \"UrbanPop\"] # 67 -- the transcription error\n",
       "UA.C <- USArrests\n",
       "UA.C[\"Maryland\", \"UrbanPop\"] <- 76.6\n",
       "\n",
       "## also +/- 0.5 to restore the original  <n>.5  percentages\n",
       "s5u <- c(\"Colorado\", \"Florida\", \"Mississippi\", \"Wyoming\")\n",
       "s5d <- c(\"Nebraska\", \"Pennsylvania\")\n",
       "UA.C[s5u, \"UrbanPop\"] <- UA.C[s5u, \"UrbanPop\"] + 0.5\n",
       "UA.C[s5d, \"UrbanPop\"] <- UA.C[s5d, \"UrbanPop\"] - 0.5\n",
       "\n",
       "## ==> UA.C  is now a *C*orrected version of  USArrests\n",
       "\\end{ExampleCode}\n",
       "\\end{Examples}"
      ],
      "text/plain": [
       "USArrests               package:datasets               R Documentation\n",
       "\n",
       "_\bV_\bi_\bo_\bl_\be_\bn_\bt _\bC_\br_\bi_\bm_\be _\bR_\ba_\bt_\be_\bs _\bb_\by _\bU_\bS _\bS_\bt_\ba_\bt_\be\n",
       "\n",
       "_\bD_\be_\bs_\bc_\br_\bi_\bp_\bt_\bi_\bo_\bn:\n",
       "\n",
       "     This data set contains statistics, in arrests per 100,000\n",
       "     residents for assault, murder, and rape in each of the 50 US\n",
       "     states in 1973.  Also given is the percent of the population\n",
       "     living in urban areas.\n",
       "\n",
       "_\bU_\bs_\ba_\bg_\be:\n",
       "\n",
       "     USArrests\n",
       "     \n",
       "_\bF_\bo_\br_\bm_\ba_\bt:\n",
       "\n",
       "     A data frame with 50 observations on 4 variables.\n",
       "\n",
       "       [,1]  Murder    numeric  Murder arrests (per 100,000)  \n",
       "       [,2]  Assault   numeric  Assault arrests (per 100,000) \n",
       "       [,3]  UrbanPop  numeric  Percent urban population      \n",
       "       [,4]  Rape      numeric  Rape arrests (per 100,000)    \n",
       "      \n",
       "_\bN_\bo_\bt_\be:\n",
       "\n",
       "     'USArrests' contains the data as in McNeil's monograph.  For the\n",
       "     'UrbanPop' percentages, a review of the table (No. 21) in the\n",
       "     Statistical Abstracts 1975 reveals a transcription error for\n",
       "     Maryland (and that McNeil used the same \"round to even\" rule that\n",
       "     R's 'round()' uses), as found by Daniel S Coven (Arizona).\n",
       "\n",
       "     See the example below on how to correct the error and improve\n",
       "     accuracy for the '<n>.5' percentages.\n",
       "\n",
       "_\bS_\bo_\bu_\br_\bc_\be:\n",
       "\n",
       "     World Almanac and Book of facts 1975.  (Crime rates).\n",
       "\n",
       "     Statistical Abstracts of the United States 1975, p.20, (Urban\n",
       "     rates), possibly available as <URL:\n",
       "     https://books.google.ch/books?id=zl9qAAAAMAAJ&pg=PA20>.\n",
       "\n",
       "_\bR_\be_\bf_\be_\br_\be_\bn_\bc_\be_\bs:\n",
       "\n",
       "     McNeil, D. R. (1977) _Interactive Data Analysis_.  New York:\n",
       "     Wiley.\n",
       "\n",
       "_\bS_\be_\be _\bA_\bl_\bs_\bo:\n",
       "\n",
       "     The 'state' data sets.\n",
       "\n",
       "_\bE_\bx_\ba_\bm_\bp_\bl_\be_\bs:\n",
       "\n",
       "     summary(USArrests)\n",
       "     \n",
       "     require(graphics)\n",
       "     pairs(USArrests, panel = panel.smooth, main = \"USArrests data\")\n",
       "     \n",
       "     ## Difference between 'USArrests' and its correction\n",
       "     USArrests[\"Maryland\", \"UrbanPop\"] # 67 -- the transcription error\n",
       "     UA.C <- USArrests\n",
       "     UA.C[\"Maryland\", \"UrbanPop\"] <- 76.6\n",
       "     \n",
       "     ## also +/- 0.5 to restore the original  <n>.5  percentages\n",
       "     s5u <- c(\"Colorado\", \"Florida\", \"Mississippi\", \"Wyoming\")\n",
       "     s5d <- c(\"Nebraska\", \"Pennsylvania\")\n",
       "     UA.C[s5u, \"UrbanPop\"] <- UA.C[s5u, \"UrbanPop\"] + 0.5\n",
       "     UA.C[s5d, \"UrbanPop\"] <- UA.C[s5d, \"UrbanPop\"] - 0.5\n",
       "     \n",
       "     ## ==> UA.C  is now a *C*orrected version of  USArrests\n",
       "     "
      ]
     },
     "metadata": {},
     "output_type": "display_data"
    }
   ],
   "source": [
    "?USArrests"
   ]
  },
  {
   "cell_type": "markdown",
   "metadata": {},
   "source": [
    "The USArrests data records rates of violent crimes in the US. The statistics are given as arrests per 100,000 residents for assault, murder, and rape in each of the 50 US states in 1973. The percentage of the population living in urban areas is also given. Some basic functions to get started with a data frame are illustrated with this data set."
   ]
  },
  {
   "cell_type": "markdown",
   "metadata": {},
   "source": [
    "To display the first few lines of data:"
   ]
  },
  {
   "cell_type": "code",
   "execution_count": 168,
   "metadata": {},
   "outputs": [
    {
     "name": "stdout",
     "output_type": "stream",
     "text": [
      "           Murder Assault UrbanPop Rape\n",
      "Alabama      13.2     236       58 21.2\n",
      "Alaska       10.0     263       48 44.5\n",
      "Arizona       8.1     294       80 31.0\n",
      "Arkansas      8.8     190       50 19.5\n",
      "California    9.0     276       91 40.6\n",
      "Colorado      7.9     204       78 38.7\n"
     ]
    }
   ],
   "source": [
    "print(head(USArrests))"
   ]
  },
  {
   "cell_type": "markdown",
   "metadata": {},
   "source": [
    "The result shows that we have four variables named Murder, Assault, UrbanPop, and Rape, and that the observations (rows) are labeled by the name of the state. We also see that the states appear to be listed in alphabetical order. All of the variables appear to be quantitative, which we expected from the description above."
   ]
  },
  {
   "cell_type": "markdown",
   "metadata": {},
   "source": [
    "#### Sample size and dimension"
   ]
  },
  {
   "cell_type": "markdown",
   "metadata": {},
   "source": [
    "How many observations are in this data set? (NROW, nrow, or dim)"
   ]
  },
  {
   "cell_type": "code",
   "execution_count": 169,
   "metadata": {},
   "outputs": [
    {
     "data": {
      "text/html": [
       "50"
      ],
      "text/latex": [
       "50"
      ],
      "text/markdown": [
       "50"
      ],
      "text/plain": [
       "[1] 50"
      ]
     },
     "metadata": {},
     "output_type": "display_data"
    }
   ],
   "source": [
    "NROW(USArrests)"
   ]
  },
  {
   "cell_type": "code",
   "execution_count": 170,
   "metadata": {},
   "outputs": [
    {
     "data": {
      "text/html": [
       "50"
      ],
      "text/latex": [
       "50"
      ],
      "text/markdown": [
       "50"
      ],
      "text/plain": [
       "[1] 50"
      ]
     },
     "metadata": {},
     "output_type": "display_data"
    }
   ],
   "source": [
    "nrow(USArrests)"
   ]
  },
  {
   "cell_type": "code",
   "execution_count": 171,
   "metadata": {},
   "outputs": [
    {
     "name": "stdout",
     "output_type": "stream",
     "text": [
      "[1] 50  4\n"
     ]
    }
   ],
   "source": [
    "print(dim(USArrests))"
   ]
  },
  {
   "cell_type": "markdown",
   "metadata": {},
   "source": [
    "The dimension (dim) of a data frame or a matrix returns a vector with the number of rows and number of columns. NROW returns the number of observations. We have 50 observations corresponding to the 50 states in the U.S."
   ]
  },
  {
   "cell_type": "markdown",
   "metadata": {},
   "source": [
    "#### Names of variables"
   ]
  },
  {
   "cell_type": "markdown",
   "metadata": {},
   "source": [
    "Get (or set) names of variables in the data frame:"
   ]
  },
  {
   "cell_type": "code",
   "execution_count": 172,
   "metadata": {},
   "outputs": [
    {
     "name": "stdout",
     "output_type": "stream",
     "text": [
      "[1] \"Murder\"   \"Assault\"  \"UrbanPop\" \"Rape\"    \n"
     ]
    }
   ],
   "source": [
    "print(names(USArrests))"
   ]
  },
  {
   "cell_type": "markdown",
   "metadata": {},
   "source": [
    "### Structure of the data"
   ]
  },
  {
   "cell_type": "markdown",
   "metadata": {},
   "source": [
    "Display information about the structure of the data frame (str):"
   ]
  },
  {
   "cell_type": "code",
   "execution_count": 173,
   "metadata": {},
   "outputs": [
    {
     "name": "stdout",
     "output_type": "stream",
     "text": [
      "'data.frame':\t50 obs. of  4 variables:\n",
      " $ Murder  : num  13.2 10 8.1 8.8 9 7.9 3.3 5.9 15.4 17.4 ...\n",
      " $ Assault : int  236 263 294 190 276 204 110 238 335 211 ...\n",
      " $ UrbanPop: int  58 48 80 50 91 78 77 72 80 60 ...\n",
      " $ Rape    : num  21.2 44.5 31 19.5 40.6 38.7 11.1 15.8 31.9 25.8 ...\n"
     ]
    }
   ],
   "source": [
    "str(USArrests)"
   ]
  },
  {
   "cell_type": "markdown",
   "metadata": {},
   "source": [
    "The result of str gives the dimension as well as the name and type of each variable. We have two numeric type and two integer type variables. Although we can think of integer as a special case of numeric, they are stored differently in R."
   ]
  },
  {
   "cell_type": "markdown",
   "metadata": {},
   "source": [
    "For many data sets, like USArrests, all of the data are numbers and in this case the data can be converted to a matrix using as.matrix. But in order to store the data in a matrix, all variables must be of the same type so R will convert the integers to numeric. Compare the result in matrix form:"
   ]
  },
  {
   "cell_type": "code",
   "execution_count": 174,
   "metadata": {},
   "outputs": [],
   "source": [
    "arrests <- as.matrix(USArrests)"
   ]
  },
  {
   "cell_type": "code",
   "execution_count": 175,
   "metadata": {},
   "outputs": [
    {
     "name": "stdout",
     "output_type": "stream",
     "text": [
      " num [1:50, 1:4] 13.2 10 8.1 8.8 9 7.9 3.3 5.9 15.4 17.4 ...\n",
      " - attr(*, \"dimnames\")=List of 2\n",
      "  ..$ : chr [1:50] \"Alabama\" \"Alaska\" \"Arizona\" \"Arkansas\" ...\n",
      "  ..$ : chr [1:4] \"Murder\" \"Assault\" \"UrbanPop\" \"Rape\"\n"
     ]
    }
   ],
   "source": [
    "str(arrests)"
   ]
  },
  {
   "cell_type": "markdown",
   "metadata": {},
   "source": [
    "This output shows that all of the data was converted to numeric, listed on the first line as num. The attributes (attr) are the row and column names (dimnames). The conversion preserved the row labels and converted the variable names to column labels. We used names to get the names of the variables in the data frame, but we would use rownames, colnames or dimnames (to get both) to get the row and/or column names. These last three functions can also be used on data frames."
   ]
  },
  {
   "cell_type": "markdown",
   "metadata": {},
   "source": [
    "### Missing values"
   ]
  },
  {
   "cell_type": "markdown",
   "metadata": {},
   "source": [
    "The is.na function returns TRUE for a missing value and otherwise FALSE. The expression is.na(USArrests) will return a data frame the same size as USArrests where every entry is TRUE or FALSE. To quickly check if any of the results are TRUE we use the any function."
   ]
  },
  {
   "cell_type": "code",
   "execution_count": 176,
   "metadata": {},
   "outputs": [
    {
     "data": {
      "text/html": [
       "FALSE"
      ],
      "text/latex": [
       "FALSE"
      ],
      "text/markdown": [
       "FALSE"
      ],
      "text/plain": [
       "[1] FALSE"
      ]
     },
     "metadata": {},
     "output_type": "display_data"
    }
   ],
   "source": [
    "any(is.na(USArrests))"
   ]
  },
  {
   "cell_type": "markdown",
   "metadata": {},
   "source": [
    "#### Working with a data frame"
   ]
  },
  {
   "cell_type": "markdown",
   "metadata": {},
   "source": [
    "In this section we illustrate some operations on data frames, and some basic statistics and plots."
   ]
  },
  {
   "cell_type": "markdown",
   "metadata": {},
   "source": [
    "##### Compute summary statistics"
   ]
  },
  {
   "cell_type": "markdown",
   "metadata": {},
   "source": [
    "Obtain appropriate summary statistics for each variable using summary. For numeric data, the summary function computes a five-number summary and sample mean."
   ]
  },
  {
   "cell_type": "code",
   "execution_count": 177,
   "metadata": {},
   "outputs": [
    {
     "data": {
      "text/plain": [
       "     Murder          Assault         UrbanPop          Rape      \n",
       " Min.   : 0.800   Min.   : 45.0   Min.   :32.00   Min.   : 7.30  \n",
       " 1st Qu.: 4.075   1st Qu.:109.0   1st Qu.:54.50   1st Qu.:15.07  \n",
       " Median : 7.250   Median :159.0   Median :66.00   Median :20.10  \n",
       " Mean   : 7.788   Mean   :170.8   Mean   :65.54   Mean   :21.23  \n",
       " 3rd Qu.:11.250   3rd Qu.:249.0   3rd Qu.:77.75   3rd Qu.:26.18  \n",
       " Max.   :17.400   Max.   :337.0   Max.   :91.00   Max.   :46.00  "
      ]
     },
     "metadata": {},
     "output_type": "display_data"
    }
   ],
   "source": [
    "summary(USArrests)"
   ]
  },
  {
   "cell_type": "markdown",
   "metadata": {},
   "source": [
    "If there were any missing values, the number of missing values would be included in the summaries. If any of our variables were categorical, summary would tabulate the values for those variables."
   ]
  },
  {
   "cell_type": "markdown",
   "metadata": {},
   "source": [
    "From the summary it appears that the mean and median are approximately equal for all variables except Assault. The mean for Assault is larger than the median, indicating that the assault data is positively skewed."
   ]
  },
  {
   "cell_type": "markdown",
   "metadata": {},
   "source": [
    "##### Extract data from a data frame"
   ]
  },
  {
   "cell_type": "markdown",
   "metadata": {},
   "source": [
    "The simplest way to extract data from a data frame uses the matrix-style [row, column] indexing."
   ]
  },
  {
   "cell_type": "code",
   "execution_count": 178,
   "metadata": {},
   "outputs": [
    {
     "data": {
      "text/html": [
       "9"
      ],
      "text/latex": [
       "9"
      ],
      "text/markdown": [
       "9"
      ],
      "text/plain": [
       "[1] 9"
      ]
     },
     "metadata": {},
     "output_type": "display_data"
    }
   ],
   "source": [
    "USArrests[\"California\", \"Murder\"]"
   ]
  },
  {
   "cell_type": "code",
   "execution_count": 179,
   "metadata": {},
   "outputs": [
    {
     "data": {
      "text/html": [
       "<table>\n",
       "<thead><tr><th></th><th scope=col>Murder</th><th scope=col>Assault</th><th scope=col>UrbanPop</th><th scope=col>Rape</th></tr></thead>\n",
       "<tbody>\n",
       "\t<tr><th scope=row>California</th><td>9   </td><td>276 </td><td>91  </td><td>40.6</td></tr>\n",
       "</tbody>\n",
       "</table>\n"
      ],
      "text/latex": [
       "\\begin{tabular}{r|llll}\n",
       "  & Murder & Assault & UrbanPop & Rape\\\\\n",
       "\\hline\n",
       "\tCalifornia & 9    & 276  & 91   & 40.6\\\\\n",
       "\\end{tabular}\n"
      ],
      "text/markdown": [
       "\n",
       "| <!--/--> | Murder | Assault | UrbanPop | Rape |\n",
       "|---|---|---|---|---|\n",
       "| California | 9    | 276  | 91   | 40.6 |\n",
       "\n"
      ],
      "text/plain": [
       "           Murder Assault UrbanPop Rape\n",
       "California 9      276     91       40.6"
      ]
     },
     "metadata": {},
     "output_type": "display_data"
    }
   ],
   "source": [
    "USArrests[\"California\", ]"
   ]
  },
  {
   "cell_type": "markdown",
   "metadata": {},
   "source": [
    "##### Extract a variable using \\\\$"
   ]
  },
  {
   "cell_type": "markdown",
   "metadata": {},
   "source": [
    "Variables can be extracted using the $ operator followed by the name of the\n",
    "variable."
   ]
  },
  {
   "cell_type": "code",
   "execution_count": 180,
   "metadata": {},
   "outputs": [
    {
     "name": "stdout",
     "output_type": "stream",
     "text": [
      " [1] 236 263 294 190 276 204 110 238 335 211  46 120 249 113  56 115 109 249  83\n",
      "[20] 300 149 255  72 259 178 109 102 252  57 159 285 254 337  45 120 151 159 106\n",
      "[39] 174 279  86 188 201 120  48 156 145  81  53 161\n"
     ]
    }
   ],
   "source": [
    "print(USArrests$Assault)"
   ]
  },
  {
   "cell_type": "markdown",
   "metadata": {},
   "source": [
    "**\n",
    "---\n",
    "---\n",
    "**\n",
    "---\n",
    "\n",
    "**\n",
    "---\n",
    "#### Mi Ejemplo:"
   ]
  },
  {
   "cell_type": "markdown",
   "metadata": {},
   "source": [
    "Hay una serie de data sets disponibles en R"
   ]
  },
  {
   "cell_type": "code",
   "execution_count": 181,
   "metadata": {},
   "outputs": [
    {
     "data": {
      "text/plain": [
       "Documentation for package 'datasets'\n",
       "\n",
       "\n",
       "\t\tInformation on package 'datasets'\n",
       "\n",
       "Description:\n",
       "\n",
       "Package:       datasets\n",
       "Version:       3.6.0\n",
       "Priority:      base\n",
       "Title:         The R Datasets Package\n",
       "Author:        R Core Team and contributors worldwide\n",
       "Maintainer:    R Core Team <R-core@r-project.org>\n",
       "Description:   Base R datasets.\n",
       "License:       Part of R 3.6.0\n",
       "Built:         R 3.6.0; ; 2019-05-15 14:26:28 UTC; windows\n",
       "\n",
       "Index:\n",
       "\n",
       "AirPassengers           Monthly Airline Passenger Numbers 1949-1960\n",
       "BJsales                 Sales Data with Leading Indicator\n",
       "BOD                     Biochemical Oxygen Demand\n",
       "CO2                     Carbon Dioxide Uptake in Grass Plants\n",
       "ChickWeight             Weight versus age of chicks on different diets\n",
       "DNase                   Elisa assay of DNase\n",
       "EuStockMarkets          Daily Closing Prices of Major European Stock\n",
       "                        Indices, 1991-1998\n",
       "Formaldehyde            Determination of Formaldehyde\n",
       "HairEyeColor            Hair and Eye Color of Statistics Students\n",
       "Harman23.cor            Harman Example 2.3\n",
       "Harman74.cor            Harman Example 7.4\n",
       "Indometh                Pharmacokinetics of Indomethacin\n",
       "InsectSprays            Effectiveness of Insect Sprays\n",
       "JohnsonJohnson          Quarterly Earnings per Johnson & Johnson Share\n",
       "LakeHuron               Level of Lake Huron 1875-1972\n",
       "LifeCycleSavings        Intercountry Life-Cycle Savings Data\n",
       "Loblolly                Growth of Loblolly pine trees\n",
       "Nile                    Flow of the River Nile\n",
       "Orange                  Growth of Orange Trees\n",
       "OrchardSprays           Potency of Orchard Sprays\n",
       "PlantGrowth             Results from an Experiment on Plant Growth\n",
       "Puromycin               Reaction Velocity of an Enzymatic Reaction\n",
       "Theoph                  Pharmacokinetics of Theophylline\n",
       "Titanic                 Survival of passengers on the Titanic\n",
       "ToothGrowth             The Effect of Vitamin C on Tooth Growth in\n",
       "                        Guinea Pigs\n",
       "UCBAdmissions           Student Admissions at UC Berkeley\n",
       "UKDriverDeaths          Road Casualties in Great Britain 1969-84\n",
       "UKLungDeaths            Monthly Deaths from Lung Diseases in the UK\n",
       "UKgas                   UK Quarterly Gas Consumption\n",
       "USAccDeaths             Accidental Deaths in the US 1973-1978\n",
       "USArrests               Violent Crime Rates by US State\n",
       "USJudgeRatings          Lawyers' Ratings of State Judges in the US\n",
       "                        Superior Court\n",
       "USPersonalExpenditure   Personal Expenditure Data\n",
       "VADeaths                Death Rates in Virginia (1940)\n",
       "WWWusage                Internet Usage per Minute\n",
       "WorldPhones             The World's Telephones\n",
       "ability.cov             Ability and Intelligence Tests\n",
       "airmiles                Passenger Miles on Commercial US Airlines,\n",
       "                        1937-1960\n",
       "airquality              New York Air Quality Measurements\n",
       "anscombe                Anscombe's Quartet of 'Identical' Simple Linear\n",
       "                        Regressions\n",
       "attenu                  The Joyner-Boore Attenuation Data\n",
       "attitude                The Chatterjee-Price Attitude Data\n",
       "austres                 Quarterly Time Series of the Number of\n",
       "                        Australian Residents\n",
       "beavers                 Body Temperature Series of Two Beavers\n",
       "cars                    Speed and Stopping Distances of Cars\n",
       "chickwts                Chicken Weights by Feed Type\n",
       "co2                     Mauna Loa Atmospheric CO2 Concentration\n",
       "crimtab                 Student's 3000 Criminals Data\n",
       "datasets-package        The R Datasets Package\n",
       "discoveries             Yearly Numbers of Important Discoveries\n",
       "esoph                   Smoking, Alcohol and (O)esophageal Cancer\n",
       "euro                    Conversion Rates of Euro Currencies\n",
       "eurodist                Distances Between European Cities and Between\n",
       "                        US Cities\n",
       "faithful                Old Faithful Geyser Data\n",
       "freeny                  Freeny's Revenue Data\n",
       "infert                  Infertility after Spontaneous and Induced\n",
       "                        Abortion\n",
       "iris                    Edgar Anderson's Iris Data\n",
       "islands                 Areas of the World's Major Landmasses\n",
       "lh                      Luteinizing Hormone in Blood Samples\n",
       "longley                 Longley's Economic Regression Data\n",
       "lynx                    Annual Canadian Lynx trappings 1821-1934\n",
       "morley                  Michelson Speed of Light Data\n",
       "mtcars                  Motor Trend Car Road Tests\n",
       "nhtemp                  Average Yearly Temperatures in New Haven\n",
       "nottem                  Average Monthly Temperatures at Nottingham,\n",
       "                        1920-1939\n",
       "npk                     Classical N, P, K Factorial Experiment\n",
       "occupationalStatus      Occupational Status of Fathers and their Sons\n",
       "precip                  Annual Precipitation in US Cities\n",
       "presidents              Quarterly Approval Ratings of US Presidents\n",
       "pressure                Vapor Pressure of Mercury as a Function of\n",
       "                        Temperature\n",
       "quakes                  Locations of Earthquakes off Fiji\n",
       "randu                   Random Numbers from Congruential Generator\n",
       "                        RANDU\n",
       "rivers                  Lengths of Major North American Rivers\n",
       "rock                    Measurements on Petroleum Rock Samples\n",
       "sleep                   Student's Sleep Data\n",
       "stackloss               Brownlee's Stack Loss Plant Data\n",
       "state                   US State Facts and Figures\n",
       "sunspot.month           Monthly Sunspot Data, from 1749 to \"Present\"\n",
       "sunspot.year            Yearly Sunspot Data, 1700-1988\n",
       "sunspots                Monthly Sunspot Numbers, 1749-1983\n",
       "swiss                   Swiss Fertility and Socioeconomic Indicators\n",
       "                        (1888) Data\n",
       "treering                Yearly Treering Data, -6000-1979\n",
       "trees                   Diameter, Height and Volume for Black Cherry\n",
       "                        Trees\n",
       "uspop                   Populations Recorded by the US Census\n",
       "volcano                 Topographic Information on Auckland's Maunga\n",
       "                        Whau Volcano\n",
       "warpbreaks              The Number of Breaks in Yarn during Weaving\n",
       "women                   Average Heights and Weights for American Women"
      ]
     },
     "metadata": {},
     "output_type": "display_data"
    }
   ],
   "source": [
    "library(help = \"datasets\")"
   ]
  },
  {
   "cell_type": "code",
   "execution_count": 182,
   "metadata": {},
   "outputs": [
    {
     "data": {
      "text/html": [
       "\n",
       "<table width=\"100%\" summary=\"page for Titanic {datasets}\"><tr><td>Titanic {datasets}</td><td style=\"text-align: right;\">R Documentation</td></tr></table>\n",
       "\n",
       "<h2>Survival of passengers on the Titanic</h2>\n",
       "\n",
       "<h3>Description</h3>\n",
       "\n",
       "<p>This data set provides information on the fate of passengers on the\n",
       "fatal maiden voyage of the ocean liner &lsquo;Titanic&rsquo;, summarized according\n",
       "to economic status (class), sex, age and survival.\n",
       "</p>\n",
       "\n",
       "\n",
       "<h3>Usage</h3>\n",
       "\n",
       "<pre>Titanic</pre>\n",
       "\n",
       "\n",
       "<h3>Format</h3>\n",
       "\n",
       "<p>A 4-dimensional array resulting from cross-tabulating 2201\n",
       "observations on 4 variables.  The variables and their levels are as\n",
       "follows:\n",
       "</p>\n",
       "\n",
       "<table summary=\"Rd table\">\n",
       "<tr>\n",
       " <td style=\"text-align: right;\">\n",
       "    No </td><td style=\"text-align: left;\"> Name </td><td style=\"text-align: left;\"> Levels</td>\n",
       "</tr>\n",
       "<tr>\n",
       " <td style=\"text-align: right;\">\n",
       "    1 </td><td style=\"text-align: left;\"> Class </td><td style=\"text-align: left;\"> 1st, 2nd, 3rd, Crew</td>\n",
       "</tr>\n",
       "<tr>\n",
       " <td style=\"text-align: right;\">\n",
       "    2 </td><td style=\"text-align: left;\"> Sex </td><td style=\"text-align: left;\"> Male, Female</td>\n",
       "</tr>\n",
       "<tr>\n",
       " <td style=\"text-align: right;\">\n",
       "    3 </td><td style=\"text-align: left;\"> Age </td><td style=\"text-align: left;\"> Child, Adult</td>\n",
       "</tr>\n",
       "<tr>\n",
       " <td style=\"text-align: right;\">\n",
       "    4 </td><td style=\"text-align: left;\"> Survived </td><td style=\"text-align: left;\"> No, Yes\n",
       "  </td>\n",
       "</tr>\n",
       "\n",
       "</table>\n",
       "\n",
       "\n",
       "\n",
       "<h3>Details</h3>\n",
       "\n",
       "<p>The sinking of the Titanic is a famous event, and new books are still\n",
       "being published about it.  Many well-known facts&mdash;from the\n",
       "proportions of first-class passengers to the &lsquo;women and\n",
       "children first&rsquo; policy, and the fact that that policy was not\n",
       "entirely successful in saving the women and children in the third\n",
       "class&mdash;are reflected in the survival rates for various classes of\n",
       "passenger.\n",
       "</p>\n",
       "<p>These data were originally collected by the British Board of Trade in\n",
       "their investigation of the sinking.  Note that there is not complete\n",
       "agreement among primary sources as to the exact numbers on board,\n",
       "rescued, or lost.\n",
       "</p>\n",
       "<p>Due in particular to the very successful film &lsquo;Titanic&rsquo;, the last\n",
       "years saw a rise in public interest in the Titanic.  Very detailed\n",
       "data about the passengers is now available on the Internet, at sites\n",
       "such as <em>Encyclopedia Titanica</em>\n",
       "(<a href=\"https://www.encyclopedia-titanica.org/\">https://www.encyclopedia-titanica.org/</a>).\n",
       "</p>\n",
       "\n",
       "\n",
       "<h3>Source</h3>\n",
       "\n",
       "<p>Dawson, Robert J. MacG. (1995),\n",
       "The &lsquo;Unusual Episode&rsquo; Data Revisited.\n",
       "<em>Journal of Statistics Education</em>, <b>3</b>.\n",
       "doi: <a href=\"https://doi.org/10.1080/10691898.1995.11910499\">10.1080/10691898.1995.11910499</a>.\n",
       "</p>\n",
       "<p>The source provides a data set recording class, sex, age, and survival\n",
       "status for each person on board of the Titanic, and is based on data\n",
       "originally collected by the British Board of Trade and reprinted in:\n",
       "</p>\n",
       "<p>British Board of Trade (1990),\n",
       "<em>Report on the Loss of the &lsquo;Titanic&rsquo; (S.S.)</em>.\n",
       "British Board of Trade Inquiry Report (reprint).\n",
       "Gloucester, UK: Allan Sutton Publishing.\n",
       "</p>\n",
       "\n",
       "\n",
       "<h3>Examples</h3>\n",
       "\n",
       "<pre>\n",
       "require(graphics)\n",
       "mosaicplot(Titanic, main = \"Survival on the Titanic\")\n",
       "## Higher survival rates in children?\n",
       "apply(Titanic, c(3, 4), sum)\n",
       "## Higher survival rates in females?\n",
       "apply(Titanic, c(2, 4), sum)\n",
       "## Use loglm() in package 'MASS' for further analysis ...\n",
       "</pre>\n",
       "\n",
       "<hr /><div style=\"text-align: center;\">[Package <em>datasets</em> version 3.6.0 ]</div>"
      ],
      "text/latex": [
       "\\inputencoding{utf8}\n",
       "\\HeaderA{Titanic}{Survival of passengers on the Titanic}{Titanic}\n",
       "\\keyword{datasets}{Titanic}\n",
       "%\n",
       "\\begin{Description}\\relax\n",
       "This data set provides information on the fate of passengers on the\n",
       "fatal maiden voyage of the ocean liner `Titanic', summarized according\n",
       "to economic status (class), sex, age and survival.\n",
       "\\end{Description}\n",
       "%\n",
       "\\begin{Usage}\n",
       "\\begin{verbatim}\n",
       "Titanic\n",
       "\\end{verbatim}\n",
       "\\end{Usage}\n",
       "%\n",
       "\\begin{Format}\n",
       "A 4-dimensional array resulting from cross-tabulating 2201\n",
       "observations on 4 variables.  The variables and their levels are as\n",
       "follows:\n",
       "\n",
       "\n",
       "\\Tabular{rll}{\n",
       "No & Name & Levels\\\\{}\n",
       "1 & Class & 1st, 2nd, 3rd, Crew\\\\{}\n",
       "2 & Sex & Male, Female\\\\{}\n",
       "3 & Age & Child, Adult\\\\{}\n",
       "4 & Survived & No, Yes\n",
       "}\n",
       "\\end{Format}\n",
       "%\n",
       "\\begin{Details}\\relax\n",
       "The sinking of the Titanic is a famous event, and new books are still\n",
       "being published about it.  Many well-known facts---from the\n",
       "proportions of first-class passengers to the `women and\n",
       "children first' policy, and the fact that that policy was not\n",
       "entirely successful in saving the women and children in the third\n",
       "class---are reflected in the survival rates for various classes of\n",
       "passenger.\n",
       "\n",
       "These data were originally collected by the British Board of Trade in\n",
       "their investigation of the sinking.  Note that there is not complete\n",
       "agreement among primary sources as to the exact numbers on board,\n",
       "rescued, or lost.\n",
       "\n",
       "Due in particular to the very successful film `Titanic', the last\n",
       "years saw a rise in public interest in the Titanic.  Very detailed\n",
       "data about the passengers is now available on the Internet, at sites\n",
       "such as \\emph{Encyclopedia Titanica}\n",
       "(\\url{https://www.encyclopedia-titanica.org/}).\n",
       "\\end{Details}\n",
       "%\n",
       "\\begin{Source}\\relax\n",
       "Dawson, Robert J. MacG. (1995),\n",
       "The `Unusual Episode' Data Revisited.\n",
       "\\emph{Journal of Statistics Education}, \\bold{3}.\n",
       "doi:\\nobreakspace{}\\Rhref{https://doi.org/10.1080/10691898.1995.11910499}{10.1080\\slash{}10691898.1995.11910499}.\n",
       "\n",
       "The source provides a data set recording class, sex, age, and survival\n",
       "status for each person on board of the Titanic, and is based on data\n",
       "originally collected by the British Board of Trade and reprinted in:\n",
       "\n",
       "British Board of Trade (1990),\n",
       "\\emph{Report on the Loss of the `Titanic' (S.S.)}.\n",
       "British Board of Trade Inquiry Report (reprint).\n",
       "Gloucester, UK: Allan Sutton Publishing.\n",
       "\\end{Source}\n",
       "%\n",
       "\\begin{Examples}\n",
       "\\begin{ExampleCode}\n",
       "require(graphics)\n",
       "mosaicplot(Titanic, main = \"Survival on the Titanic\")\n",
       "## Higher survival rates in children?\n",
       "apply(Titanic, c(3, 4), sum)\n",
       "## Higher survival rates in females?\n",
       "apply(Titanic, c(2, 4), sum)\n",
       "## Use loglm() in package 'MASS' for further analysis ...\n",
       "\\end{ExampleCode}\n",
       "\\end{Examples}"
      ],
      "text/plain": [
       "Titanic                package:datasets                R Documentation\n",
       "\n",
       "_\bS_\bu_\br_\bv_\bi_\bv_\ba_\bl _\bo_\bf _\bp_\ba_\bs_\bs_\be_\bn_\bg_\be_\br_\bs _\bo_\bn _\bt_\bh_\be _\bT_\bi_\bt_\ba_\bn_\bi_\bc\n",
       "\n",
       "_\bD_\be_\bs_\bc_\br_\bi_\bp_\bt_\bi_\bo_\bn:\n",
       "\n",
       "     This data set provides information on the fate of passengers on\n",
       "     the fatal maiden voyage of the ocean liner 'Titanic', summarized\n",
       "     according to economic status (class), sex, age and survival.\n",
       "\n",
       "_\bU_\bs_\ba_\bg_\be:\n",
       "\n",
       "     Titanic\n",
       "     \n",
       "_\bF_\bo_\br_\bm_\ba_\bt:\n",
       "\n",
       "     A 4-dimensional array resulting from cross-tabulating 2201\n",
       "     observations on 4 variables.  The variables and their levels are\n",
       "     as follows:\n",
       "\n",
       "       No  Name      Levels              \n",
       "        1  Class     1st, 2nd, 3rd, Crew \n",
       "        2  Sex       Male, Female        \n",
       "        3  Age       Child, Adult        \n",
       "        4  Survived  No, Yes             \n",
       "      \n",
       "_\bD_\be_\bt_\ba_\bi_\bl_\bs:\n",
       "\n",
       "     The sinking of the Titanic is a famous event, and new books are\n",
       "     still being published about it.  Many well-known facts-from the\n",
       "     proportions of first-class passengers to the 'women and children\n",
       "     first' policy, and the fact that that policy was not entirely\n",
       "     successful in saving the women and children in the third class-are\n",
       "     reflected in the survival rates for various classes of passenger.\n",
       "\n",
       "     These data were originally collected by the British Board of Trade\n",
       "     in their investigation of the sinking.  Note that there is not\n",
       "     complete agreement among primary sources as to the exact numbers\n",
       "     on board, rescued, or lost.\n",
       "\n",
       "     Due in particular to the very successful film 'Titanic', the last\n",
       "     years saw a rise in public interest in the Titanic.  Very detailed\n",
       "     data about the passengers is now available on the Internet, at\n",
       "     sites such as _Encyclopedia Titanica_ (<URL:\n",
       "     https://www.encyclopedia-titanica.org/>).\n",
       "\n",
       "_\bS_\bo_\bu_\br_\bc_\be:\n",
       "\n",
       "     Dawson, Robert J. MacG. (1995), The 'Unusual Episode' Data\n",
       "     Revisited.  _Journal of Statistics Education_, *3*.  doi:\n",
       "     10.1080/10691898.1995.11910499 (URL:\n",
       "     https://doi.org/10.1080/10691898.1995.11910499).\n",
       "\n",
       "     The source provides a data set recording class, sex, age, and\n",
       "     survival status for each person on board of the Titanic, and is\n",
       "     based on data originally collected by the British Board of Trade\n",
       "     and reprinted in:\n",
       "\n",
       "     British Board of Trade (1990), _Report on the Loss of the\n",
       "     'Titanic' (S.S.)_.  British Board of Trade Inquiry Report\n",
       "     (reprint).  Gloucester, UK: Allan Sutton Publishing.\n",
       "\n",
       "_\bE_\bx_\ba_\bm_\bp_\bl_\be_\bs:\n",
       "\n",
       "     require(graphics)\n",
       "     mosaicplot(Titanic, main = \"Survival on the Titanic\")\n",
       "     ## Higher survival rates in children?\n",
       "     apply(Titanic, c(3, 4), sum)\n",
       "     ## Higher survival rates in females?\n",
       "     apply(Titanic, c(2, 4), sum)\n",
       "     ## Use loglm() in package 'MASS' for further analysis ...\n",
       "     "
      ]
     },
     "metadata": {},
     "output_type": "display_data"
    }
   ],
   "source": [
    "?Titanic"
   ]
  },
  {
   "cell_type": "code",
   "execution_count": 183,
   "metadata": {},
   "outputs": [
    {
     "name": "stdout",
     "output_type": "stream",
     "text": [
      "package 'titanic' successfully unpacked and MD5 sums checked\n",
      "\n",
      "The downloaded binary packages are in\n",
      "\tC:\\Users\\Angel Rafael\\AppData\\Local\\Temp\\RtmpgpynSy\\downloaded_packages\n"
     ]
    },
    {
     "name": "stderr",
     "output_type": "stream",
     "text": [
      "Warning message:\n",
      "\"package 'titanic' was built under R version 3.6.1\""
     ]
    },
    {
     "name": "stdout",
     "output_type": "stream",
     "text": [
      "  PassengerId Survived Pclass\n",
      "1           1        0      3\n",
      "2           2        1      1\n",
      "3           3        1      3\n",
      "4           4        1      1\n",
      "5           5        0      3\n",
      "6           6        0      3\n",
      "                                                 Name    Sex Age SibSp Parch\n",
      "1                             Braund, Mr. Owen Harris   male  22     1     0\n",
      "2 Cumings, Mrs. John Bradley (Florence Briggs Thayer) female  38     1     0\n",
      "3                              Heikkinen, Miss. Laina female  26     0     0\n",
      "4        Futrelle, Mrs. Jacques Heath (Lily May Peel) female  35     1     0\n",
      "5                            Allen, Mr. William Henry   male  35     0     0\n",
      "6                                    Moran, Mr. James   male  NA     0     0\n",
      "            Ticket    Fare Cabin Embarked\n",
      "1        A/5 21171  7.2500              S\n",
      "2         PC 17599 71.2833   C85        C\n",
      "3 STON/O2. 3101282  7.9250              S\n",
      "4           113803 53.1000  C123        S\n",
      "5           373450  8.0500              S\n",
      "6           330877  8.4583              Q\n"
     ]
    }
   ],
   "source": [
    "install.packages(\"titanic\")\n",
    "library(titanic)\n",
    "print(head(titanic_train))"
   ]
  },
  {
   "cell_type": "markdown",
   "metadata": {},
   "source": [
    "#### Tamaño de la muestra y dimensiones"
   ]
  },
  {
   "cell_type": "markdown",
   "metadata": {},
   "source": [
    "Cuantas observaciones hay en el data set? (NROW, nrow, or dim)"
   ]
  },
  {
   "cell_type": "code",
   "execution_count": 184,
   "metadata": {},
   "outputs": [
    {
     "data": {
      "text/html": [
       "891"
      ],
      "text/latex": [
       "891"
      ],
      "text/markdown": [
       "891"
      ],
      "text/plain": [
       "[1] 891"
      ]
     },
     "metadata": {},
     "output_type": "display_data"
    }
   ],
   "source": [
    "NROW(titanic_train)"
   ]
  },
  {
   "cell_type": "code",
   "execution_count": 185,
   "metadata": {},
   "outputs": [
    {
     "data": {
      "text/html": [
       "891"
      ],
      "text/latex": [
       "891"
      ],
      "text/markdown": [
       "891"
      ],
      "text/plain": [
       "[1] 891"
      ]
     },
     "metadata": {},
     "output_type": "display_data"
    }
   ],
   "source": [
    "nrow(titanic_train)"
   ]
  },
  {
   "cell_type": "code",
   "execution_count": 186,
   "metadata": {},
   "outputs": [
    {
     "name": "stdout",
     "output_type": "stream",
     "text": [
      "[1] 891  12\n"
     ]
    }
   ],
   "source": [
    "print(dim(titanic_train))"
   ]
  },
  {
   "cell_type": "markdown",
   "metadata": {},
   "source": [
    "#### Nombres de las variables"
   ]
  },
  {
   "cell_type": "code",
   "execution_count": 187,
   "metadata": {},
   "outputs": [
    {
     "name": "stdout",
     "output_type": "stream",
     "text": [
      " [1] \"PassengerId\" \"Survived\"    \"Pclass\"      \"Name\"        \"Sex\"        \n",
      " [6] \"Age\"         \"SibSp\"       \"Parch\"       \"Ticket\"      \"Fare\"       \n",
      "[11] \"Cabin\"       \"Embarked\"   \n"
     ]
    }
   ],
   "source": [
    "print(names(titanic_train))"
   ]
  },
  {
   "cell_type": "markdown",
   "metadata": {},
   "source": [
    "### Estructura de los datos"
   ]
  },
  {
   "cell_type": "code",
   "execution_count": 188,
   "metadata": {},
   "outputs": [
    {
     "name": "stdout",
     "output_type": "stream",
     "text": [
      "'data.frame':\t891 obs. of  12 variables:\n",
      " $ PassengerId: int  1 2 3 4 5 6 7 8 9 10 ...\n",
      " $ Survived   : int  0 1 1 1 0 0 0 0 1 1 ...\n",
      " $ Pclass     : int  3 1 3 1 3 3 1 3 3 2 ...\n",
      " $ Name       : chr  \"Braund, Mr. Owen Harris\" \"Cumings, Mrs. John Bradley (Florence Briggs Thayer)\" \"Heikkinen, Miss. Laina\" \"Futrelle, Mrs. Jacques Heath (Lily May Peel)\" ...\n",
      " $ Sex        : chr  \"male\" \"female\" \"female\" \"female\" ...\n",
      " $ Age        : num  22 38 26 35 35 NA 54 2 27 14 ...\n",
      " $ SibSp      : int  1 1 0 1 0 0 0 3 0 1 ...\n",
      " $ Parch      : int  0 0 0 0 0 0 0 1 2 0 ...\n",
      " $ Ticket     : chr  \"A/5 21171\" \"PC 17599\" \"STON/O2. 3101282\" \"113803\" ...\n",
      " $ Fare       : num  7.25 71.28 7.92 53.1 8.05 ...\n",
      " $ Cabin      : chr  \"\" \"C85\" \"\" \"C123\" ...\n",
      " $ Embarked   : chr  \"S\" \"C\" \"S\" \"S\" ...\n"
     ]
    }
   ],
   "source": [
    "str(titanic_train)"
   ]
  },
  {
   "cell_type": "code",
   "execution_count": 189,
   "metadata": {},
   "outputs": [],
   "source": [
    "fix(titanic_train)"
   ]
  },
  {
   "cell_type": "code",
   "execution_count": 190,
   "metadata": {},
   "outputs": [
    {
     "name": "stdout",
     "output_type": "stream",
     "text": [
      "'data.frame':\t891 obs. of  12 variables:\n",
      " $ PassengerId: num  1 2 3 4 5 6 7 8 9 10 ...\n",
      " $ Survived   : num  0 1 1 1 0 0 0 0 1 1 ...\n",
      " $ Pclass     : num  3 1 3 1 3 3 1 3 3 2 ...\n",
      " $ Name       : chr  \"Braund, Mr. Owen Harris\" \"Cumings, Mrs. John Bradley (Florence Briggs Thayer)\" \"Heikkinen, Miss. Laina\" \"Futrelle, Mrs. Jacques Heath (Lily May Peel)\" ...\n",
      " $ Sex        : chr  \"male\" \"female\" \"female\" \"female\" ...\n",
      " $ Age        : num  22 38 26 35 35 NA 54 2 27 14 ...\n",
      " $ SibSp      : num  1 1 0 1 0 0 0 3 0 1 ...\n",
      " $ Parch      : num  0 0 0 0 0 0 0 1 2 0 ...\n",
      " $ Ticket     : chr  \"A/5 21171\" \"PC 17599\" \"STON/O2. 3101282\" \"113803\" ...\n",
      " $ Fare       : num  7.25 71.28 7.92 53.1 8.05 ...\n",
      " $ Cabin      : chr  \"\" \"C85\" \"\" \"C123\" ...\n",
      " $ Embarked   : chr  \"S\" \"C\" \"S\" \"S\" ...\n"
     ]
    }
   ],
   "source": [
    "str(titanic_train)"
   ]
  },
  {
   "cell_type": "markdown",
   "metadata": {},
   "source": [
    "### Missing values"
   ]
  },
  {
   "cell_type": "code",
   "execution_count": 191,
   "metadata": {},
   "outputs": [
    {
     "data": {
      "text/html": [
       "TRUE"
      ],
      "text/latex": [
       "TRUE"
      ],
      "text/markdown": [
       "TRUE"
      ],
      "text/plain": [
       "[1] TRUE"
      ]
     },
     "metadata": {},
     "output_type": "display_data"
    }
   ],
   "source": [
    "any(is.na(titanic_train))"
   ]
  },
  {
   "cell_type": "markdown",
   "metadata": {},
   "source": [
    "#### Working with a data frame"
   ]
  },
  {
   "cell_type": "markdown",
   "metadata": {},
   "source": [
    "##### Calcular estadísticas summary"
   ]
  },
  {
   "cell_type": "code",
   "execution_count": 192,
   "metadata": {},
   "outputs": [
    {
     "data": {
      "text/plain": [
       "  PassengerId       Survived          Pclass          Name          \n",
       " Min.   :  1.0   Min.   :0.0000   Min.   :1.000   Length:891        \n",
       " 1st Qu.:223.5   1st Qu.:0.0000   1st Qu.:2.000   Class :character  \n",
       " Median :446.0   Median :0.0000   Median :3.000   Mode  :character  \n",
       " Mean   :446.0   Mean   :0.3838   Mean   :2.309                     \n",
       " 3rd Qu.:668.5   3rd Qu.:1.0000   3rd Qu.:3.000                     \n",
       " Max.   :891.0   Max.   :1.0000   Max.   :3.000                     \n",
       "                                                                    \n",
       "     Sex                 Age            SibSp           Parch       \n",
       " Length:891         Min.   : 0.42   Min.   :0.000   Min.   :0.0000  \n",
       " Class :character   1st Qu.:20.12   1st Qu.:0.000   1st Qu.:0.0000  \n",
       " Mode  :character   Median :28.00   Median :0.000   Median :0.0000  \n",
       "                    Mean   :29.70   Mean   :0.523   Mean   :0.3816  \n",
       "                    3rd Qu.:38.00   3rd Qu.:1.000   3rd Qu.:0.0000  \n",
       "                    Max.   :80.00   Max.   :8.000   Max.   :6.0000  \n",
       "                    NA's   :177                                     \n",
       "    Ticket               Fare           Cabin             Embarked        \n",
       " Length:891         Min.   :  0.00   Length:891         Length:891        \n",
       " Class :character   1st Qu.:  7.91   Class :character   Class :character  \n",
       " Mode  :character   Median : 14.45   Mode  :character   Mode  :character  \n",
       "                    Mean   : 32.20                                        \n",
       "                    3rd Qu.: 31.00                                        \n",
       "                    Max.   :512.33                                        \n",
       "                                                                          "
      ]
     },
     "metadata": {},
     "output_type": "display_data"
    }
   ],
   "source": [
    "summary(titanic_train)"
   ]
  },
  {
   "cell_type": "markdown",
   "metadata": {},
   "source": [
    "##### Extract a variable using \\\\$"
   ]
  },
  {
   "cell_type": "markdown",
   "metadata": {},
   "source": [
    "Variables can be extracted using the $ operator followed by the name of the\n",
    "variable."
   ]
  },
  {
   "cell_type": "code",
   "execution_count": 193,
   "metadata": {},
   "outputs": [
    {
     "name": "stdout",
     "output_type": "stream",
     "text": [
      "  [1] 22.00 38.00 26.00 35.00 35.00    NA 54.00  2.00 27.00 14.00  4.00 58.00\n",
      " [13] 20.00 39.00 14.00 55.00  2.00    NA 31.00    NA 35.00 34.00 15.00 28.00\n",
      " [25]  8.00 38.00    NA 19.00    NA    NA 40.00    NA    NA 66.00 28.00 42.00\n",
      " [37]    NA 21.00 18.00 14.00 40.00 27.00    NA  3.00 19.00    NA    NA    NA\n",
      " [49]    NA 18.00  7.00 21.00 49.00 29.00 65.00    NA 21.00 28.50  5.00 11.00\n",
      " [61] 22.00 38.00 45.00  4.00    NA    NA 29.00 19.00 17.00 26.00 32.00 16.00\n",
      " [73] 21.00 26.00 32.00 25.00    NA    NA  0.83 30.00 22.00 29.00    NA 28.00\n",
      " [85] 17.00 33.00 16.00    NA 23.00 24.00 29.00 20.00 46.00 26.00 59.00    NA\n",
      " [97] 71.00 23.00 34.00 34.00 28.00    NA 21.00 33.00 37.00 28.00 21.00    NA\n",
      "[109] 38.00    NA 47.00 14.50 22.00 20.00 17.00 21.00 70.50 29.00 24.00  2.00\n",
      "[121] 21.00    NA 32.50 32.50 54.00 12.00    NA 24.00    NA 45.00 33.00 20.00\n",
      "[133] 47.00 29.00 25.00 23.00 19.00 37.00 16.00 24.00    NA 22.00 24.00 19.00\n",
      "[145] 18.00 19.00 27.00  9.00 36.50 42.00 51.00 22.00 55.50 40.50    NA 51.00\n",
      "[157] 16.00 30.00    NA    NA 44.00 40.00 26.00 17.00  1.00  9.00    NA 45.00\n",
      "[169]    NA 28.00 61.00  4.00  1.00 21.00 56.00 18.00    NA 50.00 30.00 36.00\n",
      "[181]    NA    NA  9.00  1.00  4.00    NA    NA 45.00 40.00 36.00 32.00 19.00\n",
      "[193] 19.00  3.00 44.00 58.00    NA 42.00    NA 24.00 28.00    NA 34.00 45.50\n",
      "[205] 18.00  2.00 32.00 26.00 16.00 40.00 24.00 35.00 22.00 30.00    NA 31.00\n",
      "[217] 27.00 42.00 32.00 30.00 16.00 27.00 51.00    NA 38.00 22.00 19.00 20.50\n",
      "[229] 18.00    NA 35.00 29.00 59.00  5.00 24.00    NA 44.00  8.00 19.00 33.00\n",
      "[241]    NA    NA 29.00 22.00 30.00 44.00 25.00 24.00 37.00 54.00    NA 29.00\n",
      "[253] 62.00 30.00 41.00 29.00    NA 30.00 35.00 50.00    NA  3.00 52.00 40.00\n",
      "[265]    NA 36.00 16.00 25.00 58.00 35.00    NA 25.00 41.00 37.00    NA 63.00\n",
      "[277] 45.00    NA  7.00 35.00 65.00 28.00 16.00 19.00    NA 33.00 30.00 22.00\n",
      "[289] 42.00 22.00 26.00 19.00 36.00 24.00 24.00    NA 23.50  2.00    NA 50.00\n",
      "[301]    NA    NA 19.00    NA    NA  0.92    NA 17.00 30.00 30.00 24.00 18.00\n",
      "[313] 26.00 28.00 43.00 26.00 24.00 54.00 31.00 40.00 22.00 27.00 30.00 22.00\n",
      "[325]    NA 36.00 61.00 36.00 31.00 16.00    NA 45.50 38.00 16.00    NA    NA\n",
      "[337] 29.00 41.00 45.00 45.00  2.00 24.00 28.00 25.00 36.00 24.00 40.00    NA\n",
      "[349]  3.00 42.00 23.00    NA 15.00 25.00    NA 28.00 22.00 38.00    NA    NA\n",
      "[361] 40.00 29.00 45.00 35.00    NA 30.00 60.00    NA    NA 24.00 25.00 18.00\n",
      "[373] 19.00 22.00  3.00    NA 22.00 27.00 20.00 19.00 42.00  1.00 32.00 35.00\n",
      "[385]    NA 18.00  1.00 36.00    NA 17.00 36.00 21.00 28.00 23.00 24.00 22.00\n",
      "[397] 31.00 46.00 23.00 28.00 39.00 26.00 21.00 28.00 20.00 34.00 51.00  3.00\n",
      "[409] 21.00    NA    NA    NA 33.00    NA 44.00    NA 34.00 18.00 30.00 10.00\n",
      "[421]    NA 21.00 29.00 28.00 18.00    NA 28.00 19.00    NA 32.00 28.00    NA\n",
      "[433] 42.00 17.00 50.00 14.00 21.00 24.00 64.00 31.00 45.00 20.00 25.00 28.00\n",
      "[445]    NA  4.00 13.00 34.00  5.00 52.00 36.00    NA 30.00 49.00    NA 29.00\n",
      "[457] 65.00    NA 50.00    NA 48.00 34.00 47.00 48.00    NA 38.00    NA 56.00\n",
      "[469]    NA  0.75    NA 38.00 33.00 23.00 22.00    NA 34.00 29.00 22.00  2.00\n",
      "[481]  9.00    NA 50.00 63.00 25.00    NA 35.00 58.00 30.00  9.00    NA 21.00\n",
      "[493] 55.00 71.00 21.00    NA 54.00    NA 25.00 24.00 17.00 21.00    NA 37.00\n",
      "[505] 16.00 18.00 33.00    NA 28.00 26.00 29.00    NA 36.00 54.00 24.00 47.00\n",
      "[517] 34.00    NA 36.00 32.00 30.00 22.00    NA 44.00    NA 40.50 50.00    NA\n",
      "[529] 39.00 23.00  2.00    NA 17.00    NA 30.00  7.00 45.00 30.00    NA 22.00\n",
      "[541] 36.00  9.00 11.00 32.00 50.00 64.00 19.00    NA 33.00  8.00 17.00 27.00\n",
      "[553]    NA 22.00 22.00 62.00 48.00    NA 39.00 36.00    NA 40.00 28.00    NA\n",
      "[565]    NA 24.00 19.00 29.00    NA 32.00 62.00 53.00 36.00    NA 16.00 19.00\n",
      "[577] 34.00 39.00    NA 32.00 25.00 39.00 54.00 36.00    NA 18.00 47.00 60.00\n",
      "[589] 22.00    NA 35.00 52.00 47.00    NA 37.00 36.00    NA 49.00    NA 49.00\n",
      "[601] 24.00    NA    NA 44.00 35.00 36.00 30.00 27.00 22.00 40.00 39.00    NA\n",
      "[613]    NA    NA 35.00 24.00 34.00 26.00  4.00 26.00 27.00 42.00 20.00 21.00\n",
      "[625] 21.00 61.00 57.00 21.00 26.00    NA 80.00 51.00 32.00    NA  9.00 28.00\n",
      "[637] 32.00 31.00 41.00    NA 20.00 24.00  2.00    NA  0.75 48.00 19.00 56.00\n",
      "[649]    NA 23.00    NA 18.00 21.00    NA 18.00 24.00    NA 32.00 23.00 58.00\n",
      "[661] 50.00 40.00 47.00 36.00 20.00 32.00 25.00    NA 43.00    NA 40.00 31.00\n",
      "[673] 70.00 31.00    NA 18.00 24.50 18.00 43.00 36.00    NA 27.00 20.00 14.00\n",
      "[685] 60.00 25.00 14.00 19.00 18.00 15.00 31.00  4.00    NA 25.00 60.00 52.00\n",
      "[697] 44.00    NA 49.00 42.00 18.00 35.00 18.00 25.00 26.00 39.00 45.00 42.00\n",
      "[709] 22.00    NA 24.00    NA 48.00 29.00 52.00 19.00 38.00 27.00    NA 33.00\n",
      "[721]  6.00 17.00 34.00 50.00 27.00 20.00 30.00    NA 25.00 25.00 29.00 11.00\n",
      "[733]    NA 23.00 23.00 28.50 48.00 35.00    NA    NA    NA 36.00 21.00 24.00\n",
      "[745] 31.00 70.00 16.00 30.00 19.00 31.00  4.00  6.00 33.00 23.00 48.00  0.67\n",
      "[757] 28.00 18.00 34.00 33.00    NA 41.00 20.00 36.00 16.00 51.00    NA 30.50\n",
      "[769]    NA 32.00 24.00 48.00 57.00    NA 54.00 18.00    NA  5.00    NA 43.00\n",
      "[781] 13.00 17.00 29.00    NA 25.00 25.00 18.00  8.00  1.00 46.00    NA 16.00\n",
      "[793]    NA    NA 25.00 39.00 49.00 31.00 30.00 30.00 34.00 31.00 11.00  0.42\n",
      "[805] 27.00 31.00 39.00 18.00 39.00 33.00 26.00 39.00 35.00  6.00 30.50    NA\n",
      "[817] 23.00 31.00 43.00 10.00 52.00 27.00 38.00 27.00  2.00    NA    NA  1.00\n",
      "[829]    NA 62.00 15.00  0.83    NA 23.00 18.00 39.00 21.00    NA 32.00    NA\n",
      "[841] 20.00 16.00 30.00 34.50 17.00 42.00    NA 35.00 28.00    NA  4.00 74.00\n",
      "[853]  9.00 16.00 44.00 18.00 45.00 51.00 24.00    NA 41.00 21.00 48.00    NA\n",
      "[865] 24.00 42.00 27.00 31.00    NA  4.00 26.00 47.00 33.00 47.00 28.00 15.00\n",
      "[877] 20.00 19.00    NA 56.00 25.00 33.00 22.00 28.00 25.00 39.00 27.00 19.00\n",
      "[889]    NA 26.00 32.00\n"
     ]
    }
   ],
   "source": [
    "print(titanic_train$Age)"
   ]
  },
  {
   "cell_type": "markdown",
   "metadata": {},
   "source": [
    "#### Fin de mi ejemplo\n",
    "**\n",
    "---\n",
    "**\n",
    "---\n",
    "---\n",
    "**\n",
    "---\n"
   ]
  },
  {
   "cell_type": "markdown",
   "metadata": {},
   "source": [
    "##### Histogramass"
   ]
  },
  {
   "cell_type": "code",
   "execution_count": 194,
   "metadata": {},
   "outputs": [
    {
     "name": "stderr",
     "output_type": "stream",
     "text": [
      "\n",
      "Attaching package: 'MASS'\n",
      "\n",
      "The following object is masked from 'package:dplyr':\n",
      "\n",
      "    select\n",
      "\n"
     ]
    },
    {
     "data": {
      "image/png": "[encoded data removed]",
      "text/plain": [
       "Plot with title \"Histogram of titanic_train$Age\""
      ]
     },
     "metadata": {},
     "output_type": "display_data"
    }
   ],
   "source": [
    "par(mfrow=c(1,2)) #subplots\n",
    "par(cex=0.4) #control size of labels\n",
    "hist(titanic_train$Age)\n",
    "library(MASS)#need for truehist function\n",
    "truehist(titanic_train$Age, col='lightcyan') #see colors() for built-in colors in R"
   ]
  },
  {
   "cell_type": "code",
   "execution_count": 195,
   "metadata": {},
   "outputs": [
    {
     "data": {
      "image/png": "[encoded data removed]",
      "text/plain": [
       "Plot with title \"Histogram of titanic_train$Age\""
      ]
     },
     "metadata": {},
     "output_type": "display_data"
    }
   ],
   "source": [
    "hist(titanic_train$Age, prob=TRUE, breaks=\"scott\")"
   ]
  },
  {
   "cell_type": "markdown",
   "metadata": {},
   "source": [
    "##### Attaching a data frame"
   ]
  },
  {
   "cell_type": "code",
   "execution_count": 196,
   "metadata": {},
   "outputs": [],
   "source": [
    "attach(titanic_train)"
   ]
  },
  {
   "cell_type": "code",
   "execution_count": 197,
   "metadata": {},
   "outputs": [
    {
     "data": {
      "text/html": [
       "<ol class=list-inline>\n",
       "\t<li>'PassengerId'</li>\n",
       "\t<li>'Survived'</li>\n",
       "\t<li>'Pclass'</li>\n",
       "\t<li>'Name'</li>\n",
       "\t<li>'Sex'</li>\n",
       "\t<li>'Age'</li>\n",
       "\t<li>'SibSp'</li>\n",
       "\t<li>'Parch'</li>\n",
       "\t<li>'Ticket'</li>\n",
       "\t<li>'Fare'</li>\n",
       "\t<li>'Cabin'</li>\n",
       "\t<li>'Embarked'</li>\n",
       "</ol>\n"
      ],
      "text/latex": [
       "\\begin{enumerate*}\n",
       "\\item 'PassengerId'\n",
       "\\item 'Survived'\n",
       "\\item 'Pclass'\n",
       "\\item 'Name'\n",
       "\\item 'Sex'\n",
       "\\item 'Age'\n",
       "\\item 'SibSp'\n",
       "\\item 'Parch'\n",
       "\\item 'Ticket'\n",
       "\\item 'Fare'\n",
       "\\item 'Cabin'\n",
       "\\item 'Embarked'\n",
       "\\end{enumerate*}\n"
      ],
      "text/markdown": [
       "1. 'PassengerId'\n",
       "2. 'Survived'\n",
       "3. 'Pclass'\n",
       "4. 'Name'\n",
       "5. 'Sex'\n",
       "6. 'Age'\n",
       "7. 'SibSp'\n",
       "8. 'Parch'\n",
       "9. 'Ticket'\n",
       "10. 'Fare'\n",
       "11. 'Cabin'\n",
       "12. 'Embarked'\n",
       "\n",
       "\n"
      ],
      "text/plain": [
       " [1] \"PassengerId\" \"Survived\"    \"Pclass\"      \"Name\"        \"Sex\"        \n",
       " [6] \"Age\"         \"SibSp\"       \"Parch\"       \"Ticket\"      \"Fare\"       \n",
       "[11] \"Cabin\"       \"Embarked\"   "
      ]
     },
     "metadata": {},
     "output_type": "display_data"
    }
   ],
   "source": [
    "names(titanic_train)"
   ]
  },
  {
   "cell_type": "code",
   "execution_count": 198,
   "metadata": {},
   "outputs": [
    {
     "name": "stdout",
     "output_type": "stream",
     "text": [
      "[1] 22 38 26 35 35 NA\n"
     ]
    }
   ],
   "source": [
    "print(head(Age))"
   ]
  },
  {
   "cell_type": "markdown",
   "metadata": {},
   "source": [
    "If a data frame is attached, it can be detached when it is no longer needed using the detach function."
   ]
  },
  {
   "cell_type": "code",
   "execution_count": 199,
   "metadata": {},
   "outputs": [],
   "source": [
    "detach(titanic_train)\n",
    "#rm(titanic_train) #remove variable from memory"
   ]
  },
  {
   "cell_type": "markdown",
   "metadata": {},
   "source": [
    "An alternative to attaching a data frame is (sometimes) to use the with function. It is useful for displaying plots or summary statistics. However, variables created using with are local to it."
   ]
  },
  {
   "cell_type": "code",
   "execution_count": 200,
   "metadata": {},
   "outputs": [],
   "source": [
    "#with(titanic_train, expr={Age})\n"
   ]
  },
  {
   "cell_type": "code",
   "execution_count": 201,
   "metadata": {},
   "outputs": [],
   "source": [
    "attach(titanic_train)"
   ]
  },
  {
   "cell_type": "code",
   "execution_count": 202,
   "metadata": {},
   "outputs": [
    {
     "name": "stdout",
     "output_type": "stream",
     "text": [
      "  [1] 22.00 38.00 26.00 35.00 35.00    NA 54.00  2.00 27.00 14.00  4.00 58.00\n",
      " [13] 20.00 39.00 14.00 55.00  2.00    NA 31.00    NA 35.00 34.00 15.00 28.00\n",
      " [25]  8.00 38.00    NA 19.00    NA    NA 40.00    NA    NA 66.00 28.00 42.00\n",
      " [37]    NA 21.00 18.00 14.00 40.00 27.00    NA  3.00 19.00    NA    NA    NA\n",
      " [49]    NA 18.00  7.00 21.00 49.00 29.00 65.00    NA 21.00 28.50  5.00 11.00\n",
      " [61] 22.00 38.00 45.00  4.00    NA    NA 29.00 19.00 17.00 26.00 32.00 16.00\n",
      " [73] 21.00 26.00 32.00 25.00    NA    NA  0.83 30.00 22.00 29.00    NA 28.00\n",
      " [85] 17.00 33.00 16.00    NA 23.00 24.00 29.00 20.00 46.00 26.00 59.00    NA\n",
      " [97] 71.00 23.00 34.00 34.00 28.00    NA 21.00 33.00 37.00 28.00 21.00    NA\n",
      "[109] 38.00    NA 47.00 14.50 22.00 20.00 17.00 21.00 70.50 29.00 24.00  2.00\n",
      "[121] 21.00    NA 32.50 32.50 54.00 12.00    NA 24.00    NA 45.00 33.00 20.00\n",
      "[133] 47.00 29.00 25.00 23.00 19.00 37.00 16.00 24.00    NA 22.00 24.00 19.00\n",
      "[145] 18.00 19.00 27.00  9.00 36.50 42.00 51.00 22.00 55.50 40.50    NA 51.00\n",
      "[157] 16.00 30.00    NA    NA 44.00 40.00 26.00 17.00  1.00  9.00    NA 45.00\n",
      "[169]    NA 28.00 61.00  4.00  1.00 21.00 56.00 18.00    NA 50.00 30.00 36.00\n",
      "[181]    NA    NA  9.00  1.00  4.00    NA    NA 45.00 40.00 36.00 32.00 19.00\n",
      "[193] 19.00  3.00 44.00 58.00    NA 42.00    NA 24.00 28.00    NA 34.00 45.50\n",
      "[205] 18.00  2.00 32.00 26.00 16.00 40.00 24.00 35.00 22.00 30.00    NA 31.00\n",
      "[217] 27.00 42.00 32.00 30.00 16.00 27.00 51.00    NA 38.00 22.00 19.00 20.50\n",
      "[229] 18.00    NA 35.00 29.00 59.00  5.00 24.00    NA 44.00  8.00 19.00 33.00\n",
      "[241]    NA    NA 29.00 22.00 30.00 44.00 25.00 24.00 37.00 54.00    NA 29.00\n",
      "[253] 62.00 30.00 41.00 29.00    NA 30.00 35.00 50.00    NA  3.00 52.00 40.00\n",
      "[265]    NA 36.00 16.00 25.00 58.00 35.00    NA 25.00 41.00 37.00    NA 63.00\n",
      "[277] 45.00    NA  7.00 35.00 65.00 28.00 16.00 19.00    NA 33.00 30.00 22.00\n",
      "[289] 42.00 22.00 26.00 19.00 36.00 24.00 24.00    NA 23.50  2.00    NA 50.00\n",
      "[301]    NA    NA 19.00    NA    NA  0.92    NA 17.00 30.00 30.00 24.00 18.00\n",
      "[313] 26.00 28.00 43.00 26.00 24.00 54.00 31.00 40.00 22.00 27.00 30.00 22.00\n",
      "[325]    NA 36.00 61.00 36.00 31.00 16.00    NA 45.50 38.00 16.00    NA    NA\n",
      "[337] 29.00 41.00 45.00 45.00  2.00 24.00 28.00 25.00 36.00 24.00 40.00    NA\n",
      "[349]  3.00 42.00 23.00    NA 15.00 25.00    NA 28.00 22.00 38.00    NA    NA\n",
      "[361] 40.00 29.00 45.00 35.00    NA 30.00 60.00    NA    NA 24.00 25.00 18.00\n",
      "[373] 19.00 22.00  3.00    NA 22.00 27.00 20.00 19.00 42.00  1.00 32.00 35.00\n",
      "[385]    NA 18.00  1.00 36.00    NA 17.00 36.00 21.00 28.00 23.00 24.00 22.00\n",
      "[397] 31.00 46.00 23.00 28.00 39.00 26.00 21.00 28.00 20.00 34.00 51.00  3.00\n",
      "[409] 21.00    NA    NA    NA 33.00    NA 44.00    NA 34.00 18.00 30.00 10.00\n",
      "[421]    NA 21.00 29.00 28.00 18.00    NA 28.00 19.00    NA 32.00 28.00    NA\n",
      "[433] 42.00 17.00 50.00 14.00 21.00 24.00 64.00 31.00 45.00 20.00 25.00 28.00\n",
      "[445]    NA  4.00 13.00 34.00  5.00 52.00 36.00    NA 30.00 49.00    NA 29.00\n",
      "[457] 65.00    NA 50.00    NA 48.00 34.00 47.00 48.00    NA 38.00    NA 56.00\n",
      "[469]    NA  0.75    NA 38.00 33.00 23.00 22.00    NA 34.00 29.00 22.00  2.00\n",
      "[481]  9.00    NA 50.00 63.00 25.00    NA 35.00 58.00 30.00  9.00    NA 21.00\n",
      "[493] 55.00 71.00 21.00    NA 54.00    NA 25.00 24.00 17.00 21.00    NA 37.00\n",
      "[505] 16.00 18.00 33.00    NA 28.00 26.00 29.00    NA 36.00 54.00 24.00 47.00\n",
      "[517] 34.00    NA 36.00 32.00 30.00 22.00    NA 44.00    NA 40.50 50.00    NA\n",
      "[529] 39.00 23.00  2.00    NA 17.00    NA 30.00  7.00 45.00 30.00    NA 22.00\n",
      "[541] 36.00  9.00 11.00 32.00 50.00 64.00 19.00    NA 33.00  8.00 17.00 27.00\n",
      "[553]    NA 22.00 22.00 62.00 48.00    NA 39.00 36.00    NA 40.00 28.00    NA\n",
      "[565]    NA 24.00 19.00 29.00    NA 32.00 62.00 53.00 36.00    NA 16.00 19.00\n",
      "[577] 34.00 39.00    NA 32.00 25.00 39.00 54.00 36.00    NA 18.00 47.00 60.00\n",
      "[589] 22.00    NA 35.00 52.00 47.00    NA 37.00 36.00    NA 49.00    NA 49.00\n",
      "[601] 24.00    NA    NA 44.00 35.00 36.00 30.00 27.00 22.00 40.00 39.00    NA\n",
      "[613]    NA    NA 35.00 24.00 34.00 26.00  4.00 26.00 27.00 42.00 20.00 21.00\n",
      "[625] 21.00 61.00 57.00 21.00 26.00    NA 80.00 51.00 32.00    NA  9.00 28.00\n",
      "[637] 32.00 31.00 41.00    NA 20.00 24.00  2.00    NA  0.75 48.00 19.00 56.00\n",
      "[649]    NA 23.00    NA 18.00 21.00    NA 18.00 24.00    NA 32.00 23.00 58.00\n",
      "[661] 50.00 40.00 47.00 36.00 20.00 32.00 25.00    NA 43.00    NA 40.00 31.00\n",
      "[673] 70.00 31.00    NA 18.00 24.50 18.00 43.00 36.00    NA 27.00 20.00 14.00\n",
      "[685] 60.00 25.00 14.00 19.00 18.00 15.00 31.00  4.00    NA 25.00 60.00 52.00\n",
      "[697] 44.00    NA 49.00 42.00 18.00 35.00 18.00 25.00 26.00 39.00 45.00 42.00\n",
      "[709] 22.00    NA 24.00    NA 48.00 29.00 52.00 19.00 38.00 27.00    NA 33.00\n",
      "[721]  6.00 17.00 34.00 50.00 27.00 20.00 30.00    NA 25.00 25.00 29.00 11.00\n",
      "[733]    NA 23.00 23.00 28.50 48.00 35.00    NA    NA    NA 36.00 21.00 24.00\n",
      "[745] 31.00 70.00 16.00 30.00 19.00 31.00  4.00  6.00 33.00 23.00 48.00  0.67\n",
      "[757] 28.00 18.00 34.00 33.00    NA 41.00 20.00 36.00 16.00 51.00    NA 30.50\n",
      "[769]    NA 32.00 24.00 48.00 57.00    NA 54.00 18.00    NA  5.00    NA 43.00\n",
      "[781] 13.00 17.00 29.00    NA 25.00 25.00 18.00  8.00  1.00 46.00    NA 16.00\n",
      "[793]    NA    NA 25.00 39.00 49.00 31.00 30.00 30.00 34.00 31.00 11.00  0.42\n",
      "[805] 27.00 31.00 39.00 18.00 39.00 33.00 26.00 39.00 35.00  6.00 30.50    NA\n",
      "[817] 23.00 31.00 43.00 10.00 52.00 27.00 38.00 27.00  2.00    NA    NA  1.00\n",
      "[829]    NA 62.00 15.00  0.83    NA 23.00 18.00 39.00 21.00    NA 32.00    NA\n",
      "[841] 20.00 16.00 30.00 34.50 17.00 42.00    NA 35.00 28.00    NA  4.00 74.00\n",
      "[853]  9.00 16.00 44.00 18.00 45.00 51.00 24.00    NA 41.00 21.00 48.00    NA\n",
      "[865] 24.00 42.00 27.00 31.00    NA  4.00 26.00 47.00 33.00 47.00 28.00 15.00\n",
      "[877] 20.00 19.00    NA 56.00 25.00 33.00 22.00 28.00 25.00 39.00 27.00 19.00\n",
      "[889]    NA 26.00 32.00\n"
     ]
    }
   ],
   "source": [
    "print(Age)"
   ]
  },
  {
   "cell_type": "markdown",
   "metadata": {},
   "source": [
    "##### Graficas de dispersión y correlación"
   ]
  },
  {
   "cell_type": "code",
   "execution_count": 203,
   "metadata": {},
   "outputs": [
    {
     "name": "stderr",
     "output_type": "stream",
     "text": [
      "The following objects are masked from titanic_train (pos = 3):\n",
      "\n",
      "    Age, Cabin, Embarked, Fare, Name, Parch, PassengerId, Pclass, Sex,\n",
      "    SibSp, Survived, Ticket\n",
      "\n"
     ]
    }
   ],
   "source": [
    "attach(titanic_train)"
   ]
  },
  {
   "cell_type": "code",
   "execution_count": 204,
   "metadata": {},
   "outputs": [
    {
     "data": {
      "image/png": "[encoded data removed]",
      "text/plain": [
       "plot without title"
      ]
     },
     "metadata": {},
     "output_type": "display_data"
    }
   ],
   "source": [
    "plot(Fare, Age)"
   ]
  },
  {
   "cell_type": "markdown",
   "metadata": {},
   "source": [
    "No se puede ver correlación entre el monto pagado y la edad."
   ]
  },
  {
   "cell_type": "markdown",
   "metadata": {},
   "source": [
    "#### Fin de mi ejemplo\n",
    "**\n",
    "---\n",
    "**\n",
    "---\n",
    "---\n",
    "**\n",
    "---\n"
   ]
  },
  {
   "cell_type": "markdown",
   "metadata": {},
   "source": [
    "## Parte 2: 3_ggplot2"
   ]
  },
  {
   "cell_type": "code",
   "execution_count": 205,
   "metadata": {},
   "outputs": [],
   "source": [
    "equises_pa_graficar <- seq(0,100,.5) #secuencia de 0 a 100 con espaciado de .5"
   ]
  },
  {
   "cell_type": "code",
   "execution_count": 208,
   "metadata": {},
   "outputs": [],
   "source": [
    "#?plot"
   ]
  },
  {
   "cell_type": "markdown",
   "metadata": {},
   "source": [
    "## Base Graphics"
   ]
  },
  {
   "cell_type": "code",
   "execution_count": 209,
   "metadata": {},
   "outputs": [
    {
     "data": {
      "image/png": "[encoded data removed]",
      "text/plain": [
       "plot without title"
      ]
     },
     "metadata": {},
     "output_type": "display_data"
    }
   ],
   "source": [
    "plot(elvectorazo,elvectorazo2)"
   ]
  },
  {
   "cell_type": "code",
   "execution_count": 231,
   "metadata": {},
   "outputs": [
    {
     "data": {
      "text/html": [
       "<table>\n",
       "<thead><tr><th scope=col>PassengerId</th><th scope=col>Survived</th><th scope=col>Pclass</th><th scope=col>Name</th><th scope=col>Sex</th><th scope=col>Age</th><th scope=col>SibSp</th><th scope=col>Parch</th><th scope=col>Ticket</th><th scope=col>Fare</th><th scope=col>Cabin</th><th scope=col>Embarked</th></tr></thead>\n",
       "<tbody>\n",
       "\t<tr><td>1                                                  </td><td>0                                                  </td><td>3                                                  </td><td>Braund, Mr. Owen Harris                            </td><td>male                                               </td><td>22                                                 </td><td>1                                                  </td><td>0                                                  </td><td>A/5 21171                                          </td><td> 7.2500                                            </td><td>                                                   </td><td>S                                                  </td></tr>\n",
       "\t<tr><td>2                                                  </td><td>1                                                  </td><td>1                                                  </td><td>Cumings, Mrs. John Bradley (Florence Briggs Thayer)</td><td>female                                             </td><td>38                                                 </td><td>1                                                  </td><td>0                                                  </td><td>PC 17599                                           </td><td>71.2833                                            </td><td>C85                                                </td><td>C                                                  </td></tr>\n",
       "\t<tr><td>3                                                  </td><td>1                                                  </td><td>3                                                  </td><td>Heikkinen, Miss. Laina                             </td><td>female                                             </td><td>26                                                 </td><td>0                                                  </td><td>0                                                  </td><td>STON/O2. 3101282                                   </td><td> 7.9250                                            </td><td>                                                   </td><td>S                                                  </td></tr>\n",
       "\t<tr><td>4                                                  </td><td>1                                                  </td><td>1                                                  </td><td>Futrelle, Mrs. Jacques Heath (Lily May Peel)       </td><td>female                                             </td><td>35                                                 </td><td>1                                                  </td><td>0                                                  </td><td>113803                                             </td><td>53.1000                                            </td><td>C123                                               </td><td>S                                                  </td></tr>\n",
       "\t<tr><td>5                                                  </td><td>0                                                  </td><td>3                                                  </td><td>Allen, Mr. William Henry                           </td><td>male                                               </td><td>35                                                 </td><td>0                                                  </td><td>0                                                  </td><td>373450                                             </td><td> 8.0500                                            </td><td>                                                   </td><td>S                                                  </td></tr>\n",
       "\t<tr><td>6                                                  </td><td>0                                                  </td><td>3                                                  </td><td>Moran, Mr. James                                   </td><td>male                                               </td><td>NA                                                 </td><td>0                                                  </td><td>0                                                  </td><td>330877                                             </td><td> 8.4583                                            </td><td>                                                   </td><td>Q                                                  </td></tr>\n",
       "</tbody>\n",
       "</table>\n"
      ],
      "text/latex": [
       "\\begin{tabular}{r|llllllllllll}\n",
       " PassengerId & Survived & Pclass & Name & Sex & Age & SibSp & Parch & Ticket & Fare & Cabin & Embarked\\\\\n",
       "\\hline\n",
       "\t 1                                                   & 0                                                   & 3                                                   & Braund, Mr. Owen Harris                             & male                                                & 22                                                  & 1                                                   & 0                                                   & A/5 21171                                           &  7.2500                                             &                                                     & S                                                  \\\\\n",
       "\t 2                                                   & 1                                                   & 1                                                   & Cumings, Mrs. John Bradley (Florence Briggs Thayer) & female                                              & 38                                                  & 1                                                   & 0                                                   & PC 17599                                            & 71.2833                                             & C85                                                 & C                                                  \\\\\n",
       "\t 3                                                   & 1                                                   & 3                                                   & Heikkinen, Miss. Laina                              & female                                              & 26                                                  & 0                                                   & 0                                                   & STON/O2. 3101282                                    &  7.9250                                             &                                                     & S                                                  \\\\\n",
       "\t 4                                                   & 1                                                   & 1                                                   & Futrelle, Mrs. Jacques Heath (Lily May Peel)        & female                                              & 35                                                  & 1                                                   & 0                                                   & 113803                                              & 53.1000                                             & C123                                                & S                                                  \\\\\n",
       "\t 5                                                   & 0                                                   & 3                                                   & Allen, Mr. William Henry                            & male                                                & 35                                                  & 0                                                   & 0                                                   & 373450                                              &  8.0500                                             &                                                     & S                                                  \\\\\n",
       "\t 6                                                   & 0                                                   & 3                                                   & Moran, Mr. James                                    & male                                                & NA                                                  & 0                                                   & 0                                                   & 330877                                              &  8.4583                                             &                                                     & Q                                                  \\\\\n",
       "\\end{tabular}\n"
      ],
      "text/markdown": [
       "\n",
       "| PassengerId | Survived | Pclass | Name | Sex | Age | SibSp | Parch | Ticket | Fare | Cabin | Embarked |\n",
       "|---|---|---|---|---|---|---|---|---|---|---|---|\n",
       "| 1                                                   | 0                                                   | 3                                                   | Braund, Mr. Owen Harris                             | male                                                | 22                                                  | 1                                                   | 0                                                   | A/5 21171                                           |  7.2500                                             |                                                     | S                                                   |\n",
       "| 2                                                   | 1                                                   | 1                                                   | Cumings, Mrs. John Bradley (Florence Briggs Thayer) | female                                              | 38                                                  | 1                                                   | 0                                                   | PC 17599                                            | 71.2833                                             | C85                                                 | C                                                   |\n",
       "| 3                                                   | 1                                                   | 3                                                   | Heikkinen, Miss. Laina                              | female                                              | 26                                                  | 0                                                   | 0                                                   | STON/O2. 3101282                                    |  7.9250                                             |                                                     | S                                                   |\n",
       "| 4                                                   | 1                                                   | 1                                                   | Futrelle, Mrs. Jacques Heath (Lily May Peel)        | female                                              | 35                                                  | 1                                                   | 0                                                   | 113803                                              | 53.1000                                             | C123                                                | S                                                   |\n",
       "| 5                                                   | 0                                                   | 3                                                   | Allen, Mr. William Henry                            | male                                                | 35                                                  | 0                                                   | 0                                                   | 373450                                              |  8.0500                                             |                                                     | S                                                   |\n",
       "| 6                                                   | 0                                                   | 3                                                   | Moran, Mr. James                                    | male                                                | NA                                                  | 0                                                   | 0                                                   | 330877                                              |  8.4583                                             |                                                     | Q                                                   |\n",
       "\n"
      ],
      "text/plain": [
       "  PassengerId Survived Pclass\n",
       "1 1           0        3     \n",
       "2 2           1        1     \n",
       "3 3           1        3     \n",
       "4 4           1        1     \n",
       "5 5           0        3     \n",
       "6 6           0        3     \n",
       "  Name                                                Sex    Age SibSp Parch\n",
       "1 Braund, Mr. Owen Harris                             male   22  1     0    \n",
       "2 Cumings, Mrs. John Bradley (Florence Briggs Thayer) female 38  1     0    \n",
       "3 Heikkinen, Miss. Laina                              female 26  0     0    \n",
       "4 Futrelle, Mrs. Jacques Heath (Lily May Peel)        female 35  1     0    \n",
       "5 Allen, Mr. William Henry                            male   35  0     0    \n",
       "6 Moran, Mr. James                                    male   NA  0     0    \n",
       "  Ticket           Fare    Cabin Embarked\n",
       "1 A/5 21171         7.2500       S       \n",
       "2 PC 17599         71.2833 C85   C       \n",
       "3 STON/O2. 3101282  7.9250       S       \n",
       "4 113803           53.1000 C123  S       \n",
       "5 373450            8.0500       S       \n",
       "6 330877            8.4583       Q       "
      ]
     },
     "metadata": {},
     "output_type": "display_data"
    }
   ],
   "source": [
    "#?barplot\n",
    "head(titanic_train)"
   ]
  },
  {
   "cell_type": "code",
   "execution_count": 222,
   "metadata": {},
   "outputs": [
    {
     "data": {
      "image/png": "[encoded data removed]",
      "text/plain": [
       "plot without title"
      ]
     },
     "metadata": {},
     "output_type": "display_data"
    }
   ],
   "source": [
    "barplot(titanic_train$Age)"
   ]
  },
  {
   "cell_type": "code",
   "execution_count": 219,
   "metadata": {},
   "outputs": [],
   "source": [
    "#?boxplot"
   ]
  },
  {
   "cell_type": "code",
   "execution_count": 221,
   "metadata": {},
   "outputs": [
    {
     "data": {
      "image/png": "[encoded data removed]",
      "text/plain": [
       "plot without title"
      ]
     },
     "metadata": {},
     "output_type": "display_data"
    }
   ],
   "source": [
    "boxplot(titanic_train$Age)"
   ]
  },
  {
   "cell_type": "code",
   "execution_count": null,
   "metadata": {},
   "outputs": [],
   "source": [
    "?hist"
   ]
  },
  {
   "cell_type": "code",
   "execution_count": 241,
   "metadata": {},
   "outputs": [
    {
     "data": {
      "image/png": "[encoded data removed]",
      "text/plain": [
       "Plot with title \"Histogram of titanic_train$Age\""
      ]
     },
     "metadata": {},
     "output_type": "display_data"
    }
   ],
   "source": [
    "hist(titanic_train$Age)"
   ]
  },
  {
   "cell_type": "code",
   "execution_count": 237,
   "metadata": {},
   "outputs": [
    {
     "data": {
      "image/png": "[encoded data removed]",
      "text/plain": [
       "plot without title"
      ]
     },
     "metadata": {},
     "output_type": "display_data"
    }
   ],
   "source": [
    "#?dotchart\n",
    "dotchart(titanic_train$Age)"
   ]
  },
  {
   "cell_type": "markdown",
   "metadata": {},
   "source": [
    "### GGplot2"
   ]
  },
  {
   "cell_type": "code",
   "execution_count": 242,
   "metadata": {},
   "outputs": [],
   "source": [
    "library(ggplot2)"
   ]
  },
  {
   "cell_type": "code",
   "execution_count": 248,
   "metadata": {},
   "outputs": [],
   "source": [
    "ggdatos<-ggplot(data=titanic_train, aes(x=Age, y= Fare))"
   ]
  },
  {
   "cell_type": "code",
   "execution_count": 249,
   "metadata": {},
   "outputs": [
    {
     "name": "stderr",
     "output_type": "stream",
     "text": [
      "Warning message:\n",
      "\"Removed 177 rows containing missing values (geom_point).\""
     ]
    },
    {
     "data": {
      "image/png": "[encoded data removed]",
      "text/plain": [
       "plot without title"
      ]
     },
     "metadata": {},
     "output_type": "display_data"
    }
   ],
   "source": [
    "ggdatos + geom_point()"
   ]
  },
  {
   "cell_type": "code",
   "execution_count": 253,
   "metadata": {},
   "outputs": [
    {
     "name": "stderr",
     "output_type": "stream",
     "text": [
      "Warning message:\n",
      "\"Removed 177 rows containing missing values (geom_point).\""
     ]
    },
    {
     "data": {
      "image/png": "[encoded data removed]",
      "text/plain": [
       "plot without title"
      ]
     },
     "metadata": {},
     "output_type": "display_data"
    }
   ],
   "source": [
    "ggdatos+\n",
    "  geom_point(aes(color= Sex, shape=Sex), size=2)"
   ]
  },
  {
   "cell_type": "code",
   "execution_count": 259,
   "metadata": {},
   "outputs": [
    {
     "data": {
      "image/png": "[encoded data removed]",
      "text/plain": [
       "plot without title"
      ]
     },
     "metadata": {},
     "output_type": "display_data"
    }
   ],
   "source": [
    "#?geom_col\n",
    "ggplot(data=titanic_train) + geom_bar(mapping = aes(x=titanic_train$Survived))"
   ]
  },
  {
   "cell_type": "code",
   "execution_count": 260,
   "metadata": {},
   "outputs": [
    {
     "name": "stderr",
     "output_type": "stream",
     "text": [
      "Warning message:\n",
      "\"Continuous x aesthetic -- did you forget aes(group=...)?\"Warning message:\n",
      "\"Removed 177 rows containing missing values (stat_boxplot).\""
     ]
    },
    {
     "data": {
      "image/png": "[encoded data removed]",
      "text/plain": [
       "plot without title"
      ]
     },
     "metadata": {},
     "output_type": "display_data"
    }
   ],
   "source": [
    "ggdatos + geom_boxplot()"
   ]
  },
  {
   "cell_type": "code",
   "execution_count": 261,
   "metadata": {},
   "outputs": [
    {
     "name": "stderr",
     "output_type": "stream",
     "text": [
      "Warning message:\n",
      "\"Removed 177 rows containing non-finite values (stat_smooth).\"Warning message:\n",
      "\"Removed 177 rows containing missing values (geom_point).\""
     ]
    },
    {
     "data": {
      "image/png": "[encoded data removed]",
      "text/plain": [
       "plot without title"
      ]
     },
     "metadata": {},
     "output_type": "display_data"
    }
   ],
   "source": [
    "ggdatos + \n",
    "  geom_point() +\n",
    "  facet_grid(. ~ Survived) +\n",
    "  geom_smooth(method=\"lm\")"
   ]
  },
  {
   "cell_type": "code",
   "execution_count": 263,
   "metadata": {},
   "outputs": [
    {
     "name": "stderr",
     "output_type": "stream",
     "text": [
      "Warning message:\n",
      "\"Removed 177 rows containing non-finite values (stat_smooth).\"Warning message:\n",
      "\"Removed 177 rows containing missing values (geom_point).\""
     ]
    },
    {
     "data": {
      "image/png": "[encoded data removed]",
      "text/plain": [
       "plot without title"
      ]
     },
     "metadata": {},
     "output_type": "display_data"
    }
   ],
   "source": [
    "ggdatos + \n",
    "  geom_point() +\n",
    "  facet_wrap(. ~ Sex) +\n",
    "  geom_smooth(method=\"lm\")"
   ]
  }
 ],
 "metadata": {
  "kernelspec": {
   "display_name": "R",
   "language": "R",
   "name": "ir"
  },
  "language_info": {
   "codemirror_mode": "r",
   "file_extension": ".r",
   "mimetype": "text/x-r-source",
   "name": "R",
   "pygments_lexer": "r",
   "version": "3.6.0"
  }
 },
 "nbformat": 4,
 "nbformat_minor": 4
}
