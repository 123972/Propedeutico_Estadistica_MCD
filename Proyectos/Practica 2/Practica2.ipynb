{
 "cells": [
  {
   "cell_type": "markdown",
   "metadata": {},
   "source": [
    "# Práctica 2\n",
    "Resolver ejercicios de:\n",
    "+ 1_aproximacion_a_derivadas_e_integrales\n",
    "+ 0_definiciones_generales\n",
    "+ 1_ecuaciones_lineales\n",
    "\n",
    "## Ejercicios de Aproximación a Derivadas e Integrales:\n",
    "### Aproximación a una función por el teorema de Taylor:\n",
    "Ejercicio: Graficar la funcón y los polinomios constante, lineal y cuadrático en una sola gráfica con matplotlib en el intervalo $[1,2]$. ¿Cuánto es la aproximación de los polinomios en x=1.9? Calcula el error relativo de tus aproximaciones."
   ]
  },
  {
   "cell_type": "markdown",
   "metadata": {},
   "source": [
    "La función es $\\frac{1}{x}$ : <br>\n",
    "Aproximemos a la función $\\frac{1}{x}$ en el intervalo $[1,2]$ con polinomios de Taylor de orden $n$, con $n \\in \\{0,1,2\\}$ con centro en $x_0=1.5$. Los polinomios de Taylor son:"
   ]
  },
  {
   "cell_type": "markdown",
   "metadata": {},
   "source": [
    "$$P_0(x) = f(x_0) = \\frac{2}{3} \\quad \\text{(constante)}$$"
   ]
  },
  {
   "cell_type": "markdown",
   "metadata": {},
   "source": [
    "$$P_1(x) = f(x_0) + f^{(1)}(x_0)(x-x_0) = \\frac{2}{3} - \\frac{1}{x_0^2}(x-x_0) \\quad \\text{(lineal)}$$"
   ]
  },
  {
   "cell_type": "markdown",
   "metadata": {},
   "source": [
    "$$P_2(x) = f(x_0) + f^{(1)}(x_0)(x-x_0) + \\frac{f^{(2)}(x_0)(x-x_0)^2}{2} = \\frac{2}{3} - \\frac{1}{x_0^2}(x-x_0) + \\frac{2}{x_0^3}(x-x_0)^2 \\quad \\text{(cuadrático)}$$"
   ]
  },
  {
   "cell_type": "markdown",
   "metadata": {},
   "source": [
    " "
   ]
  },
  {
   "cell_type": "code",
   "execution_count": 1,
   "metadata": {},
   "outputs": [],
   "source": [
    "import numpy as np\n",
    "import matplotlib.pyplot as plt\n",
    "\n",
    "a = lambda X: 1/X\n",
    "x_0 = 1.5\n",
    "x = 1.9\n",
    "def funcion_constante(x_0):\n",
    "    return 2/3\n",
    "\n",
    "\n",
    "def funcion_lineal(x_0,x):\n",
    "    funlin = a(x_0)-((1/(x_0**2))*(x-x_0))\n",
    "    return funlin\n",
    "\n",
    "\n",
    "def funcion_cuadratica(x_0,x):\n",
    "    funcuad = a(x_0)-((1/(x_0**2))*(x-x_0))+((2/(x**3))*((x-x_0)**2))\n",
    "    return funcuad\n"
   ]
  },
  {
   "cell_type": "code",
   "execution_count": 2,
   "metadata": {},
   "outputs": [],
   "source": [
    "from numpy import ones,append,arange,array\n",
    "equises = arange(1.0,2.01,0.01)\n",
    "#print(equises)\n",
    "\n",
    "ysconstante = ones(len(equises))\n",
    "i = 0\n",
    "#print (len(equises))\n",
    "\n",
    "ysconstante = ysconstante * funcion_constante(1.5)\n",
    "\n",
    "\n",
    "#print(ysconstante)\n",
    "\n",
    "ysLineal = []\n",
    "\n",
    "i = 0\n",
    "while i<len(equises):\n",
    "    ysLineal.append(funcion_lineal(1.5,equises[i]))\n",
    "    i = i+1\n",
    "\n",
    "#print(ysLineal)\n",
    "\n",
    "\n",
    "ysCuadratica = []\n",
    "\n",
    "i = 0\n",
    "while i<len(equises):\n",
    "    ysCuadratica.append(funcion_cuadratica(1.5,equises[i]))\n",
    "    i = i+1\n",
    "\n",
    "#print(ysCuadratica)"
   ]
  },
  {
   "cell_type": "code",
   "execution_count": 3,
   "metadata": {},
   "outputs": [
    {
     "data": {
      "image/png": "[encoded data removed]",
      "text/plain": [
       "<Figure size 432x288 with 1 Axes>"
      ]
     },
     "metadata": {
      "needs_background": "light"
     },
     "output_type": "display_data"
    }
   ],
   "source": [
    "#plt.plot(equises,ysconstante,\":\",equises,ysLineal,\"o-\",equises,ysCuadratica,\"^-\",equises,a(equises))\n",
    "plt.plot(equises,ysconstante,equises,ysLineal,equises,ysCuadratica,equises,a(equises))\n",
    "\n",
    "plt.legend((\"cte\",\"lin\",\"cuad\",\"1/x\"),loc = 0) #Agregar leyendas en loc. 3\n",
    "plt.grid(True) #Agregar un grid de coordenadas\n",
    "plt.show() #Mostrar la gráfica en pantalla"
   ]
  },
  {
   "cell_type": "code",
   "execution_count": 14,
   "metadata": {},
   "outputs": [
    {
     "name": "stdin",
     "output_type": "stream",
     "text": [
      "\n",
      "Press return to exit \n"
     ]
    },
    {
     "data": {
      "text/plain": [
       "''"
      ]
     },
     "execution_count": 14,
     "metadata": {},
     "output_type": "execute_result"
    },
    {
     "data": {
      "text/plain": [
       "<Figure size 432x288 with 0 Axes>"
      ]
     },
     "metadata": {},
     "output_type": "display_data"
    }
   ],
   "source": [
    "plt.savefig(\"grafica_de_prueba1.png\",format=\"png\") #Guardar la gráfica en formato png\n",
    "\n",
    "input(\"\\nPress return to exit\")"
   ]
  },
  {
   "cell_type": "markdown",
   "metadata": {},
   "source": [
    "**¿Cuánto es la aproximación de los polinomios en x = 1.9?** Calcular el error relativo de las aproximaciones"
   ]
  },
  {
   "cell_type": "code",
   "execution_count": 15,
   "metadata": {},
   "outputs": [
    {
     "name": "stdout",
     "output_type": "stream",
     "text": [
      "el valor original es :  0.5263157894736842\n"
     ]
    }
   ],
   "source": [
    "valorReal= a(1.9)\n",
    "print(\"el valor original es : \",valorReal)"
   ]
  },
  {
   "cell_type": "code",
   "execution_count": 16,
   "metadata": {},
   "outputs": [
    {
     "name": "stdout",
     "output_type": "stream",
     "text": [
      "el valor constante es :  0.6666666666666666\n",
      "el valor lineal es :  0.48888888888888893\n",
      "el valor cuadrático es :  0.5355429200887722\n"
     ]
    }
   ],
   "source": [
    "constanteResultado = a(1.5)\n",
    "linealResultado = funcion_lineal(1.5,1.9)\n",
    "cuadraticoResultado = funcion_cuadratica(1.5,1.9)\n",
    "\n",
    "print(\"el valor constante es : \",constanteResultado)\n",
    "print(\"el valor lineal es : \",linealResultado)\n",
    "print(\"el valor cuadrático es : \",cuadraticoResultado)"
   ]
  },
  {
   "cell_type": "code",
   "execution_count": 17,
   "metadata": {},
   "outputs": [
    {
     "name": "stdout",
     "output_type": "stream",
     "text": [
      "el error relativo constante es :  0.26666666666666666\n",
      "el error relativo lineal es :  0.07111111111111099\n",
      "el error relativo cuadrático es :  0.01753154816866732\n"
     ]
    }
   ],
   "source": [
    "#la funcion del error puede definirse como:\n",
    "def error_relativo(valorReal, pronosticado):\n",
    "    return abs(pronosticado - valorReal)/abs(valorReal)\n",
    "\n",
    "erRelCte = error_relativo(valorReal,constanteResultado)\n",
    "erRelLin = error_relativo(valorReal,linealResultado)\n",
    "erRelCuad = error_relativo(valorReal,cuadraticoResultado)\n",
    "\n",
    "\n",
    "print(\"el error relativo constante es : \",erRelCte)\n",
    "print(\"el error relativo lineal es : \",erRelLin)\n",
    "print(\"el error relativo cuadrático es : \",erRelCuad)"
   ]
  },
  {
   "cell_type": "markdown",
   "metadata": {},
   "source": [
    "<br> <br>\n",
    "**Ejercicio: realizar una gráfica de log(error relativo) vs log(h) (h en el eje horizontal) para aproximar la segunda derivada de $f(x)=e^{-x}$ en $x=1$ con $h\\in \\{10^{-16},10^{-14},...,10^{-1}\\}$ y diferencias hacia delante. Valor a aproximar: $f^{(2)}(1) = e^{-1}$**. Usar:"
   ]
  },
  {
   "cell_type": "markdown",
   "metadata": {},
   "source": [
    "$$\\frac{d^2f(x)}{dx} \\approx \\frac{f(x+2h)-2f(x+h)+f(x)}{h^2}$$"
   ]
  },
  {
   "cell_type": "code",
   "execution_count": 18,
   "metadata": {},
   "outputs": [],
   "source": [
    "import dif_hacia_delante\n",
    "import numpy as np\n",
    "import math\n",
    "import matplotlib.pyplot as plt\n",
    "\n",
    "def error_relativo(valorReal, pronosticado):\n",
    "    return abs(pronosticado - valorReal)/abs(valorReal)\n",
    "\n",
    "#equises = np.arange(1.0,2.01,0.01)\n",
    "#print(equises)\n"
   ]
  },
  {
   "cell_type": "code",
   "execution_count": 19,
   "metadata": {},
   "outputs": [
    {
     "name": "stdout",
     "output_type": "stream",
     "text": [
      "2.718281828459045\n"
     ]
    }
   ],
   "source": [
    "func = lambda x: np.exp(-x)\n",
    "x = 1\n",
    "valorReal = func(-x)\n",
    "print(valorReal)"
   ]
  },
  {
   "cell_type": "code",
   "execution_count": 20,
   "metadata": {},
   "outputs": [
    {
     "name": "stdout",
     "output_type": "stream",
     "text": [
      "Aprox 2a derivada: \n",
      " [ 0.         -0.44408921 -0.3663736  -0.36748382 -0.36792791 -0.36787795\n",
      " -0.36787962 -0.3678795  -0.36787944 -0.36787942 -0.36787926 -0.3678776\n",
      " -0.36786105 -0.36769556 -0.36604616 -0.35008357]\n",
      "Aprox 2a derivada: \n",
      " [-1.11022302e+16  1.66533454e+14 -5.55111512e+11 -1.11022302e+10\n",
      "  1.11022302e+08 -5.55111512e+05  0.00000000e+00  1.11022302e+02\n",
      " -5.55111512e-01  3.77475828e-01  3.67816888e-01  3.67876285e-01\n",
      "  3.67842656e-01  3.67511776e-01  3.64222015e-01  3.33148569e-01]\n"
     ]
    }
   ],
   "source": [
    "objetivo = math.exp(-x)\n",
    "objetivo_df = -math.exp(-x)\n",
    "\n",
    "Potenciahs = np.arange(-16,0,1)\n",
    "#print(\"Para ver los valores de las potencias: \\n\",Potenciahs)\n",
    "\n",
    "hs = np.power(10.0,Potenciahs)\n",
    "\n",
    "#print(\"Para ver el valor que toman las h´s: \\n\",hs)\n",
    "\n",
    "aprox1adiv=dif_hacia_delante.aprox_derivada_delante(x,func,hs)\n",
    "print (\"Aprox 2a derivada: \\n\",aprox1adiv)\n",
    "#dif_hacia_delante.aprox_derivada_delante(x,func,hs)\n",
    "aprox2adiv=dif_hacia_delante.aprox_segunda_derivada_delante(x,func,hs)\n",
    "print (\"Aprox 2a derivada: \\n\",aprox2adiv)\n",
    "#dif_hacia_delante.aprox_segunda_derivada_delante(x,func,hs)"
   ]
  },
  {
   "cell_type": "code",
   "execution_count": 21,
   "metadata": {},
   "outputs": [],
   "source": [
    "df_aprox = dif_hacia_delante.aprox_derivada_delante(x,func,hs)\n",
    "ddf_aprox = dif_hacia_delante.aprox_segunda_derivada_delante(x,func,hs)"
   ]
  },
  {
   "cell_type": "code",
   "execution_count": 22,
   "metadata": {},
   "outputs": [],
   "source": [
    "err_df = error_relativo(objetivo_df,df_aprox)\n",
    "err_ddf = error_relativo(objetivo,ddf_aprox)"
   ]
  },
  {
   "cell_type": "code",
   "execution_count": 23,
   "metadata": {},
   "outputs": [
    {
     "data": {
      "text/plain": [
       "array([1.00000000e+00, 2.07159629e-01, 4.09330579e-03, 1.07540671e-03,\n",
       "       1.31752917e-04, 4.05254169e-06, 4.74306916e-07, 1.72517009e-07,\n",
       "       8.55693534e-09, 4.92985728e-08, 5.00021799e-07, 4.99998093e-06,\n",
       "       4.99983334e-05, 4.99833375e-04, 4.98337492e-03, 4.83741804e-02])"
      ]
     },
     "execution_count": 23,
     "metadata": {},
     "output_type": "execute_result"
    }
   ],
   "source": [
    "err_df"
   ]
  },
  {
   "cell_type": "code",
   "execution_count": 24,
   "metadata": {},
   "outputs": [
    {
     "data": {
      "text/plain": [
       "array([3.01789907e+16, 4.52684861e+14, 1.50894954e+12, 3.01789907e+10,\n",
       "       3.01789906e+08, 1.50895054e+06, 1.00000000e+00, 3.00789907e+02,\n",
       "       2.50894954e+00, 2.60856849e-02, 1.70036991e-04, 8.57939030e-06,\n",
       "       9.99915532e-05, 9.99417070e-04, 9.94191581e-03, 9.44082994e-02])"
      ]
     },
     "execution_count": 24,
     "metadata": {},
     "output_type": "execute_result"
    }
   ],
   "source": [
    "err_ddf"
   ]
  },
  {
   "cell_type": "code",
   "execution_count": 25,
   "metadata": {},
   "outputs": [
    {
     "data": {
      "text/plain": [
       "[<matplotlib.lines.Line2D at 0x7f177caf1780>]"
      ]
     },
     "execution_count": 25,
     "metadata": {},
     "output_type": "execute_result"
    },
    {
     "data": {
      "image/png": "[encoded data removed]",
      "text/plain": [
       "<Figure size 432x288 with 1 Axes>"
      ]
     },
     "metadata": {
      "needs_background": "light"
     },
     "output_type": "display_data"
    }
   ],
   "source": [
    "plt.plot(np.log(hs),np.log(err_df))"
   ]
  },
  {
   "cell_type": "code",
   "execution_count": 26,
   "metadata": {},
   "outputs": [
    {
     "data": {
      "text/plain": [
       "[<matplotlib.lines.Line2D at 0x7f177ca643c8>]"
      ]
     },
     "execution_count": 26,
     "metadata": {},
     "output_type": "execute_result"
    },
    {
     "data": {
      "image/png": "[encoded data removed]",
      "text/plain": [
       "<Figure size 432x288 with 1 Axes>"
      ]
     },
     "metadata": {
      "needs_background": "light"
     },
     "output_type": "display_data"
    }
   ],
   "source": [
    "plt.plot(np.log(hs),np.log(err_ddf))"
   ]
  },
  {
   "cell_type": "markdown",
   "metadata": {},
   "source": [
    "**Ejercicio: aproximar el valor de la integral $\\displaystyle \\int_0^{\\pi}sin(x)dx = 2$ con reglas compuestas del rectángulo y trapecio con un número de subintervalos $n \\in \\{1,10,20,30,40 \\}$ y hacer gráfica de la forma error relativo vs $n$ ($n$ en el eje horizontal)**"
   ]
  },
  {
   "cell_type": "markdown",
   "metadata": {},
   "source": [
    "El método más simple de este tipo es hacer a la función interpoladora ser una función constante (un polinomio de orden cero) que pasa a través del punto (a,f(a)). Este método se llama la regla del rectángulo:\n",
    "\n",
    "Modelo Rectangular: consistente en dividir el área que se desea encontrar en n subáreas en forma de rectángulos. Para el desarrollo del modelo se toman como referencia las siguientes variables: <br>\n",
    "+ N: Número de subáreas en las cuales se divide el área a calcular<br>\n",
    "+ dx : Ancho o base de cada subárea<br>\n",
    "+ A: límite inferior defnido para el cálculo del área<br>\n",
    "+ B: límite superior defnido para el cálculo del área.<br>\n",
    "+ (2*i-1): es el número del sub-área que multiplicara dx/2.\n",
    "<br><br>\n",
    "Integración numérica de una función por el método de rectángulos: La integral defnida entre los puntos a y b de una función continua y acotada F(x) representa el área comprendida debajo de esa función. En ocasiones es necesario calcular integrales (áreas) de modo numérico, es decir, sin conocer la integral explícita de la función f(x). Existen varios posibles métodos para calcular esta área. Quizás el más sencillo sea sustituir el área por un conjunto de n sub-áreas donde cada sub-área semeja un pequeño rectángulo elemental de **base dx = (b-a)/n** y altura h. El área sería: <br>\n",
    "\n",
    "área = h + dx. <br><br>\n",
    "\n",
    "Donde h es el valor de la función calculada en el punto medio del área, f(a+dx/2) y dx es el ancho defnido para dicha sub-área. <br>\n",
    "\n",
    "H será: Li + dx/2 . Teniendo en cuenta lo anterior, el área será:<br>\n",
    "\n",
    "área = dx*f(Li+dx/2).<br>"
   ]
  },
  {
   "cell_type": "markdown",
   "metadata": {},
   "source": [
    "Sabemos que la función Seno completa un ciclo entre 0 y pi, por lo que es éste el intervalo al que se calculará el área bajo la curva."
   ]
  },
  {
   "cell_type": "code",
   "execution_count": 27,
   "metadata": {},
   "outputs": [
    {
     "name": "stdout",
     "output_type": "stream",
     "text": [
      "[ 0  1  2  3  4  5  6  7  8  9 10 11 12 13 14 15 16 17 18 19 20 21 22 23\n",
      " 24 25 26 27 28 29 30 31 32 33 34 35 36 37 38 39 40]\n"
     ]
    }
   ],
   "source": [
    "import numpy as np\n",
    "import math\n",
    "import matplotlib.pyplot as plt\n",
    "\n",
    "equises = np.arange(0,41,1)\n",
    "print(equises)"
   ]
  },
  {
   "cell_type": "code",
   "execution_count": null,
   "metadata": {},
   "outputs": [],
   "source": []
  },
  {
   "cell_type": "code",
   "execution_count": 28,
   "metadata": {},
   "outputs": [],
   "source": [
    "#obteniendo puntos medios para la función seno:\n",
    "#Regla del rectángulo:\n",
    "def calcula_area_rect_seno(punto_inicial,punto_final,intervalos):\n",
    "    base = (punto_final-punto_inicial)/intervalos\n",
    "    punto_medio = 0\n",
    "    contador = 0\n",
    "    areaRect = 0\n",
    "    inicio = punto_inicial\n",
    "    fin = punto_inicial + base\n",
    "    while contador<intervalos:\n",
    "        punto_medio = (inicio+fin)/2\n",
    "        altura = math.sin(punto_medio)\n",
    "        areaRect = areaRect + (base*altura)\n",
    "        inicio = fin\n",
    "        fin = inicio + base\n",
    "        contador = contador + 1\n",
    "    return areaRect\n",
    "\n",
    "def calcula_area_trapecio_seno(punto_inicial,punto_final,intervalos):\n",
    "    base = (punto_final-punto_inicial)/intervalos\n",
    "    contador = 0\n",
    "    areaTrap = 0\n",
    "    inicio = punto_inicial\n",
    "    fin = punto_inicial + base\n",
    "    while contador<intervalos:\n",
    "        l1 = math.sin(inicio)\n",
    "        l2 = math.sin(fin)\n",
    "        areaTrap = areaTrap + (base*((l1+l2)/2))\n",
    "        inicio = fin\n",
    "        fin = inicio + base\n",
    "        contador = contador + 1\n",
    "    return areaTrap\n",
    "\n",
    "def error_relativo(valorReal, pronosticado):\n",
    "    return abs(pronosticado - valorReal)/abs(valorReal)"
   ]
  },
  {
   "cell_type": "code",
   "execution_count": 29,
   "metadata": {},
   "outputs": [
    {
     "name": "stdout",
     "output_type": "stream",
     "text": [
      "con 1 intervalo con regla del rectangulo:  3.141592653589793\n",
      "con 10 intervalos con regla del rectangulo:  2.0082484079079745\n",
      "con 20 intervalos con regla del rectangulo:  2.0020576482854167\n",
      "con 30 intervalos con regla del rectangulo:  2.0009141446379624\n",
      "con 40 intervalos con regla del rectangulo:  2.000514134394606\n"
     ]
    }
   ],
   "source": [
    "print(\"con 1 intervalo con regla del rectangulo: \",calcula_area_rect_seno(0,math.pi,1))\n",
    "print(\"con 10 intervalos con regla del rectangulo: \",calcula_area_rect_seno(0,math.pi,10))\n",
    "print(\"con 20 intervalos con regla del rectangulo: \",calcula_area_rect_seno(0,math.pi,20))\n",
    "print(\"con 30 intervalos con regla del rectangulo: \",calcula_area_rect_seno(0,math.pi,30))\n",
    "print(\"con 40 intervalos con regla del rectangulo: \",calcula_area_rect_seno(0,math.pi,40))"
   ]
  },
  {
   "cell_type": "code",
   "execution_count": 30,
   "metadata": {},
   "outputs": [
    {
     "name": "stdout",
     "output_type": "stream",
     "text": [
      "Se puede apreciar que conforme aumentan los intervalos, la aproximación resulta mejor, por lo que la función está correcta.\n"
     ]
    }
   ],
   "source": [
    "print(\"Se puede apreciar que conforme aumentan los intervalos, la aproximación resulta mejor, por lo que la función está correcta.\")"
   ]
  },
  {
   "cell_type": "markdown",
   "metadata": {},
   "source": [
    "Calculando con la regla del trapecio:"
   ]
  },
  {
   "cell_type": "code",
   "execution_count": 31,
   "metadata": {},
   "outputs": [
    {
     "name": "stdout",
     "output_type": "stream",
     "text": [
      "con 1 intervalo con regla del trapecio:  1.9236706937217898e-16\n",
      "con 10 intervalos con regla del trapecio:  1.9835235375094546\n",
      "con 20 intervalos con regla del trapecio:  1.9958859727087146\n",
      "con 30 intervalos con regla del trapecio:  1.9981719613436544\n",
      "con 40 intervalos con regla del trapecio:  1.9989718104970657\n"
     ]
    }
   ],
   "source": [
    "print(\"con 1 intervalo con regla del trapecio: \",calcula_area_trapecio_seno(0,math.pi,1))\n",
    "print(\"con 10 intervalos con regla del trapecio: \",calcula_area_trapecio_seno(0,math.pi,10))\n",
    "print(\"con 20 intervalos con regla del trapecio: \",calcula_area_trapecio_seno(0,math.pi,20))\n",
    "print(\"con 30 intervalos con regla del trapecio: \",calcula_area_trapecio_seno(0,math.pi,30))\n",
    "print(\"con 40 intervalos con regla del trapecio: \",calcula_area_trapecio_seno(0,math.pi,40))"
   ]
  },
  {
   "cell_type": "code",
   "execution_count": 32,
   "metadata": {},
   "outputs": [
    {
     "name": "stdout",
     "output_type": "stream",
     "text": [
      "[ 1 10 20 30 40]\n"
     ]
    }
   ],
   "source": [
    "x_reglas = np.array([1,10,20,30,40])\n",
    "print(x_reglas)"
   ]
  },
  {
   "cell_type": "code",
   "execution_count": 33,
   "metadata": {},
   "outputs": [
    {
     "name": "stdout",
     "output_type": "stream",
     "text": [
      "tamaño:  5\n",
      "[1. 1. 1. 1. 1.]\n",
      "[1. 1. 1. 1. 1.]\n",
      "trapecio: \n",
      " [1.92367069e-16 1.98352354e+00 1.99588597e+00 1.99817196e+00\n",
      " 1.99897181e+00]\n",
      "rectangulo: \n",
      " [3.14159265 2.00824841 2.00205765 2.00091414 2.00051413]\n"
     ]
    }
   ],
   "source": [
    "tamaño = len(x_reglas)\n",
    "print(\"tamaño: \",tamaño)\n",
    "\n",
    "ys_trapecio = np.ones(tamaño)\n",
    "ys_rectangulo = np.ones(tamaño)\n",
    "print (ys_trapecio)\n",
    "print (ys_rectangulo)\n",
    "i = 0\n",
    "while i<tamaño:\n",
    "    ys_trapecio[i] = (calcula_area_trapecio_seno(0,math.pi,x_reglas[i]))\n",
    "    i = i + 1\n",
    "\n",
    "#print(ys_trapecio)\n",
    "\n",
    "    \n",
    "i = 0\n",
    "while i<tamaño:\n",
    "    ys_rectangulo[i] = (calcula_area_rect_seno(0,math.pi,x_reglas[i]))\n",
    "    i = i + 1\n",
    "    \n",
    "print(\"trapecio: \\n\",ys_trapecio)\n",
    "print(\"rectangulo: \\n\",ys_rectangulo)"
   ]
  },
  {
   "cell_type": "code",
   "execution_count": 34,
   "metadata": {},
   "outputs": [
    {
     "name": "stdout",
     "output_type": "stream",
     "text": [
      "Errores trapecio: \n",
      " [1.00000000e+00 8.23823125e-03 2.05701365e-03 9.14019328e-04\n",
      " 5.14094751e-04]\n",
      "Errores rectangulo: \n",
      " [5.70796327e-01 4.12420395e-03 1.02882414e-03 4.57072319e-04\n",
      " 2.57067197e-04]\n"
     ]
    }
   ],
   "source": [
    "def error_relativo(valorReal, pronosticado):\n",
    "    return abs(pronosticado - valorReal)/abs(valorReal)\n",
    "\n",
    "ys_errores_rectangulo = np.ones(tamaño)\n",
    "ys_errores_trapecio = np.ones(tamaño)\n",
    "\n",
    "i = 0\n",
    "while i<tamaño:\n",
    "    ys_errores_trapecio[i] = (error_relativo(2,ys_trapecio[i]))\n",
    "    i = i + 1\n",
    "    \n",
    "i = 0\n",
    "while i<tamaño:\n",
    "    ys_errores_rectangulo[i] = (error_relativo(2,ys_rectangulo[i]))\n",
    "    i = i + 1\n",
    "\n",
    "\n",
    "print(\"Errores trapecio: \\n\",ys_errores_trapecio)\n",
    "print(\"Errores rectangulo: \\n\",ys_errores_rectangulo)"
   ]
  },
  {
   "cell_type": "code",
   "execution_count": 35,
   "metadata": {},
   "outputs": [
    {
     "data": {
      "image/png": "[encoded data removed]",
      "text/plain": [
       "<Figure size 432x288 with 1 Axes>"
      ]
     },
     "metadata": {
      "needs_background": "light"
     },
     "output_type": "display_data"
    }
   ],
   "source": [
    "#graficando:\n",
    "#plt.plot(equises,ysconstante,\":\",equises,ysLineal,\"o-\",equises,ysCuadratica,\"^-\",equises,a(equises))\n",
    "plt.plot(x_reglas,ys_errores_trapecio,x_reglas,ys_errores_rectangulo)\n",
    "\n",
    "plt.legend((\"trapecio\",\"rectangulo\"),loc = 0) #Agregar leyendas en loc. 3\n",
    "plt.grid(True) #Agregar un grid de coordenadas\n",
    "plt.show() #Mostrar la gráfica en pantalla"
   ]
  },
  {
   "cell_type": "markdown",
   "metadata": {},
   "source": [
    "# Cuadratura Gaussiana\n",
    "## Gauss-Legendre\n",
    "**Ejercicio: aproximar la integral de:**\n",
    "        $$\\displaystyle \\int_0^1e^{-\\frac{t^2}{2}}dt$$\n",
    "**con cuadratura Gauss-Legendre con $n \\in \\{0,1,2,3,4\\}$. Realizar gráfica de la forma error relativo vs $n$ ($n$ en el eje horizontal). Valor a aproximar: $.855624391892149$**"
   ]
  },
  {
   "cell_type": "code",
   "execution_count": 36,
   "metadata": {},
   "outputs": [],
   "source": [
    "import numpy as np\n",
    "import math\n",
    "import gauss_legendre as gauleg\n",
    "import matplotlib.pyplot as plt"
   ]
  },
  {
   "cell_type": "code",
   "execution_count": 37,
   "metadata": {},
   "outputs": [],
   "source": [
    "funcion = lambda x: np.exp(-((x**2)/2))"
   ]
  },
  {
   "cell_type": "code",
   "execution_count": 38,
   "metadata": {},
   "outputs": [],
   "source": [
    "n_cero = gauleg.calcula_gauss_legendre(0, 0, 1, funcion)\n",
    "n_uno = gauleg.calcula_gauss_legendre(1, 0, 1, funcion)\n",
    "n_dos = gauleg.calcula_gauss_legendre(2, 0, 1, funcion)\n",
    "n_tres = gauleg.calcula_gauss_legendre(3, 0, 1, funcion)\n",
    "n_cuatro = gauleg.calcula_gauss_legendre(4, 0, 1, funcion)"
   ]
  },
  {
   "cell_type": "code",
   "execution_count": 39,
   "metadata": {},
   "outputs": [
    {
     "name": "stdout",
     "output_type": "stream",
     "text": [
      "aproximación con n = 0:  0.8824969025845955\n",
      "aproximación con n = 1:  0.8553145616837845\n",
      "aproximación con n = 2:  0.8556263940426317\n",
      "aproximación con n = 3:  0.8556243937941527\n",
      "aproximación con n = 4:  0.8556248255858607\n"
     ]
    }
   ],
   "source": [
    "print(\"aproximación con n = 0: \",n_cero)\n",
    "print(\"aproximación con n = 1: \",n_uno)\n",
    "print(\"aproximación con n = 2: \",n_dos)\n",
    "print(\"aproximación con n = 3: \",n_tres)\n",
    "print(\"aproximación con n = 4: \",n_cuatro)"
   ]
  },
  {
   "cell_type": "code",
   "execution_count": 40,
   "metadata": {},
   "outputs": [],
   "source": [
    "def error_relativo(valorReal, pronosticado):\n",
    "    return abs(pronosticado - valorReal)/abs(valorReal)"
   ]
  },
  {
   "cell_type": "code",
   "execution_count": 41,
   "metadata": {},
   "outputs": [
    {
     "name": "stdout",
     "output_type": "stream",
     "text": [
      "Aproximaciones obtenidas: \n",
      " [0.8824969  0.85531456 0.85562639 0.85562439 0.85562483]\n"
     ]
    }
   ],
   "source": [
    "valorReal_gauleg = 0.855624391892149\n",
    "aprox_obtenida = np.array([n_cero,n_uno,n_dos,n_tres,n_cuatro])\n",
    "print(\"Aproximaciones obtenidas: \\n\",aprox_obtenida)"
   ]
  },
  {
   "cell_type": "code",
   "execution_count": 42,
   "metadata": {},
   "outputs": [
    {
     "name": "stdout",
     "output_type": "stream",
     "text": [
      "Vector de errores relativos: \n",
      " [3.14069011e-02 3.62110070e-04 2.33998762e-06 2.22294231e-09\n",
      " 5.06873946e-07]\n"
     ]
    }
   ],
   "source": [
    "error_relativo_gauleg = error_relativo(valorReal_gauleg,aprox_obtenida)\n",
    "print(\"Vector de errores relativos: \\n\",error_relativo_gauleg)"
   ]
  },
  {
   "cell_type": "code",
   "execution_count": 43,
   "metadata": {},
   "outputs": [
    {
     "name": "stdout",
     "output_type": "stream",
     "text": [
      "Vector de n´s (en el eje x): \n",
      " [0 1 2 3 4]\n"
     ]
    }
   ],
   "source": [
    "ns_gauleg = np.arange(0,5,1)\n",
    "print(\"Vector de n´s (en el eje x): \\n\",ns_gauleg)"
   ]
  },
  {
   "cell_type": "code",
   "execution_count": 44,
   "metadata": {},
   "outputs": [
    {
     "data": {
      "image/png": "[encoded data removed]",
      "text/plain": [
       "<Figure size 432x288 with 1 Axes>"
      ]
     },
     "metadata": {
      "needs_background": "light"
     },
     "output_type": "display_data"
    }
   ],
   "source": [
    "#graficando:\n",
    "#plt.plot(equises,ysconstante,\":\",equises,ysLineal,\"o-\",equises,ysCuadratica,\"^-\",equises,a(equises))\n",
    "plt.plot(ns_gauleg,error_relativo_gauleg)\n",
    "\n",
    "plt.legend((\"Gauss-Legendre\"),loc = 0) #Agregar leyendas en loc. 3\n",
    "plt.grid(True) #Agregar un grid de coordenadas\n",
    "plt.show() #Mostrar la gráfica en pantalla"
   ]
  },
  {
   "cell_type": "markdown",
   "metadata": {},
   "source": [
    "## Aproximación por Gauss-Hermite\n",
    "**Ejercicio: aproximar las integrales: $$(2\\pi\\sigma^2)^{-\\frac{1}{2}}\\displaystyle \\int_{-\\infty}^\\infty te^{\\frac{-(t-\\mu)^2}{2\\sigma^2}}dt$$**"
   ]
  },
  {
   "cell_type": "markdown",
   "metadata": {},
   "source": [
    "$$(2\\pi\\sigma^2)^{-\\frac{1}{2}}\\displaystyle \\int_{-\\infty}^\\infty t^2e^{\\frac{-(t-\\mu)^2}{2\\sigma^2}}dt$$"
   ]
  },
  {
   "cell_type": "markdown",
   "metadata": {},
   "source": [
    "donde: $\\sigma=0.25, \\mu=0.15$ cuyos valores respectivamente son: $0.15, 0.085$ con cuadratura de Gauss-Hermite. Para lo anterior, realizar cambio de variable $x=\\frac{t-\\mu}{\\sqrt{2\\sigma^2}}, dt=\\sqrt{2\\sigma^2}dx$."
   ]
  },
  {
   "cell_type": "markdown",
   "metadata": {},
   "source": [
    "En la historia de estas reglas ya se han calculado los pesos y nodos para diferentes valores de los grados de los polinomios. A continuación se tiene la siguiente tabla para $n \\in \\{1,2,3,4\\}$ y una integral definida en el intervalo $[-\\infty,\\infty]$:"
   ]
  },
  {
   "cell_type": "markdown",
   "metadata": {},
   "source": [
    "| n | # (nodos + pesos) | pesos: $w_i, w_{i+1},\\dots$                                                    | nodos:     $x_i, x_{i+1},\\dots$                                              |\n",
    "|---|-------------------|-----------------------------------------------------------|----------------------------------------------------------|\n",
    "| 1 | 4                 | 0.886227,0.886227                                         | -0.707107,0.707107                                       |\n",
    "| 2 | 6                 | 0.295409,1.181636,0.295409                                | -1.224745,0,1.224745                                     |\n",
    "| 3 | 8                 | 0.0813128,0.804914,0.804914,0.0813128                     | -1.650680,-0.524648,0.524648,1.650680                    |\n",
    "| 4 | 10                | 0.0199532,0.0393619,0.945308,0.0393619,0.0199532          | -2.020183,-0.958572,0,0.958572,2.020183                  |\n",
    "| 5 | 12                | 0.00453001,0.157067,0.724629,0.724629,0.157067,0.00453001 | -2.350605,-1.335849,-0.436077,0.436077,1.335849,2.350605 |"
   ]
  },
  {
   "cell_type": "code",
   "execution_count": 45,
   "metadata": {},
   "outputs": [],
   "source": [
    "import numpy as np\n",
    "import math\n",
    "import gauss_hermite as gauherm\n",
    "import matplotlib.pyplot as plt"
   ]
  },
  {
   "cell_type": "code",
   "execution_count": 46,
   "metadata": {},
   "outputs": [
    {
     "name": "stdout",
     "output_type": "stream",
     "text": [
      "primero se realizará la gráfica y la aproximación de la primer función\n"
     ]
    }
   ],
   "source": [
    "#Lambda 1 y 2 salen de el cambio de variable\n",
    "print (\"primero se realizará la gráfica y la aproximación de la primer función\")\n",
    "funcion_gauherm_1 = lambda x: ((math.sqrt(2*math.pi*(0.25**2)))*((np.exp(-(x**2))))*((x*math.sqrt(2)*(0.25))+(0.15))*(math.sqrt(2*(0.25**2))))"
   ]
  },
  {
   "cell_type": "code",
   "execution_count": 47,
   "metadata": {},
   "outputs": [],
   "source": [
    "n_uno_gauherm_1 = gauherm.calcula_gauss_hermite(1, 0, 1, funcion_gauherm_1)\n",
    "n_dos_gauherm_1 = gauherm.calcula_gauss_hermite(2, 0, 1, funcion_gauherm_1)\n",
    "n_tres_gauherm_1 = gauherm.calcula_gauss_hermite(3, 0, 1, funcion_gauherm_1)\n",
    "n_cuatro_gauherm_1 = gauherm.calcula_gauss_hermite(4, 0, 1, funcion_gauherm_1)\n",
    "n_cinco_gauherm_1 = gauherm.calcula_gauss_hermite(5, 0, 1, funcion_gauherm_1)\n"
   ]
  },
  {
   "cell_type": "code",
   "execution_count": 48,
   "metadata": {},
   "outputs": [
    {
     "name": "stdout",
     "output_type": "stream",
     "text": [
      "aproximación Gauss-Hermite de la función 1 con n = 1:  0.04079414539194498\n",
      "aproximación Gauss-Hermite de la función 1 con n = 2:  0.04203495763930971\n",
      "aproximación Gauss-Hermite de la función 1 con n = 3:  0.041887704687082083\n",
      "aproximación Gauss-Hermite de la función 1 con n = 4:  0.02826841107818738\n",
      "aproximación Gauss-Hermite de la función 1 con n = 5:  0.0419020805411425\n"
     ]
    }
   ],
   "source": [
    "print(\"aproximación Gauss-Hermite de la función 1 con n = 1: \",n_uno_gauherm_1)\n",
    "print(\"aproximación Gauss-Hermite de la función 1 con n = 2: \",n_dos_gauherm_1)\n",
    "print(\"aproximación Gauss-Hermite de la función 1 con n = 3: \",n_tres_gauherm_1)\n",
    "print(\"aproximación Gauss-Hermite de la función 1 con n = 4: \",n_cuatro_gauherm_1)\n",
    "print(\"aproximación Gauss-Hermite de la función 1 con n = 5: \",n_cinco_gauherm_1)"
   ]
  },
  {
   "cell_type": "code",
   "execution_count": 49,
   "metadata": {},
   "outputs": [],
   "source": [
    "def error_relativo(valorReal, pronosticado):\n",
    "    return abs(pronosticado - valorReal)/abs(valorReal)"
   ]
  },
  {
   "cell_type": "code",
   "execution_count": 50,
   "metadata": {},
   "outputs": [
    {
     "name": "stdout",
     "output_type": "stream",
     "text": [
      "Aproximaciones obtenidas: \n",
      " [0.04079415 0.04203496 0.0418877  0.02826841 0.04190208]\n"
     ]
    }
   ],
   "source": [
    "valorReal_gauherm_1 = 0.15\n",
    "aprox_obtenida_gauherm_1 = np.array([n_uno_gauherm_1,n_dos_gauherm_1,n_tres_gauherm_1,n_cuatro_gauherm_1,n_cinco_gauherm_1])\n",
    "print(\"Aproximaciones obtenidas: \\n\",aprox_obtenida_gauherm_1)"
   ]
  },
  {
   "cell_type": "code",
   "execution_count": 51,
   "metadata": {},
   "outputs": [
    {
     "name": "stdout",
     "output_type": "stream",
     "text": [
      "Vector de errores relativos: \n",
      " [0.72803903 0.71976695 0.72074864 0.81154393 0.7206528 ]\n"
     ]
    }
   ],
   "source": [
    "error_relativo_gauherm_1 = error_relativo(valorReal_gauherm_1,aprox_obtenida_gauherm_1)\n",
    "print(\"Vector de errores relativos: \\n\",error_relativo_gauherm_1)"
   ]
  },
  {
   "cell_type": "code",
   "execution_count": 52,
   "metadata": {},
   "outputs": [
    {
     "name": "stdout",
     "output_type": "stream",
     "text": [
      "Vector de n´s (en el eje x): \n",
      " [1 2 3 4 5]\n"
     ]
    }
   ],
   "source": [
    "ns_gauherm = np.arange(1,6,1)\n",
    "print(\"Vector de n´s (en el eje x): \\n\",ns_gauherm)"
   ]
  },
  {
   "cell_type": "code",
   "execution_count": 53,
   "metadata": {},
   "outputs": [
    {
     "data": {
      "image/png": "[encoded data removed]",
      "text/plain": [
       "<Figure size 432x288 with 1 Axes>"
      ]
     },
     "metadata": {
      "needs_background": "light"
     },
     "output_type": "display_data"
    }
   ],
   "source": [
    "#graficando:\n",
    "plt.plot(ns_gauherm,error_relativo_gauherm_1)\n",
    "\n",
    "plt.legend((\"Gauss-Hermite1\"),loc = 0) #Agregar leyendas en loc. 0\n",
    "plt.grid(True) #Agregar un grid de coordenadas\n",
    "plt.show() #Mostrar la gráfica en pantalla"
   ]
  },
  {
   "cell_type": "markdown",
   "metadata": {},
   "source": [
    "Ahora Aproximamos la segunda función..."
   ]
  },
  {
   "cell_type": "code",
   "execution_count": 54,
   "metadata": {},
   "outputs": [],
   "source": [
    "import numpy as np\n",
    "import math\n",
    "import gauss_hermite as gauherm\n",
    "import matplotlib.pyplot as plt"
   ]
  },
  {
   "cell_type": "code",
   "execution_count": 55,
   "metadata": {},
   "outputs": [
    {
     "name": "stdout",
     "output_type": "stream",
     "text": [
      "ahora se realizará la gráfica y la aproximación de la segunda función\n"
     ]
    }
   ],
   "source": [
    "#Lambda 1 y 2 salen de el cambio de variable\n",
    "print (\"ahora se realizará la gráfica y la aproximación de la segunda función\")\n",
    "funcion_gauherm_2 = lambda x: ((math.sqrt(2*math.pi*(0.25**2)))*((np.exp(-(x**2))))*(((x*math.sqrt(2)*(0.25))+(0.15))**2)*(math.sqrt(2*(0.25**2))))"
   ]
  },
  {
   "cell_type": "code",
   "execution_count": 56,
   "metadata": {},
   "outputs": [],
   "source": [
    "n_uno_gauherm_2 = gauherm.calcula_gauss_hermite(1, 0, 1, funcion_gauherm_2)\n",
    "n_dos_gauherm_2 = gauherm.calcula_gauss_hermite(2, 0, 1, funcion_gauherm_2)\n",
    "n_tres_gauherm_2 = gauherm.calcula_gauss_hermite(3, 0, 1, funcion_gauherm_2)\n",
    "n_cuatro_gauherm_2 = gauherm.calcula_gauss_hermite(4, 0, 1, funcion_gauherm_2)\n",
    "n_cinco_gauherm_2 = gauherm.calcula_gauss_hermite(5, 0, 1, funcion_gauherm_2)\n"
   ]
  },
  {
   "cell_type": "code",
   "execution_count": 57,
   "metadata": {},
   "outputs": [
    {
     "name": "stdout",
     "output_type": "stream",
     "text": [
      "aproximación Gauss-Hermite de la función 2 con n = 1:  0.013582579630701962\n",
      "aproximación Gauss-Hermite de la función 2 con n = 2:  0.014081407147571048\n",
      "aproximación Gauss-Hermite de la función 2 con n = 3:  0.01399712334355956\n",
      "aproximación Gauss-Hermite de la función 2 con n = 4:  0.00933545781063205\n",
      "aproximación Gauss-Hermite de la función 2 con n = 5:  0.01400829419364998\n"
     ]
    }
   ],
   "source": [
    "print(\"aproximación Gauss-Hermite de la función 2 con n = 1: \",n_uno_gauherm_2)\n",
    "print(\"aproximación Gauss-Hermite de la función 2 con n = 2: \",n_dos_gauherm_2)\n",
    "print(\"aproximación Gauss-Hermite de la función 2 con n = 3: \",n_tres_gauherm_2)\n",
    "print(\"aproximación Gauss-Hermite de la función 2 con n = 4: \",n_cuatro_gauherm_2)\n",
    "print(\"aproximación Gauss-Hermite de la función 2 con n = 5: \",n_cinco_gauherm_2)"
   ]
  },
  {
   "cell_type": "code",
   "execution_count": 58,
   "metadata": {},
   "outputs": [],
   "source": [
    "def error_relativo(valorReal, pronosticado):\n",
    "    return abs(pronosticado - valorReal)/abs(valorReal)"
   ]
  },
  {
   "cell_type": "code",
   "execution_count": 59,
   "metadata": {},
   "outputs": [
    {
     "name": "stdout",
     "output_type": "stream",
     "text": [
      "Aproximaciones obtenidas: \n",
      " [0.01358258 0.01408141 0.01399712 0.00933546 0.01400829]\n"
     ]
    }
   ],
   "source": [
    "valorReal_gauherm_2 = 0.085\n",
    "aprox_obtenida_gauherm_2 = np.array([n_uno_gauherm_2,n_dos_gauherm_2,n_tres_gauherm_2,n_cuatro_gauherm_2,n_cinco_gauherm_2])\n",
    "print(\"Aproximaciones obtenidas: \\n\",aprox_obtenida_gauherm_2)"
   ]
  },
  {
   "cell_type": "code",
   "execution_count": 60,
   "metadata": {},
   "outputs": [
    {
     "name": "stdout",
     "output_type": "stream",
     "text": [
      "Vector de errores relativos: \n",
      " [0.84020495 0.83433639 0.83532796 0.89017108 0.83519654]\n"
     ]
    }
   ],
   "source": [
    "error_relativo_gauherm_2 = error_relativo(valorReal_gauherm_2,aprox_obtenida_gauherm_2)\n",
    "print(\"Vector de errores relativos: \\n\",error_relativo_gauherm_2)"
   ]
  },
  {
   "cell_type": "code",
   "execution_count": 61,
   "metadata": {},
   "outputs": [
    {
     "name": "stdout",
     "output_type": "stream",
     "text": [
      "Vector de n´s (en el eje x): \n",
      " [1 2 3 4 5]\n"
     ]
    }
   ],
   "source": [
    "ns_gauherm = np.arange(1,6,1)\n",
    "print(\"Vector de n´s (en el eje x): \\n\",ns_gauherm)"
   ]
  },
  {
   "cell_type": "code",
   "execution_count": 62,
   "metadata": {},
   "outputs": [
    {
     "data": {
      "image/png": "[encoded data removed]",
      "text/plain": [
       "<Figure size 432x288 with 1 Axes>"
      ]
     },
     "metadata": {
      "needs_background": "light"
     },
     "output_type": "display_data"
    }
   ],
   "source": [
    "#graficando:\n",
    "plt.plot(ns_gauherm,error_relativo_gauherm_1)\n",
    "\n",
    "plt.legend((\"Gauss-Hermite2\"),loc = 0) #Agregar leyendas en loc. 0\n",
    "plt.grid(True) #Agregar un grid de coordenadas\n",
    "plt.show() #Mostrar la gráfica en pantalla"
   ]
  },
  {
   "cell_type": "markdown",
   "metadata": {},
   "source": [
    "<br><br>\n",
    "# Parte 2: Definiciones Generales de Álgebra Lineal\n",
    "## Matrices Ortogonales\n",
    "### Matriz de rotación en sentido contrario a las manecillas del reloj en el plano\n",
    "Está dada por: <br>\n",
    "$$R_{\\theta} = \\begin{bmatrix} cos(\\theta) & -sen(\\theta) \\\\\\\\ sen(\\theta)& cos(\\theta)\\end{bmatrix}$$\n"
   ]
  },
  {
   "cell_type": "markdown",
   "metadata": {},
   "source": [
    "**Ejercicio: usar esta matriz de rotación para rotar un ángulo de $\\frac{\\pi}{3}$ en sentido contrario a las manecillas del reloj al vector** $\\left(\\begin{array}{c}-3\\\\\\\\4\\\\\\\\\\end{array}\\right)$ "
   ]
  },
  {
   "cell_type": "code",
   "execution_count": 63,
   "metadata": {},
   "outputs": [],
   "source": [
    "import numpy as np\n",
    "import math\n",
    "import pprint"
   ]
  },
  {
   "cell_type": "code",
   "execution_count": 64,
   "metadata": {},
   "outputs": [
    {
     "name": "stdout",
     "output_type": "stream",
     "text": [
      "El vector como vector renglon: \n",
      " [-3  4]\n"
     ]
    }
   ],
   "source": [
    "vector_rotar = np.array([-3,4])\n",
    "print(\"El vector como vector renglon: \\n\",vector_rotar)"
   ]
  },
  {
   "cell_type": "code",
   "execution_count": 65,
   "metadata": {},
   "outputs": [
    {
     "data": {
      "text/plain": [
       "array([[-3],\n",
       "       [ 4]])"
      ]
     },
     "execution_count": 65,
     "metadata": {},
     "output_type": "execute_result"
    }
   ],
   "source": [
    "vector_rotar.reshape(2,1)"
   ]
  },
  {
   "cell_type": "markdown",
   "metadata": {},
   "source": [
    "creamos la matriz de rotación:"
   ]
  },
  {
   "cell_type": "code",
   "execution_count": 66,
   "metadata": {},
   "outputs": [
    {
     "name": "stdout",
     "output_type": "stream",
     "text": [
      "array([[ 0.5      , -0.8660254],\n",
      "       [ 0.8660254,  0.5      ]])\n"
     ]
    }
   ],
   "source": [
    "A_rotacion = np.array([[math.cos(math.pi/3),-math.sin(math.pi/3)],[math.sin(math.pi/3),math.cos(math.pi/3)]])\n",
    "pprint.pprint(A_rotacion)"
   ]
  },
  {
   "cell_type": "markdown",
   "metadata": {},
   "source": [
    "Para rotar al vector tenemos que hacer la multiplicación de la matriz de rotación con el vector:"
   ]
  },
  {
   "cell_type": "code",
   "execution_count": 67,
   "metadata": {},
   "outputs": [
    {
     "name": "stdout",
     "output_type": "stream",
     "text": [
      "el resultado del vector rotado es: \n",
      "array([-4.96410162, -0.59807621])\n"
     ]
    }
   ],
   "source": [
    "resultado_rotacion = A_rotacion@vector_rotar\n",
    "print(\"el resultado del vector rotado es: \")\n",
    "pprint.pprint(resultado_rotacion)"
   ]
  },
  {
   "cell_type": "markdown",
   "metadata": {},
   "source": [
    "   "
   ]
  },
  {
   "cell_type": "markdown",
   "metadata": {},
   "source": [
    "### Matriz de reflexión de Householder\n",
    "Está dada por: $$R_{H} = I - 2 \\frac{uu^T}{u^Tu}$$ con $u \\in \\mathbb{R}^n -\\{0\\}$ y realiza la reflexión respecto al conjunto de vectores ortogonales a $u$. "
   ]
  },
  {
   "cell_type": "markdown",
   "metadata": {},
   "source": [
    "**Ejercicio: reflejar al vector $\\left(\\begin{array}{c}\n",
    "   1\\\\\\\\1\\\\\\\\\n",
    "   \\end{array}\n",
    "   \\right)$ utilizando al vector $\\left(\\begin{array}{c}\n",
    "   -\\frac{4}{3}\\\\\\\\\n",
    "   \\frac{2}{3}\\\\\\\\\n",
    "   \\end{array}\n",
    "   \\right)$ para construir a $R_{H}$**."
   ]
  },
  {
   "cell_type": "code",
   "execution_count": 68,
   "metadata": {},
   "outputs": [],
   "source": [
    "import numpy as np\n",
    "import math\n",
    "import pprint"
   ]
  },
  {
   "cell_type": "markdown",
   "metadata": {},
   "source": [
    "Primero creamos el vector a reflejar:"
   ]
  },
  {
   "cell_type": "code",
   "execution_count": 69,
   "metadata": {},
   "outputs": [
    {
     "name": "stdout",
     "output_type": "stream",
     "text": [
      "Imprimiendo el vector a reflejar: \n",
      "\n",
      "array([1, 1])\n",
      "Imprimiendo el vector de construcción: \n",
      "\n",
      "array([-1.33333333, -0.66666667])\n"
     ]
    }
   ],
   "source": [
    "vector_reflejar = np.array([1,1])\n",
    "vector_construir = np.array([-4/3,-2/3])\n",
    "print(\"Imprimiendo el vector a reflejar: \\n\")\n",
    "pprint.pprint(vector_reflejar)\n",
    "print(\"Imprimiendo el vector de construcción: \\n\")\n",
    "pprint.pprint(vector_construir)"
   ]
  },
  {
   "cell_type": "markdown",
   "metadata": {},
   "source": [
    "Pondré ambos arreglos en el formato que tienen en el ejercicio:"
   ]
  },
  {
   "cell_type": "code",
   "execution_count": 70,
   "metadata": {},
   "outputs": [
    {
     "name": "stdout",
     "output_type": "stream",
     "text": [
      "Imprimiendo el vector a de construccion transpuesto: \n",
      "\n",
      "array([-1.33333333, -0.66666667])\n",
      "Imprimiendo el vector identidad del tamaño del vector de construcción: \n",
      "\n",
      "array([[1., 0.],\n",
      "       [0., 1.]])\n"
     ]
    }
   ],
   "source": [
    "vector_construir_T = np.transpose(vector_construir)\n",
    "identidad_construir = np.identity(len(vector_construir))\n",
    "print(\"Imprimiendo el vector a de construccion transpuesto: \\n\")\n",
    "pprint.pprint(vector_construir_T)\n",
    "print(\"Imprimiendo el vector identidad del tamaño del vector de construcción: \\n\")\n",
    "pprint.pprint(identidad_construir)"
   ]
  },
  {
   "cell_type": "code",
   "execution_count": 71,
   "metadata": {},
   "outputs": [
    {
     "name": "stdout",
     "output_type": "stream",
     "text": [
      "calculando RH: \n",
      " [[-1. -2.]\n",
      " [-2. -1.]]\n"
     ]
    }
   ],
   "source": [
    "RHMat = identidad_construir-2*((vector_construir@vector_construir_T)/(vector_construir_T@vector_construir))\n",
    "print(\"calculando RH: \\n\",RHMat)"
   ]
  },
  {
   "cell_type": "code",
   "execution_count": 72,
   "metadata": {},
   "outputs": [
    {
     "name": "stdout",
     "output_type": "stream",
     "text": [
      "vector reflejado: \n",
      " [-3. -3.]\n"
     ]
    }
   ],
   "source": [
    "#Reflejando al vector:\n",
    "vector_reflejado = vector_reflejar@RHMat\n",
    "print(\"vector reflejado: \\n\",vector_reflejado)"
   ]
  },
  {
   "cell_type": "markdown",
   "metadata": {},
   "source": [
    "<br>\n",
    "<br>\n",
    "\n",
    "## Parte 3: 1_ecuaciones_lineales"
   ]
  },
  {
   "cell_type": "markdown",
   "metadata": {},
   "source": [
    "**Ejercicio: resolver el ejercicio 3) anterior con la factorización QR del paquete `numpy` de la matriz A y verificar resultado**"
   ]
  },
  {
   "cell_type": "markdown",
   "metadata": {},
   "source": [
    "3) Obtener los factores $P, L, U$ de la matriz $A$: $$A = \\begin{bmatrix} 2& -1&2 \\\\ 1& 6& -1 \\\\ 1& 4& 1\\end{bmatrix}$$ "
   ]
  },
  {
   "cell_type": "markdown",
   "metadata": {},
   "source": [
    "y utilizarlos para resolver $Ax = B$ con $$B=\\begin{bmatrix}7 & -1\\\\13 & 6\\\\5 & 7\\end{bmatrix}$$"
   ]
  },
  {
   "cell_type": "code",
   "execution_count": 73,
   "metadata": {},
   "outputs": [],
   "source": [
    "import numpy as np\n",
    "import pprint\n",
    "\n",
    "#Inicializamos las matrices A y B: \n",
    "A = np.array([[2,-1,2], [1,6,-1], [1,4,1]])\n",
    "B = np.array([[7,-1],[13,6],[5,7]])"
   ]
  },
  {
   "cell_type": "markdown",
   "metadata": {},
   "source": [
    "En la factorización Q,R, Q es una matriz ortogonal y R es una matriz triangular superior. En comparación con la factorización LU, la factorización QR no requiere el uso de pivotes, pero si requiere aproximadamente el doble de operaciones. Por esta ineficiencia, la factorización QR no es usada como una herramienta de uso general, pero es muy usada cuando lo que se requiere es estabilidd (por ejemplo, solución de problemas de eigenvalue). El módulo numpy incluye la función qr que hace esta factorización:<br><br>\n",
    "\n",
    "       Q,R = numpy.linalg.qr(A)\n",
    "       \n",
    "(Kiusalaas, pp. 102)"
   ]
  },
  {
   "cell_type": "code",
   "execution_count": 75,
   "metadata": {},
   "outputs": [
    {
     "name": "stdout",
     "output_type": "stream",
     "text": [
      "Q: \n",
      " [[-0.81649658  0.56354707 -0.12549116]\n",
      " [-0.40824829 -0.71724173 -0.56471022]\n",
      " [-0.40824829 -0.40985242  0.81569255]]\n",
      "\n",
      " Q es una matriz ortogonal\n",
      "\n",
      "R: \n",
      " [[-2.44948974 -3.26598632 -1.63299316]\n",
      " [ 0.         -6.5064071   1.43448345]\n",
      " [ 0.          0.          1.12942045]]\n",
      "\n",
      " R es una matriz superior\n",
      "\n",
      "Verificamos que el resultado  de Ax sea igual a B (es decir, Ax=B)\n",
      "B : \n",
      "\n",
      "\n",
      "array([[ 7, -1],\n",
      "       [13,  6],\n",
      "       [ 5,  7]])\n",
      "\n",
      "\n",
      "\n",
      "Ax: \n",
      "\n",
      "array([[ 7., -1.],\n",
      "       [13.,  6.],\n",
      "       [ 5.,  7.]])\n"
     ]
    }
   ],
   "source": [
    "#Haciendo la fctorización Q,R:\n",
    "Q,R = np.linalg.qr(A)\n",
    "\n",
    "#imprinmiendo Q y R \n",
    "print(\"Q: \\n\",Q)\n",
    "print(\"\\n Q es una matriz ortogonal\\n\")\n",
    "print(\"R: \\n\",R)\n",
    "print(\"\\n R es una matriz superior\\n\")\n",
    "\n",
    "inversa_R = np.linalg.inv(R)\n",
    "inversa_Q = Q.T\n",
    "\n",
    "#de Rx = Qt*B se tiene que despejar x:\n",
    "qt_por_b = inversa_Q@B\n",
    "vector_X = inversa_R@qt_por_b\n",
    "\n",
    "print(\"Verificamos que el resultado  de Ax sea igual a B (es decir, Ax=B)\")\n",
    "print(\"B : \\n\\n\")\n",
    "pprint.pprint(B)\n",
    "print(\"\\n\\n\")\n",
    "print(\"Ax: \\n\")\n",
    "pprint.pprint(A@vector_X)\n",
    "#Detalle curioso: si hago import pprint no funciona el pprint, pero si lo hago como from pprint import pprint si funciona.\n",
    "#si se hace el import como import pprint, se tiene que poner: pprint.pprint(), de lo contrario no funciona"
   ]
  },
  {
   "cell_type": "markdown",
   "metadata": {},
   "source": [
    "**Ejercicio: resolver los sistemas de ecuaciones lineales $Ax = b$ con la factorización P, LU y verificar resultado**"
   ]
  },
  {
   "cell_type": "markdown",
   "metadata": {},
   "source": [
    "$$1)A = \\left[\\begin{array}{ccc}\n",
    "0 &1& -1\\\\\n",
    "-2 &4& -1\\\\\n",
    "-2 &5& -4\n",
    "\\end{array}\n",
    "\\right],\n",
    "b=\n",
    "\\left[\\begin{array}{c}\n",
    "3\\\\\n",
    "1\\\\\n",
    "-2\n",
    "\\end{array}\n",
    "\\right] \n",
    "$$\n",
    "\n"
   ]
  },
  {
   "cell_type": "markdown",
   "metadata": {},
   "source": [
    "$$2)A \\text{ como inciso 1) y } \n",
    "b=\n",
    "\\left[\\begin{array}{c}\n",
    "-5\\\\\n",
    "7\\\\\n",
    "0\n",
    "\\end{array}\n",
    "\\right] \n",
    "$$\n",
    "\n"
   ]
  },
  {
   "cell_type": "markdown",
   "metadata": {},
   "source": [
    "$$3)A = \\left[\\begin{array}{cccc}\n",
    "1 &2& 2\\\\\n",
    "2 &5& 7\\\\\n",
    "3 &6& 6\n",
    "\\end{array}\n",
    "\\right],\n",
    "b=\n",
    "\\left[\\begin{array}{c}\n",
    "0\\\\\n",
    "0\\\\\n",
    "0\n",
    "\\end{array}\n",
    "\\right] \n",
    "$$"
   ]
  },
  {
   "cell_type": "markdown",
   "metadata": {},
   "source": [
    "#### 1) Resolviendo para el sistema:"
   ]
  },
  {
   "cell_type": "markdown",
   "metadata": {},
   "source": [
    "$$1)A = \\left[\\begin{array}{ccc}\n",
    "0 &1& -1\\\\\n",
    "-2 &4& -1\\\\\n",
    "-2 &5& -4\n",
    "\\end{array}\n",
    "\\right],\n",
    "b=\n",
    "\\left[\\begin{array}{c}\n",
    "3\\\\\n",
    "1\\\\\n",
    "-2\n",
    "\\end{array}\n",
    "\\right] \n",
    "$$\n",
    "\n"
   ]
  },
  {
   "cell_type": "code",
   "execution_count": 76,
   "metadata": {},
   "outputs": [],
   "source": [
    "import scipy\n",
    "import scipy.linalg \n",
    "import numpy as np\n",
    "import pprint"
   ]
  },
  {
   "cell_type": "code",
   "execution_count": 77,
   "metadata": {},
   "outputs": [
    {
     "name": "stdout",
     "output_type": "stream",
     "text": [
      "A:\n",
      "array([[ 0,  1, -1],\n",
      "       [-2,  4, -1],\n",
      "       [-2,  5, -4]])\n",
      "B:\n",
      "array([[ 3,  1, -2]])\n",
      "B:\n",
      "array([[ 3],\n",
      "       [ 1],\n",
      "       [-2]])\n",
      "P:\n",
      "array([[0., 1., 0.],\n",
      "       [1., 0., 0.],\n",
      "       [0., 0., 1.]])\n",
      "L:\n",
      "array([[ 1.,  0.,  0.],\n",
      "       [-0.,  1.,  0.],\n",
      "       [ 1.,  1.,  1.]])\n",
      "U:\n",
      "array([[-2.,  4., -1.],\n",
      "       [ 0.,  1., -1.],\n",
      "       [ 0.,  0., -2.]])\n"
     ]
    }
   ],
   "source": [
    "A = scipy.array([[0,1,-1], [-2,4,-1], [-2,5,-4]])\n",
    "B = scipy.array([[3,1,-2]])\n",
    "P, L, U = scipy.linalg.lu(A)\n",
    "\n",
    "#Matrices de entrada\n",
    "print('A:')\n",
    "pprint.pprint(A)\n",
    "print('B:')\n",
    "pprint.pprint(B)\n",
    "\n",
    "#Poner a B como vector columna:\n",
    "B = B.reshape(3,1)\n",
    "print('B:')\n",
    "pprint.pprint(B)\n",
    "\n",
    "\n",
    "#Matrices factorizadas\n",
    "print('P:')\n",
    "pprint.pprint(P)\n",
    "print('L:')\n",
    "pprint.pprint(L)\n",
    "print('U:')\n",
    "pprint.pprint(U)\n"
   ]
  },
  {
   "cell_type": "code",
   "execution_count": 78,
   "metadata": {},
   "outputs": [
    {
     "name": "stdout",
     "output_type": "stream",
     "text": [
      "Verificando que es igual PA al producto LU\n",
      "L*U:\n",
      "array([[-2.,  4., -1.],\n",
      "       [ 0.,  1., -1.],\n",
      "       [-2.,  5., -4.]])\n",
      "P*A\n",
      "array([[-2.,  4., -1.],\n",
      "       [ 0.,  1., -1.],\n",
      "       [-2.,  5., -4.]])\n"
     ]
    }
   ],
   "source": [
    "print('Verificando que es igual PA al producto LU')\n",
    "print('L*U:')\n",
    "pprint.pprint(L@U)\n",
    "print('P*A')\n",
    "pprint.pprint(P@A)\n",
    "\n"
   ]
  },
  {
   "cell_type": "code",
   "execution_count": 79,
   "metadata": {},
   "outputs": [
    {
     "name": "stdout",
     "output_type": "stream",
     "text": [
      "Usando los factores P,L,U para resolver AX = B\n",
      "X:\n",
      "array([[10.],\n",
      "       [ 6.],\n",
      "       [ 3.]])\n"
     ]
    }
   ],
   "source": [
    "print('Usando los factores P,L,U para resolver AX = B')\n",
    "D = scipy.linalg.solve_triangular(L,P@B,lower=True)\n",
    "X = scipy.linalg.solve_triangular(U,D) #default es usar una triangular superior\n",
    "print('X:')\n",
    "pprint.pprint(X)"
   ]
  },
  {
   "cell_type": "code",
   "execution_count": 80,
   "metadata": {},
   "outputs": [
    {
     "name": "stdout",
     "output_type": "stream",
     "text": [
      "Verificamos que el resultado  de Ax sea igual a B (es decir, Ax=B)\n",
      "B : \n",
      "\n",
      "\n",
      "array([[ 3],\n",
      "       [ 1],\n",
      "       [-2]])\n",
      "\n",
      "\n",
      "\n",
      "Ax: \n",
      "\n",
      "array([[ 3.],\n",
      "       [ 1.],\n",
      "       [-2.]])\n"
     ]
    }
   ],
   "source": [
    "print(\"Verificamos que el resultado  de Ax sea igual a B (es decir, Ax=B)\")\n",
    "print(\"B : \\n\\n\")\n",
    "pprint.pprint(B)\n",
    "print(\"\\n\\n\")\n",
    "print(\"Ax: \\n\")\n",
    "pprint.pprint(A@X)"
   ]
  },
  {
   "cell_type": "markdown",
   "metadata": {},
   "source": [
    "#### 2) Resolviendo para el sistema:"
   ]
  },
  {
   "cell_type": "markdown",
   "metadata": {},
   "source": [
    "$$2)A \\text{ como inciso 1) y } \n",
    "b=\n",
    "\\left[\\begin{array}{c}\n",
    "-5\\\\\n",
    "7\\\\\n",
    "0\n",
    "\\end{array}\n",
    "\\right] \n",
    "$$\n",
    "\n"
   ]
  },
  {
   "cell_type": "code",
   "execution_count": 81,
   "metadata": {},
   "outputs": [],
   "source": [
    "import scipy\n",
    "import scipy.linalg \n",
    "import numpy as np\n",
    "import pprint"
   ]
  },
  {
   "cell_type": "code",
   "execution_count": 82,
   "metadata": {},
   "outputs": [
    {
     "name": "stdout",
     "output_type": "stream",
     "text": [
      "A:\n",
      "array([[ 0,  1, -1],\n",
      "       [-2,  4, -1],\n",
      "       [-2,  5, -4]])\n",
      "B:\n",
      "array([[-5,  7,  0]])\n",
      "B:\n",
      "array([[-5],\n",
      "       [ 7],\n",
      "       [ 0]])\n",
      "P:\n",
      "array([[0., 1., 0.],\n",
      "       [1., 0., 0.],\n",
      "       [0., 0., 1.]])\n",
      "L:\n",
      "array([[ 1.,  0.,  0.],\n",
      "       [-0.,  1.,  0.],\n",
      "       [ 1.,  1.,  1.]])\n",
      "U:\n",
      "array([[-2.,  4., -1.],\n",
      "       [ 0.,  1., -1.],\n",
      "       [ 0.,  0., -2.]])\n"
     ]
    }
   ],
   "source": [
    "A = scipy.array([[0,1,-1], [-2,4,-1], [-2,5,-4]])\n",
    "B = scipy.array([[-5,7,0]])\n",
    "P, L, U = scipy.linalg.lu(A)\n",
    "\n",
    "#Matrices de entrada\n",
    "print('A:')\n",
    "pprint.pprint(A)\n",
    "print('B:')\n",
    "pprint.pprint(B)\n",
    "\n",
    "#Poner a B como vector columna:\n",
    "B = B.reshape(3,1)\n",
    "print('B:')\n",
    "pprint.pprint(B)\n",
    "\n",
    "\n",
    "#Matrices factorizadas\n",
    "print('P:')\n",
    "pprint.pprint(P)\n",
    "print('L:')\n",
    "pprint.pprint(L)\n",
    "print('U:')\n",
    "pprint.pprint(U)\n"
   ]
  },
  {
   "cell_type": "code",
   "execution_count": 83,
   "metadata": {},
   "outputs": [
    {
     "name": "stdout",
     "output_type": "stream",
     "text": [
      "Verificando que es igual PA al producto LU\n",
      "L*U:\n",
      "array([[-2.,  4., -1.],\n",
      "       [ 0.,  1., -1.],\n",
      "       [-2.,  5., -4.]])\n",
      "P*A\n",
      "array([[-2.,  4., -1.],\n",
      "       [ 0.,  1., -1.],\n",
      "       [-2.,  5., -4.]])\n"
     ]
    }
   ],
   "source": [
    "print('Verificando que es igual PA al producto LU')\n",
    "print('L*U:')\n",
    "pprint.pprint(L@U)\n",
    "print('P*A')\n",
    "pprint.pprint(P@A)\n",
    "\n"
   ]
  },
  {
   "cell_type": "code",
   "execution_count": 84,
   "metadata": {},
   "outputs": [
    {
     "name": "stdout",
     "output_type": "stream",
     "text": [
      "Usando los factores P,L,U para resolver AX = B\n",
      "X:\n",
      "array([[-12.],\n",
      "       [ -4.],\n",
      "       [  1.]])\n"
     ]
    }
   ],
   "source": [
    "print('Usando los factores P,L,U para resolver AX = B')\n",
    "D = scipy.linalg.solve_triangular(L,P@B,lower=True)\n",
    "X = scipy.linalg.solve_triangular(U,D) #default es usar una triangular superior\n",
    "print('X:')\n",
    "pprint.pprint(X)"
   ]
  },
  {
   "cell_type": "code",
   "execution_count": 85,
   "metadata": {},
   "outputs": [
    {
     "name": "stdout",
     "output_type": "stream",
     "text": [
      "Verificamos que el resultado  de Ax sea igual a B (es decir, Ax=B)\n",
      "B : \n",
      "\n",
      "\n",
      "array([[-5],\n",
      "       [ 7],\n",
      "       [ 0]])\n",
      "\n",
      "\n",
      "\n",
      "Ax: \n",
      "\n",
      "array([[-5.],\n",
      "       [ 7.],\n",
      "       [ 0.]])\n"
     ]
    }
   ],
   "source": [
    "print(\"Verificamos que el resultado  de Ax sea igual a B (es decir, Ax=B)\")\n",
    "print(\"B : \\n\\n\")\n",
    "pprint.pprint(B)\n",
    "print(\"\\n\\n\")\n",
    "print(\"Ax: \\n\")\n",
    "pprint.pprint(A@X)"
   ]
  },
  {
   "cell_type": "markdown",
   "metadata": {},
   "source": [
    "#### 3) Resolviendo para el sistema:"
   ]
  },
  {
   "cell_type": "markdown",
   "metadata": {},
   "source": [
    "$$3)A = \\left[\\begin{array}{cccc}\n",
    "1 &2& 2\\\\\n",
    "2 &5& 7\\\\\n",
    "3 &6& 6\n",
    "\\end{array}\n",
    "\\right],\n",
    "b=\n",
    "\\left[\\begin{array}{c}\n",
    "0\\\\\n",
    "0\\\\\n",
    "0\n",
    "\\end{array}\n",
    "\\right] \n",
    "$$"
   ]
  },
  {
   "cell_type": "code",
   "execution_count": 86,
   "metadata": {},
   "outputs": [],
   "source": [
    "import scipy\n",
    "import scipy.linalg \n",
    "import numpy as np\n",
    "import pprint"
   ]
  },
  {
   "cell_type": "code",
   "execution_count": 87,
   "metadata": {},
   "outputs": [
    {
     "name": "stdout",
     "output_type": "stream",
     "text": [
      "A:\n",
      "array([[1, 2, 2],\n",
      "       [2, 5, 7],\n",
      "       [3, 6, 6]])\n",
      "B:\n",
      "array([[0, 0, 0]])\n",
      "B:\n",
      "array([[0],\n",
      "       [0],\n",
      "       [0]])\n",
      "P:\n",
      "array([[0., 0., 1.],\n",
      "       [0., 1., 0.],\n",
      "       [1., 0., 0.]])\n",
      "L:\n",
      "array([[1.        , 0.        , 0.        ],\n",
      "       [0.66666667, 1.        , 0.        ],\n",
      "       [0.33333333, 0.        , 1.        ]])\n",
      "U:\n",
      "array([[3., 6., 6.],\n",
      "       [0., 1., 3.],\n",
      "       [0., 0., 0.]])\n"
     ]
    }
   ],
   "source": [
    "A = scipy.array([[1,2,2], [2,5,7], [3,6,6]])\n",
    "B = scipy.array([[0,0,0]])\n",
    "P, L, U = scipy.linalg.lu(A)\n",
    "\n",
    "#Matrices de entrada\n",
    "print('A:')\n",
    "pprint.pprint(A)\n",
    "print('B:')\n",
    "pprint.pprint(B)\n",
    "\n",
    "#Poner a B como vector columna:\n",
    "B = B.reshape(3,1)\n",
    "print('B:')\n",
    "pprint.pprint(B)\n",
    "\n",
    "\n",
    "#Matrices factorizadas\n",
    "print('P:')\n",
    "pprint.pprint(P)\n",
    "print('L:')\n",
    "pprint.pprint(L)\n",
    "print('U:')\n",
    "pprint.pprint(U)\n"
   ]
  },
  {
   "cell_type": "code",
   "execution_count": 88,
   "metadata": {},
   "outputs": [
    {
     "name": "stdout",
     "output_type": "stream",
     "text": [
      "Verificando que es igual PA al producto LU\n",
      "L*U:\n",
      "array([[3., 6., 6.],\n",
      "       [2., 5., 7.],\n",
      "       [1., 2., 2.]])\n",
      "P*A\n",
      "array([[3., 6., 6.],\n",
      "       [2., 5., 7.],\n",
      "       [1., 2., 2.]])\n"
     ]
    }
   ],
   "source": [
    "print('Verificando que es igual PA al producto LU')\n",
    "print('L*U:')\n",
    "pprint.pprint(L@U)\n",
    "print('P*A')\n",
    "pprint.pprint(P@A)\n",
    "\n"
   ]
  },
  {
   "cell_type": "code",
   "execution_count": 89,
   "metadata": {},
   "outputs": [
    {
     "name": "stdout",
     "output_type": "stream",
     "text": [
      "Usando los factores P,L,U para resolver AX = B\n"
     ]
    },
    {
     "ename": "LinAlgError",
     "evalue": "singular matrix: resolution failed at diagonal 2",
     "output_type": "error",
     "traceback": [
      "\u001b[0;31m---------------------------------------------------------------------------\u001b[0m",
      "\u001b[0;31mLinAlgError\u001b[0m                               Traceback (most recent call last)",
      "\u001b[0;32m<ipython-input-89-b035333c7733>\u001b[0m in \u001b[0;36m<module>\u001b[0;34m\u001b[0m\n\u001b[1;32m      1\u001b[0m \u001b[0mprint\u001b[0m\u001b[0;34m(\u001b[0m\u001b[0;34m'Usando los factores P,L,U para resolver AX = B'\u001b[0m\u001b[0;34m)\u001b[0m\u001b[0;34m\u001b[0m\u001b[0;34m\u001b[0m\u001b[0m\n\u001b[1;32m      2\u001b[0m \u001b[0mD\u001b[0m \u001b[0;34m=\u001b[0m \u001b[0mscipy\u001b[0m\u001b[0;34m.\u001b[0m\u001b[0mlinalg\u001b[0m\u001b[0;34m.\u001b[0m\u001b[0msolve_triangular\u001b[0m\u001b[0;34m(\u001b[0m\u001b[0mL\u001b[0m\u001b[0;34m,\u001b[0m\u001b[0mP\u001b[0m\u001b[0;34m@\u001b[0m\u001b[0mB\u001b[0m\u001b[0;34m,\u001b[0m\u001b[0mlower\u001b[0m\u001b[0;34m=\u001b[0m\u001b[0;32mTrue\u001b[0m\u001b[0;34m)\u001b[0m\u001b[0;34m\u001b[0m\u001b[0;34m\u001b[0m\u001b[0m\n\u001b[0;32m----> 3\u001b[0;31m \u001b[0mX\u001b[0m \u001b[0;34m=\u001b[0m \u001b[0mscipy\u001b[0m\u001b[0;34m.\u001b[0m\u001b[0mlinalg\u001b[0m\u001b[0;34m.\u001b[0m\u001b[0msolve_triangular\u001b[0m\u001b[0;34m(\u001b[0m\u001b[0mU\u001b[0m\u001b[0;34m,\u001b[0m\u001b[0mD\u001b[0m\u001b[0;34m)\u001b[0m \u001b[0;31m#default es usar una triangular superior\u001b[0m\u001b[0;34m\u001b[0m\u001b[0;34m\u001b[0m\u001b[0m\n\u001b[0m\u001b[1;32m      4\u001b[0m \u001b[0mprint\u001b[0m\u001b[0;34m(\u001b[0m\u001b[0;34m'X:'\u001b[0m\u001b[0;34m)\u001b[0m\u001b[0;34m\u001b[0m\u001b[0;34m\u001b[0m\u001b[0m\n\u001b[1;32m      5\u001b[0m \u001b[0mpprint\u001b[0m\u001b[0;34m.\u001b[0m\u001b[0mpprint\u001b[0m\u001b[0;34m(\u001b[0m\u001b[0mX\u001b[0m\u001b[0;34m)\u001b[0m\u001b[0;34m\u001b[0m\u001b[0;34m\u001b[0m\u001b[0m\n",
      "\u001b[0;32m~/.virtualenvs/propedeutico/lib/python3.6/site-packages/scipy/linalg/basic.py\u001b[0m in \u001b[0;36msolve_triangular\u001b[0;34m(a, b, trans, lower, unit_diagonal, overwrite_b, debug, check_finite)\u001b[0m\n\u001b[1;32m    351\u001b[0m     \u001b[0;32mif\u001b[0m \u001b[0minfo\u001b[0m \u001b[0;34m>\u001b[0m \u001b[0;36m0\u001b[0m\u001b[0;34m:\u001b[0m\u001b[0;34m\u001b[0m\u001b[0;34m\u001b[0m\u001b[0m\n\u001b[1;32m    352\u001b[0m         raise LinAlgError(\"singular matrix: resolution failed at diagonal %d\" %\n\u001b[0;32m--> 353\u001b[0;31m                           (info-1))\n\u001b[0m\u001b[1;32m    354\u001b[0m     raise ValueError('illegal value in %d-th argument of internal trtrs' %\n\u001b[1;32m    355\u001b[0m                      (-info))\n",
      "\u001b[0;31mLinAlgError\u001b[0m: singular matrix: resolution failed at diagonal 2"
     ]
    }
   ],
   "source": [
    "print('Usando los factores P,L,U para resolver AX = B')\n",
    "D = scipy.linalg.solve_triangular(L,P@B,lower=True)\n",
    "X = scipy.linalg.solve_triangular(U,D) #default es usar una triangular superior\n",
    "print('X:')\n",
    "pprint.pprint(X)"
   ]
  },
  {
   "cell_type": "code",
   "execution_count": 91,
   "metadata": {},
   "outputs": [
    {
     "name": "stdout",
     "output_type": "stream",
     "text": [
      "Verificamos que el resultado  de Ax sea igual a B (es decir, Ax=B)\n",
      "B : \n",
      "\n",
      "\n",
      "array([[0],\n",
      "       [0],\n",
      "       [0]])\n",
      "\n",
      "\n",
      "\n",
      "Ax: \n",
      "\n",
      "array([[-18.],\n",
      "       [-37.],\n",
      "       [-54.]])\n"
     ]
    }
   ],
   "source": [
    "print(\"Verificamos que el resultado  de Ax sea igual a B (es decir, Ax=B)\")\n",
    "print(\"B : \\n\\n\")\n",
    "pprint.pprint(B)\n",
    "print(\"\\n\\n\")\n",
    "print(\"Ax: \\n\")\n",
    "pprint.pprint(A@X)"
   ]
  },
  {
   "cell_type": "code",
   "execution_count": null,
   "metadata": {},
   "outputs": [],
   "source": []
  },
  {
   "cell_type": "code",
   "execution_count": null,
   "metadata": {},
   "outputs": [],
   "source": []
  },
  {
   "cell_type": "code",
   "execution_count": null,
   "metadata": {},
   "outputs": [],
   "source": []
  },
  {
   "cell_type": "code",
   "execution_count": null,
   "metadata": {},
   "outputs": [],
   "source": []
  },
  {
   "cell_type": "code",
   "execution_count": null,
   "metadata": {},
   "outputs": [],
   "source": []
  },
  {
   "cell_type": "code",
   "execution_count": null,
   "metadata": {},
   "outputs": [],
   "source": []
  },
  {
   "cell_type": "code",
   "execution_count": null,
   "metadata": {},
   "outputs": [],
   "source": []
  },
  {
   "cell_type": "code",
   "execution_count": null,
   "metadata": {},
   "outputs": [],
   "source": []
  },
  {
   "cell_type": "code",
   "execution_count": null,
   "metadata": {},
   "outputs": [],
   "source": []
  },
  {
   "cell_type": "code",
   "execution_count": null,
   "metadata": {},
   "outputs": [],
   "source": []
  },
  {
   "cell_type": "code",
   "execution_count": null,
   "metadata": {},
   "outputs": [],
   "source": []
  },
  {
   "cell_type": "code",
   "execution_count": null,
   "metadata": {},
   "outputs": [],
   "source": []
  },
  {
   "cell_type": "code",
   "execution_count": null,
   "metadata": {},
   "outputs": [],
   "source": []
  },
  {
   "cell_type": "code",
   "execution_count": null,
   "metadata": {},
   "outputs": [],
   "source": []
  },
  {
   "cell_type": "code",
   "execution_count": null,
   "metadata": {},
   "outputs": [],
   "source": []
  },
  {
   "cell_type": "code",
   "execution_count": null,
   "metadata": {},
   "outputs": [],
   "source": []
  },
  {
   "cell_type": "code",
   "execution_count": null,
   "metadata": {},
   "outputs": [],
   "source": []
  },
  {
   "cell_type": "code",
   "execution_count": null,
   "metadata": {},
   "outputs": [],
   "source": []
  },
  {
   "cell_type": "code",
   "execution_count": null,
   "metadata": {},
   "outputs": [],
   "source": []
  },
  {
   "cell_type": "code",
   "execution_count": null,
   "metadata": {},
   "outputs": [],
   "source": []
  },
  {
   "cell_type": "code",
   "execution_count": null,
   "metadata": {},
   "outputs": [],
   "source": []
  },
  {
   "cell_type": "code",
   "execution_count": null,
   "metadata": {},
   "outputs": [],
   "source": []
  },
  {
   "cell_type": "code",
   "execution_count": null,
   "metadata": {},
   "outputs": [],
   "source": []
  },
  {
   "cell_type": "code",
   "execution_count": null,
   "metadata": {},
   "outputs": [],
   "source": []
  },
  {
   "cell_type": "code",
   "execution_count": null,
   "metadata": {},
   "outputs": [],
   "source": []
  },
  {
   "cell_type": "code",
   "execution_count": null,
   "metadata": {},
   "outputs": [],
   "source": []
  },
  {
   "cell_type": "code",
   "execution_count": null,
   "metadata": {},
   "outputs": [],
   "source": []
  },
  {
   "cell_type": "code",
   "execution_count": null,
   "metadata": {},
   "outputs": [],
   "source": []
  },
  {
   "cell_type": "code",
   "execution_count": null,
   "metadata": {},
   "outputs": [],
   "source": []
  }
 ],
 "metadata": {
  "kernelspec": {
   "display_name": "Python 3",
   "language": "python",
   "name": "python3"
  },
  "language_info": {
   "codemirror_mode": {
    "name": "ipython",
    "version": 3
   },
   "file_extension": ".py",
   "mimetype": "text/x-python",
   "name": "python",
   "nbconvert_exporter": "python",
   "pygments_lexer": "ipython3",
   "version": "3.6.8"
  }
 },
 "nbformat": 4,
 "nbformat_minor": 2
}
