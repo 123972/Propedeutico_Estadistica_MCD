{
 "cells": [
  {
   "cell_type": "markdown",
   "metadata": {},
   "source": [
    "# Práctica 1"
   ]
  },
  {
   "cell_type": "markdown",
   "metadata": {},
   "source": [
    "## Variables"
   ]
  },
  {
   "cell_type": "markdown",
   "metadata": {},
   "source": [
    "Iniciaremos con una declaración de integer"
   ]
  },
  {
   "cell_type": "code",
   "execution_count": 1,
   "metadata": {},
   "outputs": [
    {
     "name": "stdout",
     "output_type": "stream",
     "text": [
      "la variable a contiene: 1\n",
      "la variable b contiene: 2\n"
     ]
    }
   ],
   "source": [
    "a=1\n",
    "b=2\n",
    "print('la variable a contiene:',a)\n",
    "print('la variable b contiene:',b)"
   ]
  },
  {
   "cell_type": "markdown",
   "metadata": {},
   "source": [
    "  "
   ]
  },
  {
   "cell_type": "markdown",
   "metadata": {},
   "source": [
    "Creamos una variable como la suma de a y b, que se llama c:"
   ]
  },
  {
   "cell_type": "code",
   "execution_count": 2,
   "metadata": {},
   "outputs": [
    {
     "name": "stdout",
     "output_type": "stream",
     "text": [
      "3\n"
     ]
    }
   ],
   "source": [
    "c= a+b\n",
    "\n",
    "print(c)"
   ]
  },
  {
   "cell_type": "markdown",
   "metadata": {},
   "source": [
    "  "
   ]
  },
  {
   "cell_type": "markdown",
   "metadata": {},
   "source": [
    "Como a y b son variables numéricas, podemos hacer una suma o incluso una multiplicación. por ejemplo, multiplicar c*b y guardarlo en la variable c"
   ]
  },
  {
   "cell_type": "code",
   "execution_count": 3,
   "metadata": {},
   "outputs": [
    {
     "name": "stdout",
     "output_type": "stream",
     "text": [
      "Entonces, C queda como: 6\n"
     ]
    }
   ],
   "source": [
    "c= c*b\n",
    "print('Entonces, C queda como:',c)"
   ]
  },
  {
   "cell_type": "markdown",
   "metadata": {},
   "source": [
    "  "
   ]
  },
  {
   "cell_type": "markdown",
   "metadata": {},
   "source": [
    "## Strings\n",
    "Iniciaremos con un string y declaración de strings:"
   ]
  },
  {
   "cell_type": "code",
   "execution_count": 4,
   "metadata": {},
   "outputs": [
    {
     "name": "stdout",
     "output_type": "stream",
     "text": [
      "la variable a contiene: Iniciando\n",
      "la variable b contiene: propedeutico\n"
     ]
    }
   ],
   "source": [
    "a='Iniciando'\n",
    "b='propedeutico'\n",
    "print('la variable a contiene:',a)\n",
    "print('la variable b contiene:',b)"
   ]
  },
  {
   "cell_type": "markdown",
   "metadata": {},
   "source": [
    "  "
   ]
  },
  {
   "cell_type": "markdown",
   "metadata": {},
   "source": [
    "Creamos una variable como la suma de a y b, que se llama c:"
   ]
  },
  {
   "cell_type": "code",
   "execution_count": 5,
   "metadata": {},
   "outputs": [
    {
     "name": "stdout",
     "output_type": "stream",
     "text": [
      "Iniciando propedeutico  => entonces, C es una concatenación de a y b\n"
     ]
    }
   ],
   "source": [
    "c= a+' '+b\n",
    "\n",
    "print(c,' => entonces, C es una concatenación de a y b')"
   ]
  },
  {
   "cell_type": "code",
   "execution_count": 6,
   "metadata": {},
   "outputs": [
    {
     "name": "stdout",
     "output_type": "stream",
     "text": [
      "También se puede imprimir un texto de forma incompleta:\n",
      "Inicia\n"
     ]
    }
   ],
   "source": [
    "print('También se puede imprimir un texto de forma incompleta:')\n",
    "print(c[0:6])"
   ]
  },
  {
   "cell_type": "code",
   "execution_count": 7,
   "metadata": {},
   "outputs": [
    {
     "name": "stdout",
     "output_type": "stream",
     "text": [
      "Por otro lado, también se pueden separar por varios valores. por ejemplo, el espacio:\n",
      "['Iniciando', 'propedeutico']\n"
     ]
    }
   ],
   "source": [
    "print('Por otro lado, también se pueden separar por varios valores. por ejemplo, el espacio:')\n",
    "print(c.split())"
   ]
  },
  {
   "cell_type": "code",
   "execution_count": 8,
   "metadata": {},
   "outputs": [
    {
     "name": "stdout",
     "output_type": "stream",
     "text": [
      "Un String es un objeto inmutable, es por esto que si intento cambiar una letra por otra no me lo permitirá:\n"
     ]
    },
    {
     "ename": "TypeError",
     "evalue": "'str' object does not support item assignment",
     "output_type": "error",
     "traceback": [
      "\u001b[0;31m---------------------------------------------------------------------------\u001b[0m",
      "\u001b[0;31mTypeError\u001b[0m                                 Traceback (most recent call last)",
      "\u001b[0;32m<ipython-input-8-559474a86429>\u001b[0m in \u001b[0;36m<module>\u001b[0;34m\u001b[0m\n\u001b[1;32m      1\u001b[0m \u001b[0mprint\u001b[0m\u001b[0;34m(\u001b[0m\u001b[0;34m'Un String es un objeto inmutable, es por esto que si intento cambiar una letra por otra no me lo permitirá:'\u001b[0m\u001b[0;34m)\u001b[0m\u001b[0;34m\u001b[0m\u001b[0;34m\u001b[0m\u001b[0m\n\u001b[0;32m----> 2\u001b[0;31m \u001b[0mc\u001b[0m\u001b[0;34m[\u001b[0m\u001b[0;36m10\u001b[0m\u001b[0;34m]\u001b[0m\u001b[0;34m=\u001b[0m\u001b[0;34m'hola'\u001b[0m\u001b[0;34m\u001b[0m\u001b[0;34m\u001b[0m\u001b[0m\n\u001b[0m",
      "\u001b[0;31mTypeError\u001b[0m: 'str' object does not support item assignment"
     ]
    }
   ],
   "source": [
    "print('Un String es un objeto inmutable, es por esto que si intento cambiar una letra por otra no me lo permitirá:')\n",
    "c[10]='hola'"
   ]
  },
  {
   "cell_type": "markdown",
   "metadata": {},
   "source": [
    "  "
   ]
  },
  {
   "cell_type": "markdown",
   "metadata": {},
   "source": [
    "## Tuplas\n",
    "Hacer una tupla es como agrupar varios elementos que deben ser del mismo tipo en una sola variable de la siguiente manera:\n",
    "Primero \"Empacamos\" la tupla:"
   ]
  },
  {
   "cell_type": "code",
   "execution_count": 10,
   "metadata": {},
   "outputs": [
    {
     "name": "stdout",
     "output_type": "stream",
     "text": [
      "('Hola', 'Estoy', 'Saludandote')\n"
     ]
    }
   ],
   "source": [
    "tupla=('Hola','Estoy','Saludandote')\n",
    "print(tupla)"
   ]
  },
  {
   "cell_type": "code",
   "execution_count": 11,
   "metadata": {},
   "outputs": [
    {
     "name": "stdout",
     "output_type": "stream",
     "text": [
      "Para desempacar la tupla, le asignamos cada valor de la tupla a una variable que tomará el tipo de dato de el elemento, quedando de la siguiente manera:\n",
      "Saludandote\n"
     ]
    }
   ],
   "source": [
    "print('Para desempacar la tupla, le asignamos cada valor de la tupla a una variable que tomará el tipo de dato de el elemento, quedando de la siguiente manera:')\n",
    "saludo,quien,verbo=tupla\n",
    "print(verbo)"
   ]
  },
  {
   "cell_type": "code",
   "execution_count": 12,
   "metadata": {},
   "outputs": [
    {
     "name": "stdout",
     "output_type": "stream",
     "text": [
      "También podemos hacer tuplas de tuplas:\n",
      "('Soy', 'Angel Rafael', 'Ortega Ramírez', (29, 8, 1992), 123972)\n"
     ]
    }
   ],
   "source": [
    "print ('También podemos hacer tuplas de tuplas:')\n",
    "dobletupla=('Soy','Angel Rafael','Ortega Ramírez',(29,8,1992),123972)\n",
    "print(dobletupla)"
   ]
  },
  {
   "cell_type": "code",
   "execution_count": 13,
   "metadata": {},
   "outputs": [
    {
     "name": "stdout",
     "output_type": "stream",
     "text": [
      "Ahora, si quiero mostrar mi clave unica, puedo hacer lo siguiente:\n",
      "123972\n"
     ]
    }
   ],
   "source": [
    "print('Ahora, si quiero mostrar mi clave unica, puedo hacer lo siguiente:')\n",
    "print(dobletupla[4]) #por que mi clave única está en la posición número 4"
   ]
  },
  {
   "cell_type": "code",
   "execution_count": 14,
   "metadata": {},
   "outputs": [
    {
     "name": "stdout",
     "output_type": "stream",
     "text": [
      "si quiero extraer el valor de mi fecha de nacimiento, después de guardarla en una variable, sería así:\n",
      "1992\n"
     ]
    }
   ],
   "source": [
    "print('si quiero extraer el valor de mi fecha de nacimiento, después de guardarla en una variable, sería así:')\n",
    "quien,nombre,apellidos,fechaNac,clave=dobletupla\n",
    "print(fechaNac[2])"
   ]
  },
  {
   "cell_type": "code",
   "execution_count": 15,
   "metadata": {},
   "outputs": [
    {
     "name": "stdout",
     "output_type": "stream",
     "text": [
      "Como las tuplas son inmutables, no podría cambiar mi fecha de nacimiento:\n"
     ]
    },
    {
     "ename": "TypeError",
     "evalue": "'tuple' object does not support item assignment",
     "output_type": "error",
     "traceback": [
      "\u001b[0;31m---------------------------------------------------------------------------\u001b[0m",
      "\u001b[0;31mTypeError\u001b[0m                                 Traceback (most recent call last)",
      "\u001b[0;32m<ipython-input-15-c151a5da30b5>\u001b[0m in \u001b[0;36m<module>\u001b[0;34m\u001b[0m\n\u001b[1;32m      1\u001b[0m \u001b[0mprint\u001b[0m\u001b[0;34m(\u001b[0m\u001b[0;34m'Como las tuplas son inmutables, no podría cambiar mi fecha de nacimiento:'\u001b[0m\u001b[0;34m)\u001b[0m\u001b[0;34m\u001b[0m\u001b[0;34m\u001b[0m\u001b[0m\n\u001b[1;32m      2\u001b[0m \u001b[0;31m#Asigno nueva fecha de nacimiento:\u001b[0m\u001b[0;34m\u001b[0m\u001b[0;34m\u001b[0m\u001b[0;34m\u001b[0m\u001b[0m\n\u001b[0;32m----> 3\u001b[0;31m \u001b[0mfechaNac\u001b[0m\u001b[0;34m[\u001b[0m\u001b[0;36m2\u001b[0m\u001b[0;34m]\u001b[0m\u001b[0;34m=\u001b[0m\u001b[0;36m2020\u001b[0m\u001b[0;34m\u001b[0m\u001b[0;34m\u001b[0m\u001b[0m\n\u001b[0m",
      "\u001b[0;31mTypeError\u001b[0m: 'tuple' object does not support item assignment"
     ]
    }
   ],
   "source": [
    "print('Como las tuplas son inmutables, no podría cambiar mi fecha de nacimiento:')\n",
    "#Asigno nueva fecha de nacimiento:\n",
    "fechaNac[2]=2020"
   ]
  },
  {
   "cell_type": "markdown",
   "metadata": {},
   "source": [
    "   "
   ]
  },
  {
   "cell_type": "markdown",
   "metadata": {},
   "source": [
    "## Listas\n",
    "Las listas si se pueden modificar, a diferencia de las tuplas. Por ejemplo, crearemos una lista con mucha originalidad, llamándola lista1. A diferencia de las tuplas, las listas se crean con [] en lugar de ().\n",
    "Sus elementos y tamaño puede ser modificado\n"
   ]
  },
  {
   "cell_type": "code",
   "execution_count": 19,
   "metadata": {},
   "outputs": [
    {
     "name": "stdout",
     "output_type": "stream",
     "text": [
      "la fecha de nacimiento inicial sería: [29, 8, 1992]\n"
     ]
    }
   ],
   "source": [
    "lista1=[29,8,1992]\n",
    "#esta lista indica mi fecha de nacimiento:\n",
    "print('la fecha de nacimiento inicial sería:',lista1)"
   ]
  },
  {
   "cell_type": "code",
   "execution_count": 20,
   "metadata": {},
   "outputs": [
    {
     "name": "stdout",
     "output_type": "stream",
     "text": [
      "Como es una lista, si puedo modificar el año o cualquier otro valor. por ejemplo, supongamos que nací en 1997 en lugar de 1992:\n",
      "Nueva fecha de nacimiento: [29, 8, 1997]\n"
     ]
    }
   ],
   "source": [
    "print('Como es una lista, si puedo modificar el año o cualquier otro valor. por ejemplo, supongamos que nací en 1997 en lugar de 1992:')\n",
    "lista1[2]=1997\n",
    "print('Nueva fecha de nacimiento:',lista1)"
   ]
  },
  {
   "cell_type": "code",
   "execution_count": 21,
   "metadata": {},
   "outputs": [
    {
     "name": "stdout",
     "output_type": "stream",
     "text": [
      "A una lista puedo agregarle un elemento. en este caso, agregaré mi clave única(al final de ella):\n",
      "[29, 8, 1997, 123972]\n"
     ]
    }
   ],
   "source": [
    "print('A una lista puedo agregarle un elemento. en este caso, agregaré mi clave única(al final de ella):')\n",
    "lista1.append(123972)\n",
    "print(lista1)"
   ]
  },
  {
   "cell_type": "code",
   "execution_count": 22,
   "metadata": {},
   "outputs": [
    {
     "name": "stdout",
     "output_type": "stream",
     "text": [
      "También, puedo determinar su longitud:\n",
      "4\n"
     ]
    }
   ],
   "source": [
    "print('También, puedo determinar su longitud:')\n",
    "print(len(lista1))"
   ]
  },
  {
   "cell_type": "code",
   "execution_count": 23,
   "metadata": {},
   "outputs": [
    {
     "name": "stdout",
     "output_type": "stream",
     "text": [
      "O, modificar algun elemento en particular o un conjunto de elementos\n",
      "['jelou', 'Otra', 'Ves']\n"
     ]
    }
   ],
   "source": [
    "print('O, modificar algun elemento en particular o un conjunto de elementos')\n",
    "#suponiendo que tengo una lista de strings...\n",
    "lista2=['Hola','Otra','Ves']\n",
    "lista2[0]='jelou'\n",
    "print (lista2)"
   ]
  },
  {
   "cell_type": "markdown",
   "metadata": {},
   "source": [
    "También puedo modificar más de un elemento a la vez, suponiendo que tengo una lista más larga:\n",
    "Si agrego un valor al inicio de la lista:"
   ]
  },
  {
   "cell_type": "code",
   "execution_count": 24,
   "metadata": {},
   "outputs": [
    {
     "name": "stdout",
     "output_type": "stream",
     "text": [
      "Insertando un 5.0 al inicio de la lista\n",
      " [5.0, 10.0, 20.0, 30.0, 40.0, 50.0]\n"
     ]
    }
   ],
   "source": [
    "lista3=[10.0,20.0,30.0,40.0,50.0]\n",
    "lista3.insert(0,5.0)\n",
    "print(\"Insertando un 5.0 al inicio de la lista\\n\",lista3)"
   ]
  },
  {
   "cell_type": "code",
   "execution_count": 25,
   "metadata": {},
   "outputs": [
    {
     "name": "stdout",
     "output_type": "stream",
     "text": [
      "Imprimiendo la longitud de la lista 3: 6\n"
     ]
    }
   ],
   "source": [
    "#determinando el largo de la lista:\n",
    "print(\"Imprimiendo la longitud de la lista 3:\",len(lista3))"
   ]
  },
  {
   "cell_type": "code",
   "execution_count": 26,
   "metadata": {},
   "outputs": [
    {
     "name": "stdout",
     "output_type": "stream",
     "text": [
      "Imprimiendo la lista a después de modificar todos los valores a 8.0: \n",
      " [5.0, 80.0, 80.0, 80.0, 30.0, 40.0, 50.0]\n"
     ]
    }
   ],
   "source": [
    "#modificar los elementos de la lista por el mismo valor\n",
    "lista3[1:3] = [80.0,80.0,80.0]\n",
    "print(\"Imprimiendo la lista a después de modificar todos los valores a 8.0: \\n\",lista3)"
   ]
  },
  {
   "cell_type": "code",
   "execution_count": 27,
   "metadata": {},
   "outputs": [
    {
     "name": "stdout",
     "output_type": "stream",
     "text": [
      "Imprimiendo la lista a luego de modificar varios valores al mismo tiempo:\n",
      " [5.0, 1.0, 2.0, 3.0, 80.0, 30.0, 40.0, 50.0]\n"
     ]
    }
   ],
   "source": [
    "#por distintos valores\n",
    "lista3[1:3] = [1.0,2.0,3.0]\n",
    "print(\"Imprimiendo la lista a luego de modificar varios valores al mismo tiempo:\\n\",lista3) \n",
    "#revisar con profesor, está agregando un elemento en lugar de solo modificarlo"
   ]
  },
  {
   "cell_type": "markdown",
   "metadata": {},
   "source": [
    "Nota importante: si el elemento a es un objeto mutable, como una lista, la asignación b=a no resulta en un nuevo objeto b, sino que simplemente crea una nueva referencia al elemento a. Por lo tanto, cualquier cambio hecho a \"b\" se verá reflejado en \"a\". Para crear una copia independiente de una lista \"a\", se tiene que usar la instrucción c = a[:]"
   ]
  },
  {
   "cell_type": "code",
   "execution_count": 28,
   "metadata": {},
   "outputs": [
    {
     "name": "stdout",
     "output_type": "stream",
     "text": [
      "Reiniciando el valor de a: \n",
      " [100.0, 200.0, 300.0, 400.0] \n",
      " \n",
      "\n",
      "b es una referencia a a:\n",
      " [100.0, 200.0, 300.0, 400.0]\n"
     ]
    }
   ],
   "source": [
    "#Ejemplo:\n",
    "a = [100.0,200.0,300.0,400.0]\n",
    "b=a\n",
    "\n",
    "print(\"Reiniciando el valor de a: \\n\",a,\"\\n\",\"\\n\")\n",
    "print(\"b es una referencia a a:\\n\",b)"
   ]
  },
  {
   "cell_type": "markdown",
   "metadata": {},
   "source": [
    "Si modificamos el valor de \"b\", \"a\" estará afectado por solo ser una referencia a \"a\", no una lista independiente"
   ]
  },
  {
   "cell_type": "code",
   "execution_count": 29,
   "metadata": {},
   "outputs": [
    {
     "name": "stdout",
     "output_type": "stream",
     "text": [
      "Imprimiendo a luego de poner b[0]=19875.0, notar qu se modifica el valor de a [19875.0, 200.0, 300.0, 400.0]\n"
     ]
    }
   ],
   "source": [
    "b[0] = 19875.0\n",
    "\n",
    "print(\"Imprimiendo a luego de poner b[0]=19875.0, notar qu se modifica el valor de a\",a) \n",
    "#se ve que el cambio afectó a \"a\""
   ]
  },
  {
   "cell_type": "markdown",
   "metadata": {},
   "source": [
    "Para evitar modificaciones sobre \"a\" cuando queremos solamente modificar la nueva lista, se crea una nueva copia independiente de a de la siguiente forma:"
   ]
  },
  {
   "cell_type": "code",
   "execution_count": 30,
   "metadata": {},
   "outputs": [
    {
     "name": "stdout",
     "output_type": "stream",
     "text": [
      "se crea una nueva lista (c) a como copia independiente de a: [19875.0, 200.0, 300.0, 400.0]\n",
      "se imprime a: [19875.0, 200.0, 300.0, 400.0]\n",
      "se imprime c: [1.0, 200.0, 300.0, 400.0]\n",
      "el cambio solamente afectó a c, por que c es una copia independiente de a\n"
     ]
    }
   ],
   "source": [
    "c=a[:]\n",
    "print(\"se crea una nueva lista (c) a como copia independiente de a:\",c)\n",
    "\n",
    "c[0]=1.0\n",
    "\n",
    "print(\"se imprime a:\",a)\n",
    "print(\"se imprime c:\",c)\n",
    "\n",
    "print(\"el cambio solamente afectó a c, por que c es una copia independiente de a\")"
   ]
  },
  {
   "cell_type": "markdown",
   "metadata": {},
   "source": [
    "Las matrices pueden ser representadas como listas anidadas, con cada renglón siendo un elemento de la lista"
   ]
  },
  {
   "cell_type": "code",
   "execution_count": 31,
   "metadata": {},
   "outputs": [
    {
     "name": "stdout",
     "output_type": "stream",
     "text": [
      "se inicia otra vez a, pero ahora como una matriz:\n",
      "[[1, 2, 3], [4, 5, 6], [7, 8, 9]]\n"
     ]
    }
   ],
   "source": [
    "print(\"se inicia otra vez a, pero ahora como una matriz:\")\n",
    "a = [[1,2,3], \\\n",
    "     [4,5,6], \\\n",
    "     [7,8,9]]\n",
    "\n",
    "#Nota importante, la diagonal invertida \\ se hace con el teclado poniendo alt gr+el simbolo de pregunta\n",
    "\n",
    "print(a)"
   ]
  },
  {
   "cell_type": "code",
   "execution_count": 32,
   "metadata": {},
   "outputs": [
    {
     "name": "stdout",
     "output_type": "stream",
     "text": [
      "En las matrices, podemos acceder a un renglón completo\n",
      "[1, 2, 3]\n",
      "o bien, acceder solamente a un valor en particular:\n",
      "1\n"
     ]
    }
   ],
   "source": [
    "print(\"En las matrices, podemos acceder a un renglón completo\")\n",
    "print(a[0])\n",
    "\n",
    "print(\"o bien, acceder solamente a un valor en particular:\")\n",
    "print(a[0][0])"
   ]
  },
  {
   "cell_type": "markdown",
   "metadata": {},
   "source": [
    "La diagonal invertida es el caracter de continuación de Python.\n",
    "Python tiene numeraciones a partir del 0, por lo que a[0] representa el primer renglón, a[1] representa el segundo, etc. \n",
    "Con pocas excepciones, no usamos listas como arreglos numéricos; es mucho más conveniente utilizar objetos de tipo array, incluídos en el módulo de numpy."
   ]
  },
  {
   "cell_type": "markdown",
   "metadata": {},
   "source": [
    "## Operadores Aritméticos\n",
    "Python soporta los operadores aritméticos usuales:\n",
    "\n",
    "\n",
    "- \"+ --> Adición o suma\"  <br>\n",
    "- \"- --> Substracción o Resta\" <br>\n",
    "- \"* --> Multiplicación\" <br>\n",
    "- \"/ --> División\" <br>\n",
    "- \"** --> Exponenciación o potencia\"<br>\n",
    "- \"% --> División Modular\" <br>"
   ]
  },
  {
   "cell_type": "code",
   "execution_count": 33,
   "metadata": {},
   "outputs": [
    {
     "name": "stdout",
     "output_type": "stream",
     "text": [
      "algunos operadores están definidos para objetos de tipo string\n"
     ]
    }
   ],
   "source": [
    "print(\"algunos operadores están definidos para objetos de tipo string\")\n",
    "s = \"trabajando\"\n",
    "t= \"estoy\"\n",
    "u= \"hola\"\n",
    "a=[4,5,6]"
   ]
  },
  {
   "cell_type": "code",
   "execution_count": 34,
   "metadata": {},
   "outputs": [
    {
     "name": "stdout",
     "output_type": "stream",
     "text": [
      "se puede hacer repetición con el operador *:\n",
      "holaholaholaholaholaholaholaholaholahola\n"
     ]
    }
   ],
   "source": [
    "print(\"se puede hacer repetición con el operador *:\")\n",
    "print(u*10)"
   ]
  },
  {
   "cell_type": "code",
   "execution_count": 35,
   "metadata": {},
   "outputs": [
    {
     "name": "stdout",
     "output_type": "stream",
     "text": [
      "también imprimir la lista repetida n veces:\n",
      "[4, 5, 6, 4, 5, 6, 4, 5, 6]\n"
     ]
    }
   ],
   "source": [
    "print(\"también imprimir la lista repetida n veces:\")\n",
    "print(3*a)"
   ]
  },
  {
   "cell_type": "code",
   "execution_count": 36,
   "metadata": {},
   "outputs": [
    {
     "name": "stdout",
     "output_type": "stream",
     "text": [
      "se pueden agregar elementos a una lista, como si fuera la función append:\n",
      "[4, 5, 6, 7, 8]\n"
     ]
    }
   ],
   "source": [
    "print(\"se pueden agregar elementos a una lista, como si fuera la función append:\")\n",
    "print(a+[7,8])"
   ]
  },
  {
   "cell_type": "code",
   "execution_count": 37,
   "metadata": {},
   "outputs": [
    {
     "name": "stdout",
     "output_type": "stream",
     "text": [
      "Con el simbolo + se pueden hacer concatenaciones:\n",
      "estoytrabajando\n",
      "haciendo la concatenación con espacio:\n",
      "estoy trabajando\n"
     ]
    }
   ],
   "source": [
    "print(\"Con el simbolo + se pueden hacer concatenaciones:\")\n",
    "print(t+s)\n",
    "print(\"haciendo la concatenación con espacio:\")\n",
    "print(t+\" \"+s)"
   ]
  },
  {
   "cell_type": "code",
   "execution_count": 38,
   "metadata": {},
   "outputs": [
    {
     "name": "stdout",
     "output_type": "stream",
     "text": [
      "por otro lado, una adición de un número con un string no tendría sentido, por lo que marca error:\n"
     ]
    },
    {
     "ename": "TypeError",
     "evalue": "unsupported operand type(s) for +: 'int' and 'str'",
     "output_type": "error",
     "traceback": [
      "\u001b[0;31m---------------------------------------------------------------------------\u001b[0m",
      "\u001b[0;31mTypeError\u001b[0m                                 Traceback (most recent call last)",
      "\u001b[0;32m<ipython-input-38-000c803b8daa>\u001b[0m in \u001b[0;36m<module>\u001b[0;34m\u001b[0m\n\u001b[1;32m      1\u001b[0m \u001b[0mprint\u001b[0m\u001b[0;34m(\u001b[0m\u001b[0;34m\"por otro lado, una adición de un número con un string no tendría sentido, por lo que marca error:\"\u001b[0m\u001b[0;34m)\u001b[0m\u001b[0;34m\u001b[0m\u001b[0;34m\u001b[0m\u001b[0m\n\u001b[0;32m----> 2\u001b[0;31m \u001b[0mprint\u001b[0m\u001b[0;34m(\u001b[0m\u001b[0;36m10\u001b[0m\u001b[0;34m+\u001b[0m\u001b[0ms\u001b[0m\u001b[0;34m)\u001b[0m\u001b[0;34m\u001b[0m\u001b[0;34m\u001b[0m\u001b[0m\n\u001b[0m",
      "\u001b[0;31mTypeError\u001b[0m: unsupported operand type(s) for +: 'int' and 'str'"
     ]
    }
   ],
   "source": [
    "print(\"por otro lado, una adición de un número con un string no tendría sentido, por lo que marca error:\")\n",
    "print(10+s)"
   ]
  },
  {
   "cell_type": "markdown",
   "metadata": {},
   "source": [
    "Python también tiene operadores de asignación aumentada:<br>\n",
    "- a+=b --> a = a+b <br>\n",
    "- a-=b --> a = a-b <br>\n",
    "- a*=b --> a = a*b <br>\n",
    "- a/=b --> a = a/b <br>\n",
    "- a**=b --> a = a**b  <br>\n",
    "- a%=b --> a = a%b <br>"
   ]
  },
  {
   "cell_type": "markdown",
   "metadata": {},
   "source": [
    "   "
   ]
  },
  {
   "cell_type": "markdown",
   "metadata": {},
   "source": [
    "## Operadores de Comparación"
   ]
  },
  {
   "cell_type": "markdown",
   "metadata": {},
   "source": [
    "Los operadores de comparación o relacionales dan como resultado\n",
    "VERDADERO o FALSO.<br>\n",
    "\n",
    "- \"<\" --> menor que<br>\n",
    "- \">\" --> mayor que<br>\n",
    "- \"<=\" --> menor o igual que<br>\n",
    "- \">=\" --> mayor o igual que<br>\n",
    "- \"==\" --> igual a <br>\n",
    "- \"!=\" --> no igual a<br>"
   ]
  },
  {
   "cell_type": "markdown",
   "metadata": {},
   "source": [
    "Números de diferente tipo (integer, floating point, etc) sin convertidos primero a un tipo coún antes de hacer las comparaciones. De otra forma, los objetos de diferente tipo serán considerados como diferentes. "
   ]
  },
  {
   "cell_type": "code",
   "execution_count": 39,
   "metadata": {},
   "outputs": [
    {
     "name": "stdout",
     "output_type": "stream",
     "text": [
      "comparando a con b (a<b): False\n",
      "comparando a con c (a==c): False\n",
      "comparando (a > b) y (a != c)\n",
      "True\n"
     ]
    }
   ],
   "source": [
    "#a es un integer\n",
    "a = 20\n",
    "#b es un floating point\n",
    "b = 19.99\n",
    "#c es un String\n",
    "c = \"20\"\n",
    "\n",
    "print(\"comparando a con b (a<b):\", a<b)\n",
    "print(\"comparando a con c (a==c):\", a==c)\n",
    "print(\"comparando (a > b) y (a != c)\")\n",
    "print((a>b) and (a!=c))"
   ]
  },
  {
   "cell_type": "code",
   "execution_count": 40,
   "metadata": {},
   "outputs": [
    {
     "name": "stdout",
     "output_type": "stream",
     "text": [
      "comparando (a > b) y (a == b)\n",
      "False\n"
     ]
    }
   ],
   "source": [
    "print(\"comparando (a > b) y (a == b)\")\n",
    "print((a>b) and (a==b))"
   ]
  },
  {
   "cell_type": "markdown",
   "metadata": {},
   "source": [
    "   "
   ]
  },
  {
   "cell_type": "markdown",
   "metadata": {},
   "source": [
    "## Condicionales\n",
    "El constructo IF\n",
    "\n",
    "### Condicional if\n",
    "\n",
    " if (condición):<br>\n",
    "   bloque\n",
    "\n",
    "ejecuta un bloque de declaraciones (que deben tener sangría) si la condición resulta ser cierta. si la condición es falsa, se salta el bloque. puede ser seguido de cualquier número de elif(corto de else if)\n",
    "\n",
    " elif (condition):<br>\n",
    "     bloque\n",
    "\n",
    "de igual manera, funciona el bloque else\n",
    " else (condicion):<br>\n",
    "       bloque\n",
    "\n",
    "esta indicación puede ser usada para definir el bloque de declaraciones que se van a ejecutar si ninguna de las condiciones del if-elseif son verdaderas."
   ]
  },
  {
   "cell_type": "code",
   "execution_count": 41,
   "metadata": {},
   "outputs": [
    {
     "name": "stdout",
     "output_type": "stream",
     "text": [
      "b es:  positivo\n"
     ]
    }
   ],
   "source": [
    "#definiendo una función\n",
    "def condiciones_condicional(a):\n",
    "    if a<0.0:\n",
    "        resultado = \"negativo\"\n",
    "    elif a>0.0:\n",
    "        resultado = \"positivo\"\n",
    "    else:\n",
    "        resultado = \"cero\"\n",
    "    return resultado\n",
    "\n",
    "b = 10.0\n",
    "print(\"b es: \",condiciones_condicional(b))"
   ]
  },
  {
   "cell_type": "code",
   "execution_count": 42,
   "metadata": {},
   "outputs": [
    {
     "name": "stdout",
     "output_type": "stream",
     "text": [
      "Rafa:  Es Mayor de 18 años\n"
     ]
    }
   ],
   "source": [
    "import datetime\n",
    "\n",
    "#un ejemplo mio:\n",
    "#suponiendo que el input de la función es una tupla con los datos de una persona:\n",
    "dobletupla=('Soy','Angel Rafael','Ortega Ramírez',(29,8,1992),123972)\n",
    "\n",
    "def tiene_18_anos(tuplapersona):\n",
    "    x = datetime.datetime.now()\n",
    "    quien,nombre,apellidos,fechaNac,clave=tuplapersona\n",
    "    año_nac = fechaNac[2]\n",
    "    a = x.year\n",
    "    comp = a-año_nac\n",
    "    if comp < 18:\n",
    "        resultado = \"Es menor de 18 años\"\n",
    "    elif comp>18:\n",
    "        resultado = \"Es Mayor de 18 años\"\n",
    "    else:\n",
    "        resultado = \"Tiene justo 18 años\"\n",
    "    return resultado\n",
    "\n",
    "print(\"Rafa: \",tiene_18_anos(dobletupla))"
   ]
  },
  {
   "cell_type": "markdown",
   "metadata": {},
   "source": [
    "   "
   ]
  },
  {
   "cell_type": "markdown",
   "metadata": {},
   "source": [
    "## Loops o Ciclos\n",
    "### Inicia con el condicional While:\n",
    "El constructo While:\n",
    "\n",
    "while (condicion):<br>\n",
    "     bloque\n",
    "\n",
    "Ejecuta un bloque con sangría si la condición es cierta. después  de la ejecución del bloque, la condición es evaluada nuevamente. si sigue siendo cierta, el bloque se ejecuta nuevamente. Esta ejecución  continúa mientras la condición siga siendo cierta, hasta que sea falsa. La clausula else \n",
    "\n",
    "else (condición):<br>\n",
    "     bloque \n",
    "\n",
    "Puede ser usada para definir el bloque de declaraciones que se ejecutarán si la condición resulta ser falsa. "
   ]
  },
  {
   "cell_type": "code",
   "execution_count": 43,
   "metadata": {},
   "outputs": [
    {
     "name": "stdout",
     "output_type": "stream",
     "text": [
      "[2, 3, 4, 5, 6, 7, 8, 9, 10]\n",
      "4950\n"
     ]
    }
   ],
   "source": [
    "numMaximo = 10\n",
    "n = 1\n",
    "#creamos una lista vacía\n",
    "a = []\n",
    "\n",
    "while n<numMaximo:\n",
    "  #agrega un elemento a la lsta\n",
    "  a.append(n+1)\n",
    "  n += 1\n",
    "print(a)\n",
    "\n",
    "#mi Ejemplo:\n",
    "\n",
    "indicador = 100\n",
    "sumando = 0\n",
    "i = 1\n",
    "\n",
    "\n",
    "while i<indicador:\n",
    "    sumando = sumando + i\n",
    "    i += 1\n",
    "print (sumando)"
   ]
  },
  {
   "cell_type": "markdown",
   "metadata": {},
   "source": [
    "## Continuamos con el for:\n",
    "La declaración del for requiere un objetivo y una secuencia sobre la cual se va a realizar el ciclo. El constructo del for es:\n",
    "\n",
    "for (target) in (sequence):<br>\n",
    "   bloque\n",
    "\n",
    "Se puede agregar un else que se ejecuta cuando el ciclo del loop termina otra forma de escribir el ciclo realizado con el while sería:"
   ]
  },
  {
   "cell_type": "code",
   "execution_count": 44,
   "metadata": {},
   "outputs": [
    {
     "name": "stdout",
     "output_type": "stream",
     "text": [
      "[1, 2, 3, 4, 5, 6, 7, 8, 9, 10]\n",
      "el ejemplo de la suma se puede escribir como: \n",
      "4950\n"
     ]
    }
   ],
   "source": [
    "numMaximo = 10\n",
    "a = []\n",
    "\n",
    "for n in range(0,numMaximo):\n",
    "  #agrega un elemento a la lista\n",
    "  a.append(n+1)\n",
    "print(a)\n",
    "\n",
    "print(\"el ejemplo de la suma se puede escribir como: \")\n",
    "sumando = 0\n",
    "indicador = 100\n",
    "\n",
    "for i in range(0,indicador):\n",
    "    sumando = sumando + i\n",
    "print (sumando)"
   ]
  },
  {
   "cell_type": "markdown",
   "metadata": {},
   "source": [
    "Cualquier ciclo puede ser terminado con la indicación break. En ese caso, si hay un else asociado al ciclo, no es ejecutado."
   ]
  },
  {
   "cell_type": "code",
   "execution_count": 45,
   "metadata": {},
   "outputs": [
    {
     "name": "stdin",
     "output_type": "stream",
     "text": [
      "Ingresa un nombre de la oficina:  \"Rafa\"\n"
     ]
    },
    {
     "name": "stdout",
     "output_type": "stream",
     "text": [
      "Rafa  es el elemento numero  1  en la lista\n"
     ]
    }
   ],
   "source": [
    "list = (\"Rafa\",\"Angel\",\"Illali\",\"Estefania\",\"Leonardo\")\n",
    "\n",
    "#para ingresar un dato en la consola \n",
    "name = eval(input(\"Ingresa un nombre de la oficina: \"))\n",
    "\n",
    "for i in range(len(list)):\n",
    "  if list[i] == name:\n",
    "    print (name,\" es el elemento numero \", i+1,\" en la lista\")\n",
    "    break\n",
    "else:\n",
    "  print (\"El nombre no está en la lista.\")"
   ]
  },
  {
   "cell_type": "markdown",
   "metadata": {},
   "source": [
    "La declaración continue nos permite saltar una porción de un ciclo iterativo. Si el itérprete encuentra la declaración continue, inmediatamente regresa al inicio del ciclo sin ejecutar las declaraciones que van despues del continue. "
   ]
  },
  {
   "cell_type": "code",
   "execution_count": 46,
   "metadata": {},
   "outputs": [
    {
     "name": "stdout",
     "output_type": "stream",
     "text": [
      "[6, 12, 18, 24, 30, 36, 42, 48, 54, 60, 66, 72, 78, 84, 90, 96]\n",
      "[0, 2, 4, 6, 8, 10, 12, 14, 16, 18, 20, 22, 24, 26, 28, 30, 32, 34, 36, 38, 40, 42, 44, 46, 48, 50, 52, 54, 56, 58, 60, 62, 64, 66, 68, 70, 72, 74, 76, 78, 80, 82, 84, 86, 88, 90, 92, 94, 96, 98]\n"
     ]
    }
   ],
   "source": [
    "#lista de numeros entre 1 y 99 que son divisibles por 6\n",
    "\n",
    "#primero creamos una lista vacía\n",
    "x = []\n",
    "\n",
    "for i in range(1,100):\n",
    "  if i%6 != 0: continue\n",
    "  #si es divisible, lo agrega a la lista\n",
    "  x.append(i)\n",
    "print(x)\n",
    "\n",
    "s = []\n",
    "sumando = 0\n",
    "#mi ejemplo: lista con las sumas de sumando anterior, si la suma de sumando e i es par\n",
    "for i in range(0,indicador):\n",
    "    if i%2 != 0: continue\n",
    "    s.append(i)\n",
    "    sumando = sumando + i\n",
    "print(s)\n",
    "        "
   ]
  },
  {
   "cell_type": "markdown",
   "metadata": {},
   "source": [
    "## Conversión de Tipos\n",
    "Si una operación aritmética involucra números de varios tipos, los números son convertidos automaticamente a un tipo común antes de que la operación se lleve a cabo.\n",
    "\n",
    "Los tipos de conversiones también se pueden lelvar a cabo con las siguientes funciones:\n",
    "<br>\n",
    "- int(a) --> Convierte \"a\" a un integer<br>\n",
    "- float(a) --> Convierte \"a\" a un floating point<br>\n",
    "- complex(a) --> Convierte a un complejo a+0j<br>\n",
    "- complex(a,b) --> Convierte a un complejo de la forma a+bj<br>\n",
    "\n",
    "Estas funciones también funcionan para convertir strings a números siempre y cuando el contenido del string represente un número valido.<br>\n",
    "La conversión de un floating point a un integer se lleva a cabo truncando el número, no redondeandolo."
   ]
  },
  {
   "cell_type": "code",
   "execution_count": 47,
   "metadata": {},
   "outputs": [
    {
     "name": "stdout",
     "output_type": "stream",
     "text": [
      "imprimiendo como suma:  7.3\n",
      "Imprimiendo la conversión de floating point a integer:  -2\n",
      "(10-2.7j)\n",
      "imprimiendo como suma:  -2.0516000000000005\n",
      "Imprimiendo la conversión de floating point a integer:  -8\n",
      "(6-8.0516j)\n"
     ]
    }
   ],
   "source": [
    "a = 10\n",
    "b = -2.7\n",
    "c = \"6.0\"\n",
    "\n",
    "print (\"imprimiendo como suma: \",a+b)\n",
    "\n",
    "print(\"Imprimiendo la conversión de floating point a integer: \",int(b))\n",
    "\n",
    "print(complex(a,b))\n",
    "\n",
    "#mi ejemplo: \n",
    "a = 6\n",
    "b = -8.0516\n",
    "c = \"12\"\n",
    "\n",
    "\n",
    "\n",
    "print (\"imprimiendo como suma: \",a+b)\n",
    "\n",
    "print(\"Imprimiendo la conversión de floating point a integer: \",int(b))\n",
    "\n",
    "print(complex(a,b))"
   ]
  },
  {
   "cell_type": "code",
   "execution_count": 48,
   "metadata": {},
   "outputs": [
    {
     "name": "stdout",
     "output_type": "stream",
     "text": [
      "Si intentamos convertir un string a float, también se puede\n",
      "12.0\n"
     ]
    }
   ],
   "source": [
    "print(\"Si intentamos convertir un string a float, también se puede\")\n",
    "print(float(c))"
   ]
  },
  {
   "cell_type": "markdown",
   "metadata": {},
   "source": [
    "## Funciones Matemáticas\n",
    "Core Python solamente soporta las siguientes funciones matemáticas:<br>\n",
    "- abs(a) --> Valor absoluto de a<br>\n",
    "- max(secuencia) --> El elemento más grande de la secuencia<br>\n",
    "- min(secuencia) --> El elemento más chico de la secuencia<br>\n",
    "- round(a,n) --> Redondear \"a\" a \"n\" decimales<br>\n",
    "- cmp(a,b) regresa: <br>\n",
    "-1 si a<b<br>\n",
    " 0 si a=b<br>\n",
    " 1 si a>b<br>\n",
    "\n",
    "La mayoría de las funciones matemáticas están disponibles en el módulo math"
   ]
  },
  {
   "cell_type": "markdown",
   "metadata": {},
   "source": [
    "## Leyendo Inputs\n",
    "La función intrinseca para que el usuario ingrese un input es:<br>\n",
    " input(\"texto de la indicación del dato a ingresar\")\n",
    "\n",
    "Esta orden muestra la frase y luego lee la entrada como un string para convertir un string a un valor numérico, usar la función:\n",
    "<br>\n",
    "eval(string)"
   ]
  },
  {
   "cell_type": "code",
   "execution_count": 49,
   "metadata": {},
   "outputs": [
    {
     "name": "stdin",
     "output_type": "stream",
     "text": [
      "Ingresa el valor de a(un número):  1\n"
     ]
    },
    {
     "name": "stdout",
     "output_type": "stream",
     "text": [
      "1 <class 'str'>\n",
      "1 <class 'int'>\n"
     ]
    }
   ],
   "source": [
    "#El siguiente programa muestra el uso de esas funciones:\n",
    "\n",
    "a = input(\"Ingresa el valor de a(un número): \")\n",
    "print (a,type(a))\n",
    "b= eval(a)\n",
    "print(b,type(b))\n"
   ]
  },
  {
   "cell_type": "markdown",
   "metadata": {},
   "source": [
    "  "
   ]
  },
  {
   "cell_type": "markdown",
   "metadata": {},
   "source": [
    "La función type(a) regresa el tipo de un objeto a; es una herramienta muy útil para debuggear. \n",
    "\n",
    "Una manera conveniente de ingresar un número y asignarlo a una variable es:\n",
    "<br>\n",
    " a = eval(input(prompt))"
   ]
  },
  {
   "cell_type": "markdown",
   "metadata": {},
   "source": [
    "## Imprimiendo una Salida\n",
    "Una salida puede mostrarse con la función print(objeto1,objeto2) esta función convierte todos los objetos que se le ingresan en un string y los pone en la misma línea y separados por un espacio. <br>\n",
    "El carácter de nuevalinea en python es \"\\n\" y puede ser usado para forzar una nueva línea. por ejemplo:"
   ]
  },
  {
   "cell_type": "code",
   "execution_count": 50,
   "metadata": {},
   "outputs": [
    {
     "name": "stdout",
     "output_type": "stream",
     "text": [
      "1234.56789 [1, 2, 3, 4, 5, 6]\n",
      "para imprimir una salida con separación de línea:\n",
      "a:  1234.56789 \n",
      "b=  [1, 2, 3, 4, 5, 6]\n"
     ]
    }
   ],
   "source": [
    "a = 1234.56789\n",
    "b = [1,2,3,4,5,6]\n",
    "\n",
    "print(a,b)\n",
    "\n",
    "print(\"para imprimir una salida con separación de línea:\")\n",
    "\n",
    "print(\"a: \",a,\"\\nb= \",b)"
   ]
  },
  {
   "cell_type": "markdown",
   "metadata": {},
   "source": [
    "<br><br>\n",
    "La funcion print siempre adjunta el newline caracter al final de la linea podemos reemplazar el newline character con un espacio de la siguiente forma: \n",
    "<br><br>\n",
    " print(obj1,obj2,end=\" \")\n",
    "<br>\n",
    "La salida puede ser formateada con el método format. La forma más simple de formar la declaración de converisón es:\n",
    "<br>\n",
    "\"{:fmt1}{:fmt2}...\".format(arg1,arg2,...)<br><br>\n",
    "donde fmt1, fmt2,... son especificaciones de formato para: <br>\n",
    "arg1,arg2,... , respectivamente. Los formatos usados tipicamente son:<br><br>\n",
    "\n",
    "- wd --> integer <br>\n",
    "- w.df --> notación de floating point<br>\n",
    "- w.de --> notación de exponencial<br>\n",
    "<br><br>\n",
    "donde w es la anchura del campo y d es el número de dígitos después del punto decimal. \n",
    "La salida está justificada a la derecha en el campo especificado y rellenado con espacios blancos. por ejemplo:\n"
   ]
  },
  {
   "cell_type": "code",
   "execution_count": 51,
   "metadata": {},
   "outputs": [
    {
     "name": "stdout",
     "output_type": "stream",
     "text": [
      "1234.57\n",
      "n =   9876\n",
      "n = 009876\n",
      "  1.2346e+03   9876\n"
     ]
    }
   ],
   "source": [
    "a = 1234.56789\n",
    "n = 9876\n",
    "\n",
    "print(\"{:7.2f}\".format(a))\n",
    "print(\"n = {:6d}\".format(n)) #rellenado con espacios\n",
    "print(\"n = {:06d}\".format(n)) #rellenado  con ceros\n",
    "\n",
    "print(\"{:12.4e} {:6d}\".format(a,n))"
   ]
  },
  {
   "cell_type": "markdown",
   "metadata": {},
   "source": [
    "<br><br>\n",
    "## Abriendo y Cerrando Archivos\n",
    "Antes de poder acceder a un archivo de datos en un dispositivo, se tiene que crear un objeto de tipo file object con el siguiente comando:\n",
    "<br><br>\n",
    "file_object = open(filename,action)\n",
    "<br><br>\n",
    "donde filename es un string que especifica el archivo a ser abierto incluyendo el path, de ser necesario y la acción es una de las siguientes:<br>\n",
    "<br><br>\n",
    "- \"r\" --> leer de un archivo existente<br>\n",
    "- \"w\" --> Escribir en un archivo. Si el filename no existe, es creado <br>\n",
    "- \"a\" --> Adjuntar al final del archivo<br>\n",
    "- \"r+\" --> Leer y escribir desde un archivo existente<br>\n",
    "- \"w+\" --> Lo mismo que \"r+\", pero el archivo es creado si no existe<br>\n",
    "- \"a+\" --> Lo mismo que \"w+\", pero la información es adjuntada al final<br>\n",
    "<br><br>\n",
    "es una buena práctica de programación cerrar el archivo abierto cuando se termina de usar. Esto puede hacerse con el siguiente método:\n",
    "<br><br>\n",
    "file_object.close()"
   ]
  },
  {
   "cell_type": "markdown",
   "metadata": {},
   "source": [
    "# Leyendo datos desde un archivo\n",
    "Hay 3 métodos para leer datos de un archivo.<br><br>\n",
    "el método <br>\n",
    "     file_object.read(n)<br>\n",
    "lee n caracteres y los regresa como string. Si n es omitida, todos los caracteres en el archivo son leídos.<br>\n",
    "\n",
    "Si unicamente la linea actual debe ser leída, se usa:<br>\n",
    "     file_object.readline(n)<br>\n",
    "que lee n caracteres de la línea. Los caracteres son regresados en un string que termina en el caracter de nueva linea (\\n). Omitir n provoca que se lea la línea entera.<br><br>\n",
    "\n",
    "Todas las líneas en un archivo pueden ser leídas usando<br>\n",
    "     dile_object.readlines()<br>\n",
    "Esto regresa una lista de strings, cada string será una linea del archivo terminando con el caracter de newline.<br>\n",
    "\n",
    "Una forma conveniente de extraer todas las líneas una por una es usando un loop<br>\n",
    "   for line in file_object:<br>\n",
    "         hacer algo with line<br>\n",
    "\n",
    "como ejemplo, asumiremos que tenemos un archivo llamado sunspots.txt en el directorio de trabajo. Este archivo contiene información diaria de la intensidad solar, cada linea teniendo el formato (año/mes/día/intensidad), como sigue:<br>\n",
    "\n",
    "     1896  05  26  40.94\n",
    "     1896  05  27  40.58\n",
    "     1896  05  28  40.20\n",
    "     etc.\n",
    "<br>\n",
    "nuestra tarea es leer el archivo y crear una lista x que contiene solamente la intensidad. Como cada linea en el archivo es un string, primero separamos la linea en partes usando el comando \"split\".<br>\n",
    "Esto produce una lista de strings como [\"1896\",\"05\",\"26\",\"40.94\"].<br>\n",
    "Entonces, extraemos la intensidad (elemento 3 en la lista), lo evaluamos y agregamos su resultado a x. El algoritmo sería el siguiente:"
   ]
  },
  {
   "cell_type": "markdown",
   "metadata": {},
   "source": [
    "x = []  \n",
    "data = open(\"sunspots.txt\",\"r\")  \n",
    "for line in data:  \n",
    "  x.append(eval(line.split()[3]))  \n",
    "data.close()"
   ]
  },
  {
   "cell_type": "code",
   "execution_count": 52,
   "metadata": {},
   "outputs": [
    {
     "name": "stdout",
     "output_type": "stream",
     "text": [
      "[]\n",
      "['Insertando una linea']\n"
     ]
    }
   ],
   "source": [
    "#\"mi Ejemplo\"\n",
    "x = []\n",
    "try:\n",
    "    data = open(\"escritura.txt\",\"w+\")\n",
    "    data.write(\"Insertando una linea\")\n",
    "    print(data.readlines())\n",
    "finally:\n",
    "    data.close()\n",
    "\n",
    "data = open(\"escritura.txt\",\"r\")\n",
    "print(data.readlines())\n"
   ]
  },
  {
   "cell_type": "markdown",
   "metadata": {},
   "source": [
    "## Escribiendo datos en un Archivo\n",
    "El método <br>\n",
    "   file_object.write(string)<br>\n",
    "escribe un string en un archivo, mientras que<br>\n",
    "\n",
    "   file_object.writelines(lista_de_strings)<br>\n",
    "es usado para escribir una lista de strings. Ningún método adjunta el caracter de newline (\\n) al final de la línea.<br>"
   ]
  },
  {
   "cell_type": "code",
   "execution_count": 53,
   "metadata": {},
   "outputs": [],
   "source": [
    "#como ejemplo, escribiremos una tabla formateada de k y k^2 desde k = 101 hasta k=110 al archivo \"testfile\". Aquí está el programa que hace la escritura:\n",
    "f = open(\"escribiendo.txt\",\"w\")\n",
    "for k in range(101,111):\n",
    "  f.write(\"{:4d}  {:6d}\".format(k,k**2))\n",
    "  f.write(\"\\n\")\n",
    "f.close()"
   ]
  },
  {
   "cell_type": "markdown",
   "metadata": {},
   "source": [
    "Los contenidos del archivo testfile son:<br>\n",
    " 101   10201<br>\n",
    " 102   10404<br>\n",
    " 103   10609<br>\n",
    " 104   10816<br>\n",
    " 105   11025<br>\n",
    " 106   11236<br>\n",
    " 107   11449<br>\n",
    " 108   11664<br>\n",
    " 109   11881<br>\n",
    " 110   12100<br>\n",
    "\n",
    "la función \"print\" también puede ser usada para escribir en un archivo redirigiendo la salida a un objeto tipo archivo:<br>\n",
    "\n",
    "   print(object1,object2,...,file = file_object)<br>\n",
    "además de la redirección, esto funciona justo como la funcion regular de \"print\"."
   ]
  },
  {
   "cell_type": "markdown",
   "metadata": {},
   "source": [
    "## Control de Errores\n",
    "Cuando ocurre un error durante la ejecución de un programa, una excepción es levantada y el programa se detiene. Las excepciones pueden ser atrapadas con las declaraciones de \"try\" y \"except\":<br><br>\n",
    "\n",
    "   try:<br>\n",
    "       hacer algo<br>\n",
    "   except error:<br>\n",
    "       hacer otra cosa<br>\n",
    "\n",
    "donde \"error\" es el nombre de una excepción en Python. Si la excepción \"error\" no se lleva a cabo, el bloque try es ejecutado; de otra forma la ejecución pasa al bloque \"except\". Todas las Excepciones pueden ser atrapadas omitiendo \"error\" de la declaración de \"except\"."
   ]
  },
  {
   "cell_type": "code",
   "execution_count": 54,
   "metadata": {},
   "outputs": [
    {
     "name": "stdout",
     "output_type": "stream",
     "text": [
      "Erorr: Se está dividiendo entre cero.\n",
      "este archivo no existe.\n"
     ]
    }
   ],
   "source": [
    "#la siguiente declaración levanta la excepción de dividir un número entre cero:\n",
    "\n",
    "try:\n",
    "    c = 12/0\n",
    "except ZeroDivisionError:\n",
    "    print(\"Erorr: Se está dividiendo entre cero.\")\n",
    "else: \n",
    "    print(c)\n",
    "\n",
    "\n",
    "#mi ejemplo:\n",
    "#Esta función intenta leer un archivo. si no existe, marca error\n",
    "try:\n",
    "    archivoQueNoExiste = open(\"NoExisto.txt\",\"r\")\n",
    "except FileNotFoundError:\n",
    "    print(\"este archivo no existe.\")\n",
    "else:\n",
    "    print(\"si existe\")\n"
   ]
  },
  {
   "cell_type": "markdown",
   "metadata": {},
   "source": [
    "   "
   ]
  },
  {
   "cell_type": "markdown",
   "metadata": {},
   "source": [
    "# Parte 2 de la práctica 1"
   ]
  },
  {
   "cell_type": "markdown",
   "metadata": {},
   "source": [
    "## Prueba de la aproximación de la derivada centrada"
   ]
  },
  {
   "cell_type": "code",
   "execution_count": 55,
   "metadata": {},
   "outputs": [],
   "source": [
    "import dif_centrada\n",
    "from math import atan"
   ]
  },
  {
   "cell_type": "code",
   "execution_count": 56,
   "metadata": {},
   "outputs": [
    {
     "name": "stdout",
     "output_type": "stream",
     "text": [
      "el resultado de la primer derivada de una función arctan con x=0.5 es:  0.7999999999952488\n",
      "el resultado de la segunda derivada de una función arctan con x=0.5 es:  -0.6400002749984423\n"
     ]
    }
   ],
   "source": [
    "def aprox_derivada_centrada(x,fun,h=0.0000001):\n",
    "    dfun = (fun(x+h)-fun(x-h))/(2*h)\n",
    "    return dfun\n",
    "\n",
    "def aprox_segunda_derivada_centrada(x,fun,h=0.0000001):\n",
    "    ddfun = (fun(x+h)-2*fun(x)+fun(x-h))/(h**2)\n",
    "    return ddfun\n",
    "\n",
    "x = 0.5\n",
    "h = 0.00001\n",
    "\n",
    "dfun_aprox = aprox_derivada_centrada(x,atan,h)\n",
    "d2fun_aprox = aprox_segunda_derivada_centrada(x,atan,h)\n",
    "\n",
    "#revisar por que no está importando... pero la función si \"funciona\", valga la redundancia\n",
    "#dfun_aprox = dif_centrada.aprox_derivada_centrada(x,atan,h)\n",
    "#d2fun_aprox = dif_centrada.aprox_segunda_derivada_centrada(x,atan,h)\n",
    "print(\"el resultado de la primer derivada de una función arctan con x=0.5 es: \",dfun_aprox)\n",
    "print(\"el resultado de la segunda derivada de una función arctan con x=0.5 es: \",d2fun_aprox)"
   ]
  },
  {
   "cell_type": "markdown",
   "metadata": {},
   "source": [
    "el resultado de arriba funciona en el python online pero no es jupyter... creo que es por temas de la computadora..."
   ]
  },
  {
   "cell_type": "markdown",
   "metadata": {},
   "source": [
    "   \n",
    "   "
   ]
  },
  {
   "cell_type": "markdown",
   "metadata": {},
   "source": [
    "# Parte 3 de la Práctica 1:\n",
    "Realizar ejercicios hechos por su cuenta de acuerdo a: Numpy y matplotlib <br>\n",
    "\n",
    "Revisar y ejecutar los ejemplos de las secciones 1.5 a 1.8 del libro de texto \"Numerical Methods in Engineering with Python3\" de J. Kiusalaas <br>\n",
    "\n",
    "<br>\n",
    "Temas: <br>\n",
    "\n",
    "- Módulo numpy.\n",
    "- Gráficas con matplotlib.pyplot.\n",
    "- Scope de variables.\n",
    "- Escritura y ejecución de programas.\n",
    "\n"
   ]
  },
  {
   "cell_type": "markdown",
   "metadata": {},
   "source": [
    "## Funciones y Módulos\n",
    "### Funciones\n",
    "la estructura de una función de Python es:<br>\n",
    "   def nombre_funcion(param1,param2,...):<br>\n",
    "       declaraciones<br>\n",
    "       Return valores_de_resultado<br>\n",
    "\n",
    "donde param1, param2,... son los parámetros. Un parámetro puede ser cualquier objeto de Python, incluyendo una función. Los parámetrospueden tener valores de default, en cuyo caso, llamar el parámetro en la función es opcional. Si la declaración del return o los valores_de_resultado son omitidos, la función regresa un objeto nulo.<br>\n",
    "\n",
    "El número de parámetros en una función pueden ser dejados como arbitrarios. Por ejemplo, en la definición de la siguiente función:<br><br>\n",
    "\n",
    "   def func(x1,x2,*x3)<br><br>\n",
    "\n",
    "x1 y x2 son los parámetros usuales, que también son llamados parámetros posicionales, mientras que x3 es una tupla de tamaño arbitrario que contiene los \"Excess parameters\". Por lo tanto, llamar a la función como<br><br>\n",
    "   func(a,b,c,d,e) <br><br>\n",
    "\n",
    "da como resultado la siguiente correspondencia entre los parámetros:<br><br>\n",
    "\n",
    " a<-->x1, b<-->x2, (c,d,e)<-->x3<br><br>\n",
    "\n",
    "Los parámetros posicionales siempre deben ser nombrados antes de los excess parameters.<br>\n",
    "Si un objeto mutable, como una lista, es introducido a una función donde es modificado, los cambios se verán reflejados en el objeto original.<br>\n",
    "\n",
    "### Lambda Statement\n",
    "\n",
    "Si la función tiene la forma de una expresión, puede ser definida con el \"LAMBDA STATEMENT\":<br><br>\n",
    "\n",
    "   nombre_funcion=lambda param1, param2,...:expresión<br><br>\n",
    "\n",
    "Las declaraciones múltiples no están permitidas.<br>\n",
    "Por ejemplo:<br>"
   ]
  },
  {
   "cell_type": "code",
   "execution_count": 57,
   "metadata": {},
   "outputs": [
    {
     "name": "stdout",
     "output_type": "stream",
     "text": [
      "25\n"
     ]
    }
   ],
   "source": [
    "c = lambda x,y: x**2 + y**2\n",
    "print(c(3,4))"
   ]
  },
  {
   "cell_type": "markdown",
   "metadata": {},
   "source": [
    "Básicamente, es usado para crear funciones anonimas (sin nombre), en las que no es necesario poner un return.<br>\n",
    "\n",
    "se utiliza generalmente para crear funciones que se usarán de input para otra función.<br>\n",
    "\n",
    "### Módulos\n",
    "Guardar funciones en módulos resulta práctico. Un módulo es simplemente un archivo donde residen las funciones; el nombre del módulo es el nombre del archivo. Un módulo puede ser cargado en un programa con la siguiente declaración:<br><br>\n",
    "\n",
    "   from nombre_modulo import *<br><br>\n",
    "\n",
    "o simplemente:<br><br>\n",
    "\n",
    "   import nombre_modulo<br><br>\n",
    "\n",
    "Python tiene un gran número de modulos que contienen funciones y métodos para varias tareas. <br>\n",
    "\n",
    "## Módulos de Matemáticas\n",
    "\n",
    "### El Módulo math\n",
    "\n",
    "Muchas de las funciones matemáticas no son están construidas en la base de Python, pero están disponibles cargando el módulo math. Hay tres formas de acceder a las funciones en un módulo:<br>\n",
    "\n",
    "La declaración <br><br>\n",
    "   from math import *<br><br>\n",
    "carga TODAS las definiciones de funciones en el módulo math en el módulo actual. No es recomendable este método por que no es solamente un desperdicion de espacio, sino que también puede provocar conflictos con definiciones cargadas de otros módulos. Por ejemplo, existen tres definiciones diferentes para la función seno en los siguientes módulos de Python: math, cmath y numpy. si has cargado toso o más de estos módulos, no resulta claro cuál definición será usada al llamar la función (será la definición del último módulo cargado).<br>\n",
    "\n",
    "un método más seguro pero de ninguna manera infalible, es cargar definiciones seleccionadas con la siguiente declaración:<br><br>\n",
    "\n",
    "   from math import func1,func2,...<br><br>\n",
    "como se ilustra a continuación:"
   ]
  },
  {
   "cell_type": "code",
   "execution_count": 58,
   "metadata": {},
   "outputs": [
    {
     "name": "stdout",
     "output_type": "stream",
     "text": [
      "-0.7351666863853142\n"
     ]
    }
   ],
   "source": [
    "from math import log, sin\n",
    "print(log(sin(0.5)))"
   ]
  },
  {
   "cell_type": "markdown",
   "metadata": {},
   "source": [
    "Se pueden evitar conflictos haciendo primero accesible el módulo con la declaración:<br><br>\n",
    "\n",
    "   import math<br><br>\n",
    "\n",
    "y después, acceder a la definición de los módulos utilizando el nombre del módulo como prefijo. Por ejemplo:<br>"
   ]
  },
  {
   "cell_type": "code",
   "execution_count": 59,
   "metadata": {},
   "outputs": [
    {
     "name": "stdout",
     "output_type": "stream",
     "text": [
      "-0.7351666863853142\n"
     ]
    }
   ],
   "source": [
    "import math\n",
    "print(math.log(math.sin(0.5)))"
   ]
  },
  {
   "cell_type": "markdown",
   "metadata": {},
   "source": [
    "Un módulo puede ser accesible bajo un alias. Por ejemplo, el módulo math puede estar disponible bajo el alias m con el siguiente comando:"
   ]
  },
  {
   "cell_type": "code",
   "execution_count": 60,
   "metadata": {},
   "outputs": [],
   "source": [
    "import math as m"
   ]
  },
  {
   "cell_type": "markdown",
   "metadata": {},
   "source": [
    "Ahora, se puede utilizar el prefijo m en lugar de math:"
   ]
  },
  {
   "cell_type": "code",
   "execution_count": 61,
   "metadata": {},
   "outputs": [
    {
     "name": "stdout",
     "output_type": "stream",
     "text": [
      "-0.7351666863853142\n"
     ]
    }
   ],
   "source": [
    "print(m.log(m.sin(0.5)))"
   ]
  },
  {
   "cell_type": "markdown",
   "metadata": {},
   "source": [
    "Los contenidos de un módulo pueden ser impresos llamando a la función: <br><br>\n",
    "\n",
    "   dir(modulo)<br><br>\n",
    "\n",
    "por ejemplo, para obtener una lista de las funciones en el módulo math:"
   ]
  },
  {
   "cell_type": "code",
   "execution_count": 62,
   "metadata": {},
   "outputs": [
    {
     "data": {
      "text/plain": [
       "['__doc__',\n",
       " '__file__',\n",
       " '__loader__',\n",
       " '__name__',\n",
       " '__package__',\n",
       " '__spec__',\n",
       " 'acos',\n",
       " 'acosh',\n",
       " 'asin',\n",
       " 'asinh',\n",
       " 'atan',\n",
       " 'atan2',\n",
       " 'atanh',\n",
       " 'ceil',\n",
       " 'copysign',\n",
       " 'cos',\n",
       " 'cosh',\n",
       " 'degrees',\n",
       " 'e',\n",
       " 'erf',\n",
       " 'erfc',\n",
       " 'exp',\n",
       " 'expm1',\n",
       " 'fabs',\n",
       " 'factorial',\n",
       " 'floor',\n",
       " 'fmod',\n",
       " 'frexp',\n",
       " 'fsum',\n",
       " 'gamma',\n",
       " 'gcd',\n",
       " 'hypot',\n",
       " 'inf',\n",
       " 'isclose',\n",
       " 'isfinite',\n",
       " 'isinf',\n",
       " 'isnan',\n",
       " 'ldexp',\n",
       " 'lgamma',\n",
       " 'log',\n",
       " 'log10',\n",
       " 'log1p',\n",
       " 'log2',\n",
       " 'modf',\n",
       " 'nan',\n",
       " 'pi',\n",
       " 'pow',\n",
       " 'radians',\n",
       " 'remainder',\n",
       " 'sin',\n",
       " 'sinh',\n",
       " 'sqrt',\n",
       " 'tan',\n",
       " 'tanh',\n",
       " 'tau',\n",
       " 'trunc']"
      ]
     },
     "execution_count": 62,
     "metadata": {},
     "output_type": "execute_result"
    }
   ],
   "source": [
    "dir(math)"
   ]
  },
  {
   "cell_type": "markdown",
   "metadata": {},
   "source": [
    "### El Módulo cmath\n",
    "El módulo cmath provee muchas de las funciones que se encuentran en el módulo math, pero esas funciones pueden aceptar números complejos.\n",
    "<br>\n",
    "Algunos ejemplos de aritmética con complejos:"
   ]
  },
  {
   "cell_type": "code",
   "execution_count": 63,
   "metadata": {},
   "outputs": [
    {
     "name": "stdout",
     "output_type": "stream",
     "text": [
      "Imprimiendo x/y:  (-2.562053133750361e-16-3.75j)\n",
      "Imprimiendo sen(x) (6.352392998168388+44.55264336489803j)\n",
      "Imprimiendo sen(z) (0.7173560908995228+0j)\n"
     ]
    }
   ],
   "source": [
    "from cmath import sin\n",
    "x = 3.0 - 4.5j\n",
    "y = 1.2 + 0.8j\n",
    "z = 0.8\n",
    "print(\"Imprimiendo x/y: \",x/y)\n",
    "print(\"Imprimiendo sen(x)\",sin(x))\n",
    "print(\"Imprimiendo sen(z)\",sin(z))"
   ]
  },
  {
   "cell_type": "markdown",
   "metadata": {},
   "source": [
    "## El Módulo Numpy\n",
    "### Información General\n",
    "El módulo numpy no es parte de la edición estándar de Python. debe ser instalado de forma separada. El módulo introduce objetos del tipo array, que son similares a las listas, pero pueden ser manipulados por numerosas funciones contenidas en el módulo. El tamaño de un arreglo es inmutable, y no se permiten arreglos vacíos.\n",
    "<br><br>\n",
    "El set completo de funciones en numpy está muy lejos de poder imprimirse en su totalidad. <br><br>\n",
    "### Creando un Array\n",
    "\n",
    "Los arreglos pueden crearse de varias maneras. Una de ellas es usando la función array para convertir una lista en un arreglo:\n",
    "<br><br>\n",
    "   array(lista,tipo)\n",
    "<br><br>\n",
    "Los siguientes son ejemplos de crear un arreglo de 2x2 con elementos del tipo floating point."
   ]
  },
  {
   "cell_type": "code",
   "execution_count": 64,
   "metadata": {},
   "outputs": [
    {
     "name": "stdout",
     "output_type": "stream",
     "text": [
      "arreglo a: \n",
      " [[ 2. -1.]\n",
      " [-1.  3.]]\n",
      "arreglo a: \n",
      " [[ 2. -1.]\n",
      " [-1.  3.]]\n"
     ]
    }
   ],
   "source": [
    "from numpy import array\n",
    "a = array([[2.0,-1.0],[-1.0,3.0]])\n",
    "print(\"arreglo a: \\n\",a)\n",
    "\n",
    "b = array([[2,-1],[-1,3]],float)\n",
    "print(\"arreglo a: \\n\",b)"
   ]
  },
  {
   "cell_type": "code",
   "execution_count": 65,
   "metadata": {},
   "outputs": [
    {
     "name": "stdout",
     "output_type": "stream",
     "text": [
      "El Primer arreglo sería: \n",
      " [[1. 3.]\n",
      " [4. 2.]]\n",
      "El arreglo, pero anotando como integer y poniendo tipo float sería: \n",
      " [[-2.  0.]\n",
      " [ 1.  3.]]\n"
     ]
    }
   ],
   "source": [
    "#Como ejemplo mío:\n",
    "\n",
    "arregloRafa = array([[1.0,3.0],[4.0,2.0]])\n",
    "print(\"El Primer arreglo sería: \\n\",arregloRafa)\n",
    "\n",
    "arregloBRafa = array([[-2,0],[1,3]],float)\n",
    "print(\"El arreglo, pero anotando como integer y poniendo tipo float sería: \\n\",arregloBRafa)"
   ]
  },
  {
   "cell_type": "markdown",
   "metadata": {},
   "source": [
    "Otras funciones disponibles son:\n",
    "<br><br>\n",
    "   zeros((dim1,dim2),tipo)<br><br>\n",
    "Esta función crea un arreglo de ceros de dimensión dim1xdim2<br><br>\n",
    "\n",
    "   ones((dim1,dim2),tipo)<br><br>\n",
    "Esta función llena el arreglo con unos. En ambos casos, el tipo por default es floating poing.<br>\n",
    "\n",
    "Finalmente, está la función arange:<br><br>\n",
    "\n",
    "   arange(desde,hasta,incremento)<br><br>\n",
    "\n",
    "Esta función funciona justo como la función range, pero devuelve un arreglo en lugar de una secuencia. En resumen, inicia en el número \"desde\", termina en el número \"hasta\" y obtiene n números equidistantes en incrementos de \"incremento\" de diferencia. Algunos ejemplos serían:\n"
   ]
  },
  {
   "cell_type": "code",
   "execution_count": 66,
   "metadata": {},
   "outputs": [
    {
     "name": "stdout",
     "output_type": "stream",
     "text": [
      "como integer: \n",
      " [2 4 6 8]\n",
      "como floating point: \n",
      " [2. 4. 6. 8.]\n",
      "matriz de ceros(floating): \n",
      " [0. 0. 0.]\n",
      "matriz de ceros(integer): \n",
      " [0 0 0]\n",
      "matriz de unos(floating): \n",
      " [[1. 1.]\n",
      " [1. 1.]]\n"
     ]
    }
   ],
   "source": [
    "from numpy import *\n",
    "print(\"como integer: \\n\",arange(2,10,2))\n",
    "print(\"como floating point: \\n\",arange(2.0,10.0,2.0))\n",
    "print(\"matriz de ceros(floating): \\n\",zeros(3))\n",
    "print(\"matriz de ceros(integer): \\n\",zeros((3),int))\n",
    "print(\"matriz de unos(floating): \\n\",ones((2,2)))"
   ]
  },
  {
   "cell_type": "code",
   "execution_count": 67,
   "metadata": {},
   "outputs": [
    {
     "name": "stdout",
     "output_type": "stream",
     "text": [
      "como integer: \n",
      " [ 0  2  4  6  8 10 12 14 16 18 20 22 24 26 28]\n",
      "como floating point: \n",
      " [ 0.  2.  4.  6.  8. 10. 12. 14. 16. 18. 20. 22. 24. 26. 28.]\n",
      "matriz de ceros(floating): \n",
      " [0. 0. 0. 0.]\n",
      "matriz de ceros(integer): \n",
      " [0 0 0 0]\n",
      "matriz de unos(floating): \n",
      " [[1. 1. 1.]\n",
      " [1. 1. 1.]\n",
      " [1. 1. 1.]]\n"
     ]
    }
   ],
   "source": [
    "#Mis ejemplos:\n",
    "print(\"como integer: \\n\",arange(0,30,2))\n",
    "print(\"como floating point: \\n\",arange(0.0,30.0,2.0))\n",
    "print(\"matriz de ceros(floating): \\n\",zeros(4))\n",
    "print(\"matriz de ceros(integer): \\n\",zeros((4),int))\n",
    "print(\"matriz de unos(floating): \\n\",ones((3,3)))"
   ]
  },
  {
   "cell_type": "markdown",
   "metadata": {},
   "source": [
    "### Cambiando y Accediendo a Elementos de un Arreglo\n",
    "Si \"a\" es un arreglo de rango 2, entonces a[i,j] accede a un elemento en la fila i y en la columna j, donde a[i] se refiere a la fila i. Los elementos de un arreglo pueden ser cambiados por asignación de la siguiente manera:"
   ]
  },
  {
   "cell_type": "code",
   "execution_count": 68,
   "metadata": {},
   "outputs": [
    {
     "name": "stdout",
     "output_type": "stream",
     "text": [
      "al inicio, a es una matriz de ceros: \n",
      " [[0 0 0]\n",
      " [0 0 0]\n",
      " [0 0 0]]\n",
      "cambiando los valores de a: \n",
      "\n",
      "[[2 3 2]\n",
      " [0 5 0]\n",
      " [1 1 0]]\n"
     ]
    }
   ],
   "source": [
    "from numpy import *\n",
    "a= zeros((3,3),int)\n",
    "print(\"al inicio, a es una matriz de ceros: \\n\",a)\n",
    "\n",
    "print(\"cambiando los valores de a: \\n\")\n",
    "a[0] = [2,3,2] #cambiar una fila\n",
    "a[1,1] = 5 #cambiando un elemento\n",
    "a[2,0:2] = 1 #cambiar una parte de una fila\n",
    "print (a)"
   ]
  },
  {
   "cell_type": "code",
   "execution_count": 69,
   "metadata": {},
   "outputs": [
    {
     "name": "stdout",
     "output_type": "stream",
     "text": [
      "al inicio, ceros es una matriz de ceros de 10 x 10: \n",
      " [[0 0 0 0 0 0 0 0 0 0]\n",
      " [0 0 0 0 0 0 0 0 0 0]\n",
      " [0 0 0 0 0 0 0 0 0 0]\n",
      " [0 0 0 0 0 0 0 0 0 0]\n",
      " [0 0 0 0 0 0 0 0 0 0]\n",
      " [0 0 0 0 0 0 0 0 0 0]\n",
      " [0 0 0 0 0 0 0 0 0 0]\n",
      " [0 0 0 0 0 0 0 0 0 0]\n",
      " [0 0 0 0 0 0 0 0 0 0]\n",
      " [0 0 0 0 0 0 0 0 0 0]]\n",
      "cambiando los valores de a: \n",
      "\n",
      "[[ 2  4  7  2  7  9  1  3  7  8]\n",
      " [ 0  0  0  0  0  0  0  0  0  0]\n",
      " [ 0  0  0  0  0  0  0  0  0  0]\n",
      " [ 0  0  0  0  0  0  0  0  0  0]\n",
      " [ 0  0  0  0  0  0  0  0  0  0]\n",
      " [ 0  0  0  0  0  0  0  0  0  0]\n",
      " [10 10 10 10  0  0  0  0  0  0]\n",
      " [ 0  0  0  0  0  0  0  0  0  0]\n",
      " [ 0  0  0  0  0  0  0  0  0  0]\n",
      " [ 0  0  0  0  0  0  0  0  0  5]]\n"
     ]
    }
   ],
   "source": [
    "from numpy import *\n",
    "ceros= zeros((10,10),int)\n",
    "print(\"al inicio, ceros es una matriz de ceros de 10 x 10: \\n\",ceros)\n",
    "\n",
    "print(\"cambiando los valores de a: \\n\")\n",
    "ceros[0] = [2,4,7,2,7,9,1,3,7,8] #cambiar una fila\n",
    "ceros[9,9] = 5 #cambiando un elemento\n",
    "ceros[6,0:4] = 10 #cambiar una parte de una fila\n",
    "print (ceros)"
   ]
  },
  {
   "cell_type": "markdown",
   "metadata": {},
   "source": [
    "### Operaciones con Arreglos\n",
    "Los operadores aritméticos funcionan diferente en arreglos de la forma en que funcionan con tuplas o listas - la operación se realiza a todos los elementos del arreglo. Algunos ejemplos serían:\n"
   ]
  },
  {
   "cell_type": "code",
   "execution_count": 70,
   "metadata": {},
   "outputs": [
    {
     "name": "stdout",
     "output_type": "stream",
     "text": [
      "dividiendo todo el arreglo entre 16: \n",
      " [0.     0.25   0.5625 1.    ]\n",
      "Restandole 4.0 a todo el arreglo: \n",
      " [-4.  0.  5. 12.]\n"
     ]
    }
   ],
   "source": [
    "from numpy import array\n",
    "a = array([0.0,4.0,9.0,16.0])\n",
    "print(\"dividiendo todo el arreglo entre 16: \\n\",a/16.0)\n",
    "print(\"Restandole 4.0 a todo el arreglo: \\n\",(a-4.0))"
   ]
  },
  {
   "cell_type": "code",
   "execution_count": 71,
   "metadata": {},
   "outputs": [
    {
     "name": "stdout",
     "output_type": "stream",
     "text": [
      "Sumando 100 a todo el arreglo: \n",
      " [110.  105.  120.  130.  160.1]\n",
      "Dividiendo todo el arreglo entre 5.0: \n",
      " [ 2.    1.    4.    6.   12.02]\n"
     ]
    }
   ],
   "source": [
    "#Mis ejemplos:\n",
    "ejemploOperaciones = array([10.0,5.0,20.0,30.0,60.1])\n",
    "print(\"Sumando 100 a todo el arreglo: \\n\",ejemploOperaciones+100.0)\n",
    "print(\"Dividiendo todo el arreglo entre 5.0: \\n\",ejemploOperaciones/5)"
   ]
  },
  {
   "cell_type": "markdown",
   "metadata": {},
   "source": [
    "<br><br>Las funciones matemáticas disponibles en numpy también se aplicana  todos los elementos del arreglo:"
   ]
  },
  {
   "cell_type": "code",
   "execution_count": 72,
   "metadata": {},
   "outputs": [
    {
     "name": "stdout",
     "output_type": "stream",
     "text": [
      "raiz cuadrada: \n",
      " [1. 2. 3. 4.]\n",
      "función seno: \n",
      " [ 0.84147098 -0.7568025   0.41211849 -0.28790332]\n"
     ]
    }
   ],
   "source": [
    "from numpy import array, sqrt,sin\n",
    "a = array([1.0,4.0,9.0,16.0])\n",
    "print(\"raiz cuadrada: \\n\",sqrt(a))\n",
    "print(\"función seno: \\n\",sin(a))"
   ]
  },
  {
   "cell_type": "code",
   "execution_count": 73,
   "metadata": {},
   "outputs": [
    {
     "data": {
      "text/plain": [
       "['ALLOW_THREADS',\n",
       " 'AxisError',\n",
       " 'BUFSIZE',\n",
       " 'CLIP',\n",
       " 'ComplexWarning',\n",
       " 'DataSource',\n",
       " 'ERR_CALL',\n",
       " 'ERR_DEFAULT',\n",
       " 'ERR_IGNORE',\n",
       " 'ERR_LOG',\n",
       " 'ERR_PRINT',\n",
       " 'ERR_RAISE',\n",
       " 'ERR_WARN',\n",
       " 'FLOATING_POINT_SUPPORT',\n",
       " 'FPE_DIVIDEBYZERO',\n",
       " 'FPE_INVALID',\n",
       " 'FPE_OVERFLOW',\n",
       " 'FPE_UNDERFLOW',\n",
       " 'False_',\n",
       " 'Inf',\n",
       " 'Infinity',\n",
       " 'MAXDIMS',\n",
       " 'MAY_SHARE_BOUNDS',\n",
       " 'MAY_SHARE_EXACT',\n",
       " 'MachAr',\n",
       " 'ModuleDeprecationWarning',\n",
       " 'NAN',\n",
       " 'NINF',\n",
       " 'NZERO',\n",
       " 'NaN',\n",
       " 'PINF',\n",
       " 'PZERO',\n",
       " 'RAISE',\n",
       " 'RankWarning',\n",
       " 'SHIFT_DIVIDEBYZERO',\n",
       " 'SHIFT_INVALID',\n",
       " 'SHIFT_OVERFLOW',\n",
       " 'SHIFT_UNDERFLOW',\n",
       " 'ScalarType',\n",
       " 'Tester',\n",
       " 'TooHardError',\n",
       " 'True_',\n",
       " 'UFUNC_BUFSIZE_DEFAULT',\n",
       " 'UFUNC_PYVALS_NAME',\n",
       " 'VisibleDeprecationWarning',\n",
       " 'WRAP',\n",
       " '_NoValue',\n",
       " '_UFUNC_API',\n",
       " '__NUMPY_SETUP__',\n",
       " '__all__',\n",
       " '__builtins__',\n",
       " '__cached__',\n",
       " '__config__',\n",
       " '__doc__',\n",
       " '__file__',\n",
       " '__git_revision__',\n",
       " '__loader__',\n",
       " '__name__',\n",
       " '__package__',\n",
       " '__path__',\n",
       " '__spec__',\n",
       " '__version__',\n",
       " '_add_newdoc_ufunc',\n",
       " '_arg',\n",
       " '_distributor_init',\n",
       " '_globals',\n",
       " '_mat',\n",
       " '_pytesttester',\n",
       " 'abs',\n",
       " 'absolute',\n",
       " 'absolute_import',\n",
       " 'add',\n",
       " 'add_docstring',\n",
       " 'add_newdoc',\n",
       " 'add_newdoc_ufunc',\n",
       " 'alen',\n",
       " 'all',\n",
       " 'allclose',\n",
       " 'alltrue',\n",
       " 'amax',\n",
       " 'amin',\n",
       " 'angle',\n",
       " 'any',\n",
       " 'append',\n",
       " 'apply_along_axis',\n",
       " 'apply_over_axes',\n",
       " 'arange',\n",
       " 'arccos',\n",
       " 'arccosh',\n",
       " 'arcsin',\n",
       " 'arcsinh',\n",
       " 'arctan',\n",
       " 'arctan2',\n",
       " 'arctanh',\n",
       " 'argmax',\n",
       " 'argmin',\n",
       " 'argpartition',\n",
       " 'argsort',\n",
       " 'argwhere',\n",
       " 'around',\n",
       " 'array',\n",
       " 'array2string',\n",
       " 'array_equal',\n",
       " 'array_equiv',\n",
       " 'array_repr',\n",
       " 'array_split',\n",
       " 'array_str',\n",
       " 'asanyarray',\n",
       " 'asarray',\n",
       " 'asarray_chkfinite',\n",
       " 'ascontiguousarray',\n",
       " 'asfarray',\n",
       " 'asfortranarray',\n",
       " 'asmatrix',\n",
       " 'asscalar',\n",
       " 'atleast_1d',\n",
       " 'atleast_2d',\n",
       " 'atleast_3d',\n",
       " 'average',\n",
       " 'bartlett',\n",
       " 'base_repr',\n",
       " 'binary_repr',\n",
       " 'bincount',\n",
       " 'bitwise_and',\n",
       " 'bitwise_not',\n",
       " 'bitwise_or',\n",
       " 'bitwise_xor',\n",
       " 'blackman',\n",
       " 'block',\n",
       " 'bmat',\n",
       " 'bool',\n",
       " 'bool8',\n",
       " 'bool_',\n",
       " 'broadcast',\n",
       " 'broadcast_arrays',\n",
       " 'broadcast_to',\n",
       " 'busday_count',\n",
       " 'busday_offset',\n",
       " 'busdaycalendar',\n",
       " 'byte',\n",
       " 'byte_bounds',\n",
       " 'bytes0',\n",
       " 'bytes_',\n",
       " 'c_',\n",
       " 'can_cast',\n",
       " 'cast',\n",
       " 'cbrt',\n",
       " 'cdouble',\n",
       " 'ceil',\n",
       " 'cfloat',\n",
       " 'char',\n",
       " 'character',\n",
       " 'chararray',\n",
       " 'choose',\n",
       " 'clip',\n",
       " 'clongdouble',\n",
       " 'clongfloat',\n",
       " 'column_stack',\n",
       " 'common_type',\n",
       " 'compare_chararrays',\n",
       " 'compat',\n",
       " 'complex',\n",
       " 'complex128',\n",
       " 'complex256',\n",
       " 'complex64',\n",
       " 'complex_',\n",
       " 'complexfloating',\n",
       " 'compress',\n",
       " 'concatenate',\n",
       " 'conj',\n",
       " 'conjugate',\n",
       " 'convolve',\n",
       " 'copy',\n",
       " 'copysign',\n",
       " 'copyto',\n",
       " 'core',\n",
       " 'corrcoef',\n",
       " 'correlate',\n",
       " 'cos',\n",
       " 'cosh',\n",
       " 'count_nonzero',\n",
       " 'cov',\n",
       " 'cross',\n",
       " 'csingle',\n",
       " 'ctypeslib',\n",
       " 'cumprod',\n",
       " 'cumproduct',\n",
       " 'cumsum',\n",
       " 'datetime64',\n",
       " 'datetime_as_string',\n",
       " 'datetime_data',\n",
       " 'deg2rad',\n",
       " 'degrees',\n",
       " 'delete',\n",
       " 'deprecate',\n",
       " 'deprecate_with_doc',\n",
       " 'diag',\n",
       " 'diag_indices',\n",
       " 'diag_indices_from',\n",
       " 'diagflat',\n",
       " 'diagonal',\n",
       " 'diff',\n",
       " 'digitize',\n",
       " 'disp',\n",
       " 'divide',\n",
       " 'division',\n",
       " 'divmod',\n",
       " 'dot',\n",
       " 'double',\n",
       " 'dsplit',\n",
       " 'dstack',\n",
       " 'dtype',\n",
       " 'e',\n",
       " 'ediff1d',\n",
       " 'einsum',\n",
       " 'einsum_path',\n",
       " 'emath',\n",
       " 'empty',\n",
       " 'empty_like',\n",
       " 'equal',\n",
       " 'errstate',\n",
       " 'euler_gamma',\n",
       " 'exp',\n",
       " 'exp2',\n",
       " 'expand_dims',\n",
       " 'expm1',\n",
       " 'extract',\n",
       " 'eye',\n",
       " 'fabs',\n",
       " 'fastCopyAndTranspose',\n",
       " 'fft',\n",
       " 'fill_diagonal',\n",
       " 'find_common_type',\n",
       " 'finfo',\n",
       " 'fix',\n",
       " 'flatiter',\n",
       " 'flatnonzero',\n",
       " 'flexible',\n",
       " 'flip',\n",
       " 'fliplr',\n",
       " 'flipud',\n",
       " 'float',\n",
       " 'float128',\n",
       " 'float16',\n",
       " 'float32',\n",
       " 'float64',\n",
       " 'float_',\n",
       " 'float_power',\n",
       " 'floating',\n",
       " 'floor',\n",
       " 'floor_divide',\n",
       " 'fmax',\n",
       " 'fmin',\n",
       " 'fmod',\n",
       " 'format_float_positional',\n",
       " 'format_float_scientific',\n",
       " 'format_parser',\n",
       " 'frexp',\n",
       " 'frombuffer',\n",
       " 'fromfile',\n",
       " 'fromfunction',\n",
       " 'fromiter',\n",
       " 'frompyfunc',\n",
       " 'fromregex',\n",
       " 'fromstring',\n",
       " 'full',\n",
       " 'full_like',\n",
       " 'fv',\n",
       " 'gcd',\n",
       " 'generic',\n",
       " 'genfromtxt',\n",
       " 'geomspace',\n",
       " 'get_array_wrap',\n",
       " 'get_include',\n",
       " 'get_printoptions',\n",
       " 'getbufsize',\n",
       " 'geterr',\n",
       " 'geterrcall',\n",
       " 'geterrobj',\n",
       " 'gradient',\n",
       " 'greater',\n",
       " 'greater_equal',\n",
       " 'half',\n",
       " 'hamming',\n",
       " 'hanning',\n",
       " 'heaviside',\n",
       " 'histogram',\n",
       " 'histogram2d',\n",
       " 'histogram_bin_edges',\n",
       " 'histogramdd',\n",
       " 'hsplit',\n",
       " 'hstack',\n",
       " 'hypot',\n",
       " 'i0',\n",
       " 'identity',\n",
       " 'iinfo',\n",
       " 'imag',\n",
       " 'in1d',\n",
       " 'index_exp',\n",
       " 'indices',\n",
       " 'inexact',\n",
       " 'inf',\n",
       " 'info',\n",
       " 'infty',\n",
       " 'inner',\n",
       " 'insert',\n",
       " 'int',\n",
       " 'int0',\n",
       " 'int16',\n",
       " 'int32',\n",
       " 'int64',\n",
       " 'int8',\n",
       " 'int_',\n",
       " 'int_asbuffer',\n",
       " 'intc',\n",
       " 'integer',\n",
       " 'interp',\n",
       " 'intersect1d',\n",
       " 'intp',\n",
       " 'invert',\n",
       " 'ipmt',\n",
       " 'irr',\n",
       " 'is_busday',\n",
       " 'isclose',\n",
       " 'iscomplex',\n",
       " 'iscomplexobj',\n",
       " 'isfinite',\n",
       " 'isfortran',\n",
       " 'isin',\n",
       " 'isinf',\n",
       " 'isnan',\n",
       " 'isnat',\n",
       " 'isneginf',\n",
       " 'isposinf',\n",
       " 'isreal',\n",
       " 'isrealobj',\n",
       " 'isscalar',\n",
       " 'issctype',\n",
       " 'issubclass_',\n",
       " 'issubdtype',\n",
       " 'issubsctype',\n",
       " 'iterable',\n",
       " 'ix_',\n",
       " 'kaiser',\n",
       " 'kron',\n",
       " 'lcm',\n",
       " 'ldexp',\n",
       " 'left_shift',\n",
       " 'less',\n",
       " 'less_equal',\n",
       " 'lexsort',\n",
       " 'lib',\n",
       " 'linalg',\n",
       " 'linspace',\n",
       " 'little_endian',\n",
       " 'load',\n",
       " 'loads',\n",
       " 'loadtxt',\n",
       " 'log',\n",
       " 'log10',\n",
       " 'log1p',\n",
       " 'log2',\n",
       " 'logaddexp',\n",
       " 'logaddexp2',\n",
       " 'logical_and',\n",
       " 'logical_not',\n",
       " 'logical_or',\n",
       " 'logical_xor',\n",
       " 'logspace',\n",
       " 'long',\n",
       " 'longcomplex',\n",
       " 'longdouble',\n",
       " 'longfloat',\n",
       " 'longlong',\n",
       " 'lookfor',\n",
       " 'ma',\n",
       " 'mafromtxt',\n",
       " 'mask_indices',\n",
       " 'mat',\n",
       " 'math',\n",
       " 'matmul',\n",
       " 'matrix',\n",
       " 'matrixlib',\n",
       " 'max',\n",
       " 'maximum',\n",
       " 'maximum_sctype',\n",
       " 'may_share_memory',\n",
       " 'mean',\n",
       " 'median',\n",
       " 'memmap',\n",
       " 'meshgrid',\n",
       " 'mgrid',\n",
       " 'min',\n",
       " 'min_scalar_type',\n",
       " 'minimum',\n",
       " 'mintypecode',\n",
       " 'mirr',\n",
       " 'mod',\n",
       " 'modf',\n",
       " 'moveaxis',\n",
       " 'msort',\n",
       " 'multiply',\n",
       " 'nan',\n",
       " 'nan_to_num',\n",
       " 'nanargmax',\n",
       " 'nanargmin',\n",
       " 'nancumprod',\n",
       " 'nancumsum',\n",
       " 'nanmax',\n",
       " 'nanmean',\n",
       " 'nanmedian',\n",
       " 'nanmin',\n",
       " 'nanpercentile',\n",
       " 'nanprod',\n",
       " 'nanquantile',\n",
       " 'nanstd',\n",
       " 'nansum',\n",
       " 'nanvar',\n",
       " 'nbytes',\n",
       " 'ndarray',\n",
       " 'ndenumerate',\n",
       " 'ndfromtxt',\n",
       " 'ndim',\n",
       " 'ndindex',\n",
       " 'nditer',\n",
       " 'negative',\n",
       " 'nested_iters',\n",
       " 'newaxis',\n",
       " 'nextafter',\n",
       " 'nonzero',\n",
       " 'not_equal',\n",
       " 'nper',\n",
       " 'npv',\n",
       " 'numarray',\n",
       " 'number',\n",
       " 'obj2sctype',\n",
       " 'object',\n",
       " 'object0',\n",
       " 'object_',\n",
       " 'ogrid',\n",
       " 'oldnumeric',\n",
       " 'ones',\n",
       " 'ones_like',\n",
       " 'outer',\n",
       " 'packbits',\n",
       " 'pad',\n",
       " 'partition',\n",
       " 'percentile',\n",
       " 'pi',\n",
       " 'piecewise',\n",
       " 'place',\n",
       " 'pmt',\n",
       " 'poly',\n",
       " 'poly1d',\n",
       " 'polyadd',\n",
       " 'polyder',\n",
       " 'polydiv',\n",
       " 'polyfit',\n",
       " 'polyint',\n",
       " 'polymul',\n",
       " 'polynomial',\n",
       " 'polysub',\n",
       " 'polyval',\n",
       " 'positive',\n",
       " 'power',\n",
       " 'ppmt',\n",
       " 'print_function',\n",
       " 'printoptions',\n",
       " 'prod',\n",
       " 'product',\n",
       " 'promote_types',\n",
       " 'ptp',\n",
       " 'put',\n",
       " 'put_along_axis',\n",
       " 'putmask',\n",
       " 'pv',\n",
       " 'quantile',\n",
       " 'r_',\n",
       " 'rad2deg',\n",
       " 'radians',\n",
       " 'random',\n",
       " 'rank',\n",
       " 'rate',\n",
       " 'ravel',\n",
       " 'ravel_multi_index',\n",
       " 'real',\n",
       " 'real_if_close',\n",
       " 'rec',\n",
       " 'recarray',\n",
       " 'recfromcsv',\n",
       " 'recfromtxt',\n",
       " 'reciprocal',\n",
       " 'record',\n",
       " 'remainder',\n",
       " 'repeat',\n",
       " 'require',\n",
       " 'reshape',\n",
       " 'resize',\n",
       " 'result_type',\n",
       " 'right_shift',\n",
       " 'rint',\n",
       " 'roll',\n",
       " 'rollaxis',\n",
       " 'roots',\n",
       " 'rot90',\n",
       " 'round',\n",
       " 'round_',\n",
       " 'row_stack',\n",
       " 's_',\n",
       " 'safe_eval',\n",
       " 'save',\n",
       " 'savetxt',\n",
       " 'savez',\n",
       " 'savez_compressed',\n",
       " 'sctype2char',\n",
       " 'sctypeDict',\n",
       " 'sctypeNA',\n",
       " 'sctypes',\n",
       " 'searchsorted',\n",
       " 'select',\n",
       " 'set_numeric_ops',\n",
       " 'set_printoptions',\n",
       " 'set_string_function',\n",
       " 'setbufsize',\n",
       " 'setdiff1d',\n",
       " 'seterr',\n",
       " 'seterrcall',\n",
       " 'seterrobj',\n",
       " 'setxor1d',\n",
       " 'shape',\n",
       " 'shares_memory',\n",
       " 'short',\n",
       " 'show_config',\n",
       " 'sign',\n",
       " 'signbit',\n",
       " 'signedinteger',\n",
       " 'sin',\n",
       " 'sinc',\n",
       " 'single',\n",
       " 'singlecomplex',\n",
       " 'sinh',\n",
       " 'size',\n",
       " 'sometrue',\n",
       " 'sort',\n",
       " 'sort_complex',\n",
       " 'source',\n",
       " 'spacing',\n",
       " 'split',\n",
       " 'sqrt',\n",
       " 'square',\n",
       " 'squeeze',\n",
       " 'stack',\n",
       " 'std',\n",
       " 'str',\n",
       " 'str0',\n",
       " 'str_',\n",
       " 'string_',\n",
       " 'subtract',\n",
       " 'sum',\n",
       " 'swapaxes',\n",
       " 'sys',\n",
       " 'take',\n",
       " 'take_along_axis',\n",
       " 'tan',\n",
       " 'tanh',\n",
       " 'tensordot',\n",
       " 'test',\n",
       " 'testing',\n",
       " 'tile',\n",
       " 'timedelta64',\n",
       " 'trace',\n",
       " 'tracemalloc_domain',\n",
       " 'transpose',\n",
       " 'trapz',\n",
       " 'tri',\n",
       " 'tril',\n",
       " 'tril_indices',\n",
       " 'tril_indices_from',\n",
       " 'trim_zeros',\n",
       " 'triu',\n",
       " 'triu_indices',\n",
       " 'triu_indices_from',\n",
       " 'true_divide',\n",
       " 'trunc',\n",
       " 'typeDict',\n",
       " 'typeNA',\n",
       " 'typecodes',\n",
       " 'typename',\n",
       " 'ubyte',\n",
       " 'ufunc',\n",
       " 'uint',\n",
       " 'uint0',\n",
       " 'uint16',\n",
       " 'uint32',\n",
       " 'uint64',\n",
       " 'uint8',\n",
       " 'uintc',\n",
       " 'uintp',\n",
       " 'ulonglong',\n",
       " 'unicode',\n",
       " 'unicode_',\n",
       " 'union1d',\n",
       " 'unique',\n",
       " 'unpackbits',\n",
       " 'unravel_index',\n",
       " 'unsignedinteger',\n",
       " 'unwrap',\n",
       " 'ushort',\n",
       " 'vander',\n",
       " 'var',\n",
       " 'vdot',\n",
       " 'vectorize',\n",
       " 'version',\n",
       " 'void',\n",
       " 'void0',\n",
       " 'vsplit',\n",
       " 'vstack',\n",
       " 'warnings',\n",
       " 'where',\n",
       " 'who',\n",
       " 'zeros',\n",
       " 'zeros_like']"
      ]
     },
     "execution_count": 73,
     "metadata": {},
     "output_type": "execute_result"
    }
   ],
   "source": [
    "import numpy as np\n",
    "dir(np)"
   ]
  },
  {
   "cell_type": "code",
   "execution_count": 74,
   "metadata": {},
   "outputs": [
    {
     "name": "stdout",
     "output_type": "stream",
     "text": [
      "Aplicando logaritmo a ejemploOperaciones:\n",
      " [2.30258509 1.60943791 2.99573227 3.40119738 4.09600984]\n"
     ]
    }
   ],
   "source": [
    "#Mi Ejemplo\n",
    "print(\"Aplicando logaritmo a ejemploOperaciones:\\n\",np.log(ejemploOperaciones))"
   ]
  },
  {
   "cell_type": "markdown",
   "metadata": {},
   "source": [
    "<br><br>Las funciones del módulo math funcionarán en elementos individuales, pero no en todo el arreglo. Por ejemplo:"
   ]
  },
  {
   "cell_type": "code",
   "execution_count": 75,
   "metadata": {},
   "outputs": [
    {
     "name": "stdout",
     "output_type": "stream",
     "text": [
      "La raíz de un solo elemento: \n",
      " 2.0\n"
     ]
    }
   ],
   "source": [
    "from numpy import array\n",
    "from math import sqrt\n",
    "a = array([1.0, 4.0, 9.0, 16.0])\n",
    "print (\"La raíz de un solo elemento: \\n\",sqrt(a[1]))"
   ]
  },
  {
   "cell_type": "code",
   "execution_count": 76,
   "metadata": {},
   "outputs": [
    {
     "name": "stdout",
     "output_type": "stream",
     "text": [
      "vamos a realizar la operación de seno a un elemento de ejemploOperaciones:\n",
      " 0.9129452507276277\n"
     ]
    }
   ],
   "source": [
    "#Miejemplo\n",
    "from math import sin\n",
    "import numpy as np\n",
    "print(\"vamos a realizar la operación de seno a un elemento de ejemploOperaciones:\\n\",math.sin(ejemploOperaciones[2]))"
   ]
  },
  {
   "cell_type": "code",
   "execution_count": 77,
   "metadata": {},
   "outputs": [
    {
     "name": "stdout",
     "output_type": "stream",
     "text": [
      "Si intentamos aplicar la raíz a todo el arreglo, va a regresar un error: \n",
      "\n"
     ]
    },
    {
     "ename": "TypeError",
     "evalue": "only size-1 arrays can be converted to Python scalars",
     "output_type": "error",
     "traceback": [
      "\u001b[0;31m---------------------------------------------------------------------------\u001b[0m",
      "\u001b[0;31mTypeError\u001b[0m                                 Traceback (most recent call last)",
      "\u001b[0;32m<ipython-input-77-e055fad4a71b>\u001b[0m in \u001b[0;36m<module>\u001b[0;34m\u001b[0m\n\u001b[1;32m      1\u001b[0m \u001b[0mprint\u001b[0m \u001b[0;34m(\u001b[0m\u001b[0;34m\"Si intentamos aplicar la raíz a todo el arreglo, va a regresar un error: \\n\"\u001b[0m\u001b[0;34m)\u001b[0m\u001b[0;34m\u001b[0m\u001b[0;34m\u001b[0m\u001b[0m\n\u001b[0;32m----> 2\u001b[0;31m \u001b[0mprint\u001b[0m\u001b[0;34m(\u001b[0m\u001b[0msqrt\u001b[0m\u001b[0;34m(\u001b[0m\u001b[0ma\u001b[0m\u001b[0;34m)\u001b[0m\u001b[0;34m)\u001b[0m\u001b[0;34m\u001b[0m\u001b[0;34m\u001b[0m\u001b[0m\n\u001b[0m",
      "\u001b[0;31mTypeError\u001b[0m: only size-1 arrays can be converted to Python scalars"
     ]
    }
   ],
   "source": [
    "print (\"Si intentamos aplicar la raíz a todo el arreglo, va a regresar un error: \\n\")\n",
    "print(sqrt(a))"
   ]
  },
  {
   "cell_type": "markdown",
   "metadata": {},
   "source": [
    "### Funciones de Arreglos\n",
    "Hay numerosas funciones en un numpy que realizan operaciones y otras tareas útiles a un arreglo. Por ejemplo:"
   ]
  },
  {
   "cell_type": "code",
   "execution_count": 78,
   "metadata": {},
   "outputs": [
    {
     "name": "stdout",
     "output_type": "stream",
     "text": [
      "Imprimir la diagonal principal: \n",
      " [4. 4. 3.]\n",
      "Imprimir la primer sum-diagonal: \n",
      " [-2. -2.]\n",
      "Imprimir la suma de los elementos en la diagonal principal: \n",
      " 11.0\n",
      "El Indice del elemento más grande: \n",
      " 1\n",
      "el índice de los elementos más pequeños de la columna: \n",
      " [1 0 1]\n",
      "Imprime la matrix identidad: \n",
      " [[1. 0. 0.]\n",
      " [0. 1. 0.]\n",
      " [0. 0. 1.]]\n"
     ]
    }
   ],
   "source": [
    "from numpy import *\n",
    "A = array([[4,-2,1],[-2,4,-2],[1,-2,3]],float)\n",
    "b = array([1,4,3],float)\n",
    "print(\"Imprimir la diagonal principal: \\n\",diagonal(A)) #Imprime la diagonal principal\n",
    "print(\"Imprimir la primer sum-diagonal: \\n\",diagonal(A,1)) #Imprime la primer sub-diagonal\n",
    "\n",
    "print(\"Imprimir la suma de los elementos en la diagonal principal: \\n\",trace(A)) #Imprime la suma de los elementos en la diagonal principal\n",
    "\n",
    "print(\"El Indice del elemento más grande: \\n\",argmax(b)) #Imprime el índice del elemento más grande\n",
    "\n",
    "print(\"el índice de los elementos más pequeños de la columna: \\n\",argmin(A,axis=0))\n",
    "\n",
    "print(\"Imprime la matrix identidad: \\n\",identity(3)) #Matriz Identidad\n"
   ]
  },
  {
   "cell_type": "code",
   "execution_count": 79,
   "metadata": {},
   "outputs": [
    {
     "name": "stdout",
     "output_type": "stream",
     "text": [
      "Imprimir la diagonal principal: \n",
      " [10.2   4.16  3.16  9.04]\n",
      "Imprimir la primer sum-diagonal: \n",
      " [ -2.3   -2.13 510.06]\n",
      "Imprimir la suma de los elementos en la diagonal principal: \n",
      " 26.56\n",
      "El Indice del elemento más grande: \n",
      " 3\n",
      "el índice de los elementos más pequeños de la columna: \n",
      " [1 2 1 1]\n",
      "Imprime la matrix identidad: \n",
      " [[1. 0. 0.]\n",
      " [0. 1. 0.]\n",
      " [0. 0. 1.]]\n"
     ]
    }
   ],
   "source": [
    "#Mi Ejemplo\n",
    "from numpy import *\n",
    "A = array([[10.2,-2.30,18.09,460.0],[-2.21,4.16,-2.13,-4.51],[1.51,-2.94,3.16,510.06],[130.16,1.16,1.16,9.04]])\n",
    "b = array([10,40,30,50],float)\n",
    "print(\"Imprimir la diagonal principal: \\n\",diagonal(A)) #Imprime la diagonal principal\n",
    "print(\"Imprimir la primer sum-diagonal: \\n\",diagonal(A,1)) #Imprime la primer sub-diagonal\n",
    "\n",
    "print(\"Imprimir la suma de los elementos en la diagonal principal: \\n\",trace(A)) #Imprime la suma de los elementos en la diagonal principal\n",
    "\n",
    "print(\"El Indice del elemento más grande: \\n\",argmax(b)) #Imprime el índice del elemento más grande\n",
    "\n",
    "print(\"el índice de los elementos más pequeños de la columna: \\n\",argmin(A,axis=0))\n",
    "\n",
    "print(\"Imprime la matrix identidad: \\n\",identity(3)) #Matriz Identidad"
   ]
  },
  {
   "cell_type": "markdown",
   "metadata": {},
   "source": [
    "<br>Hay 3 funciones en numpy que calculan la multiplicación de matrices. Están ilustrados por el siguiente programa:"
   ]
  },
  {
   "cell_type": "code",
   "execution_count": 80,
   "metadata": {},
   "outputs": [
    {
     "name": "stdout",
     "output_type": "stream",
     "text": [
      "Producto punto: \n",
      "\n",
      "dot(x,y) =\n",
      " 17\n",
      "dot(A,x) =\n",
      " [13 27]\n",
      "dot(A,B) =\n",
      " [[5 5]\n",
      " [7 7]]\n",
      "Producto interno: \n",
      "\n",
      "inner(x,y) =\n",
      " 17\n",
      "inner(A,x) =\n",
      " [13 27]\n",
      "inner(A,B) =\n",
      " [[ 3  6]\n",
      " [ 5 10]]\n",
      "Producto externo: \n",
      "\n",
      "outer(x,y) =\n",
      " [[14  7]\n",
      " [ 6  3]]\n",
      "outer(A,x) =\n",
      " [[ 7  3]\n",
      " [14  6]\n",
      " [21  9]\n",
      " [14  6]]\n",
      "outer(A,B) =\n",
      " [[1 1 2 2]\n",
      " [2 2 4 4]\n",
      " [3 3 6 6]\n",
      " [2 2 4 4]]\n"
     ]
    }
   ],
   "source": [
    "from numpy import *\n",
    "x = array([7,3])\n",
    "y = array([2,1])\n",
    "A = array([[1,2],[3,2]])\n",
    "B = array([[1,1],[2,2]])\n",
    "# Dot product\n",
    "print(\"Producto punto: \\n\")\n",
    "print(\"dot(x,y) =\\n\",dot(x,y)) # {x}.{y}\n",
    "print(\"dot(A,x) =\\n\",dot(A,x)) # [A]{x}\n",
    "print(\"dot(A,B) =\\n\",dot(A,B)) # [A][B]\n",
    "# Inner product\n",
    "print(\"Producto interno: \\n\")\n",
    "print(\"inner(x,y) =\\n\",inner(x,y)) # {x}.{y}\n",
    "print(\"inner(A,x) =\\n\",inner(A,x)) # [A]{x}\n",
    "print(\"inner(A,B) =\\n\",inner(A,B)) # [A][B_transpose]\n",
    "\n",
    "#Outer product\n",
    "print(\"Producto externo: \\n\")\n",
    "print(\"outer(x,y) =\\n\",outer(x,y))\n",
    "print(\"outer(A,x) =\\n\",outer(A,x))\n",
    "print(\"outer(A,B) =\\n\",outer(A,B))"
   ]
  },
  {
   "cell_type": "code",
   "execution_count": 81,
   "metadata": {},
   "outputs": [
    {
     "name": "stdout",
     "output_type": "stream",
     "text": [
      "Producto punto: \n",
      "\n",
      "dot(x,y) =\n",
      " 260\n",
      "dot(A,x) =\n",
      " [408 844]\n",
      "dot(A,B) =\n",
      " [[ 582  891]\n",
      " [1458 1825]]\n",
      "Producto interno: \n",
      "\n",
      "inner(x,y) =\n",
      " 260\n",
      "inner(A,x) =\n",
      " [408 844]\n",
      "inner(A,B) =\n",
      " [[ 742  836]\n",
      " [1668 1560]]\n",
      "Producto externo: \n",
      "\n",
      "outer(x,y) =\n",
      " [[160  80]\n",
      " [200 100]]\n",
      "outer(A,x) =\n",
      " [[ 88 110]\n",
      " [256 320]\n",
      " [424 530]\n",
      " [336 420]]\n",
      "outer(A,B) =\n",
      " [[ 198  187  132  242]\n",
      " [ 576  544  384  704]\n",
      " [ 954  901  636 1166]\n",
      " [ 756  714  504  924]]\n"
     ]
    }
   ],
   "source": [
    "#Mis ejemplos\n",
    "from numpy import *\n",
    "x = array([8,10])\n",
    "y = array([20,10])\n",
    "A = array([[11,32],[53,42]])\n",
    "B = array([[18,17],[12,22]])\n",
    "# Producto Punto\n",
    "print(\"Producto punto: \\n\")\n",
    "print(\"dot(x,y) =\\n\",dot(x,y)) # {x}.{y}\n",
    "print(\"dot(A,x) =\\n\",dot(A,x)) # [A]{x}\n",
    "print(\"dot(A,B) =\\n\",dot(A,B)) # [A][B]\n",
    "# Producto Interno\n",
    "print(\"Producto interno: \\n\")\n",
    "print(\"inner(x,y) =\\n\",inner(x,y)) # {x}.{y}\n",
    "print(\"inner(A,x) =\\n\",inner(A,x)) # [A]{x}\n",
    "print(\"inner(A,B) =\\n\",inner(A,B)) # [A][B_transpose]\n",
    "\n",
    "#Producto externo\n",
    "print(\"Producto externo: \\n\")\n",
    "print(\"outer(x,y) =\\n\",outer(x,y))\n",
    "print(\"outer(A,x) =\\n\",outer(A,x))\n",
    "print(\"outer(A,B) =\\n\",outer(A,B))"
   ]
  },
  {
   "cell_type": "markdown",
   "metadata": {},
   "source": [
    "### Módulo de Álgebra Lineal\n",
    "El módulo numpy viene con un módulo de algebra lineal llamado linalg, que contiene rutinas como inversión de matrices y solución de ecuaciones simultáneas. Por ejemplo:"
   ]
  },
  {
   "cell_type": "code",
   "execution_count": 82,
   "metadata": {},
   "outputs": [
    {
     "name": "stdout",
     "output_type": "stream",
     "text": [
      "Inversa de la matriz :\n",
      " [[0.33333333 0.16666667 0.        ]\n",
      " [0.16666667 0.45833333 0.25      ]\n",
      " [0.         0.25       0.5       ]]\n",
      "Resolviendo A y b :\n",
      " [1.  2.5 2. ]\n"
     ]
    }
   ],
   "source": [
    "from numpy import array\n",
    "from numpy.linalg import inv, solve\n",
    "A = array([[4.0,-2.0,1.0], \\\n",
    "[-2.0,4.0,-2.0],  \\\n",
    "[1.0,-2.0,3.0]])\n",
    "\n",
    "b = array([1.0,4.0,2.0])\n",
    "print(\"Inversa de la matriz :\\n\",inv(A))\n",
    "\n",
    "print(\"Resolviendo A y b :\\n\",solve(A,b)) #Resolver [A]{x} = {b}"
   ]
  },
  {
   "cell_type": "code",
   "execution_count": 83,
   "metadata": {},
   "outputs": [
    {
     "name": "stdout",
     "output_type": "stream",
     "text": [
      "Inversa de la matriz :\n",
      " [[-0.0009015   0.0126521   0.02154276]\n",
      " [-0.07765776  0.02092104  0.06264933]\n",
      " [-0.05998089 -0.02026822  0.01954329]]\n",
      "Resolviendo A y b :\n",
      " [ 2.05531857  4.1197774  -0.38837275]\n"
     ]
    }
   ],
   "source": [
    "#Mis ejemplos\n",
    "from numpy import array\n",
    "from numpy.linalg import inv, solve\n",
    "A = array([[54.0,-22.0,11.0], \\\n",
    "[-72.06,41.0,-52.0],  \\\n",
    "[91.0,-25.0,31.0]])\n",
    "\n",
    "b = array([16.08,41.0,72.0])\n",
    "print(\"Inversa de la matriz :\\n\",inv(A))\n",
    "\n",
    "print(\"Resolviendo A y b :\\n\",solve(A,b)) #Resolver [A]{x} = {b}"
   ]
  },
  {
   "cell_type": "markdown",
   "metadata": {},
   "source": [
    "### Copiando Arreglos\n",
    "Si \"a\" es un objeto mutable, como una lista, la declaración de asignación \"b = a\" no resulta en un nuevo objeto b, sino que simplemente crea una nueva referencia a \"a\", llamada una deep copy. Esto también aplica a los arreglos. Para hacer una copia independiente de un arreglo \"a\", se tiene que usar el metodo copy en el módulo de numpy:<br><br>\n",
    "\n",
    "   b = a.copy()<br><br>\n",
    "\n",
    "### Vectorizando Algoritmos\n",
    "\n",
    "Algunas veces, el transmitir propiedades de funciones matemáticas en el módulo numpy puede ser usado para reemplazar ciclos en el código. Este procedimiento es conocido como vectorización. Por ejemplo, considerar la expresión:<br><br>\n",
    "\n",
    "         AGREGAR EXPRESIÓN, PAG 25 DE KIUSALAAS\n",
    "\n",
    "La aproximación directa es evaluar la suma en un loop, resultando en el siguiente código \"escalar\":\n"
   ]
  },
  {
   "cell_type": "code",
   "execution_count": 84,
   "metadata": {},
   "outputs": [
    {
     "name": "stdout",
     "output_type": "stream",
     "text": [
      "77.51389798916522\n"
     ]
    }
   ],
   "source": [
    "from math import sqrt,sin,pi\n",
    "x = 0.0; s = 0.0\n",
    "for i in range(101):\n",
    "  s = s + sqrt(x)*sin(x)\n",
    "  x = x + 0.01*pi\n",
    "print(s)"
   ]
  },
  {
   "cell_type": "markdown",
   "metadata": {},
   "source": [
    "La versión vectorizada del algoritmo sería:"
   ]
  },
  {
   "cell_type": "code",
   "execution_count": 85,
   "metadata": {},
   "outputs": [
    {
     "name": "stdout",
     "output_type": "stream",
     "text": [
      "77.51389798916512\n"
     ]
    }
   ],
   "source": [
    "from numpy import sqrt,sin,arange\n",
    "from math import pi\n",
    "x = arange(0.0,1.001*pi,0.01*pi)\n",
    "print(sum(sqrt(x)*sin(x)))"
   ]
  },
  {
   "cell_type": "code",
   "execution_count": 86,
   "metadata": {},
   "outputs": [
    {
     "name": "stdout",
     "output_type": "stream",
     "text": [
      "versión no vectorizada del algoritmo:\n",
      "77.51389798916522\n",
      "versión vectorizada del algoritmo:\n",
      "77.51389798916512\n"
     ]
    }
   ],
   "source": [
    "#MI EJEMPLO:\n",
    "from math import sqrt,sin,pi\n",
    "print(\"versión no vectorizada del algoritmo:\")\n",
    "x = 0.0; s = 0.0\n",
    "for i in range(101):\n",
    "  s = s + sqrt(x)*sin(x)\n",
    "  x = x + 0.01*pi\n",
    "print(s)\n",
    "\n",
    "print(\"versión vectorizada del algoritmo:\")\n",
    "from numpy import sqrt,sin,arange\n",
    "from math import pi\n",
    "x = arange(0.0,1.001*pi,0.01*pi)\n",
    "print(sum(sqrt(x)*sin(x)))"
   ]
  },
  {
   "cell_type": "markdown",
   "metadata": {},
   "source": [
    "notar que el primer algoritmo utiliza las versiones escalares de las funciones sqrt y sin en el módulo de math, mientras que el segundo algoritmo importa esas funciones de numpy. El algoritmo vectorizado se ejecuta mucho más rápido, pero usa más memoria."
   ]
  },
  {
   "cell_type": "markdown",
   "metadata": {},
   "source": [
    "## Graficando con matplotlib.pyplot\n",
    "El módulo de matplotlib.pyplot es una colección de funciones que grafican en 2D, que proveen a Python con una funcionalidad estilo MATLAB. Al no ser parte de la base de Python, requiere una instalación separada.\n",
    "\n",
    "El siguiente programa, que grafica las funciones de seno y coseno, ilustran la aplicación del módulo para gráficas simples de xy."
   ]
  },
  {
   "cell_type": "code",
   "execution_count": 87,
   "metadata": {},
   "outputs": [
    {
     "name": "stdout",
     "output_type": "stream",
     "text": [
      "Gráfica con una especificación de línea y marcador\n"
     ]
    },
    {
     "data": {
      "text/plain": [
       "<Figure size 640x480 with 1 Axes>"
      ]
     },
     "metadata": {},
     "output_type": "display_data"
    }
   ],
   "source": [
    "import matplotlib.pyplot as plt\n",
    "from numpy import arange,sin,cos\n",
    "x = arange(0.0,6.2,0.2)\n",
    "\n",
    "print(\"Gráfica con una especificación de línea y marcador\")\n",
    "plt.plot(x,sin(x),\"o-\",x,cos(x),\"^-\")\n",
    "\n",
    "plt.xlabel(\"X\") #Agregar etiquetas al eje x\n",
    "plt.legend((\"sine\",\"cosine\"),loc = 0) #Agregar leyendas en loc. 3\n",
    "plt.grid(True) #Agregar un grid de coordenadas\n",
    "plt.show() #Mostrar la gráfica en pantalla\n"
   ]
  },
  {
   "cell_type": "code",
   "execution_count": 88,
   "metadata": {},
   "outputs": [
    {
     "name": "stdin",
     "output_type": "stream",
     "text": [
      "\n",
      "Press return to exit \n"
     ]
    },
    {
     "data": {
      "text/plain": [
       "''"
      ]
     },
     "execution_count": 88,
     "metadata": {},
     "output_type": "execute_result"
    },
    {
     "data": {
      "text/plain": [
       "<Figure size 432x288 with 0 Axes>"
      ]
     },
     "metadata": {},
     "output_type": "display_data"
    }
   ],
   "source": [
    "plt.savefig(\"testplot.png\",format=\"png\") #Guardar la gráfica en formato png\n",
    "\n",
    "input(\"\\nPress return to exit\")"
   ]
  },
  {
   "cell_type": "code",
   "execution_count": 89,
   "metadata": {},
   "outputs": [
    {
     "name": "stdout",
     "output_type": "stream",
     "text": [
      "Gráfica con una especificación de línea y marcador\n"
     ]
    },
    {
     "data": {
      "image/png": "[encoded data removed]",
      "text/plain": [
       "<Figure size 432x288 with 1 Axes>"
      ]
     },
     "metadata": {
      "needs_background": "light"
     },
     "output_type": "display_data"
    }
   ],
   "source": [
    "#Miejemplo\n",
    "import matplotlib.pyplot as plt\n",
    "from numpy import arange\n",
    "x = arange(-30.0,30.0,1)\n",
    "c = lambda x: x**2\n",
    "uve = lambda y: y**3\n",
    "\n",
    "print(\"Gráfica con una especificación de línea y marcador\")\n",
    "plt.plot(x,c(x),\":\",x,uve(x),\"o-\")\n",
    "\n",
    "plt.xlabel(\"X\") #Agregar etiquetas al eje x\n",
    "plt.legend((\"x^2\",\"x^3\"),loc = 0) #Agregar leyendas en loc. 3\n",
    "plt.grid(True) #Agregar un grid de coordenadas\n",
    "plt.show() #Mostrar la gráfica en pantalla"
   ]
  },
  {
   "cell_type": "code",
   "execution_count": 90,
   "metadata": {},
   "outputs": [
    {
     "name": "stdin",
     "output_type": "stream",
     "text": [
      "\n",
      "Press return to exit \n"
     ]
    },
    {
     "data": {
      "text/plain": [
       "''"
      ]
     },
     "execution_count": 90,
     "metadata": {},
     "output_type": "execute_result"
    },
    {
     "data": {
      "text/plain": [
       "<Figure size 432x288 with 0 Axes>"
      ]
     },
     "metadata": {},
     "output_type": "display_data"
    }
   ],
   "source": [
    "plt.savefig(\"grafica_de_prueba.png\",format=\"png\") #Guardar la gráfica en formato png\n",
    "\n",
    "input(\"\\nPress return to exit\")"
   ]
  },
  {
   "cell_type": "markdown",
   "metadata": {},
   "source": [
    "Los estilos de línea y marcadores están especificados por los caracteres en string mostrados en la siguiente tabla (solo se muestran algunos de los caracteres disponibles)\n",
    "\n",
    "- \"-\" Linea Sólida\n",
    "- \"--\" Linea en guiones\n",
    "- \"-.\" Linea de Guion punto\n",
    "- \":\" Linea punteada\n",
    "- \"o\" Marcador de círculo\n",
    "- \"^\" Marcador Triangular\n",
    "- \"s\" Marcador cuadrado\n",
    "- \"h\" Marcador Hecagonal\n",
    "- \"x\" Marcador con x\n",
    "\n",
    "Algunos de los códigos de colocación (loc) para las leyendas son:\n",
    "Lista:\n",
    "- 0 .- \"La mejor ubicación\"\n",
    "- 1 .- Superior derecha\n",
    "- 2 .- Superior izquierda\n",
    "- 3 .- Inferior izquierda\n",
    "- 4 .- Inferior derecha \n",
    "\n",
    "Es posible tener más de una gráfica en una figura, como se demuestra con el siguiente código:\n"
   ]
  },
  {
   "cell_type": "code",
   "execution_count": 91,
   "metadata": {},
   "outputs": [
    {
     "data": {
      "image/png": "[encoded data removed]",
      "text/plain": [
       "<Figure size 432x288 with 2 Axes>"
      ]
     },
     "metadata": {
      "needs_background": "light"
     },
     "output_type": "display_data"
    },
    {
     "name": "stdin",
     "output_type": "stream",
     "text": [
      "\n",
      "Press return to exit \n"
     ]
    },
    {
     "data": {
      "text/plain": [
       "''"
      ]
     },
     "execution_count": 91,
     "metadata": {},
     "output_type": "execute_result"
    }
   ],
   "source": [
    "import matplotlib.pyplot as plt\n",
    "from numpy import arange,sin,cos\n",
    "x = arange(0.0,6.2,0.2)\n",
    "\n",
    "plt.subplot(2,1,1)\n",
    "plt.plot(x,sin(x),\"o-\")\n",
    "plt.xlabel(\"x\");plt.ylabel(\"sin(x)\")\n",
    "plt.grid(True)\n",
    "plt.subplot(2,1,2)\n",
    "plt.plot(x,cos(x),\"^-\")\n",
    "plt.xlabel(\"x\");plt.ylabel(\"cos(x)\")\n",
    "plt.grid(True)\n",
    "plt.show()\n",
    "input(\"\\nPress return to exit\")"
   ]
  },
  {
   "cell_type": "code",
   "execution_count": 92,
   "metadata": {},
   "outputs": [
    {
     "data": {
      "image/png": "[encoded data removed]",
      "text/plain": [
       "<Figure size 432x288 with 2 Axes>"
      ]
     },
     "metadata": {
      "needs_background": "light"
     },
     "output_type": "display_data"
    },
    {
     "name": "stdin",
     "output_type": "stream",
     "text": [
      "\n",
      "Press return to exit \n"
     ]
    },
    {
     "data": {
      "text/plain": [
       "''"
      ]
     },
     "execution_count": 92,
     "metadata": {},
     "output_type": "execute_result"
    }
   ],
   "source": [
    "#Miejemplo\n",
    "import matplotlib.pyplot as plt\n",
    "from numpy import arange\n",
    "x = arange(-30.0,30.0,1)\n",
    "c = lambda x: x**2\n",
    "uve = lambda y: y**3\n",
    "\n",
    "\n",
    "plt.subplot(2,1,1)\n",
    "plt.plot(x,c(x),\":\")\n",
    "plt.xlabel(\"x\");plt.ylabel(\"x^2\")\n",
    "plt.grid(True)\n",
    "plt.subplot(2,1,2)\n",
    "plt.plot(x,uve(x),\"^-\")\n",
    "plt.xlabel(\"x\");plt.ylabel(\"x^3\")\n",
    "plt.grid(True)\n",
    "plt.show()\n",
    "input(\"\\nPress return to exit\")"
   ]
  },
  {
   "cell_type": "markdown",
   "metadata": {},
   "source": [
    "El comando subplot(renglones,columnas,num_grafica) establece una ventana de subgráfica en la figura actual. Los parámetros \"renglon\" y \"columna\" dividen la figura en un grid de gráficas de renglones x columna (en este caso, dos renglones y una columna). Las comas entre los parámetros pueden ser omitidas.\n",
    "\n",
    "## Alcance de Variables\n",
    "\n",
    "Namespace es un diccionario que contiene los nombres de las variables y sus valores.\n",
    "Se crean automáticamente Namespaces y se actualizan mientras el programa corre. Hay 3 niveles de namespaces en Python:\n",
    "\n",
    "1. Un namespace \"Local\" se crea cuando una función es llamada. Esta función contiene las variables que son ingresadas a la función como argumentos y las variables creadas dentrod de la misma. Si una variable es creada dentro de una función, el alcance del namespace es local para la función. No es visible fuera de la función\n",
    "2. Un namespace \"global\" es creado cuando un módulo es cargado. Cada módulo tiene sus propios namespaces. Las variables asignadas en un namespace global son visibles para cualquier función dentro del módulo.\n",
    "3. Un namespace \"built-in\" o \"incorporado\" es creado cuando inicia el intérprete. Contiene las funciones que están incluidas en el intérprete de Python. Esas funciones pueden ser accesadas por cualquier unidad del programa.\n",
    "\n",
    "cuando un nombre es encontrado durante la ejecución de una función, el intérprete intenta de resolverlo encontrando en el siguiente orden:\n",
    "1. Namespace local\n",
    "2. Namespace global\n",
    "3. Namespace built-in\n",
    "\n",
    "Si el nombre no puede ser resuelto, Python envía una excepción del tipo NameError.\n",
    "\n",
    "Como las variables que residen en el namespace global son visibles para funciones dentro del módulo, no es necesario ingresarlas a las funciones como argumentos (aunque es una buena práctica de programación hacerlo), como se muestra en el siguiente programa:\n"
   ]
  },
  {
   "cell_type": "code",
   "execution_count": 93,
   "metadata": {},
   "outputs": [
    {
     "name": "stdout",
     "output_type": "stream",
     "text": [
      "a/b =  20.0\n"
     ]
    }
   ],
   "source": [
    "def divide():\n",
    "  c = a/b\n",
    "  print(\"a/b = \",c)\n",
    "\n",
    "a = 100.0\n",
    "b = 5.0\n",
    "divide()"
   ]
  },
  {
   "cell_type": "markdown",
   "metadata": {},
   "source": [
    "Es importante notar que la variable c es creada dentro de la función divide y por lo tanto no puede accederse a ella mediante declaraciones fuera de la función. Por lo tanto, un intento por mover la declaración del print fuera de la función marcará un error:"
   ]
  },
  {
   "cell_type": "code",
   "execution_count": 95,
   "metadata": {},
   "outputs": [
    {
     "name": "stdout",
     "output_type": "stream",
     "text": [
      "a/b =  None\n"
     ]
    }
   ],
   "source": [
    "def divide():\n",
    "  ce = a/b\n",
    "\n",
    "a = 100.0\n",
    "b = 5.0\n",
    "divide()\n",
    "print(\"a/b = \",divide())"
   ]
  },
  {
   "cell_type": "code",
   "execution_count": 96,
   "metadata": {},
   "outputs": [
    {
     "name": "stdout",
     "output_type": "stream",
     "text": [
      "nombreGlobal es global, entonces puedo imprimirla fuera de la función:\n",
      " 10\n",
      "puedo imprimir a local llamando a la funcion_alcance: \n",
      "\n",
      "10\n"
     ]
    }
   ],
   "source": [
    "#Mi ejemplo\n",
    "nombreGlobal = 10\n",
    "def funcion_alcance():\n",
    "    local = 10\n",
    "    return (local)\n",
    "\n",
    "print(\"nombreGlobal es global, entonces puedo imprimirla fuera de la función:\\n\",nombreGlobal)\n",
    "print(\"puedo imprimir a local llamando a la funcion_alcance: \\n\")\n",
    "print(funcion_alcance())"
   ]
  },
  {
   "cell_type": "code",
   "execution_count": 97,
   "metadata": {},
   "outputs": [
    {
     "name": "stdout",
     "output_type": "stream",
     "text": [
      "Pero no puedo llamar a local directamente: \n",
      "\n"
     ]
    },
    {
     "ename": "NameError",
     "evalue": "name 'local' is not defined",
     "output_type": "error",
     "traceback": [
      "\u001b[0;31m---------------------------------------------------------------------------\u001b[0m",
      "\u001b[0;31mNameError\u001b[0m                                 Traceback (most recent call last)",
      "\u001b[0;32m<ipython-input-97-444a09e533fa>\u001b[0m in \u001b[0;36m<module>\u001b[0;34m\u001b[0m\n\u001b[1;32m      1\u001b[0m \u001b[0mprint\u001b[0m\u001b[0;34m(\u001b[0m\u001b[0;34m\"Pero no puedo llamar a local directamente: \\n\"\u001b[0m\u001b[0;34m)\u001b[0m\u001b[0;34m\u001b[0m\u001b[0;34m\u001b[0m\u001b[0m\n\u001b[0;32m----> 2\u001b[0;31m \u001b[0mprint\u001b[0m\u001b[0;34m(\u001b[0m\u001b[0mlocal\u001b[0m\u001b[0;34m)\u001b[0m\u001b[0;34m\u001b[0m\u001b[0;34m\u001b[0m\u001b[0m\n\u001b[0m",
      "\u001b[0;31mNameError\u001b[0m: name 'local' is not defined"
     ]
    }
   ],
   "source": [
    "print(\"Pero no puedo llamar a local directamente: \\n\")\n",
    "print(local)"
   ]
  },
  {
   "cell_type": "markdown",
   "metadata": {},
   "source": [
    "## Escribiendo y corriendo programas\n",
    "\n",
    "Cuando el editor Idle de Python está abierto, el usuario se encontrará con un indicador de que el editor está en modo interactivo. Cualquier declaración escrita en el editor es procesada inmediatamente presionando la tecla enter. El modo interactivo es una buena forma de aprender el lenguaje por experimentación y para intentar programar nuevas ideas. <br><br>\n",
    "Abrir una nueva ventana pone a Idle en un modo de espera por lotes, que permite escribir y guardar programas. También se puede usar un editor de texto para ingresar líneas de programa, pero Idle tiene algunas características específicas de Python, como colorear de color las palabras clave y sangrías automáticas, que hacen el trabajo más sencillo. Antes de que el prorgama pueda correr, debe ser guardado como un archivo Python, con la extensión .py . El programa puede entonces ser ejecutado escribiendo python myprog.py; en Windows; dando doble click al icono del programa también funcionará. Pero cuidado, la ventana del programa se cierra inmediatamente después de la ejecución, antes de que tengas incluso oportunidad de leer la salida. Para evitar que esto ocurra, es buena práctica concluir el programa con la siguiente línea:<br><br>\n",
    "\n",
    "     input(\"press return\")\n",
    "\n",
    "Dar doble click al icono del programa también funciona en Unix y Linux si la primer línea del programa especifica la ruta al intérprete de Python (o una declaración que porvee la liga a Python). El path name debe estar precedido por los simbolos #!.\n",
    "\n",
    "Cuando un módulo es cargado en un programa por primera vez con la declaración import, es compilado en bytecode y escrito en un archivo con la extensi´n .pyc. La siguiente ocasión en que el programa corra, el intérprete carga el bytecode en lugar del archivo original de Python. En caso de que existan cambios en el módulo, el módulo es recompilado automáticamente. Un programa también puede correrse desde Idle usando el menú Run/Run Module.\n",
    "\n",
    "Es una buena idea documentar los módulos agregando un docstring al inicio de cada módulo. El docstring, que está encerrado en comillas triples, deberá explicar lo que hace el módulo. Aquí un ejemplo que del módulo error:\n"
   ]
  },
  {
   "cell_type": "code",
   "execution_count": 100,
   "metadata": {},
   "outputs": [
    {
     "ename": "SyntaxError",
     "evalue": "invalid character in identifier (<ipython-input-100-3fed93825f89>, line 2)",
     "output_type": "error",
     "traceback": [
      "\u001b[0;36m  File \u001b[0;32m\"<ipython-input-100-3fed93825f89>\"\u001b[0;36m, line \u001b[0;32m2\u001b[0m\n\u001b[0;31m    ’’’ err(string):\u001b[0m\n\u001b[0m      ^\u001b[0m\n\u001b[0;31mSyntaxError\u001b[0m\u001b[0;31m:\u001b[0m invalid character in identifier\n"
     ]
    }
   ],
   "source": [
    "## module error\n",
    "’’’ err(string):\n",
    "  Prints ’string’ and terminates program.\n",
    "’’’\n",
    "import sys\n",
    "def err(string):\n",
    "  print(string)\n",
    "  input(’Press return to exit’)\n",
    "  sys.exit()"
   ]
  },
  {
   "cell_type": "markdown",
   "metadata": {},
   "source": [
    "El docstring de un módulo puede imprimirse con la siguiente declaración:\n",
    "\n",
    "       print(module_name.__doc__)\n",
    "\n",
    "Por ejemplo, el docstring del error se muestra con:"
   ]
  },
  {
   "cell_type": "code",
   "execution_count": 102,
   "metadata": {},
   "outputs": [
    {
     "ename": "ModuleNotFoundError",
     "evalue": "No module named 'error'",
     "output_type": "error",
     "traceback": [
      "\u001b[0;31m---------------------------------------------------------------------------\u001b[0m",
      "\u001b[0;31mModuleNotFoundError\u001b[0m                       Traceback (most recent call last)",
      "\u001b[0;32m<ipython-input-102-cd8a3a39deba>\u001b[0m in \u001b[0;36m<module>\u001b[0;34m\u001b[0m\n\u001b[0;32m----> 1\u001b[0;31m \u001b[0;32mimport\u001b[0m \u001b[0merror\u001b[0m\u001b[0;34m\u001b[0m\u001b[0;34m\u001b[0m\u001b[0m\n\u001b[0m\u001b[1;32m      2\u001b[0m \u001b[0mprint\u001b[0m\u001b[0;34m(\u001b[0m\u001b[0merror\u001b[0m\u001b[0;34m.\u001b[0m\u001b[0m__doc__\u001b[0m\u001b[0;34m)\u001b[0m\u001b[0;34m\u001b[0m\u001b[0;34m\u001b[0m\u001b[0m\n\u001b[1;32m      3\u001b[0m \u001b[0merr\u001b[0m\u001b[0;34m(\u001b[0m\u001b[0mstring\u001b[0m\u001b[0;34m)\u001b[0m\u001b[0;34m\u001b[0m\u001b[0;34m\u001b[0m\u001b[0m\n",
      "\u001b[0;31mModuleNotFoundError\u001b[0m: No module named 'error'"
     ]
    }
   ],
   "source": [
    "import error\n",
    "print(error.__doc__)\n",
    "err(string)"
   ]
  },
  {
   "cell_type": "markdown",
   "metadata": {},
   "source": [
    "Evitar las barras invertidas en el docstring por que confunden al intérprete de Python 3"
   ]
  }
 ],
 "metadata": {
  "kernelspec": {
   "display_name": "Python 3",
   "language": "python",
   "name": "python3"
  },
  "language_info": {
   "codemirror_mode": {
    "name": "ipython",
    "version": 3
   },
   "file_extension": ".py",
   "mimetype": "text/x-python",
   "name": "python",
   "nbconvert_exporter": "python",
   "pygments_lexer": "ipython3",
   "version": "3.7.3"
  }
 },
 "nbformat": 4,
 "nbformat_minor": 4
}
