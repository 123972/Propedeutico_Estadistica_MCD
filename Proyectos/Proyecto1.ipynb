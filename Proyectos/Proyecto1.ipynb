{
 "cells": [
  {
   "cell_type": "markdown",
   "metadata": {},
   "source": [
    "# Proyecto 1"
   ]
  },
  {
   "cell_type": "markdown",
   "metadata": {},
   "source": [
    "En este proyecto se verán los siguientes temas:\n",
    "\n",
    "* Variables, strings, tuples, listas.\n",
    "* Operadores aritméticos y operadores de comparación.\n",
    "* Condicionales.\n",
    "* Loops.\n",
    "* Conversión de tipo.\n",
    "* Funciones matemáticas.\n",
    "* Input/Output.\n",
    "* Abrir/Cerrar un archivo.\n",
    "* Control de errores.\n",
    "* Diccionarios.\n",
    "* List & Dictionaries Comprehension.\n"
   ]
  },
  {
   "cell_type": "markdown",
   "metadata": {},
   "source": [
    "Para ejecución de los ejemplos (excepto el de Input/Output y abrir/cerrar un archivo) se puede utilizar:\n",
    "\n",
    "https://repl.it/languages/python3\n",
    "    "
   ]
  },
  {
   "cell_type": "markdown",
   "metadata": {},
   "source": [
    "## Variables, strings, tuples, listas"
   ]
  },
  {
   "cell_type": "code",
   "execution_count": null,
   "metadata": {},
   "outputs": [],
   "source": []
  },
  {
   "cell_type": "code",
   "execution_count": null,
   "metadata": {},
   "outputs": [],
   "source": []
  }
 ],
 "metadata": {
  "kernelspec": {
   "display_name": "Python 3",
   "language": "python",
   "name": "python3"
  },
  "language_info": {
   "codemirror_mode": {
    "name": "ipython",
    "version": 3
   },
   "file_extension": ".py",
   "mimetype": "text/x-python",
   "name": "python",
   "nbconvert_exporter": "python",
   "pygments_lexer": "ipython3",
   "version": "3.6.8"
  }
 },
 "nbformat": 4,
 "nbformat_minor": 2
}
