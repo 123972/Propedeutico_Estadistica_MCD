{
 "cells": [
  
  {
   "cell_type": "markdown",
   "metadata": {},
   "source": [
    "# Proyecto 1"
   ]
  },
   
  {
   "cell_type": "markdown",
   "metadata": {},
   "source": [
    "En este proyecto se verán los siguientes temas:\n",
    "\n",
    "##Parte 1:\n",
    "1. Variables, strings, tuples, listas.\n",
    "2. Operadores aritméticos y operadores de comparación.\n",
    "3. Condicionales.\n",
    "4. Loops.\n",
    "5. Conversión de tipo.\n",
    "6. Funciones matemáticas.\n",
    "7. Input/Output.\n",
    "8. Abrir/Cerrar un archivo.\n",
    "9. Control de errores.\n",
    "10. Diccionarios.\n",
    "11. List & Dictionaries Comprehension.\n"
   ]
  },
  
  {
   "cell_type": "markdown",
   "metadata": {},
   "source": [
    "Para ejecución de los ejemplos (excepto el de Input/Output y abrir/cerrar un archivo) se puede utilizar:\n",
    "\n",
    "https://repl.it/languages/python3\n",
    "    "
   ]
  },
  
  {
   "cell_type": "markdown",
   "metadata": {},
   "source": [
    "**El Ejercicio consiste en Revisar y ejecutar los ejemplos de la sección 1.2 del libro de texto Numerical Methods in Engineering with Python3 de J. Kiusalaas**\n",
    "\n",
    "**La parte 2 consiste en Ejercicio: aproximar la primera y segunda derivadas de la función arctan con diferencias finitas centradas en el punto x=0.5**\n",
    "\n",
    "    "
   ]
  },

  {
   "cell_type": "markdown",
   "metadata": {},
   "source": [
    "### Ejercicio"
   ]
  },
  {
   "cell_type": "markdown",
   "metadata": {},
   "source": [
    "Crear un módulo con nombre `dif_centrada.py` en el que se tengan dos funciones de Python que aproximen la primera y segunda derivada de una función en un punto `x`. Ambas funciones reciben `x`, `fun` y `h` donde: `x` es el punto donde se realiza la aproximación, `fun` es la función a calcularse su primera y segunda derivadas y `h` es el parámetro de espaciado entre `x` y `x+h`. Función de prueba: `math.asin` y `x=0.5`. "
   ]
  },
  {
   "cell_type": "markdown",
   "metadata": {},
   "source": [
    "| dif_centrada.py   |\n",
    "| ------------------|\n",
    "| aprox_derivada    |\n",
    "| aprox_2a_derivada |"
   ]
  },
  
  {
   "cell_type": "markdown",
   "metadata": {},
   "source": [
    "# Revisar y ejecutar los ejemplos de las secciones 1.5 a 1.8 del libro de texto \"Numerical Methods in Engineering with Python3\" de J. Kiusalaas"
   ]
  },
  {
   "cell_type": "markdown",
   "metadata": {},
   "source": [
    "Temas:\n",
    "\n",
    "* Módulo numpy.\n",
    "* Gráficas con matplotlib.pyplot.\n",
    "* Scope de variables.\n",
    "* Escritura y ejecución de programas."
   ]
  },
  
  
  
  {
   "cell_type": "markdown",
   "metadata": {},
   "source": [
    "##1.- Variables, strings, tuples, listas"
   ]
  },
  {
   "cell_type": "code",
   "execution_count": 1,
   "metadata": {},
   "outputs": [
    {
     "name": "stdout",
     "output_type": "stream",
     "text": [
      "{'llave1': 1, 'llave2': 'string1'}\n"
     ]
    }
   ],
   "source": [
    "dic = {'llave1': 1,'llave2':'string1'}\n",
    "print(dic)"
   ]
  },
  {
   "cell_type": "code",
   "execution_count": null,
   "metadata": {},
   "outputs": [],
   "source": []
  }
 ],
 "metadata": {
  "kernelspec": {
   "display_name": "Python 3",
   "language": "python",
   "name": "python3"
  },
  "language_info": {
   "codemirror_mode": {
    "name": "ipython",
    "version": 3
   },
   "file_extension": ".py",
   "mimetype": "text/x-python",
   "name": "python",
   "nbconvert_exporter": "python",
   "pygments_lexer": "ipython3",
   "version": "3.6.8"
  }
 },
 "nbformat": 4,
 "nbformat_minor": 2
}
